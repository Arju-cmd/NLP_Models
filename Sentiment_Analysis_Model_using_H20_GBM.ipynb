{
  "nbformat": 4,
  "nbformat_minor": 0,
  "metadata": {
    "colab": {
      "name": "Sentiment Analysis Model using H20 GBM.ipynb",
      "provenance": [],
      "mount_file_id": "1SUlyLJOKUTzCpqWiYv8bCvqQou8UHEDS",
      "authorship_tag": "ABX9TyP/HoHdtZJRtZGgJq0v70bA",
      "include_colab_link": true
    },
    "kernelspec": {
      "name": "python3",
      "display_name": "Python 3"
    },
    "language_info": {
      "name": "python"
    },
    "widgets": {
      "application/vnd.jupyter.widget-state+json": {
        "ef78d29769944f51857cc9cc733084b1": {
          "model_module": "@jupyter-widgets/controls",
          "model_name": "HBoxModel",
          "state": {
            "_view_name": "HBoxView",
            "_dom_classes": [],
            "_model_name": "HBoxModel",
            "_view_module": "@jupyter-widgets/controls",
            "_model_module_version": "1.5.0",
            "_view_count": null,
            "_view_module_version": "1.5.0",
            "box_style": "",
            "layout": "IPY_MODEL_e9c4e44f6798479db3f1664db1680ed0",
            "_model_module": "@jupyter-widgets/controls",
            "children": [
              "IPY_MODEL_7457c93a6d764ca881fb0a6d36710081",
              "IPY_MODEL_1e1601fb3c85426c92e7a00c5c1b59fb"
            ]
          }
        },
        "e9c4e44f6798479db3f1664db1680ed0": {
          "model_module": "@jupyter-widgets/base",
          "model_name": "LayoutModel",
          "state": {
            "_view_name": "LayoutView",
            "grid_template_rows": null,
            "right": null,
            "justify_content": null,
            "_view_module": "@jupyter-widgets/base",
            "overflow": null,
            "_model_module_version": "1.2.0",
            "_view_count": null,
            "flex_flow": null,
            "width": null,
            "min_width": null,
            "border": null,
            "align_items": null,
            "bottom": null,
            "_model_module": "@jupyter-widgets/base",
            "top": null,
            "grid_column": null,
            "overflow_y": null,
            "overflow_x": null,
            "grid_auto_flow": null,
            "grid_area": null,
            "grid_template_columns": null,
            "flex": null,
            "_model_name": "LayoutModel",
            "justify_items": null,
            "grid_row": null,
            "max_height": null,
            "align_content": null,
            "visibility": null,
            "align_self": null,
            "height": null,
            "min_height": null,
            "padding": null,
            "grid_auto_rows": null,
            "grid_gap": null,
            "max_width": null,
            "order": null,
            "_view_module_version": "1.2.0",
            "grid_template_areas": null,
            "object_position": null,
            "object_fit": null,
            "grid_auto_columns": null,
            "margin": null,
            "display": null,
            "left": null
          }
        },
        "7457c93a6d764ca881fb0a6d36710081": {
          "model_module": "@jupyter-widgets/controls",
          "model_name": "FloatProgressModel",
          "state": {
            "_view_name": "ProgressView",
            "style": "IPY_MODEL_80629ca39bd0445aa448384da43b02c7",
            "_dom_classes": [],
            "description": "Dl Completed...: 100%",
            "_model_name": "FloatProgressModel",
            "bar_style": "success",
            "max": 1,
            "_view_module": "@jupyter-widgets/controls",
            "_model_module_version": "1.5.0",
            "value": 1,
            "_view_count": null,
            "_view_module_version": "1.5.0",
            "orientation": "horizontal",
            "min": 0,
            "description_tooltip": null,
            "_model_module": "@jupyter-widgets/controls",
            "layout": "IPY_MODEL_2a8e698d9be940b7af80d223ca509b17"
          }
        },
        "1e1601fb3c85426c92e7a00c5c1b59fb": {
          "model_module": "@jupyter-widgets/controls",
          "model_name": "HTMLModel",
          "state": {
            "_view_name": "HTMLView",
            "style": "IPY_MODEL_abd8718c31474cee901a9fb430578659",
            "_dom_classes": [],
            "description": "",
            "_model_name": "HTMLModel",
            "placeholder": "​",
            "_view_module": "@jupyter-widgets/controls",
            "_model_module_version": "1.5.0",
            "value": " 1/1 [00:01&lt;00:00,  1.97s/ url]",
            "_view_count": null,
            "_view_module_version": "1.5.0",
            "description_tooltip": null,
            "_model_module": "@jupyter-widgets/controls",
            "layout": "IPY_MODEL_6d43f1779ab54b55a243e6dfb01e4ff9"
          }
        },
        "80629ca39bd0445aa448384da43b02c7": {
          "model_module": "@jupyter-widgets/controls",
          "model_name": "ProgressStyleModel",
          "state": {
            "_view_name": "StyleView",
            "_model_name": "ProgressStyleModel",
            "description_width": "initial",
            "_view_module": "@jupyter-widgets/base",
            "_model_module_version": "1.5.0",
            "_view_count": null,
            "_view_module_version": "1.2.0",
            "bar_color": null,
            "_model_module": "@jupyter-widgets/controls"
          }
        },
        "2a8e698d9be940b7af80d223ca509b17": {
          "model_module": "@jupyter-widgets/base",
          "model_name": "LayoutModel",
          "state": {
            "_view_name": "LayoutView",
            "grid_template_rows": null,
            "right": null,
            "justify_content": null,
            "_view_module": "@jupyter-widgets/base",
            "overflow": null,
            "_model_module_version": "1.2.0",
            "_view_count": null,
            "flex_flow": null,
            "width": null,
            "min_width": null,
            "border": null,
            "align_items": null,
            "bottom": null,
            "_model_module": "@jupyter-widgets/base",
            "top": null,
            "grid_column": null,
            "overflow_y": null,
            "overflow_x": null,
            "grid_auto_flow": null,
            "grid_area": null,
            "grid_template_columns": null,
            "flex": null,
            "_model_name": "LayoutModel",
            "justify_items": null,
            "grid_row": null,
            "max_height": null,
            "align_content": null,
            "visibility": null,
            "align_self": null,
            "height": null,
            "min_height": null,
            "padding": null,
            "grid_auto_rows": null,
            "grid_gap": null,
            "max_width": null,
            "order": null,
            "_view_module_version": "1.2.0",
            "grid_template_areas": null,
            "object_position": null,
            "object_fit": null,
            "grid_auto_columns": null,
            "margin": null,
            "display": null,
            "left": null
          }
        },
        "abd8718c31474cee901a9fb430578659": {
          "model_module": "@jupyter-widgets/controls",
          "model_name": "DescriptionStyleModel",
          "state": {
            "_view_name": "StyleView",
            "_model_name": "DescriptionStyleModel",
            "description_width": "",
            "_view_module": "@jupyter-widgets/base",
            "_model_module_version": "1.5.0",
            "_view_count": null,
            "_view_module_version": "1.2.0",
            "_model_module": "@jupyter-widgets/controls"
          }
        },
        "6d43f1779ab54b55a243e6dfb01e4ff9": {
          "model_module": "@jupyter-widgets/base",
          "model_name": "LayoutModel",
          "state": {
            "_view_name": "LayoutView",
            "grid_template_rows": null,
            "right": null,
            "justify_content": null,
            "_view_module": "@jupyter-widgets/base",
            "overflow": null,
            "_model_module_version": "1.2.0",
            "_view_count": null,
            "flex_flow": null,
            "width": null,
            "min_width": null,
            "border": null,
            "align_items": null,
            "bottom": null,
            "_model_module": "@jupyter-widgets/base",
            "top": null,
            "grid_column": null,
            "overflow_y": null,
            "overflow_x": null,
            "grid_auto_flow": null,
            "grid_area": null,
            "grid_template_columns": null,
            "flex": null,
            "_model_name": "LayoutModel",
            "justify_items": null,
            "grid_row": null,
            "max_height": null,
            "align_content": null,
            "visibility": null,
            "align_self": null,
            "height": null,
            "min_height": null,
            "padding": null,
            "grid_auto_rows": null,
            "grid_gap": null,
            "max_width": null,
            "order": null,
            "_view_module_version": "1.2.0",
            "grid_template_areas": null,
            "object_position": null,
            "object_fit": null,
            "grid_auto_columns": null,
            "margin": null,
            "display": null,
            "left": null
          }
        },
        "b3e516e7dc5d4645babd58dd78a85937": {
          "model_module": "@jupyter-widgets/controls",
          "model_name": "HBoxModel",
          "state": {
            "_view_name": "HBoxView",
            "_dom_classes": [],
            "_model_name": "HBoxModel",
            "_view_module": "@jupyter-widgets/controls",
            "_model_module_version": "1.5.0",
            "_view_count": null,
            "_view_module_version": "1.5.0",
            "box_style": "",
            "layout": "IPY_MODEL_20c53bcbe9224dea852c8f65d9497d4b",
            "_model_module": "@jupyter-widgets/controls",
            "children": [
              "IPY_MODEL_d42746a2adca4842bc438750091fa07a",
              "IPY_MODEL_b46190bb1493467587b05208ccf722e6"
            ]
          }
        },
        "20c53bcbe9224dea852c8f65d9497d4b": {
          "model_module": "@jupyter-widgets/base",
          "model_name": "LayoutModel",
          "state": {
            "_view_name": "LayoutView",
            "grid_template_rows": null,
            "right": null,
            "justify_content": null,
            "_view_module": "@jupyter-widgets/base",
            "overflow": null,
            "_model_module_version": "1.2.0",
            "_view_count": null,
            "flex_flow": null,
            "width": null,
            "min_width": null,
            "border": null,
            "align_items": null,
            "bottom": null,
            "_model_module": "@jupyter-widgets/base",
            "top": null,
            "grid_column": null,
            "overflow_y": null,
            "overflow_x": null,
            "grid_auto_flow": null,
            "grid_area": null,
            "grid_template_columns": null,
            "flex": null,
            "_model_name": "LayoutModel",
            "justify_items": null,
            "grid_row": null,
            "max_height": null,
            "align_content": null,
            "visibility": null,
            "align_self": null,
            "height": null,
            "min_height": null,
            "padding": null,
            "grid_auto_rows": null,
            "grid_gap": null,
            "max_width": null,
            "order": null,
            "_view_module_version": "1.2.0",
            "grid_template_areas": null,
            "object_position": null,
            "object_fit": null,
            "grid_auto_columns": null,
            "margin": null,
            "display": null,
            "left": null
          }
        },
        "d42746a2adca4842bc438750091fa07a": {
          "model_module": "@jupyter-widgets/controls",
          "model_name": "FloatProgressModel",
          "state": {
            "_view_name": "ProgressView",
            "style": "IPY_MODEL_10a82d2ec9a04a28ae12a52772280463",
            "_dom_classes": [],
            "description": "Dl Size...: 100%",
            "_model_name": "FloatProgressModel",
            "bar_style": "success",
            "max": 1,
            "_view_module": "@jupyter-widgets/controls",
            "_model_module_version": "1.5.0",
            "value": 1,
            "_view_count": null,
            "_view_module_version": "1.5.0",
            "orientation": "horizontal",
            "min": 0,
            "description_tooltip": null,
            "_model_module": "@jupyter-widgets/controls",
            "layout": "IPY_MODEL_9c66ad08256b4a52a3db83aa082ade74"
          }
        },
        "b46190bb1493467587b05208ccf722e6": {
          "model_module": "@jupyter-widgets/controls",
          "model_name": "HTMLModel",
          "state": {
            "_view_name": "HTMLView",
            "style": "IPY_MODEL_7e0146e179ed4d9cb9795b119f4b4e46",
            "_dom_classes": [],
            "description": "",
            "_model_name": "HTMLModel",
            "placeholder": "​",
            "_view_module": "@jupyter-widgets/controls",
            "_model_module_version": "1.5.0",
            "value": " 16/16 [00:01&lt;00:00,  8.37 MiB/s]",
            "_view_count": null,
            "_view_module_version": "1.5.0",
            "description_tooltip": null,
            "_model_module": "@jupyter-widgets/controls",
            "layout": "IPY_MODEL_2e314782363c48da9f36c766706ca0c4"
          }
        },
        "10a82d2ec9a04a28ae12a52772280463": {
          "model_module": "@jupyter-widgets/controls",
          "model_name": "ProgressStyleModel",
          "state": {
            "_view_name": "StyleView",
            "_model_name": "ProgressStyleModel",
            "description_width": "initial",
            "_view_module": "@jupyter-widgets/base",
            "_model_module_version": "1.5.0",
            "_view_count": null,
            "_view_module_version": "1.2.0",
            "bar_color": null,
            "_model_module": "@jupyter-widgets/controls"
          }
        },
        "9c66ad08256b4a52a3db83aa082ade74": {
          "model_module": "@jupyter-widgets/base",
          "model_name": "LayoutModel",
          "state": {
            "_view_name": "LayoutView",
            "grid_template_rows": null,
            "right": null,
            "justify_content": null,
            "_view_module": "@jupyter-widgets/base",
            "overflow": null,
            "_model_module_version": "1.2.0",
            "_view_count": null,
            "flex_flow": null,
            "width": null,
            "min_width": null,
            "border": null,
            "align_items": null,
            "bottom": null,
            "_model_module": "@jupyter-widgets/base",
            "top": null,
            "grid_column": null,
            "overflow_y": null,
            "overflow_x": null,
            "grid_auto_flow": null,
            "grid_area": null,
            "grid_template_columns": null,
            "flex": null,
            "_model_name": "LayoutModel",
            "justify_items": null,
            "grid_row": null,
            "max_height": null,
            "align_content": null,
            "visibility": null,
            "align_self": null,
            "height": null,
            "min_height": null,
            "padding": null,
            "grid_auto_rows": null,
            "grid_gap": null,
            "max_width": null,
            "order": null,
            "_view_module_version": "1.2.0",
            "grid_template_areas": null,
            "object_position": null,
            "object_fit": null,
            "grid_auto_columns": null,
            "margin": null,
            "display": null,
            "left": null
          }
        },
        "7e0146e179ed4d9cb9795b119f4b4e46": {
          "model_module": "@jupyter-widgets/controls",
          "model_name": "DescriptionStyleModel",
          "state": {
            "_view_name": "StyleView",
            "_model_name": "DescriptionStyleModel",
            "description_width": "",
            "_view_module": "@jupyter-widgets/base",
            "_model_module_version": "1.5.0",
            "_view_count": null,
            "_view_module_version": "1.2.0",
            "_model_module": "@jupyter-widgets/controls"
          }
        },
        "2e314782363c48da9f36c766706ca0c4": {
          "model_module": "@jupyter-widgets/base",
          "model_name": "LayoutModel",
          "state": {
            "_view_name": "LayoutView",
            "grid_template_rows": null,
            "right": null,
            "justify_content": null,
            "_view_module": "@jupyter-widgets/base",
            "overflow": null,
            "_model_module_version": "1.2.0",
            "_view_count": null,
            "flex_flow": null,
            "width": null,
            "min_width": null,
            "border": null,
            "align_items": null,
            "bottom": null,
            "_model_module": "@jupyter-widgets/base",
            "top": null,
            "grid_column": null,
            "overflow_y": null,
            "overflow_x": null,
            "grid_auto_flow": null,
            "grid_area": null,
            "grid_template_columns": null,
            "flex": null,
            "_model_name": "LayoutModel",
            "justify_items": null,
            "grid_row": null,
            "max_height": null,
            "align_content": null,
            "visibility": null,
            "align_self": null,
            "height": null,
            "min_height": null,
            "padding": null,
            "grid_auto_rows": null,
            "grid_gap": null,
            "max_width": null,
            "order": null,
            "_view_module_version": "1.2.0",
            "grid_template_areas": null,
            "object_position": null,
            "object_fit": null,
            "grid_auto_columns": null,
            "margin": null,
            "display": null,
            "left": null
          }
        },
        "26cbee6847d1448eb7dd05a5fd29e54c": {
          "model_module": "@jupyter-widgets/controls",
          "model_name": "HBoxModel",
          "state": {
            "_view_name": "HBoxView",
            "_dom_classes": [],
            "_model_name": "HBoxModel",
            "_view_module": "@jupyter-widgets/controls",
            "_model_module_version": "1.5.0",
            "_view_count": null,
            "_view_module_version": "1.5.0",
            "box_style": "",
            "layout": "IPY_MODEL_40f16cfd61924607b544e2a8ab2e1f6b",
            "_model_module": "@jupyter-widgets/controls",
            "children": [
              "IPY_MODEL_3ecc8f5bac8b4692ba7820bb6f223249",
              "IPY_MODEL_6407cb6705ca426ba0e71a6a9f22f990"
            ]
          }
        },
        "40f16cfd61924607b544e2a8ab2e1f6b": {
          "model_module": "@jupyter-widgets/base",
          "model_name": "LayoutModel",
          "state": {
            "_view_name": "LayoutView",
            "grid_template_rows": null,
            "right": null,
            "justify_content": null,
            "_view_module": "@jupyter-widgets/base",
            "overflow": null,
            "_model_module_version": "1.2.0",
            "_view_count": null,
            "flex_flow": null,
            "width": null,
            "min_width": null,
            "border": null,
            "align_items": null,
            "bottom": null,
            "_model_module": "@jupyter-widgets/base",
            "top": null,
            "grid_column": null,
            "overflow_y": null,
            "overflow_x": null,
            "grid_auto_flow": null,
            "grid_area": null,
            "grid_template_columns": null,
            "flex": null,
            "_model_name": "LayoutModel",
            "justify_items": null,
            "grid_row": null,
            "max_height": null,
            "align_content": null,
            "visibility": null,
            "align_self": null,
            "height": null,
            "min_height": null,
            "padding": null,
            "grid_auto_rows": null,
            "grid_gap": null,
            "max_width": null,
            "order": null,
            "_view_module_version": "1.2.0",
            "grid_template_areas": null,
            "object_position": null,
            "object_fit": null,
            "grid_auto_columns": null,
            "margin": null,
            "display": null,
            "left": null
          }
        },
        "3ecc8f5bac8b4692ba7820bb6f223249": {
          "model_module": "@jupyter-widgets/controls",
          "model_name": "FloatProgressModel",
          "state": {
            "_view_name": "ProgressView",
            "style": "IPY_MODEL_15022da87016476db2bdbbc5f7773a78",
            "_dom_classes": [],
            "description": "Extraction completed...: 100%",
            "_model_name": "FloatProgressModel",
            "bar_style": "success",
            "max": 1,
            "_view_module": "@jupyter-widgets/controls",
            "_model_module_version": "1.5.0",
            "value": 1,
            "_view_count": null,
            "_view_module_version": "1.5.0",
            "orientation": "horizontal",
            "min": 0,
            "description_tooltip": null,
            "_model_module": "@jupyter-widgets/controls",
            "layout": "IPY_MODEL_9f40a5d235a648b3a8530eb4d6cfb94d"
          }
        },
        "6407cb6705ca426ba0e71a6a9f22f990": {
          "model_module": "@jupyter-widgets/controls",
          "model_name": "HTMLModel",
          "state": {
            "_view_name": "HTMLView",
            "style": "IPY_MODEL_b01e00f778664bb4a28d6c2b2cb88fe7",
            "_dom_classes": [],
            "description": "",
            "_model_name": "HTMLModel",
            "placeholder": "​",
            "_view_module": "@jupyter-widgets/controls",
            "_model_module_version": "1.5.0",
            "value": " 1/1 [00:01&lt;00:00,  1.80s/ file]",
            "_view_count": null,
            "_view_module_version": "1.5.0",
            "description_tooltip": null,
            "_model_module": "@jupyter-widgets/controls",
            "layout": "IPY_MODEL_68c137621ec842929be1f6baace07b78"
          }
        },
        "15022da87016476db2bdbbc5f7773a78": {
          "model_module": "@jupyter-widgets/controls",
          "model_name": "ProgressStyleModel",
          "state": {
            "_view_name": "StyleView",
            "_model_name": "ProgressStyleModel",
            "description_width": "initial",
            "_view_module": "@jupyter-widgets/base",
            "_model_module_version": "1.5.0",
            "_view_count": null,
            "_view_module_version": "1.2.0",
            "bar_color": null,
            "_model_module": "@jupyter-widgets/controls"
          }
        },
        "9f40a5d235a648b3a8530eb4d6cfb94d": {
          "model_module": "@jupyter-widgets/base",
          "model_name": "LayoutModel",
          "state": {
            "_view_name": "LayoutView",
            "grid_template_rows": null,
            "right": null,
            "justify_content": null,
            "_view_module": "@jupyter-widgets/base",
            "overflow": null,
            "_model_module_version": "1.2.0",
            "_view_count": null,
            "flex_flow": null,
            "width": null,
            "min_width": null,
            "border": null,
            "align_items": null,
            "bottom": null,
            "_model_module": "@jupyter-widgets/base",
            "top": null,
            "grid_column": null,
            "overflow_y": null,
            "overflow_x": null,
            "grid_auto_flow": null,
            "grid_area": null,
            "grid_template_columns": null,
            "flex": null,
            "_model_name": "LayoutModel",
            "justify_items": null,
            "grid_row": null,
            "max_height": null,
            "align_content": null,
            "visibility": null,
            "align_self": null,
            "height": null,
            "min_height": null,
            "padding": null,
            "grid_auto_rows": null,
            "grid_gap": null,
            "max_width": null,
            "order": null,
            "_view_module_version": "1.2.0",
            "grid_template_areas": null,
            "object_position": null,
            "object_fit": null,
            "grid_auto_columns": null,
            "margin": null,
            "display": null,
            "left": null
          }
        },
        "b01e00f778664bb4a28d6c2b2cb88fe7": {
          "model_module": "@jupyter-widgets/controls",
          "model_name": "DescriptionStyleModel",
          "state": {
            "_view_name": "StyleView",
            "_model_name": "DescriptionStyleModel",
            "description_width": "",
            "_view_module": "@jupyter-widgets/base",
            "_model_module_version": "1.5.0",
            "_view_count": null,
            "_view_module_version": "1.2.0",
            "_model_module": "@jupyter-widgets/controls"
          }
        },
        "68c137621ec842929be1f6baace07b78": {
          "model_module": "@jupyter-widgets/base",
          "model_name": "LayoutModel",
          "state": {
            "_view_name": "LayoutView",
            "grid_template_rows": null,
            "right": null,
            "justify_content": null,
            "_view_module": "@jupyter-widgets/base",
            "overflow": null,
            "_model_module_version": "1.2.0",
            "_view_count": null,
            "flex_flow": null,
            "width": null,
            "min_width": null,
            "border": null,
            "align_items": null,
            "bottom": null,
            "_model_module": "@jupyter-widgets/base",
            "top": null,
            "grid_column": null,
            "overflow_y": null,
            "overflow_x": null,
            "grid_auto_flow": null,
            "grid_area": null,
            "grid_template_columns": null,
            "flex": null,
            "_model_name": "LayoutModel",
            "justify_items": null,
            "grid_row": null,
            "max_height": null,
            "align_content": null,
            "visibility": null,
            "align_self": null,
            "height": null,
            "min_height": null,
            "padding": null,
            "grid_auto_rows": null,
            "grid_gap": null,
            "max_width": null,
            "order": null,
            "_view_module_version": "1.2.0",
            "grid_template_areas": null,
            "object_position": null,
            "object_fit": null,
            "grid_auto_columns": null,
            "margin": null,
            "display": null,
            "left": null
          }
        },
        "48514b5b383647729801e0f49d9f188d": {
          "model_module": "@jupyter-widgets/controls",
          "model_name": "HBoxModel",
          "state": {
            "_view_name": "HBoxView",
            "_dom_classes": [],
            "_model_name": "HBoxModel",
            "_view_module": "@jupyter-widgets/controls",
            "_model_module_version": "1.5.0",
            "_view_count": null,
            "_view_module_version": "1.5.0",
            "box_style": "",
            "layout": "IPY_MODEL_075853fc3e28456497ddf811394cb0d4",
            "_model_module": "@jupyter-widgets/controls",
            "children": [
              "IPY_MODEL_31dd7fe6c4ad4a49ba75864480c7fab0",
              "IPY_MODEL_8bcb1d65e9b641c3857102ef4c039d3e"
            ]
          }
        },
        "075853fc3e28456497ddf811394cb0d4": {
          "model_module": "@jupyter-widgets/base",
          "model_name": "LayoutModel",
          "state": {
            "_view_name": "LayoutView",
            "grid_template_rows": null,
            "right": null,
            "justify_content": null,
            "_view_module": "@jupyter-widgets/base",
            "overflow": null,
            "_model_module_version": "1.2.0",
            "_view_count": null,
            "flex_flow": null,
            "width": null,
            "min_width": null,
            "border": null,
            "align_items": null,
            "bottom": null,
            "_model_module": "@jupyter-widgets/base",
            "top": null,
            "grid_column": null,
            "overflow_y": null,
            "overflow_x": null,
            "grid_auto_flow": null,
            "grid_area": null,
            "grid_template_columns": null,
            "flex": null,
            "_model_name": "LayoutModel",
            "justify_items": null,
            "grid_row": null,
            "max_height": null,
            "align_content": null,
            "visibility": null,
            "align_self": null,
            "height": null,
            "min_height": null,
            "padding": null,
            "grid_auto_rows": null,
            "grid_gap": null,
            "max_width": null,
            "order": null,
            "_view_module_version": "1.2.0",
            "grid_template_areas": null,
            "object_position": null,
            "object_fit": null,
            "grid_auto_columns": null,
            "margin": null,
            "display": null,
            "left": null
          }
        },
        "31dd7fe6c4ad4a49ba75864480c7fab0": {
          "model_module": "@jupyter-widgets/controls",
          "model_name": "FloatProgressModel",
          "state": {
            "_view_name": "ProgressView",
            "style": "IPY_MODEL_ff73442b23e14890a105dbf46ebd409c",
            "_dom_classes": [],
            "description": "",
            "_model_name": "FloatProgressModel",
            "bar_style": "info",
            "max": 1,
            "_view_module": "@jupyter-widgets/controls",
            "_model_module_version": "1.5.0",
            "value": 1,
            "_view_count": null,
            "_view_module_version": "1.5.0",
            "orientation": "horizontal",
            "min": 0,
            "description_tooltip": null,
            "_model_module": "@jupyter-widgets/controls",
            "layout": "IPY_MODEL_8453296c251b4be9aedfa70d2b199292"
          }
        },
        "8bcb1d65e9b641c3857102ef4c039d3e": {
          "model_module": "@jupyter-widgets/controls",
          "model_name": "HTMLModel",
          "state": {
            "_view_name": "HTMLView",
            "style": "IPY_MODEL_d2a7119888f544f8acb1c0448de69195",
            "_dom_classes": [],
            "description": "",
            "_model_name": "HTMLModel",
            "placeholder": "​",
            "_view_module": "@jupyter-widgets/controls",
            "_model_module_version": "1.5.0",
            "value": " 85981/0 [01:30&lt;00:00, 1065.28 examples/s]",
            "_view_count": null,
            "_view_module_version": "1.5.0",
            "description_tooltip": null,
            "_model_module": "@jupyter-widgets/controls",
            "layout": "IPY_MODEL_5d0faadf840f4b85832c3733ca6711e2"
          }
        },
        "ff73442b23e14890a105dbf46ebd409c": {
          "model_module": "@jupyter-widgets/controls",
          "model_name": "ProgressStyleModel",
          "state": {
            "_view_name": "StyleView",
            "_model_name": "ProgressStyleModel",
            "description_width": "initial",
            "_view_module": "@jupyter-widgets/base",
            "_model_module_version": "1.5.0",
            "_view_count": null,
            "_view_module_version": "1.2.0",
            "bar_color": null,
            "_model_module": "@jupyter-widgets/controls"
          }
        },
        "8453296c251b4be9aedfa70d2b199292": {
          "model_module": "@jupyter-widgets/base",
          "model_name": "LayoutModel",
          "state": {
            "_view_name": "LayoutView",
            "grid_template_rows": null,
            "right": null,
            "justify_content": null,
            "_view_module": "@jupyter-widgets/base",
            "overflow": null,
            "_model_module_version": "1.2.0",
            "_view_count": null,
            "flex_flow": null,
            "width": null,
            "min_width": null,
            "border": null,
            "align_items": null,
            "bottom": null,
            "_model_module": "@jupyter-widgets/base",
            "top": null,
            "grid_column": null,
            "overflow_y": null,
            "overflow_x": null,
            "grid_auto_flow": null,
            "grid_area": null,
            "grid_template_columns": null,
            "flex": null,
            "_model_name": "LayoutModel",
            "justify_items": null,
            "grid_row": null,
            "max_height": null,
            "align_content": null,
            "visibility": null,
            "align_self": null,
            "height": null,
            "min_height": null,
            "padding": null,
            "grid_auto_rows": null,
            "grid_gap": null,
            "max_width": null,
            "order": null,
            "_view_module_version": "1.2.0",
            "grid_template_areas": null,
            "object_position": null,
            "object_fit": null,
            "grid_auto_columns": null,
            "margin": null,
            "display": null,
            "left": null
          }
        },
        "d2a7119888f544f8acb1c0448de69195": {
          "model_module": "@jupyter-widgets/controls",
          "model_name": "DescriptionStyleModel",
          "state": {
            "_view_name": "StyleView",
            "_model_name": "DescriptionStyleModel",
            "description_width": "",
            "_view_module": "@jupyter-widgets/base",
            "_model_module_version": "1.5.0",
            "_view_count": null,
            "_view_module_version": "1.2.0",
            "_model_module": "@jupyter-widgets/controls"
          }
        },
        "5d0faadf840f4b85832c3733ca6711e2": {
          "model_module": "@jupyter-widgets/base",
          "model_name": "LayoutModel",
          "state": {
            "_view_name": "LayoutView",
            "grid_template_rows": null,
            "right": null,
            "justify_content": null,
            "_view_module": "@jupyter-widgets/base",
            "overflow": null,
            "_model_module_version": "1.2.0",
            "_view_count": null,
            "flex_flow": null,
            "width": null,
            "min_width": null,
            "border": null,
            "align_items": null,
            "bottom": null,
            "_model_module": "@jupyter-widgets/base",
            "top": null,
            "grid_column": null,
            "overflow_y": null,
            "overflow_x": null,
            "grid_auto_flow": null,
            "grid_area": null,
            "grid_template_columns": null,
            "flex": null,
            "_model_name": "LayoutModel",
            "justify_items": null,
            "grid_row": null,
            "max_height": null,
            "align_content": null,
            "visibility": null,
            "align_self": null,
            "height": null,
            "min_height": null,
            "padding": null,
            "grid_auto_rows": null,
            "grid_gap": null,
            "max_width": null,
            "order": null,
            "_view_module_version": "1.2.0",
            "grid_template_areas": null,
            "object_position": null,
            "object_fit": null,
            "grid_auto_columns": null,
            "margin": null,
            "display": null,
            "left": null
          }
        },
        "1ecbc6e63e74440c80e7644d3464c3eb": {
          "model_module": "@jupyter-widgets/controls",
          "model_name": "HBoxModel",
          "state": {
            "_view_name": "HBoxView",
            "_dom_classes": [],
            "_model_name": "HBoxModel",
            "_view_module": "@jupyter-widgets/controls",
            "_model_module_version": "1.5.0",
            "_view_count": null,
            "_view_module_version": "1.5.0",
            "box_style": "",
            "layout": "IPY_MODEL_5c379faa92a047d99cda6a1c091ad94a",
            "_model_module": "@jupyter-widgets/controls",
            "children": [
              "IPY_MODEL_54d5ea7b621f4ea9a8ea06076163ef45",
              "IPY_MODEL_8bb9f0a2c07b4df7985480ba9ddbe070"
            ]
          }
        },
        "5c379faa92a047d99cda6a1c091ad94a": {
          "model_module": "@jupyter-widgets/base",
          "model_name": "LayoutModel",
          "state": {
            "_view_name": "LayoutView",
            "grid_template_rows": null,
            "right": null,
            "justify_content": null,
            "_view_module": "@jupyter-widgets/base",
            "overflow": null,
            "_model_module_version": "1.2.0",
            "_view_count": null,
            "flex_flow": null,
            "width": null,
            "min_width": null,
            "border": null,
            "align_items": null,
            "bottom": null,
            "_model_module": "@jupyter-widgets/base",
            "top": null,
            "grid_column": null,
            "overflow_y": null,
            "overflow_x": null,
            "grid_auto_flow": null,
            "grid_area": null,
            "grid_template_columns": null,
            "flex": null,
            "_model_name": "LayoutModel",
            "justify_items": null,
            "grid_row": null,
            "max_height": null,
            "align_content": null,
            "visibility": null,
            "align_self": null,
            "height": null,
            "min_height": null,
            "padding": null,
            "grid_auto_rows": null,
            "grid_gap": null,
            "max_width": null,
            "order": null,
            "_view_module_version": "1.2.0",
            "grid_template_areas": null,
            "object_position": null,
            "object_fit": null,
            "grid_auto_columns": null,
            "margin": null,
            "display": null,
            "left": null
          }
        },
        "54d5ea7b621f4ea9a8ea06076163ef45": {
          "model_module": "@jupyter-widgets/controls",
          "model_name": "FloatProgressModel",
          "state": {
            "_view_name": "ProgressView",
            "style": "IPY_MODEL_5c927e2935974dd2867fcf3ac91ccabe",
            "_dom_classes": [],
            "description": " 91%",
            "_model_name": "FloatProgressModel",
            "bar_style": "danger",
            "max": 85981,
            "_view_module": "@jupyter-widgets/controls",
            "_model_module_version": "1.5.0",
            "value": 78648,
            "_view_count": null,
            "_view_module_version": "1.5.0",
            "orientation": "horizontal",
            "min": 0,
            "description_tooltip": null,
            "_model_module": "@jupyter-widgets/controls",
            "layout": "IPY_MODEL_c8380b435d574a50a679bd8338f64551"
          }
        },
        "8bb9f0a2c07b4df7985480ba9ddbe070": {
          "model_module": "@jupyter-widgets/controls",
          "model_name": "HTMLModel",
          "state": {
            "_view_name": "HTMLView",
            "style": "IPY_MODEL_bdf139baaccb47a79bfb465119b6301e",
            "_dom_classes": [],
            "description": "",
            "_model_name": "HTMLModel",
            "placeholder": "​",
            "_view_module": "@jupyter-widgets/controls",
            "_model_module_version": "1.5.0",
            "value": " 78648/85981 [00:00&lt;05:55, 20.65 examples/s]",
            "_view_count": null,
            "_view_module_version": "1.5.0",
            "description_tooltip": null,
            "_model_module": "@jupyter-widgets/controls",
            "layout": "IPY_MODEL_69458989a82348b18432d2ee26983db1"
          }
        },
        "5c927e2935974dd2867fcf3ac91ccabe": {
          "model_module": "@jupyter-widgets/controls",
          "model_name": "ProgressStyleModel",
          "state": {
            "_view_name": "StyleView",
            "_model_name": "ProgressStyleModel",
            "description_width": "initial",
            "_view_module": "@jupyter-widgets/base",
            "_model_module_version": "1.5.0",
            "_view_count": null,
            "_view_module_version": "1.2.0",
            "bar_color": null,
            "_model_module": "@jupyter-widgets/controls"
          }
        },
        "c8380b435d574a50a679bd8338f64551": {
          "model_module": "@jupyter-widgets/base",
          "model_name": "LayoutModel",
          "state": {
            "_view_name": "LayoutView",
            "grid_template_rows": null,
            "right": null,
            "justify_content": null,
            "_view_module": "@jupyter-widgets/base",
            "overflow": null,
            "_model_module_version": "1.2.0",
            "_view_count": null,
            "flex_flow": null,
            "width": null,
            "min_width": null,
            "border": null,
            "align_items": null,
            "bottom": null,
            "_model_module": "@jupyter-widgets/base",
            "top": null,
            "grid_column": null,
            "overflow_y": null,
            "overflow_x": null,
            "grid_auto_flow": null,
            "grid_area": null,
            "grid_template_columns": null,
            "flex": null,
            "_model_name": "LayoutModel",
            "justify_items": null,
            "grid_row": null,
            "max_height": null,
            "align_content": null,
            "visibility": null,
            "align_self": null,
            "height": null,
            "min_height": null,
            "padding": null,
            "grid_auto_rows": null,
            "grid_gap": null,
            "max_width": null,
            "order": null,
            "_view_module_version": "1.2.0",
            "grid_template_areas": null,
            "object_position": null,
            "object_fit": null,
            "grid_auto_columns": null,
            "margin": null,
            "display": null,
            "left": null
          }
        },
        "bdf139baaccb47a79bfb465119b6301e": {
          "model_module": "@jupyter-widgets/controls",
          "model_name": "DescriptionStyleModel",
          "state": {
            "_view_name": "StyleView",
            "_model_name": "DescriptionStyleModel",
            "description_width": "",
            "_view_module": "@jupyter-widgets/base",
            "_model_module_version": "1.5.0",
            "_view_count": null,
            "_view_module_version": "1.2.0",
            "_model_module": "@jupyter-widgets/controls"
          }
        },
        "69458989a82348b18432d2ee26983db1": {
          "model_module": "@jupyter-widgets/base",
          "model_name": "LayoutModel",
          "state": {
            "_view_name": "LayoutView",
            "grid_template_rows": null,
            "right": null,
            "justify_content": null,
            "_view_module": "@jupyter-widgets/base",
            "overflow": null,
            "_model_module_version": "1.2.0",
            "_view_count": null,
            "flex_flow": null,
            "width": null,
            "min_width": null,
            "border": null,
            "align_items": null,
            "bottom": null,
            "_model_module": "@jupyter-widgets/base",
            "top": null,
            "grid_column": null,
            "overflow_y": null,
            "overflow_x": null,
            "grid_auto_flow": null,
            "grid_area": null,
            "grid_template_columns": null,
            "flex": null,
            "_model_name": "LayoutModel",
            "justify_items": null,
            "grid_row": null,
            "max_height": null,
            "align_content": null,
            "visibility": null,
            "align_self": null,
            "height": null,
            "min_height": null,
            "padding": null,
            "grid_auto_rows": null,
            "grid_gap": null,
            "max_width": null,
            "order": null,
            "_view_module_version": "1.2.0",
            "grid_template_areas": null,
            "object_position": null,
            "object_fit": null,
            "grid_auto_columns": null,
            "margin": null,
            "display": null,
            "left": null
          }
        }
      }
    }
  },
  "cells": [
    {
      "cell_type": "markdown",
      "metadata": {
        "id": "view-in-github",
        "colab_type": "text"
      },
      "source": [
        "<a href=\"https://colab.research.google.com/github/Arju-cmd/NLP_Models/blob/main/Sentiment_Analysis_Model_using_H20_GBM.ipynb\" target=\"_parent\"><img src=\"https://colab.research.google.com/assets/colab-badge.svg\" alt=\"Open In Colab\"/></a>"
      ]
    },
    {
      "cell_type": "code",
      "metadata": {
        "colab": {
          "base_uri": "https://localhost:8080/"
        },
        "id": "r_UIpY6zvTUp",
        "outputId": "4895d4cd-fdbc-4dce-f4d6-0df783846ab0"
      },
      "source": [
        "!apt-get install default-jre\n",
        "!java -version"
      ],
      "execution_count": 5,
      "outputs": [
        {
          "output_type": "stream",
          "text": [
            "Reading package lists... Done\n",
            "Building dependency tree       \n",
            "Reading state information... Done\n",
            "default-jre is already the newest version (2:1.11-68ubuntu1~18.04.1).\n",
            "default-jre set to manually installed.\n",
            "0 upgraded, 0 newly installed, 0 to remove and 40 not upgraded.\n",
            "openjdk version \"11.0.11\" 2021-04-20\n",
            "OpenJDK Runtime Environment (build 11.0.11+9-Ubuntu-0ubuntu2.18.04)\n",
            "OpenJDK 64-Bit Server VM (build 11.0.11+9-Ubuntu-0ubuntu2.18.04, mixed mode, sharing)\n"
          ],
          "name": "stdout"
        }
      ]
    },
    {
      "cell_type": "code",
      "metadata": {
        "colab": {
          "base_uri": "https://localhost:8080/"
        },
        "id": "RvKMhgmWvdmZ",
        "outputId": "eb14dfcc-c972-4b86-bf5c-0ec5db9c8497"
      },
      "source": [
        "\n",
        "!pip install h2o==3.30.0.1\n"
      ],
      "execution_count": 6,
      "outputs": [
        {
          "output_type": "stream",
          "text": [
            "Collecting h2o==3.30.0.1\n",
            "  Downloading h2o-3.30.0.1.tar.gz (129.5 MB)\n",
            "\u001b[K     |████████████████████████████████| 129.5 MB 23 kB/s \n",
            "\u001b[?25hRequirement already satisfied: requests in /usr/local/lib/python3.7/dist-packages (from h2o==3.30.0.1) (2.23.0)\n",
            "Requirement already satisfied: tabulate in /usr/local/lib/python3.7/dist-packages (from h2o==3.30.0.1) (0.8.9)\n",
            "Requirement already satisfied: future in /usr/local/lib/python3.7/dist-packages (from h2o==3.30.0.1) (0.16.0)\n",
            "Collecting colorama>=0.3.8\n",
            "  Downloading colorama-0.4.4-py2.py3-none-any.whl (16 kB)\n",
            "Requirement already satisfied: urllib3!=1.25.0,!=1.25.1,<1.26,>=1.21.1 in /usr/local/lib/python3.7/dist-packages (from requests->h2o==3.30.0.1) (1.24.3)\n",
            "Requirement already satisfied: certifi>=2017.4.17 in /usr/local/lib/python3.7/dist-packages (from requests->h2o==3.30.0.1) (2021.5.30)\n",
            "Requirement already satisfied: chardet<4,>=3.0.2 in /usr/local/lib/python3.7/dist-packages (from requests->h2o==3.30.0.1) (3.0.4)\n",
            "Requirement already satisfied: idna<3,>=2.5 in /usr/local/lib/python3.7/dist-packages (from requests->h2o==3.30.0.1) (2.10)\n",
            "Building wheels for collected packages: h2o\n",
            "  Building wheel for h2o (setup.py) ... \u001b[?25l\u001b[?25hdone\n",
            "  Created wheel for h2o: filename=h2o-3.30.0.1-py2.py3-none-any.whl size=129557718 sha256=baee928303a729cc65e7f2911688c210e375ac91c9b7604bd860f0a027b9b868\n",
            "  Stored in directory: /root/.cache/pip/wheels/64/8d/a5/e927000e129779305658449b4c92fbbfe99c5d0abf742d368a\n",
            "Successfully built h2o\n",
            "Installing collected packages: colorama, h2o\n",
            "Successfully installed colorama-0.4.4 h2o-3.30.0.1\n"
          ],
          "name": "stdout"
        }
      ]
    },
    {
      "cell_type": "code",
      "metadata": {
        "id": "Av82SHL2vjy5"
      },
      "source": [
        "import tensorflow_datasets as tfds\n",
        "import h2o\n",
        "import numpy as np"
      ],
      "execution_count": 8,
      "outputs": []
    },
    {
      "cell_type": "code",
      "metadata": {
        "colab": {
          "base_uri": "https://localhost:8080/",
          "height": 562
        },
        "id": "8vsWz56mvvqO",
        "outputId": "21d09d05-67db-4d3e-80da-31ddf8c0f8c6"
      },
      "source": [
        "h2o.init()"
      ],
      "execution_count": 9,
      "outputs": [
        {
          "output_type": "stream",
          "text": [
            "Checking whether there is an H2O instance running at http://localhost:54321 ..... not found.\n",
            "Attempting to start a local H2O server...\n",
            "  Java Version: openjdk version \"11.0.11\" 2021-04-20; OpenJDK Runtime Environment (build 11.0.11+9-Ubuntu-0ubuntu2.18.04); OpenJDK 64-Bit Server VM (build 11.0.11+9-Ubuntu-0ubuntu2.18.04, mixed mode, sharing)\n",
            "  Starting server from /usr/local/lib/python3.7/dist-packages/h2o/backend/bin/h2o.jar\n",
            "  Ice root: /tmp/tmpa2ibru3z\n",
            "  JVM stdout: /tmp/tmpa2ibru3z/h2o_unknownUser_started_from_python.out\n",
            "  JVM stderr: /tmp/tmpa2ibru3z/h2o_unknownUser_started_from_python.err\n",
            "  Server is running at http://127.0.0.1:54321\n",
            "Connecting to H2O server at http://127.0.0.1:54321 ... successful.\n",
            "Warning: Your H2O cluster version is too old (1 year, 4 months and 1 day)! Please download and install the latest version from http://h2o.ai/download/\n"
          ],
          "name": "stdout"
        },
        {
          "output_type": "display_data",
          "data": {
            "text/html": [
              "<div style=\"overflow:auto\"><table style=\"width:50%\"><tr><td>H2O_cluster_uptime:</td>\n",
              "<td>02 secs</td></tr>\n",
              "<tr><td>H2O_cluster_timezone:</td>\n",
              "<td>Etc/UTC</td></tr>\n",
              "<tr><td>H2O_data_parsing_timezone:</td>\n",
              "<td>UTC</td></tr>\n",
              "<tr><td>H2O_cluster_version:</td>\n",
              "<td>3.30.0.1</td></tr>\n",
              "<tr><td>H2O_cluster_version_age:</td>\n",
              "<td>1 year, 4 months and 1 day !!!</td></tr>\n",
              "<tr><td>H2O_cluster_name:</td>\n",
              "<td>H2O_from_python_unknownUser_acsu7g</td></tr>\n",
              "<tr><td>H2O_cluster_total_nodes:</td>\n",
              "<td>1</td></tr>\n",
              "<tr><td>H2O_cluster_free_memory:</td>\n",
              "<td>3.172 Gb</td></tr>\n",
              "<tr><td>H2O_cluster_total_cores:</td>\n",
              "<td>2</td></tr>\n",
              "<tr><td>H2O_cluster_allowed_cores:</td>\n",
              "<td>2</td></tr>\n",
              "<tr><td>H2O_cluster_status:</td>\n",
              "<td>accepting new members, healthy</td></tr>\n",
              "<tr><td>H2O_connection_url:</td>\n",
              "<td>http://127.0.0.1:54321</td></tr>\n",
              "<tr><td>H2O_connection_proxy:</td>\n",
              "<td>{\"http\": null, \"https\": null}</td></tr>\n",
              "<tr><td>H2O_internal_security:</td>\n",
              "<td>False</td></tr>\n",
              "<tr><td>H2O_API_Extensions:</td>\n",
              "<td>Amazon S3, XGBoost, Algos, AutoML, Core V3, TargetEncoder, Core V4</td></tr>\n",
              "<tr><td>Python_version:</td>\n",
              "<td>3.7.11 final</td></tr></table></div>"
            ],
            "text/plain": [
              "--------------------------  ------------------------------------------------------------------\n",
              "H2O_cluster_uptime:         02 secs\n",
              "H2O_cluster_timezone:       Etc/UTC\n",
              "H2O_data_parsing_timezone:  UTC\n",
              "H2O_cluster_version:        3.30.0.1\n",
              "H2O_cluster_version_age:    1 year, 4 months and 1 day !!!\n",
              "H2O_cluster_name:           H2O_from_python_unknownUser_acsu7g\n",
              "H2O_cluster_total_nodes:    1\n",
              "H2O_cluster_free_memory:    3.172 Gb\n",
              "H2O_cluster_total_cores:    2\n",
              "H2O_cluster_allowed_cores:  2\n",
              "H2O_cluster_status:         accepting new members, healthy\n",
              "H2O_connection_url:         http://127.0.0.1:54321\n",
              "H2O_connection_proxy:       {\"http\": null, \"https\": null}\n",
              "H2O_internal_security:      False\n",
              "H2O_API_Extensions:         Amazon S3, XGBoost, Algos, AutoML, Core V3, TargetEncoder, Core V4\n",
              "Python_version:             3.7.11 final\n",
              "--------------------------  ------------------------------------------------------------------"
            ]
          },
          "metadata": {
            "tags": []
          }
        }
      ]
    },
    {
      "cell_type": "code",
      "metadata": {
        "colab": {
          "base_uri": "https://localhost:8080/",
          "height": 318,
          "referenced_widgets": [
            "ef78d29769944f51857cc9cc733084b1",
            "e9c4e44f6798479db3f1664db1680ed0",
            "7457c93a6d764ca881fb0a6d36710081",
            "1e1601fb3c85426c92e7a00c5c1b59fb",
            "80629ca39bd0445aa448384da43b02c7",
            "2a8e698d9be940b7af80d223ca509b17",
            "abd8718c31474cee901a9fb430578659",
            "6d43f1779ab54b55a243e6dfb01e4ff9",
            "b3e516e7dc5d4645babd58dd78a85937",
            "20c53bcbe9224dea852c8f65d9497d4b",
            "d42746a2adca4842bc438750091fa07a",
            "b46190bb1493467587b05208ccf722e6",
            "10a82d2ec9a04a28ae12a52772280463",
            "9c66ad08256b4a52a3db83aa082ade74",
            "7e0146e179ed4d9cb9795b119f4b4e46",
            "2e314782363c48da9f36c766706ca0c4",
            "26cbee6847d1448eb7dd05a5fd29e54c",
            "40f16cfd61924607b544e2a8ab2e1f6b",
            "3ecc8f5bac8b4692ba7820bb6f223249",
            "6407cb6705ca426ba0e71a6a9f22f990",
            "15022da87016476db2bdbbc5f7773a78",
            "9f40a5d235a648b3a8530eb4d6cfb94d",
            "b01e00f778664bb4a28d6c2b2cb88fe7",
            "68c137621ec842929be1f6baace07b78",
            "48514b5b383647729801e0f49d9f188d",
            "075853fc3e28456497ddf811394cb0d4",
            "31dd7fe6c4ad4a49ba75864480c7fab0",
            "8bcb1d65e9b641c3857102ef4c039d3e",
            "ff73442b23e14890a105dbf46ebd409c",
            "8453296c251b4be9aedfa70d2b199292",
            "d2a7119888f544f8acb1c0448de69195",
            "5d0faadf840f4b85832c3733ca6711e2",
            "1ecbc6e63e74440c80e7644d3464c3eb",
            "5c379faa92a047d99cda6a1c091ad94a",
            "54d5ea7b621f4ea9a8ea06076163ef45",
            "8bb9f0a2c07b4df7985480ba9ddbe070",
            "5c927e2935974dd2867fcf3ac91ccabe",
            "c8380b435d574a50a679bd8338f64551",
            "bdf139baaccb47a79bfb465119b6301e",
            "69458989a82348b18432d2ee26983db1"
          ]
        },
        "id": "hsaJhFD2v0ZW",
        "outputId": "3e922ad2-fe3c-45a4-d022-2633922a2a7b"
      },
      "source": [
        "dataset, info = tfds.load('amazon_us_reviews/Personal_Care_Appliances_v1_00', with_info=True, batch_size=-1)\n",
        "train_dataset = dataset['train']"
      ],
      "execution_count": 20,
      "outputs": [
        {
          "output_type": "stream",
          "text": [
            "Downloading and preparing dataset amazon_us_reviews/Personal_Care_Appliances_v1_00/0.1.0 (download: 16.82 MiB, generated: Unknown size, total: 16.82 MiB) to /root/tensorflow_datasets/amazon_us_reviews/Personal_Care_Appliances_v1_00/0.1.0...\n"
          ],
          "name": "stdout"
        },
        {
          "output_type": "display_data",
          "data": {
            "application/vnd.jupyter.widget-view+json": {
              "model_id": "ef78d29769944f51857cc9cc733084b1",
              "version_minor": 0,
              "version_major": 2
            },
            "text/plain": [
              "HBox(children=(FloatProgress(value=1.0, bar_style='info', description='Dl Completed...', max=1.0, style=Progre…"
            ]
          },
          "metadata": {
            "tags": []
          }
        },
        {
          "output_type": "display_data",
          "data": {
            "application/vnd.jupyter.widget-view+json": {
              "model_id": "b3e516e7dc5d4645babd58dd78a85937",
              "version_minor": 0,
              "version_major": 2
            },
            "text/plain": [
              "HBox(children=(FloatProgress(value=1.0, bar_style='info', description='Dl Size...', max=1.0, style=ProgressSty…"
            ]
          },
          "metadata": {
            "tags": []
          }
        },
        {
          "output_type": "display_data",
          "data": {
            "application/vnd.jupyter.widget-view+json": {
              "model_id": "26cbee6847d1448eb7dd05a5fd29e54c",
              "version_minor": 0,
              "version_major": 2
            },
            "text/plain": [
              "HBox(children=(FloatProgress(value=1.0, bar_style='info', description='Extraction completed...', max=1.0, styl…"
            ]
          },
          "metadata": {
            "tags": []
          }
        },
        {
          "output_type": "stream",
          "text": [
            "\n",
            "\n",
            "\n",
            "\n",
            "\n",
            "\n"
          ],
          "name": "stdout"
        },
        {
          "output_type": "display_data",
          "data": {
            "application/vnd.jupyter.widget-view+json": {
              "model_id": "48514b5b383647729801e0f49d9f188d",
              "version_minor": 0,
              "version_major": 2
            },
            "text/plain": [
              "HBox(children=(FloatProgress(value=1.0, bar_style='info', max=1.0), HTML(value='')))"
            ]
          },
          "metadata": {
            "tags": []
          }
        },
        {
          "output_type": "stream",
          "text": [
            "\rShuffling and writing examples to /root/tensorflow_datasets/amazon_us_reviews/Personal_Care_Appliances_v1_00/0.1.0.incompleteDTVIHF/amazon_us_reviews-train.tfrecord\n"
          ],
          "name": "stdout"
        },
        {
          "output_type": "display_data",
          "data": {
            "application/vnd.jupyter.widget-view+json": {
              "model_id": "1ecbc6e63e74440c80e7644d3464c3eb",
              "version_minor": 0,
              "version_major": 2
            },
            "text/plain": [
              "HBox(children=(FloatProgress(value=0.0, max=85981.0), HTML(value='')))"
            ]
          },
          "metadata": {
            "tags": []
          }
        },
        {
          "output_type": "stream",
          "text": [
            "Dataset amazon_us_reviews downloaded and prepared to /root/tensorflow_datasets/amazon_us_reviews/Personal_Care_Appliances_v1_00/0.1.0. Subsequent calls will reuse this data.\n"
          ],
          "name": "stdout"
        }
      ]
    },
    {
      "cell_type": "code",
      "metadata": {
        "colab": {
          "base_uri": "https://localhost:8080/"
        },
        "id": "xDbmJ0izwFx1",
        "outputId": "2763c579-0da0-4fe2-fe17-040739641b02"
      },
      "source": [
        "info"
      ],
      "execution_count": 21,
      "outputs": [
        {
          "output_type": "execute_result",
          "data": {
            "text/plain": [
              "tfds.core.DatasetInfo(\n",
              "    name='amazon_us_reviews',\n",
              "    version=0.1.0,\n",
              "    description='Amazon Customer Reviews (a.k.a. Product Reviews) is one of Amazons iconic products. In a period of over two decades since the first review in 1995, millions of Amazon customers have contributed over a hundred million reviews to express opinions and describe their experiences regarding products on the Amazon.com website. This makes Amazon Customer Reviews a rich source of information for academic researchers in the fields of Natural Language Processing (NLP), Information Retrieval (IR), and Machine Learning (ML), amongst others. Accordingly, we are releasing this data to further research in multiple disciplines related to understanding customer product experiences. Specifically, this dataset was constructed to represent a sample of customer evaluations and opinions, variation in the perception of a product across geographical regions, and promotional intent or bias in reviews.\n",
              "\n",
              "Over 130+ million customer reviews are available to researchers as part of this release. The data is available in TSV files in the amazon-reviews-pds S3 bucket in AWS US East Region. Each line in the data files corresponds to an individual review (tab delimited, with no quote and escape characters).\n",
              "\n",
              "Each Dataset contains the following columns : \n",
              "  marketplace       - 2 letter country code of the marketplace where the review was written.\n",
              "  customer_id       - Random identifier that can be used to aggregate reviews written by a single author.\n",
              "  review_id         - The unique ID of the review.\n",
              "  product_id        - The unique Product ID the review pertains to. In the multilingual dataset the reviews\n",
              "                      for the same product in different countries can be grouped by the same product_id.\n",
              "  product_parent    - Random identifier that can be used to aggregate reviews for the same product.\n",
              "  product_title     - Title of the product.\n",
              "  product_category  - Broad product category that can be used to group reviews \n",
              "                      (also used to group the dataset into coherent parts).\n",
              "  star_rating       - The 1-5 star rating of the review.\n",
              "  helpful_votes     - Number of helpful votes.\n",
              "  total_votes       - Number of total votes the review received.\n",
              "  vine              - Review was written as part of the Vine program.\n",
              "  verified_purchase - The review is on a verified purchase.\n",
              "  review_headline   - The title of the review.\n",
              "  review_body       - The review text.\n",
              "  review_date       - The date the review was written.',\n",
              "    homepage='https://s3.amazonaws.com/amazon-reviews-pds/readme.html',\n",
              "    features=FeaturesDict({\n",
              "        'data': FeaturesDict({\n",
              "            'customer_id': tf.string,\n",
              "            'helpful_votes': tf.int32,\n",
              "            'marketplace': tf.string,\n",
              "            'product_category': tf.string,\n",
              "            'product_id': tf.string,\n",
              "            'product_parent': tf.string,\n",
              "            'product_title': tf.string,\n",
              "            'review_body': tf.string,\n",
              "            'review_date': tf.string,\n",
              "            'review_headline': tf.string,\n",
              "            'review_id': tf.string,\n",
              "            'star_rating': tf.int32,\n",
              "            'total_votes': tf.int32,\n",
              "            'verified_purchase': ClassLabel(shape=(), dtype=tf.int64, num_classes=2),\n",
              "            'vine': ClassLabel(shape=(), dtype=tf.int64, num_classes=2),\n",
              "        }),\n",
              "    }),\n",
              "    total_num_examples=85981,\n",
              "    splits={\n",
              "        'train': 85981,\n",
              "    },\n",
              "    supervised_keys=None,\n",
              "    citation=\"\"\"\"\"\",\n",
              "    redistribution_info=,\n",
              ")"
            ]
          },
          "metadata": {
            "tags": []
          },
          "execution_count": 21
        }
      ]
    },
    {
      "cell_type": "code",
      "metadata": {
        "colab": {
          "base_uri": "https://localhost:8080/"
        },
        "id": "tbQ3-RzXwlg0",
        "outputId": "a6779e35-7625-4a8e-ce70-06c6de3af8ab"
      },
      "source": [
        "dataset"
      ],
      "execution_count": 22,
      "outputs": [
        {
          "output_type": "execute_result",
          "data": {
            "text/plain": [
              "{'train': {'data': {'customer_id': <tf.Tensor: shape=(85981,), dtype=string, numpy=\n",
              "   array([b'13986323', b'50574716', b'50593972', ..., b'40719682',\n",
              "          b'35596948', b'29430209'], dtype=object)>,\n",
              "   'helpful_votes': <tf.Tensor: shape=(85981,), dtype=int32, numpy=array([0, 3, 0, ..., 0, 0, 0], dtype=int32)>,\n",
              "   'marketplace': <tf.Tensor: shape=(85981,), dtype=string, numpy=array([b'US', b'US', b'US', ..., b'US', b'US', b'US'], dtype=object)>,\n",
              "   'product_category': <tf.Tensor: shape=(85981,), dtype=string, numpy=\n",
              "   array([b'Personal_Care_Appliances', b'Personal_Care_Appliances',\n",
              "          b'Personal_Care_Appliances', ..., b'Personal_Care_Appliances',\n",
              "          b'Personal_Care_Appliances', b'Personal_Care_Appliances'],\n",
              "         dtype=object)>,\n",
              "   'product_id': <tf.Tensor: shape=(85981,), dtype=string, numpy=\n",
              "   array([b'B00847JQZ6', b'B00N5HD340', b'B0077L1X24', ..., b'B000UZ8X2W',\n",
              "          b'B000NURPPK', b'B001EY5GNW'], dtype=object)>,\n",
              "   'product_parent': <tf.Tensor: shape=(85981,), dtype=string, numpy=\n",
              "   array([b'997683625', b'955577225', b'120764066', ..., b'96066145',\n",
              "          b'58591097', b'986877728'], dtype=object)>,\n",
              "   'product_title': <tf.Tensor: shape=(85981,), dtype=string, numpy=\n",
              "   array([b'SE - Reading Glass - Spring Loaded Hinges, 4.0x - RTS62400',\n",
              "          b'Straight Razor',\n",
              "          b'Philips Sonicare Flexcare & Healthy White Plastic Travel Handle Case New Bulk Package',\n",
              "          ...,\n",
              "          b'Remington R-9200 Microflex Ultra TCT Shaver [Health and Beauty]',\n",
              "          b'SUNBEAM Cool Mist HUMIDIFIER with PermaFilter # 1120 \\xe2\\x80\\x93 1 Ea',\n",
              "          b'Andis Blade Set for T-Outliner Trimmer'], dtype=object)>,\n",
              "   'review_body': <tf.Tensor: shape=(85981,), dtype=string, numpy=\n",
              "   array([b\"These glasses are an excellent value.  The fit is good and they are very comfortable.  Because of my legal blindness, there aren't a lot of options to try to see better, but I believe these help with my other visual aids, and because they are reasonably priced I can have more than one pair available.\",\n",
              "          b\"Always wanted to try straight razor shaving (as a DE safety razor user), and this was a cheap way for me to determine I was not into it.<br /><br />Because the blades are disposable and always sharp, I could put a new one in and reasonably rely upon that fact that cuts were probably due to my technique and not the blade.<br /><br />It's very hard to do straight razor shaving on yourself because the ANGLE is difficult to control without switching hands. Being very right-handed, I really couldn't do that. I bet I could shave someone else's face with it though.<br /><br />An immediate upside? Using a DE safety razor (slant edged even) seems SUPER safe now! I'm increased my speed with the DE due to that confidence, and I'd been using it for years now.\",\n",
              "          b'I usually either throw my toothbrush in a plastic bag with spare head so this product is very convenient for keeping all the parts apart, dry and undamaged, and i now keep it in my travel bag all the time ready to go.',\n",
              "          ...,\n",
              "          b\"I have had a Remington before but needed a new one when the batteries died and the cutters were all but gone.  It was cheaper to buy a new one.  The new one has a nice charge level but the trimmer didn't work when I got it.\",\n",
              "          b\"I was surprised that it really didn't do much compared to the 1950s version that I'd inherited. Keeping a wet wash cloth next to my bed for when I start coughing in the middle of the night works better.\",\n",
              "          b'The blades were an excellent fit for my T-line trimmers.  Within five minutes I had my trimmers cleaned, the blades installed, and was putting them to use.  I saw the blades in several locations for almost twice the price I paid, so this worked out to be an awesome deal.'],\n",
              "         dtype=object)>,\n",
              "   'review_date': <tf.Tensor: shape=(85981,), dtype=string, numpy=\n",
              "   array([b'2015-01-04', b'2015-08-05', b'2012-11-17', ..., b'2008-02-08',\n",
              "          b'2007-09-07', b'2012-07-26'], dtype=object)>,\n",
              "   'review_headline': <tf.Tensor: shape=(85981,), dtype=string, numpy=\n",
              "   array([b'These glasses are an excellent value. The fit is good and they are ...',\n",
              "          b'A fantastic way to cheaply try straight razor shaving.',\n",
              "          b'Great for travel', ..., b'Trimmer Not Working',\n",
              "          b'Loud and ineffectual', b'Excellent product, awesomoe price'],\n",
              "         dtype=object)>,\n",
              "   'review_id': <tf.Tensor: shape=(85981,), dtype=string, numpy=\n",
              "   array([b'R3VEUFVA9QJY55', b'R2DTQV5SMJ0CK7', b'R3OJ06NK99WLNJ', ...,\n",
              "          b'R1ZQ0XZXOD9N18', b'R1FJ9OU429X00Y', b'RI28R1W94N1R6'],\n",
              "         dtype=object)>,\n",
              "   'star_rating': <tf.Tensor: shape=(85981,), dtype=int32, numpy=array([4, 5, 4, ..., 3, 2, 5], dtype=int32)>,\n",
              "   'total_votes': <tf.Tensor: shape=(85981,), dtype=int32, numpy=array([0, 3, 0, ..., 0, 0, 0], dtype=int32)>,\n",
              "   'verified_purchase': <tf.Tensor: shape=(85981,), dtype=int64, numpy=array([0, 0, 0, ..., 1, 0, 0])>,\n",
              "   'vine': <tf.Tensor: shape=(85981,), dtype=int64, numpy=array([1, 1, 1, ..., 1, 1, 1])>}}}"
            ]
          },
          "metadata": {
            "tags": []
          },
          "execution_count": 22
        }
      ]
    },
    {
      "cell_type": "code",
      "metadata": {
        "id": "g5cPjlWcxeQi"
      },
      "source": [
        "dataset=tfds.as_numpy(train_dataset)"
      ],
      "execution_count": 23,
      "outputs": []
    },
    {
      "cell_type": "code",
      "metadata": {
        "colab": {
          "base_uri": "https://localhost:8080/"
        },
        "id": "gtf-gM-9yC-5",
        "outputId": "4b71bd50-62c7-4918-e89d-f50fa5570b0f"
      },
      "source": [
        "\n",
        "dataset"
      ],
      "execution_count": 24,
      "outputs": [
        {
          "output_type": "execute_result",
          "data": {
            "text/plain": [
              "{'data': {'customer_id': array([b'13986323', b'50574716', b'50593972', ..., b'40719682',\n",
              "         b'35596948', b'29430209'], dtype=object),\n",
              "  'helpful_votes': array([0, 3, 0, ..., 0, 0, 0], dtype=int32),\n",
              "  'marketplace': array([b'US', b'US', b'US', ..., b'US', b'US', b'US'], dtype=object),\n",
              "  'product_category': array([b'Personal_Care_Appliances', b'Personal_Care_Appliances',\n",
              "         b'Personal_Care_Appliances', ..., b'Personal_Care_Appliances',\n",
              "         b'Personal_Care_Appliances', b'Personal_Care_Appliances'],\n",
              "        dtype=object),\n",
              "  'product_id': array([b'B00847JQZ6', b'B00N5HD340', b'B0077L1X24', ..., b'B000UZ8X2W',\n",
              "         b'B000NURPPK', b'B001EY5GNW'], dtype=object),\n",
              "  'product_parent': array([b'997683625', b'955577225', b'120764066', ..., b'96066145',\n",
              "         b'58591097', b'986877728'], dtype=object),\n",
              "  'product_title': array([b'SE - Reading Glass - Spring Loaded Hinges, 4.0x - RTS62400',\n",
              "         b'Straight Razor',\n",
              "         b'Philips Sonicare Flexcare & Healthy White Plastic Travel Handle Case New Bulk Package',\n",
              "         ...,\n",
              "         b'Remington R-9200 Microflex Ultra TCT Shaver [Health and Beauty]',\n",
              "         b'SUNBEAM Cool Mist HUMIDIFIER with PermaFilter # 1120 \\xe2\\x80\\x93 1 Ea',\n",
              "         b'Andis Blade Set for T-Outliner Trimmer'], dtype=object),\n",
              "  'review_body': array([b\"These glasses are an excellent value.  The fit is good and they are very comfortable.  Because of my legal blindness, there aren't a lot of options to try to see better, but I believe these help with my other visual aids, and because they are reasonably priced I can have more than one pair available.\",\n",
              "         b\"Always wanted to try straight razor shaving (as a DE safety razor user), and this was a cheap way for me to determine I was not into it.<br /><br />Because the blades are disposable and always sharp, I could put a new one in and reasonably rely upon that fact that cuts were probably due to my technique and not the blade.<br /><br />It's very hard to do straight razor shaving on yourself because the ANGLE is difficult to control without switching hands. Being very right-handed, I really couldn't do that. I bet I could shave someone else's face with it though.<br /><br />An immediate upside? Using a DE safety razor (slant edged even) seems SUPER safe now! I'm increased my speed with the DE due to that confidence, and I'd been using it for years now.\",\n",
              "         b'I usually either throw my toothbrush in a plastic bag with spare head so this product is very convenient for keeping all the parts apart, dry and undamaged, and i now keep it in my travel bag all the time ready to go.',\n",
              "         ...,\n",
              "         b\"I have had a Remington before but needed a new one when the batteries died and the cutters were all but gone.  It was cheaper to buy a new one.  The new one has a nice charge level but the trimmer didn't work when I got it.\",\n",
              "         b\"I was surprised that it really didn't do much compared to the 1950s version that I'd inherited. Keeping a wet wash cloth next to my bed for when I start coughing in the middle of the night works better.\",\n",
              "         b'The blades were an excellent fit for my T-line trimmers.  Within five minutes I had my trimmers cleaned, the blades installed, and was putting them to use.  I saw the blades in several locations for almost twice the price I paid, so this worked out to be an awesome deal.'],\n",
              "        dtype=object),\n",
              "  'review_date': array([b'2015-01-04', b'2015-08-05', b'2012-11-17', ..., b'2008-02-08',\n",
              "         b'2007-09-07', b'2012-07-26'], dtype=object),\n",
              "  'review_headline': array([b'These glasses are an excellent value. The fit is good and they are ...',\n",
              "         b'A fantastic way to cheaply try straight razor shaving.',\n",
              "         b'Great for travel', ..., b'Trimmer Not Working',\n",
              "         b'Loud and ineffectual', b'Excellent product, awesomoe price'],\n",
              "        dtype=object),\n",
              "  'review_id': array([b'R3VEUFVA9QJY55', b'R2DTQV5SMJ0CK7', b'R3OJ06NK99WLNJ', ...,\n",
              "         b'R1ZQ0XZXOD9N18', b'R1FJ9OU429X00Y', b'RI28R1W94N1R6'],\n",
              "        dtype=object),\n",
              "  'star_rating': array([4, 5, 4, ..., 3, 2, 5], dtype=int32),\n",
              "  'total_votes': array([0, 3, 0, ..., 0, 0, 0], dtype=int32),\n",
              "  'verified_purchase': array([0, 0, 0, ..., 1, 0, 0]),\n",
              "  'vine': array([1, 1, 1, ..., 1, 1, 1])}}"
            ]
          },
          "metadata": {
            "tags": []
          },
          "execution_count": 24
        }
      ]
    },
    {
      "cell_type": "code",
      "metadata": {
        "id": "kjbyIvZAyF3B"
      },
      "source": [
        "helpful_votes=dataset['data']['helpful_votes']\n",
        "review_headline=dataset['data']['review_headline']\n",
        "review_body=dataset['data']['review_body']\n",
        "rating=dataset['data']['star_rating']"
      ],
      "execution_count": 25,
      "outputs": []
    },
    {
      "cell_type": "code",
      "metadata": {
        "colab": {
          "base_uri": "https://localhost:8080/"
        },
        "id": "mbY9Rjew9rnK",
        "outputId": "20218008-b299-4643-9b14-a96a393f45c3"
      },
      "source": [
        "# H2o dataframe is similar to pandas data frame\n",
        "\n",
        "h2o_df=h2o.H2OFrame(np.hstack((helpful_votes[:,None],review_headline[:,None],review_body[:,None],rating[:,None])),column_names=['votes','headline','reviews','rating'],column_types=['numeric','string','string','numeric'])"
      ],
      "execution_count": 26,
      "outputs": [
        {
          "output_type": "stream",
          "text": [
            "Parse progress: |█████████████████████████████████████████████████████████| 100%\n"
          ],
          "name": "stdout"
        }
      ]
    },
    {
      "cell_type": "code",
      "metadata": {
        "colab": {
          "base_uri": "https://localhost:8080/",
          "height": 947
        },
        "id": "gXf2-lKm9ztm",
        "outputId": "b2a2bae3-8bb2-4efd-d346-da69f72c1b2d"
      },
      "source": [
        "h2o_df"
      ],
      "execution_count": 27,
      "outputs": [
        {
          "output_type": "display_data",
          "data": {
            "text/html": [
              "<table>\n",
              "<thead>\n",
              "<tr><th style=\"text-align: right;\">  votes</th><th>headline                                                                 </th><th>reviews                                                                                                                                                                                                                                                                                                                                                                                                                                                                                                                                                                                                                                                                                                                                                                                                                                                                                                                                                                                                                                                                                                                           </th><th style=\"text-align: right;\">  rating</th></tr>\n",
              "</thead>\n",
              "<tbody>\n",
              "<tr><td style=\"text-align: right;\">      0</td><td>b&#x27;These glasses are an excellent value. The fit is good and they are ...&#x27;</td><td>b&quot;These glasses are an excellent value.  The fit is good and they are very comfortable.  Because of my legal blindness, there aren&#x27;t a lot of options to try to see better, but I believe these help with my other visual aids, and because they are reasonably priced I can have more than one pair available.&quot;                                                                                                                                                                                                                                                                                                                                                                                                                                                                                                                                                                                                                                                                                                                                                                                                                  </td><td style=\"text-align: right;\">       4</td></tr>\n",
              "<tr><td style=\"text-align: right;\">      3</td><td>b&#x27;A fantastic way to cheaply try straight razor shaving.&#x27;                </td><td>b&quot;Always wanted to try straight razor shaving (as a DE safety razor user), and this was a cheap way for me to determine I was not into it.&lt;br /&gt;&lt;br /&gt;Because the blades are disposable and always sharp, I could put a new one in and reasonably rely upon that fact that cuts were probably due to my technique and not the blade.&lt;br /&gt;&lt;br /&gt;It&#x27;s very hard to do straight razor shaving on yourself because the ANGLE is difficult to control without switching hands. Being very right-handed, I really couldn&#x27;t do that. I bet I could shave someone else&#x27;s face with it though.&lt;br /&gt;&lt;br /&gt;An immediate upside? Using a DE safety razor (slant edged even) seems SUPER safe now! I&#x27;m increased my speed with the DE due to that confidence, and I&#x27;d been using it for years now.&quot;                                                                                                                                                                                                                                                                                                                                          </td><td style=\"text-align: right;\">       5</td></tr>\n",
              "<tr><td style=\"text-align: right;\">      0</td><td>b&#x27;Great for travel&#x27;                                                      </td><td>b&#x27;I usually either throw my toothbrush in a plastic bag with spare head so this product is very convenient for keeping all the parts apart, dry and undamaged, and i now keep it in my travel bag all the time ready to go.&#x27;                                                                                                                                                                                                                                                                                                                                                                                                                                                                                                                                                                                                                                                                                                                                                                                                                                                                                                      </td><td style=\"text-align: right;\">       4</td></tr>\n",
              "<tr><td style=\"text-align: right;\">      0</td><td>b&#x27;Five Stars&#x27;                                                            </td><td>b&#x27;Top quality.&#x27;                                                                                                                                                                                                                                                                                                                                                                                                                                                                                                                                                                                                                                                                                                                                                                                                                                                                                                                                                                                                                                                                                                                   </td><td style=\"text-align: right;\">       5</td></tr>\n",
              "<tr><td style=\"text-align: right;\">      1</td><td>b&#x27;*Product sent not as shown&#x27;                                            </td><td>b&#x27;Today I received  1 Fl. Oz, Natures Balance AlkaMAX alkaline booster liquid unflavored (formally TriMedica) a glass brown bottle with eye dropper.&lt;br /&gt;Supplement Facts; Serving Size: 10 Drops (Approx. 0.5 mL). Servings per Container: Approx. 60&lt;br /&gt;Amount Per Serving % Daily Value&lt;br /&gt;Magnesium (as Magnesium Chloride) 40 mg 10%&lt;br /&gt;Chloride (as Magnesium Chloride) 64 mg 2%&lt;br /&gt;Other Ingredients: Deionized water and trace mineral complex.&lt;br /&gt;Directions: Add 10 drops to 8 oz. of water or other beverage daily as needed or as directed by your health care practitioner. Store in a cool, dry place.&lt;br /&gt;&lt;br /&gt;I have not used product as of yet with changed ingredients of original/as shown in AlkaMax alkaline support white squeeze bottle.&lt;br /&gt;but had to rate to post...heck this new may be better for all I know.&#x27;                                                                                                                                                                                                                                                                          </td><td style=\"text-align: right;\">       3</td></tr>\n",
              "<tr><td style=\"text-align: right;\">      6</td><td>b&#x27;Seems to work well!&#x27;                                                   </td><td>b&#x27;I recently picked this unit up at Bed and Bath where it was $99.00. With a 20% coupon the price was $80 (so comparison shop!) It\\&#x27;s easy to use and seems to work well. I agree with other reviewers about the noise level (loud like a tea kettle boiling), but I use this unit in the living room area so sleeping is not an issue. Having the 2 separate water reservoirs to fill is much easier, weight-wise, as I previously had another humidifier which had one large water reservoir and it was very heavy when full. The unit comes apart quite easily for cleaning and since frequent cleaning is recommended (I usually do it 1x per week, not daily) this is a definite plus. Additionally, one only needs to use vinegar to clean the inside reservoir, which is a lot cheaper than having to buy some kind of \\\\\\\\&quot;special\\\\\\\\&quot; cleaning solution. My one complaint is that it doesn\\&#x27;t, but should, have an automatic shut off when both tanks are empty.I have to remember to turn the unit off when I leave the house. My previous humidifiers all had this auto turn off; seems like every humidifier should.&#x27;</td><td style=\"text-align: right;\">       4</td></tr>\n",
              "<tr><td style=\"text-align: right;\">      8</td><td>b&#x27;deep heat?????&#x27;                                                        </td><td>b&#x27;Not sure what previous reviewer was talking about. The product uses ULTRASOUND waves for pain relief NOT heat.  After repeated use, the pain in my knee and shoulder was feeling great. I think you should re-read the description and reconsider your opinion. Great product sold by a great company.&#x27;                                                                                                                                                                                                                                                                                                                                                                                                                                                                                                                                                                                                                                                                                                                                                                                                                         </td><td style=\"text-align: right;\">       5</td></tr>\n",
              "<tr><td style=\"text-align: right;\">      2</td><td>b&#x27;Thermometer for a toddler&#x27;                                             </td><td>b&quot;The shippers were great....willing to consider speedier shipping options, but in the end the standard shipping arrived quickly enough. The thermometer is fun and easy to use, but with an inquisitive toddler, it would be nice to have the plastic cap attached to the body so that it doesn&#x27;t disappear.  Would buy it again from these sellers.&quot;                                                                                                                                                                                                                                                                                                                                                                                                                                                                                                                                                                                                                                                                                                                                                                            </td><td style=\"text-align: right;\">       4</td></tr>\n",
              "<tr><td style=\"text-align: right;\">      2</td><td>b&#x27;Wow!&#x27;                                                                  </td><td>b&quot;Man, for all you who know what I&#x27;m talking about, this is the best thing I&#x27;ve ever had on my back.  I suffer from back pain constantly and find myself waking up in the middle of the night pushing parts of my back and neck on the edges of walls on the corners of doors and sometimes lying down on tennis or racket balls to get pressure on those dang trigger points.  I opted for the body sticks package not knowing what they would do and it was a good thing.  They are like have racket balls on the ends of sticks to beat your muscle spasms and to lie down on them rolling around on your back. It is worth the money.  They use a device similar to this in physical therapy so if you get your doctor to write you a script for it, insurance may very well pay for it like mine did.  Even so, paid or not, buy this sucker.  Buy two, I thought, just in case it breaks and they for some reason stop manufacturing this thing.  Good stuff.&quot;                                                                                                                                                              </td><td style=\"text-align: right;\">       5</td></tr>\n",
              "<tr><td style=\"text-align: right;\">      1</td><td>b&#x27;Great cane for people with hand and wrist issues&#x27;                      </td><td>b&quot;I purchased this cane to assist me when I have to walk long distances.  I have rheumatoid arthritis that has particularly affected my low back and hips, and it sometimes makes walking difficult.  The problem with using a cane when you have RA is that RA doesn&#x27;t just affect your lower extremities.  My hands, wrists, and shoulders are also affected.  When I tried a normal cane, it was agonizingly painful for my hand and wrist in particular.  That made it not worth using, even though it did help my hip and back.  A friend with similar issues recommended this one, and the difference was amazing.  It is still a bit hard on my hand after awhile, but not to the point that would make it not worth using.  There really is no perfect solution for this circumstance short of a wheelchair, and I&#x27;m nowhere near ready for that yet!  The forearm rest makes it bearable to use this cane, and it does really help me to walk longer distances when I need to!  It is a great product, and I&#x27;m happy that I purchased it!&quot;                                                                               </td><td style=\"text-align: right;\">       4</td></tr>\n",
              "</tbody>\n",
              "</table>"
            ]
          },
          "metadata": {
            "tags": []
          }
        },
        {
          "output_type": "execute_result",
          "data": {
            "text/plain": [
              ""
            ]
          },
          "metadata": {
            "tags": []
          },
          "execution_count": 27
        }
      ]
    },
    {
      "cell_type": "code",
      "metadata": {
        "id": "CtVrG-D4JKox"
      },
      "source": [
        "h2o_df[\"target\"] = (h2o_df[\"rating\"] >= 4).ifelse(\"1\", \"0\")"
      ],
      "execution_count": 28,
      "outputs": []
    },
    {
      "cell_type": "code",
      "metadata": {
        "colab": {
          "base_uri": "https://localhost:8080/",
          "height": 981
        },
        "id": "F99TYnybJisd",
        "outputId": "133956a1-58d4-4a8f-9966-7f0a21e6e7eb"
      },
      "source": [
        "h2o_df"
      ],
      "execution_count": 29,
      "outputs": [
        {
          "output_type": "display_data",
          "data": {
            "text/html": [
              "<table>\n",
              "<thead>\n",
              "<tr><th style=\"text-align: right;\">  votes</th><th>headline                                                                 </th><th>reviews                                                                                                                                                                                                                                                                                                                                                                                                                                                                                                                                                                                                                                                                                                                                                                                                                                                                                                                                                                                                                                                                                                                           </th><th style=\"text-align: right;\">  rating</th><th style=\"text-align: right;\">  target</th></tr>\n",
              "</thead>\n",
              "<tbody>\n",
              "<tr><td style=\"text-align: right;\">      0</td><td>b&#x27;These glasses are an excellent value. The fit is good and they are ...&#x27;</td><td>b&quot;These glasses are an excellent value.  The fit is good and they are very comfortable.  Because of my legal blindness, there aren&#x27;t a lot of options to try to see better, but I believe these help with my other visual aids, and because they are reasonably priced I can have more than one pair available.&quot;                                                                                                                                                                                                                                                                                                                                                                                                                                                                                                                                                                                                                                                                                                                                                                                                                  </td><td style=\"text-align: right;\">       4</td><td style=\"text-align: right;\">       1</td></tr>\n",
              "<tr><td style=\"text-align: right;\">      3</td><td>b&#x27;A fantastic way to cheaply try straight razor shaving.&#x27;                </td><td>b&quot;Always wanted to try straight razor shaving (as a DE safety razor user), and this was a cheap way for me to determine I was not into it.&lt;br /&gt;&lt;br /&gt;Because the blades are disposable and always sharp, I could put a new one in and reasonably rely upon that fact that cuts were probably due to my technique and not the blade.&lt;br /&gt;&lt;br /&gt;It&#x27;s very hard to do straight razor shaving on yourself because the ANGLE is difficult to control without switching hands. Being very right-handed, I really couldn&#x27;t do that. I bet I could shave someone else&#x27;s face with it though.&lt;br /&gt;&lt;br /&gt;An immediate upside? Using a DE safety razor (slant edged even) seems SUPER safe now! I&#x27;m increased my speed with the DE due to that confidence, and I&#x27;d been using it for years now.&quot;                                                                                                                                                                                                                                                                                                                                          </td><td style=\"text-align: right;\">       5</td><td style=\"text-align: right;\">       1</td></tr>\n",
              "<tr><td style=\"text-align: right;\">      0</td><td>b&#x27;Great for travel&#x27;                                                      </td><td>b&#x27;I usually either throw my toothbrush in a plastic bag with spare head so this product is very convenient for keeping all the parts apart, dry and undamaged, and i now keep it in my travel bag all the time ready to go.&#x27;                                                                                                                                                                                                                                                                                                                                                                                                                                                                                                                                                                                                                                                                                                                                                                                                                                                                                                      </td><td style=\"text-align: right;\">       4</td><td style=\"text-align: right;\">       1</td></tr>\n",
              "<tr><td style=\"text-align: right;\">      0</td><td>b&#x27;Five Stars&#x27;                                                            </td><td>b&#x27;Top quality.&#x27;                                                                                                                                                                                                                                                                                                                                                                                                                                                                                                                                                                                                                                                                                                                                                                                                                                                                                                                                                                                                                                                                                                                   </td><td style=\"text-align: right;\">       5</td><td style=\"text-align: right;\">       1</td></tr>\n",
              "<tr><td style=\"text-align: right;\">      1</td><td>b&#x27;*Product sent not as shown&#x27;                                            </td><td>b&#x27;Today I received  1 Fl. Oz, Natures Balance AlkaMAX alkaline booster liquid unflavored (formally TriMedica) a glass brown bottle with eye dropper.&lt;br /&gt;Supplement Facts; Serving Size: 10 Drops (Approx. 0.5 mL). Servings per Container: Approx. 60&lt;br /&gt;Amount Per Serving % Daily Value&lt;br /&gt;Magnesium (as Magnesium Chloride) 40 mg 10%&lt;br /&gt;Chloride (as Magnesium Chloride) 64 mg 2%&lt;br /&gt;Other Ingredients: Deionized water and trace mineral complex.&lt;br /&gt;Directions: Add 10 drops to 8 oz. of water or other beverage daily as needed or as directed by your health care practitioner. Store in a cool, dry place.&lt;br /&gt;&lt;br /&gt;I have not used product as of yet with changed ingredients of original/as shown in AlkaMax alkaline support white squeeze bottle.&lt;br /&gt;but had to rate to post...heck this new may be better for all I know.&#x27;                                                                                                                                                                                                                                                                          </td><td style=\"text-align: right;\">       3</td><td style=\"text-align: right;\">       0</td></tr>\n",
              "<tr><td style=\"text-align: right;\">      6</td><td>b&#x27;Seems to work well!&#x27;                                                   </td><td>b&#x27;I recently picked this unit up at Bed and Bath where it was $99.00. With a 20% coupon the price was $80 (so comparison shop!) It\\&#x27;s easy to use and seems to work well. I agree with other reviewers about the noise level (loud like a tea kettle boiling), but I use this unit in the living room area so sleeping is not an issue. Having the 2 separate water reservoirs to fill is much easier, weight-wise, as I previously had another humidifier which had one large water reservoir and it was very heavy when full. The unit comes apart quite easily for cleaning and since frequent cleaning is recommended (I usually do it 1x per week, not daily) this is a definite plus. Additionally, one only needs to use vinegar to clean the inside reservoir, which is a lot cheaper than having to buy some kind of \\\\\\\\&quot;special\\\\\\\\&quot; cleaning solution. My one complaint is that it doesn\\&#x27;t, but should, have an automatic shut off when both tanks are empty.I have to remember to turn the unit off when I leave the house. My previous humidifiers all had this auto turn off; seems like every humidifier should.&#x27;</td><td style=\"text-align: right;\">       4</td><td style=\"text-align: right;\">       1</td></tr>\n",
              "<tr><td style=\"text-align: right;\">      8</td><td>b&#x27;deep heat?????&#x27;                                                        </td><td>b&#x27;Not sure what previous reviewer was talking about. The product uses ULTRASOUND waves for pain relief NOT heat.  After repeated use, the pain in my knee and shoulder was feeling great. I think you should re-read the description and reconsider your opinion. Great product sold by a great company.&#x27;                                                                                                                                                                                                                                                                                                                                                                                                                                                                                                                                                                                                                                                                                                                                                                                                                         </td><td style=\"text-align: right;\">       5</td><td style=\"text-align: right;\">       1</td></tr>\n",
              "<tr><td style=\"text-align: right;\">      2</td><td>b&#x27;Thermometer for a toddler&#x27;                                             </td><td>b&quot;The shippers were great....willing to consider speedier shipping options, but in the end the standard shipping arrived quickly enough. The thermometer is fun and easy to use, but with an inquisitive toddler, it would be nice to have the plastic cap attached to the body so that it doesn&#x27;t disappear.  Would buy it again from these sellers.&quot;                                                                                                                                                                                                                                                                                                                                                                                                                                                                                                                                                                                                                                                                                                                                                                            </td><td style=\"text-align: right;\">       4</td><td style=\"text-align: right;\">       1</td></tr>\n",
              "<tr><td style=\"text-align: right;\">      2</td><td>b&#x27;Wow!&#x27;                                                                  </td><td>b&quot;Man, for all you who know what I&#x27;m talking about, this is the best thing I&#x27;ve ever had on my back.  I suffer from back pain constantly and find myself waking up in the middle of the night pushing parts of my back and neck on the edges of walls on the corners of doors and sometimes lying down on tennis or racket balls to get pressure on those dang trigger points.  I opted for the body sticks package not knowing what they would do and it was a good thing.  They are like have racket balls on the ends of sticks to beat your muscle spasms and to lie down on them rolling around on your back. It is worth the money.  They use a device similar to this in physical therapy so if you get your doctor to write you a script for it, insurance may very well pay for it like mine did.  Even so, paid or not, buy this sucker.  Buy two, I thought, just in case it breaks and they for some reason stop manufacturing this thing.  Good stuff.&quot;                                                                                                                                                              </td><td style=\"text-align: right;\">       5</td><td style=\"text-align: right;\">       1</td></tr>\n",
              "<tr><td style=\"text-align: right;\">      1</td><td>b&#x27;Great cane for people with hand and wrist issues&#x27;                      </td><td>b&quot;I purchased this cane to assist me when I have to walk long distances.  I have rheumatoid arthritis that has particularly affected my low back and hips, and it sometimes makes walking difficult.  The problem with using a cane when you have RA is that RA doesn&#x27;t just affect your lower extremities.  My hands, wrists, and shoulders are also affected.  When I tried a normal cane, it was agonizingly painful for my hand and wrist in particular.  That made it not worth using, even though it did help my hip and back.  A friend with similar issues recommended this one, and the difference was amazing.  It is still a bit hard on my hand after awhile, but not to the point that would make it not worth using.  There really is no perfect solution for this circumstance short of a wheelchair, and I&#x27;m nowhere near ready for that yet!  The forearm rest makes it bearable to use this cane, and it does really help me to walk longer distances when I need to!  It is a great product, and I&#x27;m happy that I purchased it!&quot;                                                                               </td><td style=\"text-align: right;\">       4</td><td style=\"text-align: right;\">       1</td></tr>\n",
              "</tbody>\n",
              "</table>"
            ]
          },
          "metadata": {
            "tags": []
          }
        },
        {
          "output_type": "execute_result",
          "data": {
            "text/plain": [
              ""
            ]
          },
          "metadata": {
            "tags": []
          },
          "execution_count": 29
        }
      ]
    },
    {
      "cell_type": "code",
      "metadata": {
        "colab": {
          "base_uri": "https://localhost:8080/"
        },
        "id": "_4Ao5aW_JluV",
        "outputId": "f51c629e-32c4-44fd-f0fa-5bacf1aa540b"
      },
      "source": [
        "h2o_df.shape[0]"
      ],
      "execution_count": 30,
      "outputs": [
        {
          "output_type": "execute_result",
          "data": {
            "text/plain": [
              "85981"
            ]
          },
          "metadata": {
            "tags": []
          },
          "execution_count": 30
        }
      ]
    },
    {
      "cell_type": "code",
      "metadata": {
        "colab": {
          "base_uri": "https://localhost:8080/",
          "height": 82
        },
        "id": "UXB4yyUlJp_o",
        "outputId": "66f2b34a-caec-49b9-847c-2e2dc1d36754"
      },
      "source": [
        "h2o_df[\"target\"].table()"
      ],
      "execution_count": 31,
      "outputs": [
        {
          "output_type": "display_data",
          "data": {
            "text/html": [
              "<table>\n",
              "<thead>\n",
              "<tr><th style=\"text-align: right;\">  target</th><th style=\"text-align: right;\">  Count</th></tr>\n",
              "</thead>\n",
              "<tbody>\n",
              "<tr><td style=\"text-align: right;\">       0</td><td style=\"text-align: right;\">  23427</td></tr>\n",
              "<tr><td style=\"text-align: right;\">       1</td><td style=\"text-align: right;\">  62554</td></tr>\n",
              "</tbody>\n",
              "</table>"
            ]
          },
          "metadata": {
            "tags": []
          }
        },
        {
          "output_type": "execute_result",
          "data": {
            "text/plain": [
              ""
            ]
          },
          "metadata": {
            "tags": []
          },
          "execution_count": 31
        }
      ]
    },
    {
      "cell_type": "code",
      "metadata": {
        "colab": {
          "base_uri": "https://localhost:8080/",
          "height": 1000
        },
        "id": "-ihcZ2oyLlZf",
        "outputId": "0e5ecb4e-969c-4dad-8e87-ed03b224f09c"
      },
      "source": [
        "h2o_df.describe()"
      ],
      "execution_count": 32,
      "outputs": [
        {
          "output_type": "stream",
          "text": [
            "Rows:85981\n",
            "Cols:5\n",
            "\n",
            "\n"
          ],
          "name": "stdout"
        },
        {
          "output_type": "display_data",
          "data": {
            "text/html": [
              "<table>\n",
              "<thead>\n",
              "<tr><th>       </th><th>votes             </th><th>headline                                                                 </th><th>reviews                                                                                                                                                                                                                                                                                                                                                                                                                                                                                                                                                                                                                                                                                                                                                                                                                                                                                                                                                                                                                                                                                                                           </th><th>rating           </th><th>target  </th></tr>\n",
              "</thead>\n",
              "<tbody>\n",
              "<tr><td>type   </td><td>int               </td><td>string                                                                   </td><td>string                                                                                                                                                                                                                                                                                                                                                                                                                                                                                                                                                                                                                                                                                                                                                                                                                                                                                                                                                                                                                                                                                                                            </td><td>int              </td><td>enum    </td></tr>\n",
              "<tr><td>mins   </td><td>0.0               </td><td>NaN                                                                      </td><td>NaN                                                                                                                                                                                                                                                                                                                                                                                                                                                                                                                                                                                                                                                                                                                                                                                                                                                                                                                                                                                                                                                                                                                               </td><td>1.0              </td><td>        </td></tr>\n",
              "<tr><td>mean   </td><td>3.3494841883672   </td><td>NaN                                                                      </td><td>NaN                                                                                                                                                                                                                                                                                                                                                                                                                                                                                                                                                                                                                                                                                                                                                                                                                                                                                                                                                                                                                                                                                                                               </td><td>3.977401984159291</td><td>        </td></tr>\n",
              "<tr><td>maxs   </td><td>2785.0            </td><td>NaN                                                                      </td><td>NaN                                                                                                                                                                                                                                                                                                                                                                                                                                                                                                                                                                                                                                                                                                                                                                                                                                                                                                                                                                                                                                                                                                                               </td><td>5.0              </td><td>        </td></tr>\n",
              "<tr><td>sigma  </td><td>19.483167220712946</td><td>NaN                                                                      </td><td>NaN                                                                                                                                                                                                                                                                                                                                                                                                                                                                                                                                                                                                                                                                                                                                                                                                                                                                                                                                                                                                                                                                                                                               </td><td>1.433130291971473</td><td>        </td></tr>\n",
              "<tr><td>zeros  </td><td>44555             </td><td>0                                                                        </td><td>0                                                                                                                                                                                                                                                                                                                                                                                                                                                                                                                                                                                                                                                                                                                                                                                                                                                                                                                                                                                                                                                                                                                                 </td><td>0                </td><td>        </td></tr>\n",
              "<tr><td>missing</td><td>0                 </td><td>0                                                                        </td><td>0                                                                                                                                                                                                                                                                                                                                                                                                                                                                                                                                                                                                                                                                                                                                                                                                                                                                                                                                                                                                                                                                                                                                 </td><td>0                </td><td>0       </td></tr>\n",
              "<tr><td>0      </td><td>0.0               </td><td>b&#x27;These glasses are an excellent value. The fit is good and they are ...&#x27;</td><td>b&quot;These glasses are an excellent value.  The fit is good and they are very comfortable.  Because of my legal blindness, there aren&#x27;t a lot of options to try to see better, but I believe these help with my other visual aids, and because they are reasonably priced I can have more than one pair available.&quot;                                                                                                                                                                                                                                                                                                                                                                                                                                                                                                                                                                                                                                                                                                                                                                                                                  </td><td>4.0              </td><td>1       </td></tr>\n",
              "<tr><td>1      </td><td>3.0               </td><td>b&#x27;A fantastic way to cheaply try straight razor shaving.&#x27;                </td><td>b&quot;Always wanted to try straight razor shaving (as a DE safety razor user), and this was a cheap way for me to determine I was not into it.&lt;br /&gt;&lt;br /&gt;Because the blades are disposable and always sharp, I could put a new one in and reasonably rely upon that fact that cuts were probably due to my technique and not the blade.&lt;br /&gt;&lt;br /&gt;It&#x27;s very hard to do straight razor shaving on yourself because the ANGLE is difficult to control without switching hands. Being very right-handed, I really couldn&#x27;t do that. I bet I could shave someone else&#x27;s face with it though.&lt;br /&gt;&lt;br /&gt;An immediate upside? Using a DE safety razor (slant edged even) seems SUPER safe now! I&#x27;m increased my speed with the DE due to that confidence, and I&#x27;d been using it for years now.&quot;                                                                                                                                                                                                                                                                                                                                          </td><td>5.0              </td><td>1       </td></tr>\n",
              "<tr><td>2      </td><td>0.0               </td><td>b&#x27;Great for travel&#x27;                                                      </td><td>b&#x27;I usually either throw my toothbrush in a plastic bag with spare head so this product is very convenient for keeping all the parts apart, dry and undamaged, and i now keep it in my travel bag all the time ready to go.&#x27;                                                                                                                                                                                                                                                                                                                                                                                                                                                                                                                                                                                                                                                                                                                                                                                                                                                                                                      </td><td>4.0              </td><td>1       </td></tr>\n",
              "<tr><td>3      </td><td>0.0               </td><td>b&#x27;Five Stars&#x27;                                                            </td><td>b&#x27;Top quality.&#x27;                                                                                                                                                                                                                                                                                                                                                                                                                                                                                                                                                                                                                                                                                                                                                                                                                                                                                                                                                                                                                                                                                                                   </td><td>5.0              </td><td>1       </td></tr>\n",
              "<tr><td>4      </td><td>1.0               </td><td>b&#x27;*Product sent not as shown&#x27;                                            </td><td>b&#x27;Today I received  1 Fl. Oz, Natures Balance AlkaMAX alkaline booster liquid unflavored (formally TriMedica) a glass brown bottle with eye dropper.&lt;br /&gt;Supplement Facts; Serving Size: 10 Drops (Approx. 0.5 mL). Servings per Container: Approx. 60&lt;br /&gt;Amount Per Serving % Daily Value&lt;br /&gt;Magnesium (as Magnesium Chloride) 40 mg 10%&lt;br /&gt;Chloride (as Magnesium Chloride) 64 mg 2%&lt;br /&gt;Other Ingredients: Deionized water and trace mineral complex.&lt;br /&gt;Directions: Add 10 drops to 8 oz. of water or other beverage daily as needed or as directed by your health care practitioner. Store in a cool, dry place.&lt;br /&gt;&lt;br /&gt;I have not used product as of yet with changed ingredients of original/as shown in AlkaMax alkaline support white squeeze bottle.&lt;br /&gt;but had to rate to post...heck this new may be better for all I know.&#x27;                                                                                                                                                                                                                                                                          </td><td>3.0              </td><td>0       </td></tr>\n",
              "<tr><td>5      </td><td>6.0               </td><td>b&#x27;Seems to work well!&#x27;                                                   </td><td>b&#x27;I recently picked this unit up at Bed and Bath where it was $99.00. With a 20% coupon the price was $80 (so comparison shop!) It\\&#x27;s easy to use and seems to work well. I agree with other reviewers about the noise level (loud like a tea kettle boiling), but I use this unit in the living room area so sleeping is not an issue. Having the 2 separate water reservoirs to fill is much easier, weight-wise, as I previously had another humidifier which had one large water reservoir and it was very heavy when full. The unit comes apart quite easily for cleaning and since frequent cleaning is recommended (I usually do it 1x per week, not daily) this is a definite plus. Additionally, one only needs to use vinegar to clean the inside reservoir, which is a lot cheaper than having to buy some kind of \\\\\\\\&quot;special\\\\\\\\&quot; cleaning solution. My one complaint is that it doesn\\&#x27;t, but should, have an automatic shut off when both tanks are empty.I have to remember to turn the unit off when I leave the house. My previous humidifiers all had this auto turn off; seems like every humidifier should.&#x27;</td><td>4.0              </td><td>1       </td></tr>\n",
              "<tr><td>6      </td><td>8.0               </td><td>b&#x27;deep heat?????&#x27;                                                        </td><td>b&#x27;Not sure what previous reviewer was talking about. The product uses ULTRASOUND waves for pain relief NOT heat.  After repeated use, the pain in my knee and shoulder was feeling great. I think you should re-read the description and reconsider your opinion. Great product sold by a great company.&#x27;                                                                                                                                                                                                                                                                                                                                                                                                                                                                                                                                                                                                                                                                                                                                                                                                                         </td><td>5.0              </td><td>1       </td></tr>\n",
              "<tr><td>7      </td><td>2.0               </td><td>b&#x27;Thermometer for a toddler&#x27;                                             </td><td>b&quot;The shippers were great....willing to consider speedier shipping options, but in the end the standard shipping arrived quickly enough. The thermometer is fun and easy to use, but with an inquisitive toddler, it would be nice to have the plastic cap attached to the body so that it doesn&#x27;t disappear.  Would buy it again from these sellers.&quot;                                                                                                                                                                                                                                                                                                                                                                                                                                                                                                                                                                                                                                                                                                                                                                            </td><td>4.0              </td><td>1       </td></tr>\n",
              "<tr><td>8      </td><td>2.0               </td><td>b&#x27;Wow!&#x27;                                                                  </td><td>b&quot;Man, for all you who know what I&#x27;m talking about, this is the best thing I&#x27;ve ever had on my back.  I suffer from back pain constantly and find myself waking up in the middle of the night pushing parts of my back and neck on the edges of walls on the corners of doors and sometimes lying down on tennis or racket balls to get pressure on those dang trigger points.  I opted for the body sticks package not knowing what they would do and it was a good thing.  They are like have racket balls on the ends of sticks to beat your muscle spasms and to lie down on them rolling around on your back. It is worth the money.  They use a device similar to this in physical therapy so if you get your doctor to write you a script for it, insurance may very well pay for it like mine did.  Even so, paid or not, buy this sucker.  Buy two, I thought, just in case it breaks and they for some reason stop manufacturing this thing.  Good stuff.&quot;                                                                                                                                                              </td><td>5.0              </td><td>1       </td></tr>\n",
              "<tr><td>9      </td><td>1.0               </td><td>b&#x27;Great cane for people with hand and wrist issues&#x27;                      </td><td>b&quot;I purchased this cane to assist me when I have to walk long distances.  I have rheumatoid arthritis that has particularly affected my low back and hips, and it sometimes makes walking difficult.  The problem with using a cane when you have RA is that RA doesn&#x27;t just affect your lower extremities.  My hands, wrists, and shoulders are also affected.  When I tried a normal cane, it was agonizingly painful for my hand and wrist in particular.  That made it not worth using, even though it did help my hip and back.  A friend with similar issues recommended this one, and the difference was amazing.  It is still a bit hard on my hand after awhile, but not to the point that would make it not worth using.  There really is no perfect solution for this circumstance short of a wheelchair, and I&#x27;m nowhere near ready for that yet!  The forearm rest makes it bearable to use this cane, and it does really help me to walk longer distances when I need to!  It is a great product, and I&#x27;m happy that I purchased it!&quot;                                                                               </td><td>4.0              </td><td>1       </td></tr>\n",
              "</tbody>\n",
              "</table>"
            ]
          },
          "metadata": {
            "tags": []
          }
        }
      ]
    },
    {
      "cell_type": "code",
      "metadata": {
        "colab": {
          "base_uri": "https://localhost:8080/"
        },
        "id": "z8SAlJAdLqZH",
        "outputId": "2095e156-88d1-4b19-a2e5-e939344d3f74"
      },
      "source": [
        "# data preprocessing\n",
        "\n",
        "import nltk\n",
        "from nltk.corpus import stopwords\n",
        "nltk.download('stopwords')\n",
        "stop_words = set(stopwords.words('english'))"
      ],
      "execution_count": 33,
      "outputs": [
        {
          "output_type": "stream",
          "text": [
            "[nltk_data] Downloading package stopwords to /root/nltk_data...\n",
            "[nltk_data]   Unzipping corpora/stopwords.zip.\n"
          ],
          "name": "stdout"
        }
      ]
    },
    {
      "cell_type": "code",
      "metadata": {
        "id": "fznqJfSdL0GH"
      },
      "source": [
        "def tokenize(line):\n",
        "  tokenized = line.tokenize(\"\\\\W+\")\n",
        "  tokenized = tokenized.tolower()\n",
        "  tokenized = tokenized[(tokenized.nchar() >= 2) | (tokenized.isna()),:]\n",
        "  tokenized_filter = tokenized[(tokenized.isna()) | (~ tokenized.isin(stop_words)),:]\n",
        "  return tokenized_filter"
      ],
      "execution_count": 34,
      "outputs": []
    },
    {
      "cell_type": "code",
      "metadata": {
        "id": "zjmcT8AgL2KS"
      },
      "source": [
        "words_reviews = tokenize(h2o_df[\"reviews\"])"
      ],
      "execution_count": 35,
      "outputs": []
    },
    {
      "cell_type": "code",
      "metadata": {
        "id": "0u1n47C2MAPS"
      },
      "source": [
        "words_headline = tokenize(h2o_df[\"headline\"])"
      ],
      "execution_count": 36,
      "outputs": []
    },
    {
      "cell_type": "code",
      "metadata": {
        "colab": {
          "base_uri": "https://localhost:8080/",
          "height": 250
        },
        "id": "K4IBbKqsMadX",
        "outputId": "e6f6d4fd-e066-4a6f-acd1-92cc1f4aa5c4"
      },
      "source": [
        "words_reviews.head()"
      ],
      "execution_count": 37,
      "outputs": [
        {
          "output_type": "display_data",
          "data": {
            "text/html": [
              "<table>\n",
              "<thead>\n",
              "<tr><th>C1         </th></tr>\n",
              "</thead>\n",
              "<tbody>\n",
              "<tr><td>glasses    </td></tr>\n",
              "<tr><td>excellent  </td></tr>\n",
              "<tr><td>value      </td></tr>\n",
              "<tr><td>fit        </td></tr>\n",
              "<tr><td>good       </td></tr>\n",
              "<tr><td>comfortable</td></tr>\n",
              "<tr><td>legal      </td></tr>\n",
              "<tr><td>blindness  </td></tr>\n",
              "<tr><td>lot        </td></tr>\n",
              "<tr><td>options    </td></tr>\n",
              "</tbody>\n",
              "</table>"
            ]
          },
          "metadata": {
            "tags": []
          }
        },
        {
          "output_type": "execute_result",
          "data": {
            "text/plain": [
              ""
            ]
          },
          "metadata": {
            "tags": []
          },
          "execution_count": 37
        }
      ]
    },
    {
      "cell_type": "code",
      "metadata": {
        "colab": {
          "base_uri": "https://localhost:8080/",
          "height": 233
        },
        "id": "3RyRrhDrRPpA",
        "outputId": "b9fe462e-ef89-421d-cbae-a9bf9819a5f8"
      },
      "source": [
        "words_headline.head()"
      ],
      "execution_count": 38,
      "outputs": [
        {
          "output_type": "display_data",
          "data": {
            "text/html": [
              "<table>\n",
              "<thead>\n",
              "<tr><th>C1       </th></tr>\n",
              "</thead>\n",
              "<tbody>\n",
              "<tr><td>glasses  </td></tr>\n",
              "<tr><td>excellent</td></tr>\n",
              "<tr><td>value    </td></tr>\n",
              "<tr><td>fit      </td></tr>\n",
              "<tr><td>good     </td></tr>\n",
              "<tr><td>         </td></tr>\n",
              "<tr><td>fantastic</td></tr>\n",
              "<tr><td>way      </td></tr>\n",
              "<tr><td>cheaply  </td></tr>\n",
              "<tr><td>try      </td></tr>\n",
              "</tbody>\n",
              "</table>"
            ]
          },
          "metadata": {
            "tags": []
          }
        },
        {
          "output_type": "execute_result",
          "data": {
            "text/plain": [
              ""
            ]
          },
          "metadata": {
            "tags": []
          },
          "execution_count": 38
        }
      ]
    },
    {
      "cell_type": "code",
      "metadata": {
        "colab": {
          "base_uri": "https://localhost:8080/"
        },
        "id": "BUm7NAljRnY1",
        "outputId": "72c8177e-2630-479a-a27f-9698480abe1a"
      },
      "source": [
        "words_reviews.shape"
      ],
      "execution_count": 39,
      "outputs": [
        {
          "output_type": "execute_result",
          "data": {
            "text/plain": [
              "(2797601, 1)"
            ]
          },
          "metadata": {
            "tags": []
          },
          "execution_count": 39
        }
      ]
    },
    {
      "cell_type": "code",
      "metadata": {
        "id": "1n9l9FL8R3QD"
      },
      "source": [
        "from h2o.estimators.word2vec import H2OWord2vecEstimator\n",
        "from h2o.estimators import H2OGradientBoostingEstimator, H2OXGBoostEstimator"
      ],
      "execution_count": 40,
      "outputs": []
    },
    {
      "cell_type": "code",
      "metadata": {
        "colab": {
          "base_uri": "https://localhost:8080/"
        },
        "id": "QMvOg5UBR65L",
        "outputId": "72e565f5-a7a5-4a5b-b55e-7fe5b6f3bc0c"
      },
      "source": [
        "\n",
        "vec_model = H2OWord2vecEstimator(vec_size = 100, model_id = \"w2v_amazon.model\")\n",
        "vec_model.train(training_frame=words_reviews)"
      ],
      "execution_count": 28,
      "outputs": [
        {
          "output_type": "stream",
          "text": [
            "word2vec Model Build progress: |██████████████████████████████████████████| 100%\n"
          ],
          "name": "stdout"
        }
      ]
    },
    {
      "cell_type": "code",
      "metadata": {
        "colab": {
          "base_uri": "https://localhost:8080/",
          "height": 35
        },
        "id": "7ZsTLEXLR9N6",
        "outputId": "c2bb7a85-50a7-4fd9-b268-94d53bda3b82"
      },
      "source": [
        "h2o.save_model(vec_model,path='/content/drive/MyDrive/Colab Notebooks/Sentiment Analysis model using H20 GBM')"
      ],
      "execution_count": 29,
      "outputs": [
        {
          "output_type": "execute_result",
          "data": {
            "application/vnd.google.colaboratory.intrinsic+json": {
              "type": "string"
            },
            "text/plain": [
              "'/content/drive/MyDrive/Colab Notebooks/Sentiment Analysis model using H20 GBM/w2v_amazon.model'"
            ]
          },
          "metadata": {
            "tags": []
          },
          "execution_count": 29
        }
      ]
    },
    {
      "cell_type": "code",
      "metadata": {
        "id": "9kstZjqVTsDa"
      },
      "source": [
        "vec_model=h2o.load_model(\"/content/drive/MyDrive/Colab Notebooks/Sentiment Analysis model using H20 GBM/w2v_amazon.model\")"
      ],
      "execution_count": 15,
      "outputs": []
    },
    {
      "cell_type": "code",
      "metadata": {
        "colab": {
          "base_uri": "https://localhost:8080/"
        },
        "id": "D1tWN7QyTzJ-",
        "outputId": "b6cafced-daa1-4ea7-a31f-51b01de36472"
      },
      "source": [
        "vec_model.find_synonyms(\"perfumes\", count = 5)"
      ],
      "execution_count": 41,
      "outputs": [
        {
          "output_type": "execute_result",
          "data": {
            "text/plain": [
              "OrderedDict([('scents', 0.7395978569984436),\n",
              "             ('fragrances', 0.7305845022201538),\n",
              "             ('patchouli', 0.7229145765304565),\n",
              "             ('woodsy', 0.7170096635818481),\n",
              "             ('fragrance', 0.6956881284713745)])"
            ]
          },
          "metadata": {
            "tags": []
          },
          "execution_count": 41
        }
      ]
    },
    {
      "cell_type": "code",
      "metadata": {
        "colab": {
          "base_uri": "https://localhost:8080/"
        },
        "id": "udm3YxkNUCzl",
        "outputId": "43dd84f1-eb9f-4f83-bb23-914b3473f2d7"
      },
      "source": [
        "vec_model.find_synonyms(\"toothpaste\", count = 5)"
      ],
      "execution_count": 42,
      "outputs": [
        {
          "output_type": "execute_result",
          "data": {
            "text/plain": [
              "OrderedDict([('mouthwash', 0.7390236854553223),\n",
              "             ('listerine', 0.7304391860961914),\n",
              "             ('whitening', 0.6969699859619141),\n",
              "             ('mentadent', 0.6788368225097656),\n",
              "             ('plax', 0.6764256358146667)])"
            ]
          },
          "metadata": {
            "tags": []
          },
          "execution_count": 42
        }
      ]
    },
    {
      "cell_type": "code",
      "metadata": {
        "colab": {
          "base_uri": "https://localhost:8080/"
        },
        "id": "TiY-GRvJUFjF",
        "outputId": "117d3688-1225-4798-ef56-840626eeba42"
      },
      "source": [
        "vec_model.find_synonyms(\"glasses\", count = 5)"
      ],
      "execution_count": 43,
      "outputs": [
        {
          "output_type": "execute_result",
          "data": {
            "text/plain": [
              "OrderedDict([('sunglasses', 0.8963258266448975),\n",
              "             ('readers', 0.8537887930870056),\n",
              "             ('bifocal', 0.8075932860374451),\n",
              "             ('bifocals', 0.7923863530158997),\n",
              "             ('lenses', 0.7705388069152832)])"
            ]
          },
          "metadata": {
            "tags": []
          },
          "execution_count": 43
        }
      ]
    },
    {
      "cell_type": "code",
      "metadata": {
        "id": "ndlPHZ1EUHvl"
      },
      "source": [
        " # transform helps to in vector form of string\n",
        " # aggregate method = average which helps to aggregate the words to sentence and do vector space, \n",
        " #suppose aggregate_methode = none then at word level it is represented\n",
        "review_vecs = vec_model.transform(words_reviews, aggregate_method = \"AVERAGE\") "
      ],
      "execution_count": 44,
      "outputs": []
    },
    {
      "cell_type": "code",
      "metadata": {
        "colab": {
          "base_uri": "https://localhost:8080/"
        },
        "id": "Py2tK71zUKpl",
        "outputId": "35061519-7453-4500-e617-8817764a59b6"
      },
      "source": [
        "# numerical representation\n",
        "review_vecs.shape"
      ],
      "execution_count": 45,
      "outputs": [
        {
          "output_type": "execute_result",
          "data": {
            "text/plain": [
              "(85981, 100)"
            ]
          },
          "metadata": {
            "tags": []
          },
          "execution_count": 45
        }
      ]
    },
    {
      "cell_type": "code",
      "metadata": {
        "colab": {
          "base_uri": "https://localhost:8080/",
          "height": 270
        },
        "id": "bZVvZZq5Uyul",
        "outputId": "3afb24b0-d56f-413b-f118-acc86a99f2ea"
      },
      "source": [
        "review_vecs.head()"
      ],
      "execution_count": 46,
      "outputs": [
        {
          "output_type": "display_data",
          "data": {
            "text/html": [
              "<table>\n",
              "<thead>\n",
              "<tr><th style=\"text-align: right;\">        C1</th><th style=\"text-align: right;\">         C2</th><th style=\"text-align: right;\">         C3</th><th style=\"text-align: right;\">       C4</th><th style=\"text-align: right;\">         C5</th><th style=\"text-align: right;\">        C6</th><th style=\"text-align: right;\">         C7</th><th style=\"text-align: right;\">        C8</th><th style=\"text-align: right;\">         C9</th><th style=\"text-align: right;\">       C10</th><th style=\"text-align: right;\">        C11</th><th style=\"text-align: right;\">        C12</th><th style=\"text-align: right;\">        C13</th><th style=\"text-align: right;\">        C14</th><th style=\"text-align: right;\">        C15</th><th style=\"text-align: right;\">       C16</th><th style=\"text-align: right;\">       C17</th><th style=\"text-align: right;\">       C18</th><th style=\"text-align: right;\">        C19</th><th style=\"text-align: right;\">       C20</th><th style=\"text-align: right;\">        C21</th><th style=\"text-align: right;\">        C22</th><th style=\"text-align: right;\">         C23</th><th style=\"text-align: right;\">        C24</th><th style=\"text-align: right;\">       C25</th><th style=\"text-align: right;\">         C26</th><th style=\"text-align: right;\">       C27</th><th style=\"text-align: right;\">       C28</th><th style=\"text-align: right;\">        C29</th><th style=\"text-align: right;\">      C30</th><th style=\"text-align: right;\">        C31</th><th style=\"text-align: right;\">       C32</th><th style=\"text-align: right;\">       C33</th><th style=\"text-align: right;\">      C34</th><th style=\"text-align: right;\">         C35</th><th style=\"text-align: right;\">       C36</th><th style=\"text-align: right;\">         C37</th><th style=\"text-align: right;\">        C38</th><th style=\"text-align: right;\">       C39</th><th style=\"text-align: right;\">       C40</th><th style=\"text-align: right;\">       C41</th><th style=\"text-align: right;\">       C42</th><th style=\"text-align: right;\">       C43</th><th style=\"text-align: right;\">         C44</th><th style=\"text-align: right;\">        C45</th><th style=\"text-align: right;\">         C46</th><th style=\"text-align: right;\">        C47</th><th style=\"text-align: right;\">       C48</th><th style=\"text-align: right;\">        C49</th><th style=\"text-align: right;\">         C50</th><th style=\"text-align: right;\">        C51</th><th style=\"text-align: right;\">        C52</th><th style=\"text-align: right;\">         C53</th><th style=\"text-align: right;\">       C54</th><th style=\"text-align: right;\">        C55</th><th style=\"text-align: right;\">        C56</th><th style=\"text-align: right;\">       C57</th><th style=\"text-align: right;\">       C58</th><th style=\"text-align: right;\">        C59</th><th style=\"text-align: right;\">        C60</th><th style=\"text-align: right;\">       C61</th><th style=\"text-align: right;\">      C62</th><th style=\"text-align: right;\">      C63</th><th style=\"text-align: right;\">        C64</th><th style=\"text-align: right;\">        C65</th><th style=\"text-align: right;\">        C66</th><th style=\"text-align: right;\">        C67</th><th style=\"text-align: right;\">       C68</th><th style=\"text-align: right;\">        C69</th><th style=\"text-align: right;\">        C70</th><th style=\"text-align: right;\">        C71</th><th style=\"text-align: right;\">       C72</th><th style=\"text-align: right;\">        C73</th><th style=\"text-align: right;\">         C74</th><th style=\"text-align: right;\">        C75</th><th style=\"text-align: right;\">        C76</th><th style=\"text-align: right;\">       C77</th><th style=\"text-align: right;\">         C78</th><th style=\"text-align: right;\">        C79</th><th style=\"text-align: right;\">         C80</th><th style=\"text-align: right;\">        C81</th><th style=\"text-align: right;\">        C82</th><th style=\"text-align: right;\">        C83</th><th style=\"text-align: right;\">        C84</th><th style=\"text-align: right;\">        C85</th><th style=\"text-align: right;\">        C86</th><th style=\"text-align: right;\">         C87</th><th style=\"text-align: right;\">        C88</th><th style=\"text-align: right;\">       C89</th><th style=\"text-align: right;\">      C90</th><th style=\"text-align: right;\">       C91</th><th style=\"text-align: right;\">       C92</th><th style=\"text-align: right;\">        C93</th><th style=\"text-align: right;\">       C94</th><th style=\"text-align: right;\">       C95</th><th style=\"text-align: right;\">        C96</th><th style=\"text-align: right;\">        C97</th><th style=\"text-align: right;\">       C98</th><th style=\"text-align: right;\">       C99</th><th style=\"text-align: right;\">       C100</th></tr>\n",
              "</thead>\n",
              "<tbody>\n",
              "<tr><td style=\"text-align: right;\"> 0.0928554</td><td style=\"text-align: right;\">-0.0681869 </td><td style=\"text-align: right;\"> 0.0526175 </td><td style=\"text-align: right;\">0.178322 </td><td style=\"text-align: right;\">-0.11154   </td><td style=\"text-align: right;\">-0.175287 </td><td style=\"text-align: right;\"> 0.0800719 </td><td style=\"text-align: right;\"> 0.0381543</td><td style=\"text-align: right;\"> 0.0481738 </td><td style=\"text-align: right;\"> 0.0723973</td><td style=\"text-align: right;\"> 0.00992735</td><td style=\"text-align: right;\"> 0.12043   </td><td style=\"text-align: right;\">-0.0676577 </td><td style=\"text-align: right;\">-0.0976626 </td><td style=\"text-align: right;\"> 0.0324151 </td><td style=\"text-align: right;\">0.0888663 </td><td style=\"text-align: right;\"> 0.0629005</td><td style=\"text-align: right;\"> 0.0280419</td><td style=\"text-align: right;\">-0.0533805 </td><td style=\"text-align: right;\">-0.0671065</td><td style=\"text-align: right;\">-0.137512  </td><td style=\"text-align: right;\">-0.0436673 </td><td style=\"text-align: right;\"> 0.0972628  </td><td style=\"text-align: right;\">-0.0547482 </td><td style=\"text-align: right;\"> 0.0182456</td><td style=\"text-align: right;\"> 0.116664   </td><td style=\"text-align: right;\">-0.108079 </td><td style=\"text-align: right;\">-0.212961 </td><td style=\"text-align: right;\"> 0.0440586 </td><td style=\"text-align: right;\">-0.098442</td><td style=\"text-align: right;\"> 0.0381089 </td><td style=\"text-align: right;\">0.102497  </td><td style=\"text-align: right;\">-0.131187 </td><td style=\"text-align: right;\">0.195375 </td><td style=\"text-align: right;\"> 0.046057   </td><td style=\"text-align: right;\">-0.127018 </td><td style=\"text-align: right;\">-0.000842219</td><td style=\"text-align: right;\">-0.00480667</td><td style=\"text-align: right;\"> 0.0514512</td><td style=\"text-align: right;\">-0.11523  </td><td style=\"text-align: right;\"> 0.0183084</td><td style=\"text-align: right;\"> 0.0544952</td><td style=\"text-align: right;\"> 0.0147073</td><td style=\"text-align: right;\"> 0.0585335  </td><td style=\"text-align: right;\">-0.130779  </td><td style=\"text-align: right;\">-0.0567715  </td><td style=\"text-align: right;\"> 0.0158491 </td><td style=\"text-align: right;\"> 0.0765064</td><td style=\"text-align: right;\"> 0.0503837 </td><td style=\"text-align: right;\">-0.0479486  </td><td style=\"text-align: right;\"> 0.0125844 </td><td style=\"text-align: right;\"> 0.133741  </td><td style=\"text-align: right;\"> 0.00651583 </td><td style=\"text-align: right;\">-0.0336584</td><td style=\"text-align: right;\">-0.0779037 </td><td style=\"text-align: right;\">-0.0150825 </td><td style=\"text-align: right;\">-0.0592935</td><td style=\"text-align: right;\">-0.0848631</td><td style=\"text-align: right;\">-0.00519378</td><td style=\"text-align: right;\">-0.0227161 </td><td style=\"text-align: right;\"> 0.0762298</td><td style=\"text-align: right;\">0.0216118</td><td style=\"text-align: right;\">0.0693698</td><td style=\"text-align: right;\">-0.0395999 </td><td style=\"text-align: right;\">-0.187257  </td><td style=\"text-align: right;\"> 0.0521221 </td><td style=\"text-align: right;\"> 0.00326417</td><td style=\"text-align: right;\"> 0.193554 </td><td style=\"text-align: right;\">-0.0595725 </td><td style=\"text-align: right;\"> 0.0279399 </td><td style=\"text-align: right;\">-0.044564  </td><td style=\"text-align: right;\">-0.174724 </td><td style=\"text-align: right;\">-0.0851853 </td><td style=\"text-align: right;\"> 0.217813   </td><td style=\"text-align: right;\"> 0.0093347 </td><td style=\"text-align: right;\">-0.065259  </td><td style=\"text-align: right;\"> 0.162054 </td><td style=\"text-align: right;\"> 0.0751151  </td><td style=\"text-align: right;\"> 0.0404332 </td><td style=\"text-align: right;\"> 0.153009   </td><td style=\"text-align: right;\"> 0.0326122 </td><td style=\"text-align: right;\"> 0.0147171 </td><td style=\"text-align: right;\">-0.0278806 </td><td style=\"text-align: right;\">-0.0537986 </td><td style=\"text-align: right;\"> 0.0234797 </td><td style=\"text-align: right;\"> 0.0161622 </td><td style=\"text-align: right;\"> 0.0544299  </td><td style=\"text-align: right;\"> 0.104015  </td><td style=\"text-align: right;\"> 0.0543019</td><td style=\"text-align: right;\">0.154262 </td><td style=\"text-align: right;\">-0.0834396</td><td style=\"text-align: right;\"> 0.0978944</td><td style=\"text-align: right;\"> 0.0662221 </td><td style=\"text-align: right;\"> 0.282294 </td><td style=\"text-align: right;\">-0.178204 </td><td style=\"text-align: right;\"> 0.0132587 </td><td style=\"text-align: right;\">-0.0876272 </td><td style=\"text-align: right;\"> 0.109242 </td><td style=\"text-align: right;\"> 0.0119569</td><td style=\"text-align: right;\">-0.0318945 </td></tr>\n",
              "<tr><td style=\"text-align: right;\">-0.0187195</td><td style=\"text-align: right;\"> 0.0352197 </td><td style=\"text-align: right;\">-0.0355229 </td><td style=\"text-align: right;\">0.0623159</td><td style=\"text-align: right;\">-0.179573  </td><td style=\"text-align: right;\">-0.0993476</td><td style=\"text-align: right;\">-0.0397758 </td><td style=\"text-align: right;\">-0.0191002</td><td style=\"text-align: right;\"> 0.0201014 </td><td style=\"text-align: right;\">-0.100388 </td><td style=\"text-align: right;\"> 0.0337064 </td><td style=\"text-align: right;\">-0.0658662 </td><td style=\"text-align: right;\">-0.011768  </td><td style=\"text-align: right;\">-0.0715782 </td><td style=\"text-align: right;\"> 0.125187  </td><td style=\"text-align: right;\">0.0425325 </td><td style=\"text-align: right;\"> 0.0338431</td><td style=\"text-align: right;\"> 0.0897116</td><td style=\"text-align: right;\">-0.0354901 </td><td style=\"text-align: right;\">-0.0518855</td><td style=\"text-align: right;\">-0.0827701 </td><td style=\"text-align: right;\">-0.138089  </td><td style=\"text-align: right;\">-0.00570933 </td><td style=\"text-align: right;\"> 0.0106738 </td><td style=\"text-align: right;\">-0.0486332</td><td style=\"text-align: right;\">-0.0700158  </td><td style=\"text-align: right;\">-0.138428 </td><td style=\"text-align: right;\">-0.0418686</td><td style=\"text-align: right;\">-0.0765158 </td><td style=\"text-align: right;\">-0.133505</td><td style=\"text-align: right;\"> 0.0667318 </td><td style=\"text-align: right;\">0.211777  </td><td style=\"text-align: right;\">-0.0720769</td><td style=\"text-align: right;\">0.187371 </td><td style=\"text-align: right;\">-0.0405274  </td><td style=\"text-align: right;\">-0.103456 </td><td style=\"text-align: right;\">-0.0890427  </td><td style=\"text-align: right;\">-0.0504157 </td><td style=\"text-align: right;\"> 0.0189955</td><td style=\"text-align: right;\">-0.153807 </td><td style=\"text-align: right;\">-0.0667876</td><td style=\"text-align: right;\"> 0.0581946</td><td style=\"text-align: right;\">-0.0530559</td><td style=\"text-align: right;\"> 0.240953   </td><td style=\"text-align: right;\"> 0.00676678</td><td style=\"text-align: right;\"> 0.0396296  </td><td style=\"text-align: right;\"> 0.0456891 </td><td style=\"text-align: right;\">-0.143772 </td><td style=\"text-align: right;\">-0.0225959 </td><td style=\"text-align: right;\">-0.000872822</td><td style=\"text-align: right;\"> 0.063284  </td><td style=\"text-align: right;\"> 0.112362  </td><td style=\"text-align: right;\">-0.0357453  </td><td style=\"text-align: right;\">-0.146095 </td><td style=\"text-align: right;\">-0.109007  </td><td style=\"text-align: right;\"> 0.0753925 </td><td style=\"text-align: right;\">-0.0176045</td><td style=\"text-align: right;\">-0.0883622</td><td style=\"text-align: right;\">-0.103838  </td><td style=\"text-align: right;\">-0.0520978 </td><td style=\"text-align: right;\"> 0.0263676</td><td style=\"text-align: right;\">0.0497275</td><td style=\"text-align: right;\">0.204768 </td><td style=\"text-align: right;\"> 0.109935  </td><td style=\"text-align: right;\">-0.0924562 </td><td style=\"text-align: right;\"> 0.166922  </td><td style=\"text-align: right;\">-0.00116572</td><td style=\"text-align: right;\">-0.0694967</td><td style=\"text-align: right;\"> 0.049833  </td><td style=\"text-align: right;\">-0.0380158 </td><td style=\"text-align: right;\">-0.134551  </td><td style=\"text-align: right;\">-0.151007 </td><td style=\"text-align: right;\">-0.0863211 </td><td style=\"text-align: right;\"> 0.0326189  </td><td style=\"text-align: right;\">-0.0621264 </td><td style=\"text-align: right;\"> 0.0360766 </td><td style=\"text-align: right;\"> 0.190622 </td><td style=\"text-align: right;\">-0.0549009  </td><td style=\"text-align: right;\">-0.0590383 </td><td style=\"text-align: right;\"> 0.117101   </td><td style=\"text-align: right;\">-0.0207354 </td><td style=\"text-align: right;\"> 0.0369261 </td><td style=\"text-align: right;\"> 0.00689412</td><td style=\"text-align: right;\">-0.060246  </td><td style=\"text-align: right;\"> 0.0394409 </td><td style=\"text-align: right;\"> 0.0961615 </td><td style=\"text-align: right;\"> 0.134434   </td><td style=\"text-align: right;\"> 0.19744   </td><td style=\"text-align: right;\"> 0.0325088</td><td style=\"text-align: right;\">0.148208 </td><td style=\"text-align: right;\">-0.0706438</td><td style=\"text-align: right;\"> 0.128245 </td><td style=\"text-align: right;\"> 0.0708771 </td><td style=\"text-align: right;\"> 0.153812 </td><td style=\"text-align: right;\">-0.12552  </td><td style=\"text-align: right;\"> 0.0374693 </td><td style=\"text-align: right;\"> 0.0771231 </td><td style=\"text-align: right;\"> 0.1156   </td><td style=\"text-align: right;\"> 0.0767743</td><td style=\"text-align: right;\"> 0.0859195 </td></tr>\n",
              "<tr><td style=\"text-align: right;\">-0.0805178</td><td style=\"text-align: right;\">-0.0461625 </td><td style=\"text-align: right;\">-0.0551182 </td><td style=\"text-align: right;\">0.193859 </td><td style=\"text-align: right;\"> 0.0531889 </td><td style=\"text-align: right;\">-0.088668 </td><td style=\"text-align: right;\">-0.0828386 </td><td style=\"text-align: right;\">-0.124243 </td><td style=\"text-align: right;\"> 0.0986724 </td><td style=\"text-align: right;\">-0.0221658</td><td style=\"text-align: right;\"> 0.106922  </td><td style=\"text-align: right;\"> 0.0408941 </td><td style=\"text-align: right;\">-0.0566087 </td><td style=\"text-align: right;\"> 0.0304708 </td><td style=\"text-align: right;\">-0.0031672 </td><td style=\"text-align: right;\">0.127131  </td><td style=\"text-align: right;\">-0.074725 </td><td style=\"text-align: right;\"> 0.114979 </td><td style=\"text-align: right;\"> 0.00379095</td><td style=\"text-align: right;\">-0.121619 </td><td style=\"text-align: right;\">-0.0696944 </td><td style=\"text-align: right;\">-0.0832596 </td><td style=\"text-align: right;\"> 0.136304   </td><td style=\"text-align: right;\">-0.00575639</td><td style=\"text-align: right;\">-0.173951 </td><td style=\"text-align: right;\">-0.0135023  </td><td style=\"text-align: right;\">-0.0650375</td><td style=\"text-align: right;\">-0.0141243</td><td style=\"text-align: right;\">-0.013156  </td><td style=\"text-align: right;\">-0.108174</td><td style=\"text-align: right;\">-0.026809  </td><td style=\"text-align: right;\">0.175044  </td><td style=\"text-align: right;\">-0.159644 </td><td style=\"text-align: right;\">0.19449  </td><td style=\"text-align: right;\"> 0.0565797  </td><td style=\"text-align: right;\">-0.104741 </td><td style=\"text-align: right;\">-0.108002   </td><td style=\"text-align: right;\">-0.0886169 </td><td style=\"text-align: right;\">-0.0414625</td><td style=\"text-align: right;\">-0.127902 </td><td style=\"text-align: right;\">-0.0727704</td><td style=\"text-align: right;\">-0.0916973</td><td style=\"text-align: right;\"> 0.0848711</td><td style=\"text-align: right;\"> 0.185968   </td><td style=\"text-align: right;\">-0.104989  </td><td style=\"text-align: right;\">-0.0408809  </td><td style=\"text-align: right;\"> 0.0774902 </td><td style=\"text-align: right;\">-0.0999082</td><td style=\"text-align: right;\">-0.0169326 </td><td style=\"text-align: right;\">-0.120546   </td><td style=\"text-align: right;\"> 0.00680373</td><td style=\"text-align: right;\"> 0.091517  </td><td style=\"text-align: right;\"> 0.0567199  </td><td style=\"text-align: right;\">-0.161939 </td><td style=\"text-align: right;\">-0.0781712 </td><td style=\"text-align: right;\">-0.138734  </td><td style=\"text-align: right;\">-0.128357 </td><td style=\"text-align: right;\">-0.117936 </td><td style=\"text-align: right;\"> 0.164488  </td><td style=\"text-align: right;\"> 0.00198572</td><td style=\"text-align: right;\">-0.0828716</td><td style=\"text-align: right;\">0.024407 </td><td style=\"text-align: right;\">0.104553 </td><td style=\"text-align: right;\"> 0.0664176 </td><td style=\"text-align: right;\">-0.1642    </td><td style=\"text-align: right;\"> 0.103785  </td><td style=\"text-align: right;\"> 0.0442425 </td><td style=\"text-align: right;\">-0.015685 </td><td style=\"text-align: right;\"> 0.0499764 </td><td style=\"text-align: right;\"> 0.0826374 </td><td style=\"text-align: right;\">-0.070064  </td><td style=\"text-align: right;\">-0.244971 </td><td style=\"text-align: right;\"> 0.127381  </td><td style=\"text-align: right;\"> 0.000274324</td><td style=\"text-align: right;\"> 0.0102157 </td><td style=\"text-align: right;\">-0.0704978 </td><td style=\"text-align: right;\"> 0.137245 </td><td style=\"text-align: right;\"> 0.159732   </td><td style=\"text-align: right;\">-0.0420978 </td><td style=\"text-align: right;\"> 0.0142218  </td><td style=\"text-align: right;\">-0.0420141 </td><td style=\"text-align: right;\"> 0.0275792 </td><td style=\"text-align: right;\"> 0.145963  </td><td style=\"text-align: right;\">-0.0218821 </td><td style=\"text-align: right;\">-0.0319721 </td><td style=\"text-align: right;\">-0.0677524 </td><td style=\"text-align: right;\">-0.0724556  </td><td style=\"text-align: right;\"> 0.0668491 </td><td style=\"text-align: right;\"> 0.0127155</td><td style=\"text-align: right;\">0.0955269</td><td style=\"text-align: right;\">-0.152379 </td><td style=\"text-align: right;\"> 0.154695 </td><td style=\"text-align: right;\">-0.131206  </td><td style=\"text-align: right;\"> 0.124961 </td><td style=\"text-align: right;\">-0.11558  </td><td style=\"text-align: right;\"> 0.00301823</td><td style=\"text-align: right;\"> 0.0866026 </td><td style=\"text-align: right;\">-0.0596966</td><td style=\"text-align: right;\"> 0.10218  </td><td style=\"text-align: right;\">-0.0237684 </td></tr>\n",
              "<tr><td style=\"text-align: right;\">-0.152333 </td><td style=\"text-align: right;\">-0.235975  </td><td style=\"text-align: right;\">-0.269967  </td><td style=\"text-align: right;\">0.164115 </td><td style=\"text-align: right;\"> 0.112795  </td><td style=\"text-align: right;\">-0.131884 </td><td style=\"text-align: right;\"> 0.0213575 </td><td style=\"text-align: right;\">-0.0956881</td><td style=\"text-align: right;\">-0.05024   </td><td style=\"text-align: right;\">-0.227668 </td><td style=\"text-align: right;\"> 0.0178577 </td><td style=\"text-align: right;\"> 0.0738407 </td><td style=\"text-align: right;\"> 0.0446852 </td><td style=\"text-align: right;\">-0.0673834 </td><td style=\"text-align: right;\"> 0.126685  </td><td style=\"text-align: right;\">0.129214  </td><td style=\"text-align: right;\"> 0.160516 </td><td style=\"text-align: right;\">-0.111481 </td><td style=\"text-align: right;\"> 0.0817604 </td><td style=\"text-align: right;\">-0.296926 </td><td style=\"text-align: right;\">-0.313859  </td><td style=\"text-align: right;\"> 0.0136364 </td><td style=\"text-align: right;\">-0.061928   </td><td style=\"text-align: right;\">-0.0505257 </td><td style=\"text-align: right;\">-0.160509 </td><td style=\"text-align: right;\"> 0.0603329  </td><td style=\"text-align: right;\">-0.146275 </td><td style=\"text-align: right;\"> 0.0655819</td><td style=\"text-align: right;\">-0.011587  </td><td style=\"text-align: right;\">-0.180369</td><td style=\"text-align: right;\"> 0.059202  </td><td style=\"text-align: right;\">0.00965455</td><td style=\"text-align: right;\">-0.0902189</td><td style=\"text-align: right;\">0.277393 </td><td style=\"text-align: right;\"> 0.160684   </td><td style=\"text-align: right;\"> 0.0713011</td><td style=\"text-align: right;\"> 0.0263919  </td><td style=\"text-align: right;\">-0.112365  </td><td style=\"text-align: right;\">-0.101889 </td><td style=\"text-align: right;\">-0.168828 </td><td style=\"text-align: right;\">-0.0021352</td><td style=\"text-align: right;\">-0.0479388</td><td style=\"text-align: right;\">-0.100211 </td><td style=\"text-align: right;\">-0.000184916</td><td style=\"text-align: right;\">-0.120549  </td><td style=\"text-align: right;\">-0.329645   </td><td style=\"text-align: right;\">-0.244482  </td><td style=\"text-align: right;\">-0.043013 </td><td style=\"text-align: right;\">-0.204188  </td><td style=\"text-align: right;\">-0.0290222  </td><td style=\"text-align: right;\">-0.0148388 </td><td style=\"text-align: right;\"> 0.0878991 </td><td style=\"text-align: right;\">-0.063816   </td><td style=\"text-align: right;\">-0.191431 </td><td style=\"text-align: right;\">-0.360277  </td><td style=\"text-align: right;\"> 0.201439  </td><td style=\"text-align: right;\"> 0.0353609</td><td style=\"text-align: right;\">-0.0132346</td><td style=\"text-align: right;\"> 0.0201811 </td><td style=\"text-align: right;\">-0.0387189 </td><td style=\"text-align: right;\">-0.137258 </td><td style=\"text-align: right;\">0.0337502</td><td style=\"text-align: right;\">0.115437 </td><td style=\"text-align: right;\"> 0.16089   </td><td style=\"text-align: right;\">-0.301448  </td><td style=\"text-align: right;\"> 0.12972   </td><td style=\"text-align: right;\"> 0.217082  </td><td style=\"text-align: right;\"> 0.263146 </td><td style=\"text-align: right;\">-0.0590992 </td><td style=\"text-align: right;\"> 0.0685065 </td><td style=\"text-align: right;\">-0.0815457 </td><td style=\"text-align: right;\">-0.160474 </td><td style=\"text-align: right;\"> 0.0675546 </td><td style=\"text-align: right;\"> 0.0425907  </td><td style=\"text-align: right;\">-0.107643  </td><td style=\"text-align: right;\">-0.080656  </td><td style=\"text-align: right;\"> 0.157795 </td><td style=\"text-align: right;\">-0.0597449  </td><td style=\"text-align: right;\"> 0.222768  </td><td style=\"text-align: right;\"> 0.215273   </td><td style=\"text-align: right;\">-0.100236  </td><td style=\"text-align: right;\"> 0.00957911</td><td style=\"text-align: right;\">-0.0896807 </td><td style=\"text-align: right;\"> 0.104389  </td><td style=\"text-align: right;\">-0.0342209 </td><td style=\"text-align: right;\">-0.026846  </td><td style=\"text-align: right;\"> 0.0327186  </td><td style=\"text-align: right;\">-0.0478216 </td><td style=\"text-align: right;\">-0.0336207</td><td style=\"text-align: right;\">0.161408 </td><td style=\"text-align: right;\">-0.148629 </td><td style=\"text-align: right;\">-0.0744755</td><td style=\"text-align: right;\">-0.0679349 </td><td style=\"text-align: right;\"> 0.292867 </td><td style=\"text-align: right;\">-0.299894 </td><td style=\"text-align: right;\"> 0.0682323 </td><td style=\"text-align: right;\"> 0.103455  </td><td style=\"text-align: right;\"> 0.041035 </td><td style=\"text-align: right;\"> 0.0788329</td><td style=\"text-align: right;\"> 0.00400096</td></tr>\n",
              "<tr><td style=\"text-align: right;\"> 0.129196 </td><td style=\"text-align: right;\">-0.00952481</td><td style=\"text-align: right;\"> 0.0076187 </td><td style=\"text-align: right;\">0.208031 </td><td style=\"text-align: right;\">-0.0513211 </td><td style=\"text-align: right;\">-0.178302 </td><td style=\"text-align: right;\">-0.00912883</td><td style=\"text-align: right;\">-0.0577918</td><td style=\"text-align: right;\">-0.00708027</td><td style=\"text-align: right;\">-0.0638663</td><td style=\"text-align: right;\">-0.0743484 </td><td style=\"text-align: right;\">-0.0713225 </td><td style=\"text-align: right;\">-0.0601585 </td><td style=\"text-align: right;\">-0.0900337 </td><td style=\"text-align: right;\">-0.00400337</td><td style=\"text-align: right;\">0.0407314 </td><td style=\"text-align: right;\"> 0.0376316</td><td style=\"text-align: right;\"> 0.094186 </td><td style=\"text-align: right;\"> 0.0023148 </td><td style=\"text-align: right;\"> 0.0229502</td><td style=\"text-align: right;\">-0.200972  </td><td style=\"text-align: right;\">-0.0975206 </td><td style=\"text-align: right;\">-0.0113653  </td><td style=\"text-align: right;\">-0.0197858 </td><td style=\"text-align: right;\">-0.153013 </td><td style=\"text-align: right;\"> 0.126039   </td><td style=\"text-align: right;\">-0.201931 </td><td style=\"text-align: right;\">-0.148843 </td><td style=\"text-align: right;\">-0.0107552 </td><td style=\"text-align: right;\">-0.101529</td><td style=\"text-align: right;\"> 0.138306  </td><td style=\"text-align: right;\">0.0891704 </td><td style=\"text-align: right;\">-0.193619 </td><td style=\"text-align: right;\">0.0986177</td><td style=\"text-align: right;\">-0.0445168  </td><td style=\"text-align: right;\">-0.101656 </td><td style=\"text-align: right;\">-0.0232338  </td><td style=\"text-align: right;\">-0.0943954 </td><td style=\"text-align: right;\">-0.106689 </td><td style=\"text-align: right;\">-0.165125 </td><td style=\"text-align: right;\">-0.129946 </td><td style=\"text-align: right;\"> 0.0445307</td><td style=\"text-align: right;\"> 0.082159 </td><td style=\"text-align: right;\"> 0.161711   </td><td style=\"text-align: right;\">-0.0927573 </td><td style=\"text-align: right;\">-0.035177   </td><td style=\"text-align: right;\">-0.144462  </td><td style=\"text-align: right;\"> 0.0985317</td><td style=\"text-align: right;\"> 0.0465448 </td><td style=\"text-align: right;\"> 0.00573186 </td><td style=\"text-align: right;\">-0.0733852 </td><td style=\"text-align: right;\">-0.00411738</td><td style=\"text-align: right;\"> 0.0202062  </td><td style=\"text-align: right;\">-0.1009   </td><td style=\"text-align: right;\">-0.00732506</td><td style=\"text-align: right;\">-0.0614034 </td><td style=\"text-align: right;\">-0.221189 </td><td style=\"text-align: right;\">-0.0693966</td><td style=\"text-align: right;\">-0.104101  </td><td style=\"text-align: right;\">-0.0679081 </td><td style=\"text-align: right;\">-0.119298 </td><td style=\"text-align: right;\">0.0842515</td><td style=\"text-align: right;\">0.0806068</td><td style=\"text-align: right;\">-0.0146275 </td><td style=\"text-align: right;\">-0.139661  </td><td style=\"text-align: right;\"> 0.00222596</td><td style=\"text-align: right;\"> 0.136124  </td><td style=\"text-align: right;\"> 0.0952241</td><td style=\"text-align: right;\"> 0.0668104 </td><td style=\"text-align: right;\">-0.0920006 </td><td style=\"text-align: right;\">-0.101281  </td><td style=\"text-align: right;\">-0.0677937</td><td style=\"text-align: right;\"> 0.0828641 </td><td style=\"text-align: right;\"> 0.115025   </td><td style=\"text-align: right;\">-0.0135644 </td><td style=\"text-align: right;\">-0.134145  </td><td style=\"text-align: right;\">-0.0942426</td><td style=\"text-align: right;\">-0.000951477</td><td style=\"text-align: right;\"> 0.0824163 </td><td style=\"text-align: right;\">-0.0915754  </td><td style=\"text-align: right;\"> 0.00787575</td><td style=\"text-align: right;\">-0.188478  </td><td style=\"text-align: right;\"> 0.0480129 </td><td style=\"text-align: right;\"> 0.110261  </td><td style=\"text-align: right;\">-0.219364  </td><td style=\"text-align: right;\"> 0.1132    </td><td style=\"text-align: right;\"> 0.000944576</td><td style=\"text-align: right;\"> 0.106642  </td><td style=\"text-align: right;\">-0.0400085</td><td style=\"text-align: right;\">0.228319 </td><td style=\"text-align: right;\">-0.176229 </td><td style=\"text-align: right;\"> 0.117059 </td><td style=\"text-align: right;\">-0.030102  </td><td style=\"text-align: right;\">-0.0361157</td><td style=\"text-align: right;\"> 0.122467 </td><td style=\"text-align: right;\">-0.119112  </td><td style=\"text-align: right;\">-0.0880958 </td><td style=\"text-align: right;\"> 0.133889 </td><td style=\"text-align: right;\"> 0.23428  </td><td style=\"text-align: right;\">-0.0879714 </td></tr>\n",
              "<tr><td style=\"text-align: right;\"> 0.0205276</td><td style=\"text-align: right;\">-0.0446765 </td><td style=\"text-align: right;\"> 0.00838126</td><td style=\"text-align: right;\">0.1844   </td><td style=\"text-align: right;\">-0.0375246 </td><td style=\"text-align: right;\">-0.168202 </td><td style=\"text-align: right;\">-0.0036044 </td><td style=\"text-align: right;\">-0.148392 </td><td style=\"text-align: right;\"> 0.043135  </td><td style=\"text-align: right;\">-0.0328923</td><td style=\"text-align: right;\">-0.0382199 </td><td style=\"text-align: right;\">-0.017673  </td><td style=\"text-align: right;\">-0.0651974 </td><td style=\"text-align: right;\">-0.0437334 </td><td style=\"text-align: right;\"> 0.0127948 </td><td style=\"text-align: right;\">0.124761  </td><td style=\"text-align: right;\">-0.0312836</td><td style=\"text-align: right;\"> 0.025382 </td><td style=\"text-align: right;\"> 0.0512415 </td><td style=\"text-align: right;\">-0.0173628</td><td style=\"text-align: right;\">-0.0788175 </td><td style=\"text-align: right;\">-0.00644493</td><td style=\"text-align: right;\">-0.000723304</td><td style=\"text-align: right;\"> 0.0942707 </td><td style=\"text-align: right;\">-0.0737273</td><td style=\"text-align: right;\"> 0.0665194  </td><td style=\"text-align: right;\">-0.106013 </td><td style=\"text-align: right;\">-0.153163 </td><td style=\"text-align: right;\"> 0.0385465 </td><td style=\"text-align: right;\">-0.229496</td><td style=\"text-align: right;\"> 0.0572052 </td><td style=\"text-align: right;\">0.262255  </td><td style=\"text-align: right;\">-0.0678592</td><td style=\"text-align: right;\">0.12142  </td><td style=\"text-align: right;\"> 0.000502933</td><td style=\"text-align: right;\">-0.0945922</td><td style=\"text-align: right;\">-0.00153629 </td><td style=\"text-align: right;\">-0.175825  </td><td style=\"text-align: right;\">-0.0213139</td><td style=\"text-align: right;\">-0.203562 </td><td style=\"text-align: right;\">-0.0960697</td><td style=\"text-align: right;\">-0.030944 </td><td style=\"text-align: right;\"> 0.0103868</td><td style=\"text-align: right;\"> 0.140027   </td><td style=\"text-align: right;\">-0.1047    </td><td style=\"text-align: right;\">-0.0374464  </td><td style=\"text-align: right;\">-0.0636842 </td><td style=\"text-align: right;\"> 0.0511426</td><td style=\"text-align: right;\"> 0.00617986</td><td style=\"text-align: right;\">-0.051611   </td><td style=\"text-align: right;\"> 0.0466031 </td><td style=\"text-align: right;\"> 0.100656  </td><td style=\"text-align: right;\">-0.0152694  </td><td style=\"text-align: right;\">-0.155036 </td><td style=\"text-align: right;\">-0.0648589 </td><td style=\"text-align: right;\">-0.00891527</td><td style=\"text-align: right;\">-0.122927 </td><td style=\"text-align: right;\">-0.101874 </td><td style=\"text-align: right;\"> 0.0310385 </td><td style=\"text-align: right;\">-0.0734168 </td><td style=\"text-align: right;\">-0.0633887</td><td style=\"text-align: right;\">0.029904 </td><td style=\"text-align: right;\">0.1105   </td><td style=\"text-align: right;\"> 0.00806568</td><td style=\"text-align: right;\">-0.00574923</td><td style=\"text-align: right;\"> 0.094067  </td><td style=\"text-align: right;\"> 0.127557  </td><td style=\"text-align: right;\"> 0.036638 </td><td style=\"text-align: right;\">-0.0975874 </td><td style=\"text-align: right;\">-0.0106772 </td><td style=\"text-align: right;\">-0.0338592 </td><td style=\"text-align: right;\">-0.136627 </td><td style=\"text-align: right;\"> 0.0557826 </td><td style=\"text-align: right;\">-0.0548987  </td><td style=\"text-align: right;\">-0.00745545</td><td style=\"text-align: right;\">-0.0473195 </td><td style=\"text-align: right;\"> 0.0705341</td><td style=\"text-align: right;\"> 0.0315151  </td><td style=\"text-align: right;\">-0.0260988 </td><td style=\"text-align: right;\">-0.0552472  </td><td style=\"text-align: right;\">-0.0373146 </td><td style=\"text-align: right;\">-0.00205254</td><td style=\"text-align: right;\"> 0.047219  </td><td style=\"text-align: right;\">-0.0149    </td><td style=\"text-align: right;\">-0.078999  </td><td style=\"text-align: right;\">-0.00533595</td><td style=\"text-align: right;\"> 0.0180917  </td><td style=\"text-align: right;\"> 0.00115412</td><td style=\"text-align: right;\">-0.0738458</td><td style=\"text-align: right;\">0.191403 </td><td style=\"text-align: right;\">-0.0942675</td><td style=\"text-align: right;\"> 0.123969 </td><td style=\"text-align: right;\">-0.0208995 </td><td style=\"text-align: right;\"> 0.072885 </td><td style=\"text-align: right;\">-0.0600795</td><td style=\"text-align: right;\"> 0.0435297 </td><td style=\"text-align: right;\">-0.0321935 </td><td style=\"text-align: right;\">-0.0174363</td><td style=\"text-align: right;\"> 0.0669026</td><td style=\"text-align: right;\">-0.00781672</td></tr>\n",
              "<tr><td style=\"text-align: right;\"> 0.0798989</td><td style=\"text-align: right;\">-0.0154353 </td><td style=\"text-align: right;\">-0.0243234 </td><td style=\"text-align: right;\">0.160954 </td><td style=\"text-align: right;\">-0.0698448 </td><td style=\"text-align: right;\">-0.133547 </td><td style=\"text-align: right;\"> 0.0384307 </td><td style=\"text-align: right;\">-0.017189 </td><td style=\"text-align: right;\"> 0.026925  </td><td style=\"text-align: right;\">-0.0647557</td><td style=\"text-align: right;\">-0.0467902 </td><td style=\"text-align: right;\">-0.0382815 </td><td style=\"text-align: right;\"> 0.00549938</td><td style=\"text-align: right;\">-0.0590319 </td><td style=\"text-align: right;\">-0.0466329 </td><td style=\"text-align: right;\">0.00542086</td><td style=\"text-align: right;\"> 0.0301802</td><td style=\"text-align: right;\"> 0.0251393</td><td style=\"text-align: right;\">-0.0569171 </td><td style=\"text-align: right;\">-0.0677072</td><td style=\"text-align: right;\">-0.00853481</td><td style=\"text-align: right;\">-0.0438261 </td><td style=\"text-align: right;\"> 0.126949   </td><td style=\"text-align: right;\">-0.0280609 </td><td style=\"text-align: right;\">-0.029957 </td><td style=\"text-align: right;\"> 0.125694   </td><td style=\"text-align: right;\"> 0.0402719</td><td style=\"text-align: right;\">-0.214168 </td><td style=\"text-align: right;\">-0.123375  </td><td style=\"text-align: right;\">-0.207466</td><td style=\"text-align: right;\">-0.020572  </td><td style=\"text-align: right;\">0.128098  </td><td style=\"text-align: right;\">-0.120574 </td><td style=\"text-align: right;\">0.148726 </td><td style=\"text-align: right;\">-0.0197069  </td><td style=\"text-align: right;\">-0.174291 </td><td style=\"text-align: right;\">-0.0909454  </td><td style=\"text-align: right;\">-0.0660027 </td><td style=\"text-align: right;\"> 0.0672903</td><td style=\"text-align: right;\">-0.0908576</td><td style=\"text-align: right;\"> 0.0399171</td><td style=\"text-align: right;\"> 0.10946  </td><td style=\"text-align: right;\">-0.0507268</td><td style=\"text-align: right;\"> 0.132491   </td><td style=\"text-align: right;\">-0.0436748 </td><td style=\"text-align: right;\"> 0.0745094  </td><td style=\"text-align: right;\"> 0.0943953 </td><td style=\"text-align: right;\"> 0.0708357</td><td style=\"text-align: right;\">-0.0350392 </td><td style=\"text-align: right;\">-0.0795524  </td><td style=\"text-align: right;\"> 0.0368518 </td><td style=\"text-align: right;\"> 0.140134  </td><td style=\"text-align: right;\">-0.0646524  </td><td style=\"text-align: right;\">-0.0839903</td><td style=\"text-align: right;\">-0.0806752 </td><td style=\"text-align: right;\">-0.0115551 </td><td style=\"text-align: right;\">-0.130552 </td><td style=\"text-align: right;\">-0.0637918</td><td style=\"text-align: right;\"> 0.0710125 </td><td style=\"text-align: right;\">-0.126491  </td><td style=\"text-align: right;\"> 0.022924 </td><td style=\"text-align: right;\">0.0990745</td><td style=\"text-align: right;\">0.0249804</td><td style=\"text-align: right;\"> 0.0959317 </td><td style=\"text-align: right;\">-0.0637208 </td><td style=\"text-align: right;\">-0.00933123</td><td style=\"text-align: right;\"> 0.157076  </td><td style=\"text-align: right;\"> 0.0754258</td><td style=\"text-align: right;\">-0.134991  </td><td style=\"text-align: right;\"> 0.00578486</td><td style=\"text-align: right;\"> 0.024775  </td><td style=\"text-align: right;\">-0.0660004</td><td style=\"text-align: right;\">-0.0516487 </td><td style=\"text-align: right;\"> 0.0196241  </td><td style=\"text-align: right;\"> 0.0762138 </td><td style=\"text-align: right;\">-0.0837058 </td><td style=\"text-align: right;\"> 0.0946098</td><td style=\"text-align: right;\">-0.0571421  </td><td style=\"text-align: right;\"> 0.00332857</td><td style=\"text-align: right;\">-0.030366   </td><td style=\"text-align: right;\"> 0.0450402 </td><td style=\"text-align: right;\">-0.0328174 </td><td style=\"text-align: right;\">-0.0311871 </td><td style=\"text-align: right;\"> 0.00884503</td><td style=\"text-align: right;\"> 0.0217884 </td><td style=\"text-align: right;\"> 0.0419018 </td><td style=\"text-align: right;\"> 0.137214   </td><td style=\"text-align: right;\"> 0.0466684 </td><td style=\"text-align: right;\"> 0.0232188</td><td style=\"text-align: right;\">0.221823 </td><td style=\"text-align: right;\">-0.0192453</td><td style=\"text-align: right;\"> 0.12214  </td><td style=\"text-align: right;\">-0.063552  </td><td style=\"text-align: right;\"> 0.172792 </td><td style=\"text-align: right;\">-0.0055258</td><td style=\"text-align: right;\"> 0.0175541 </td><td style=\"text-align: right;\">-0.0134637 </td><td style=\"text-align: right;\"> 0.0935495</td><td style=\"text-align: right;\"> 0.0892241</td><td style=\"text-align: right;\"> 0.153251  </td></tr>\n",
              "<tr><td style=\"text-align: right;\">-0.0536861</td><td style=\"text-align: right;\">-0.023205  </td><td style=\"text-align: right;\">-0.0917833 </td><td style=\"text-align: right;\">0.159008 </td><td style=\"text-align: right;\">-0.0306218 </td><td style=\"text-align: right;\">-0.134772 </td><td style=\"text-align: right;\"> 0.0115571 </td><td style=\"text-align: right;\">-0.116787 </td><td style=\"text-align: right;\">-0.0172419 </td><td style=\"text-align: right;\"> 0.0282257</td><td style=\"text-align: right;\">-0.020905  </td><td style=\"text-align: right;\">-0.00376495</td><td style=\"text-align: right;\">-0.0654972 </td><td style=\"text-align: right;\"> 0.00986839</td><td style=\"text-align: right;\">-0.0428808 </td><td style=\"text-align: right;\">0.0499261 </td><td style=\"text-align: right;\"> 0.0362124</td><td style=\"text-align: right;\"> 0.0679369</td><td style=\"text-align: right;\">-0.0670272 </td><td style=\"text-align: right;\">-0.182678 </td><td style=\"text-align: right;\">-0.105807  </td><td style=\"text-align: right;\">-0.0160866 </td><td style=\"text-align: right;\"> 0.13879    </td><td style=\"text-align: right;\">-0.035902  </td><td style=\"text-align: right;\">-0.154139 </td><td style=\"text-align: right;\"> 0.000548067</td><td style=\"text-align: right;\">-0.0628622</td><td style=\"text-align: right;\">-0.173364 </td><td style=\"text-align: right;\"> 0.00964098</td><td style=\"text-align: right;\">-0.133136</td><td style=\"text-align: right;\">-0.00450081</td><td style=\"text-align: right;\">0.10583   </td><td style=\"text-align: right;\">-0.155322 </td><td style=\"text-align: right;\">0.204594 </td><td style=\"text-align: right;\"> 0.0260388  </td><td style=\"text-align: right;\">-0.0802891</td><td style=\"text-align: right;\">-0.0780537  </td><td style=\"text-align: right;\">-0.101342  </td><td style=\"text-align: right;\"> 0.026607 </td><td style=\"text-align: right;\">-0.0307187</td><td style=\"text-align: right;\">-0.0711964</td><td style=\"text-align: right;\">-0.0302233</td><td style=\"text-align: right;\"> 0.0445246</td><td style=\"text-align: right;\"> 0.104743   </td><td style=\"text-align: right;\">-0.116816  </td><td style=\"text-align: right;\"> 0.000752818</td><td style=\"text-align: right;\"> 0.071879  </td><td style=\"text-align: right;\"> 0.0165307</td><td style=\"text-align: right;\"> 0.0230483 </td><td style=\"text-align: right;\"> 0.013766   </td><td style=\"text-align: right;\"> 0.0445806 </td><td style=\"text-align: right;\"> 0.0810047 </td><td style=\"text-align: right;\">-0.0565876  </td><td style=\"text-align: right;\">-0.130797 </td><td style=\"text-align: right;\">-0.14775   </td><td style=\"text-align: right;\">-0.0461887 </td><td style=\"text-align: right;\">-0.0555724</td><td style=\"text-align: right;\">-0.0667059</td><td style=\"text-align: right;\"> 0.0473123 </td><td style=\"text-align: right;\">-0.0864956 </td><td style=\"text-align: right;\">-0.0222361</td><td style=\"text-align: right;\">0.0360238</td><td style=\"text-align: right;\">0.0288778</td><td style=\"text-align: right;\"> 0.113356  </td><td style=\"text-align: right;\">-0.0418576 </td><td style=\"text-align: right;\"> 0.0809188 </td><td style=\"text-align: right;\"> 0.0470947 </td><td style=\"text-align: right;\"> 0.129759 </td><td style=\"text-align: right;\">-0.064864  </td><td style=\"text-align: right;\">-0.00639109</td><td style=\"text-align: right;\">-0.00185792</td><td style=\"text-align: right;\">-0.0801087</td><td style=\"text-align: right;\">-0.00296943</td><td style=\"text-align: right;\"> 0.0549797  </td><td style=\"text-align: right;\">-0.0851302 </td><td style=\"text-align: right;\">-0.0252898 </td><td style=\"text-align: right;\"> 0.201952 </td><td style=\"text-align: right;\"> 0.0870358  </td><td style=\"text-align: right;\">-0.0220806 </td><td style=\"text-align: right;\">-0.0735863  </td><td style=\"text-align: right;\">-0.0469109 </td><td style=\"text-align: right;\">-0.0393429 </td><td style=\"text-align: right;\"> 0.0634794 </td><td style=\"text-align: right;\"> 0.0346973 </td><td style=\"text-align: right;\"> 0.0158171 </td><td style=\"text-align: right;\"> 0.141153  </td><td style=\"text-align: right;\">-0.0248412  </td><td style=\"text-align: right;\"> 0.0919092 </td><td style=\"text-align: right;\">-0.0433064</td><td style=\"text-align: right;\">0.122244 </td><td style=\"text-align: right;\">-0.0788253</td><td style=\"text-align: right;\"> 0.0831436</td><td style=\"text-align: right;\"> 0.00884997</td><td style=\"text-align: right;\"> 0.225355 </td><td style=\"text-align: right;\">-0.132322 </td><td style=\"text-align: right;\">-0.0466138 </td><td style=\"text-align: right;\"> 0.00675674</td><td style=\"text-align: right;\"> 0.09711  </td><td style=\"text-align: right;\"> 0.137682 </td><td style=\"text-align: right;\">-0.0345517 </td></tr>\n",
              "<tr><td style=\"text-align: right;\">-0.0104555</td><td style=\"text-align: right;\">-0.0650355 </td><td style=\"text-align: right;\">-0.0271681 </td><td style=\"text-align: right;\">0.0943721</td><td style=\"text-align: right;\">-0.00690393</td><td style=\"text-align: right;\">-0.0761177</td><td style=\"text-align: right;\"> 0.00136208</td><td style=\"text-align: right;\">-0.0499288</td><td style=\"text-align: right;\"> 0.0426951 </td><td style=\"text-align: right;\">-0.0989814</td><td style=\"text-align: right;\">-0.00849895</td><td style=\"text-align: right;\">-0.0874788 </td><td style=\"text-align: right;\"> 0.00738907</td><td style=\"text-align: right;\">-0.0546197 </td><td style=\"text-align: right;\">-0.0537471 </td><td style=\"text-align: right;\">0.0295532 </td><td style=\"text-align: right;\"> 0.0739076</td><td style=\"text-align: right;\"> 0.030429 </td><td style=\"text-align: right;\">-0.00295253</td><td style=\"text-align: right;\">-0.0403807</td><td style=\"text-align: right;\">-0.100654  </td><td style=\"text-align: right;\"> 0.0328898 </td><td style=\"text-align: right;\"> 0.147556   </td><td style=\"text-align: right;\">-0.0358579 </td><td style=\"text-align: right;\"> 0.0454313</td><td style=\"text-align: right;\"> 0.0232481  </td><td style=\"text-align: right;\">-0.0205637</td><td style=\"text-align: right;\">-0.177446 </td><td style=\"text-align: right;\">-0.0924564 </td><td style=\"text-align: right;\">-0.151869</td><td style=\"text-align: right;\"> 0.0102763 </td><td style=\"text-align: right;\">0.0952358 </td><td style=\"text-align: right;\">-0.109538 </td><td style=\"text-align: right;\">0.280211 </td><td style=\"text-align: right;\">-0.0346716  </td><td style=\"text-align: right;\">-0.11649  </td><td style=\"text-align: right;\">-0.11104    </td><td style=\"text-align: right;\">-0.0161047 </td><td style=\"text-align: right;\"> 0.0823938</td><td style=\"text-align: right;\">-0.116456 </td><td style=\"text-align: right;\">-0.0780562</td><td style=\"text-align: right;\"> 0.0347646</td><td style=\"text-align: right;\">-0.0412193</td><td style=\"text-align: right;\"> 0.144907   </td><td style=\"text-align: right;\">-0.100565  </td><td style=\"text-align: right;\"> 0.00353138 </td><td style=\"text-align: right;\"> 0.0333027 </td><td style=\"text-align: right;\">-0.0620678</td><td style=\"text-align: right;\">-0.00783388</td><td style=\"text-align: right;\">-0.149446   </td><td style=\"text-align: right;\"> 0.104317  </td><td style=\"text-align: right;\"> 0.0936942 </td><td style=\"text-align: right;\">-0.0284872  </td><td style=\"text-align: right;\">-0.118505 </td><td style=\"text-align: right;\">-0.052614  </td><td style=\"text-align: right;\">-0.0530326 </td><td style=\"text-align: right;\">-0.0980326</td><td style=\"text-align: right;\">-0.0393002</td><td style=\"text-align: right;\"> 0.0468432 </td><td style=\"text-align: right;\"> 0.0136401 </td><td style=\"text-align: right;\"> 0.0140628</td><td style=\"text-align: right;\">0.109156 </td><td style=\"text-align: right;\">0.118868 </td><td style=\"text-align: right;\"> 0.0989769 </td><td style=\"text-align: right;\">-0.0572224 </td><td style=\"text-align: right;\"> 0.101436  </td><td style=\"text-align: right;\"> 0.10293   </td><td style=\"text-align: right;\"> 0.105704 </td><td style=\"text-align: right;\">-0.0318639 </td><td style=\"text-align: right;\"> 0.12308   </td><td style=\"text-align: right;\"> 0.0196404 </td><td style=\"text-align: right;\"> 0.0325318</td><td style=\"text-align: right;\">-0.0852589 </td><td style=\"text-align: right;\">-0.0131972  </td><td style=\"text-align: right;\">-0.0108115 </td><td style=\"text-align: right;\">-0.00737495</td><td style=\"text-align: right;\"> 0.161867 </td><td style=\"text-align: right;\"> 0.0496744  </td><td style=\"text-align: right;\"> 0.0604232 </td><td style=\"text-align: right;\">-0.11858    </td><td style=\"text-align: right;\">-0.0644173 </td><td style=\"text-align: right;\">-0.00685963</td><td style=\"text-align: right;\"> 0.0680053 </td><td style=\"text-align: right;\">-0.0500246 </td><td style=\"text-align: right;\">-0.00786586</td><td style=\"text-align: right;\"> 0.0145573 </td><td style=\"text-align: right;\"> 0.0735585  </td><td style=\"text-align: right;\"> 0.0179232 </td><td style=\"text-align: right;\"> 0.0891209</td><td style=\"text-align: right;\">0.225186 </td><td style=\"text-align: right;\">-0.0545906</td><td style=\"text-align: right;\"> 0.106597 </td><td style=\"text-align: right;\">-0.0277948 </td><td style=\"text-align: right;\"> 0.154858 </td><td style=\"text-align: right;\">-0.0211693</td><td style=\"text-align: right;\"> 0.0230095 </td><td style=\"text-align: right;\"> 0.0340069 </td><td style=\"text-align: right;\"> 0.0616921</td><td style=\"text-align: right;\"> 0.0697093</td><td style=\"text-align: right;\">-0.0225268 </td></tr>\n",
              "<tr><td style=\"text-align: right;\"> 0.085436 </td><td style=\"text-align: right;\"> 0.0508958 </td><td style=\"text-align: right;\"> 0.0186185 </td><td style=\"text-align: right;\">0.0583147</td><td style=\"text-align: right;\">-0.0745284 </td><td style=\"text-align: right;\">-0.0761244</td><td style=\"text-align: right;\">-0.0174958 </td><td style=\"text-align: right;\">-0.0223464</td><td style=\"text-align: right;\"> 0.0267964 </td><td style=\"text-align: right;\">-0.0304098</td><td style=\"text-align: right;\">-0.0707764 </td><td style=\"text-align: right;\">-0.00228045</td><td style=\"text-align: right;\">-0.0476601 </td><td style=\"text-align: right;\">-0.0612581 </td><td style=\"text-align: right;\">-0.0581876 </td><td style=\"text-align: right;\">0.00124037</td><td style=\"text-align: right;\"> 0.0360902</td><td style=\"text-align: right;\"> 0.0853977</td><td style=\"text-align: right;\"> 0.0130485 </td><td style=\"text-align: right;\">-0.124572 </td><td style=\"text-align: right;\">-0.102072  </td><td style=\"text-align: right;\"> 0.01919   </td><td style=\"text-align: right;\"> 0.0960911  </td><td style=\"text-align: right;\"> 0.0334078 </td><td style=\"text-align: right;\">-0.0642531</td><td style=\"text-align: right;\"> 0.0155678  </td><td style=\"text-align: right;\"> 0.0196571</td><td style=\"text-align: right;\">-0.178992 </td><td style=\"text-align: right;\">-0.093847  </td><td style=\"text-align: right;\">-0.192452</td><td style=\"text-align: right;\"> 0.0674805 </td><td style=\"text-align: right;\">0.128777  </td><td style=\"text-align: right;\">-0.203268 </td><td style=\"text-align: right;\">0.169954 </td><td style=\"text-align: right;\"> 0.0345157  </td><td style=\"text-align: right;\">-0.173959 </td><td style=\"text-align: right;\">-0.186293   </td><td style=\"text-align: right;\">-0.0247576 </td><td style=\"text-align: right;\"> 0.0468401</td><td style=\"text-align: right;\">-0.136851 </td><td style=\"text-align: right;\">-0.024132 </td><td style=\"text-align: right;\"> 0.0688665</td><td style=\"text-align: right;\"> 0.0107246</td><td style=\"text-align: right;\"> 0.158996   </td><td style=\"text-align: right;\">-0.0690491 </td><td style=\"text-align: right;\"> 0.0800815  </td><td style=\"text-align: right;\"> 0.00216258</td><td style=\"text-align: right;\"> 0.0743538</td><td style=\"text-align: right;\">-0.00195585</td><td style=\"text-align: right;\">-0.137549   </td><td style=\"text-align: right;\"> 0.205385  </td><td style=\"text-align: right;\"> 0.13209   </td><td style=\"text-align: right;\"> 0.000921493</td><td style=\"text-align: right;\">-0.0627629</td><td style=\"text-align: right;\">-0.0782674 </td><td style=\"text-align: right;\">-0.0092924 </td><td style=\"text-align: right;\">-0.092422 </td><td style=\"text-align: right;\">-0.0828957</td><td style=\"text-align: right;\"> 0.0181861 </td><td style=\"text-align: right;\"> 0.0339348 </td><td style=\"text-align: right;\">-0.0523736</td><td style=\"text-align: right;\">0.0741674</td><td style=\"text-align: right;\">0.0237966</td><td style=\"text-align: right;\"> 0.0236778 </td><td style=\"text-align: right;\">-0.0815716 </td><td style=\"text-align: right;\"> 0.022091  </td><td style=\"text-align: right;\"> 0.133937  </td><td style=\"text-align: right;\"> 0.135247 </td><td style=\"text-align: right;\">-0.00434185</td><td style=\"text-align: right;\"> 0.0704425 </td><td style=\"text-align: right;\">-0.0355264 </td><td style=\"text-align: right;\">-0.0553635</td><td style=\"text-align: right;\">-0.120524  </td><td style=\"text-align: right;\">-0.0301111  </td><td style=\"text-align: right;\"> 0.0174175 </td><td style=\"text-align: right;\"> 0.0133081 </td><td style=\"text-align: right;\"> 0.111866 </td><td style=\"text-align: right;\"> 0.0135521  </td><td style=\"text-align: right;\"> 0.0362401 </td><td style=\"text-align: right;\"> 0.000399388</td><td style=\"text-align: right;\">-0.0721557 </td><td style=\"text-align: right;\"> 0.0505048 </td><td style=\"text-align: right;\"> 0.0479321 </td><td style=\"text-align: right;\">-0.126424  </td><td style=\"text-align: right;\"> 0.0989298 </td><td style=\"text-align: right;\"> 0.0546801 </td><td style=\"text-align: right;\"> 0.142276   </td><td style=\"text-align: right;\"> 0.00278382</td><td style=\"text-align: right;\"> 0.0808943</td><td style=\"text-align: right;\">0.158511 </td><td style=\"text-align: right;\">-0.0293933</td><td style=\"text-align: right;\"> 0.110676 </td><td style=\"text-align: right;\"> 0.0807834 </td><td style=\"text-align: right;\"> 0.161657 </td><td style=\"text-align: right;\"> 0.0403566</td><td style=\"text-align: right;\"> 0.0179972 </td><td style=\"text-align: right;\">-0.00842328</td><td style=\"text-align: right;\"> 0.0437053</td><td style=\"text-align: right;\">-0.0327088</td><td style=\"text-align: right;\"> 0.0797948 </td></tr>\n",
              "</tbody>\n",
              "</table>"
            ]
          },
          "metadata": {
            "tags": []
          }
        },
        {
          "output_type": "execute_result",
          "data": {
            "text/plain": [
              ""
            ]
          },
          "metadata": {
            "tags": []
          },
          "execution_count": 46
        }
      ]
    },
    {
      "cell_type": "code",
      "metadata": {
        "id": "Fz-j_8JSWACp"
      },
      "source": [
        "h2o_df_ext=h2o_df.cbind(review_vecs)"
      ],
      "execution_count": 47,
      "outputs": []
    },
    {
      "cell_type": "code",
      "metadata": {
        "colab": {
          "base_uri": "https://localhost:8080/",
          "height": 1000
        },
        "id": "2_TwAnNJWOn4",
        "outputId": "fcca366b-8b34-4c6b-8418-a15a4a01e921"
      },
      "source": [
        "h2o_df_ext"
      ],
      "execution_count": 48,
      "outputs": [
        {
          "output_type": "display_data",
          "data": {
            "text/html": [
              "<table>\n",
              "<thead>\n",
              "<tr><th style=\"text-align: right;\">  votes</th><th>headline                                                                 </th><th>reviews                                                                                                                                                                                                                                                                                                                                                                                                                                                                                                                                                                                                                                                                                                                                                                                                                                                                                                                                                                                                                                                                                                                           </th><th style=\"text-align: right;\">  rating</th><th style=\"text-align: right;\">  target</th><th style=\"text-align: right;\">        C1</th><th style=\"text-align: right;\">         C2</th><th style=\"text-align: right;\">         C3</th><th style=\"text-align: right;\">       C4</th><th style=\"text-align: right;\">         C5</th><th style=\"text-align: right;\">        C6</th><th style=\"text-align: right;\">         C7</th><th style=\"text-align: right;\">        C8</th><th style=\"text-align: right;\">         C9</th><th style=\"text-align: right;\">       C10</th><th style=\"text-align: right;\">        C11</th><th style=\"text-align: right;\">        C12</th><th style=\"text-align: right;\">        C13</th><th style=\"text-align: right;\">        C14</th><th style=\"text-align: right;\">        C15</th><th style=\"text-align: right;\">       C16</th><th style=\"text-align: right;\">       C17</th><th style=\"text-align: right;\">       C18</th><th style=\"text-align: right;\">        C19</th><th style=\"text-align: right;\">       C20</th><th style=\"text-align: right;\">        C21</th><th style=\"text-align: right;\">        C22</th><th style=\"text-align: right;\">         C23</th><th style=\"text-align: right;\">        C24</th><th style=\"text-align: right;\">       C25</th><th style=\"text-align: right;\">         C26</th><th style=\"text-align: right;\">       C27</th><th style=\"text-align: right;\">       C28</th><th style=\"text-align: right;\">        C29</th><th style=\"text-align: right;\">      C30</th><th style=\"text-align: right;\">        C31</th><th style=\"text-align: right;\">       C32</th><th style=\"text-align: right;\">       C33</th><th style=\"text-align: right;\">      C34</th><th style=\"text-align: right;\">         C35</th><th style=\"text-align: right;\">       C36</th><th style=\"text-align: right;\">         C37</th><th style=\"text-align: right;\">        C38</th><th style=\"text-align: right;\">       C39</th><th style=\"text-align: right;\">       C40</th><th style=\"text-align: right;\">       C41</th><th style=\"text-align: right;\">       C42</th><th style=\"text-align: right;\">       C43</th><th style=\"text-align: right;\">         C44</th><th style=\"text-align: right;\">        C45</th><th style=\"text-align: right;\">         C46</th><th style=\"text-align: right;\">        C47</th><th style=\"text-align: right;\">       C48</th><th style=\"text-align: right;\">        C49</th><th style=\"text-align: right;\">         C50</th><th style=\"text-align: right;\">        C51</th><th style=\"text-align: right;\">        C52</th><th style=\"text-align: right;\">         C53</th><th style=\"text-align: right;\">       C54</th><th style=\"text-align: right;\">        C55</th><th style=\"text-align: right;\">        C56</th><th style=\"text-align: right;\">       C57</th><th style=\"text-align: right;\">       C58</th><th style=\"text-align: right;\">        C59</th><th style=\"text-align: right;\">        C60</th><th style=\"text-align: right;\">       C61</th><th style=\"text-align: right;\">      C62</th><th style=\"text-align: right;\">      C63</th><th style=\"text-align: right;\">        C64</th><th style=\"text-align: right;\">        C65</th><th style=\"text-align: right;\">        C66</th><th style=\"text-align: right;\">        C67</th><th style=\"text-align: right;\">       C68</th><th style=\"text-align: right;\">        C69</th><th style=\"text-align: right;\">        C70</th><th style=\"text-align: right;\">        C71</th><th style=\"text-align: right;\">       C72</th><th style=\"text-align: right;\">        C73</th><th style=\"text-align: right;\">         C74</th><th style=\"text-align: right;\">        C75</th><th style=\"text-align: right;\">        C76</th><th style=\"text-align: right;\">       C77</th><th style=\"text-align: right;\">         C78</th><th style=\"text-align: right;\">        C79</th><th style=\"text-align: right;\">         C80</th><th style=\"text-align: right;\">        C81</th><th style=\"text-align: right;\">        C82</th><th style=\"text-align: right;\">        C83</th><th style=\"text-align: right;\">        C84</th><th style=\"text-align: right;\">        C85</th><th style=\"text-align: right;\">        C86</th><th style=\"text-align: right;\">         C87</th><th style=\"text-align: right;\">        C88</th><th style=\"text-align: right;\">       C89</th><th style=\"text-align: right;\">      C90</th><th style=\"text-align: right;\">       C91</th><th style=\"text-align: right;\">       C92</th><th style=\"text-align: right;\">        C93</th><th style=\"text-align: right;\">       C94</th><th style=\"text-align: right;\">       C95</th><th style=\"text-align: right;\">        C96</th><th style=\"text-align: right;\">        C97</th><th style=\"text-align: right;\">       C98</th><th style=\"text-align: right;\">       C99</th><th style=\"text-align: right;\">       C100</th></tr>\n",
              "</thead>\n",
              "<tbody>\n",
              "<tr><td style=\"text-align: right;\">      0</td><td>b&#x27;These glasses are an excellent value. The fit is good and they are ...&#x27;</td><td>b&quot;These glasses are an excellent value.  The fit is good and they are very comfortable.  Because of my legal blindness, there aren&#x27;t a lot of options to try to see better, but I believe these help with my other visual aids, and because they are reasonably priced I can have more than one pair available.&quot;                                                                                                                                                                                                                                                                                                                                                                                                                                                                                                                                                                                                                                                                                                                                                                                                                  </td><td style=\"text-align: right;\">       4</td><td style=\"text-align: right;\">       1</td><td style=\"text-align: right;\"> 0.0928554</td><td style=\"text-align: right;\">-0.0681869 </td><td style=\"text-align: right;\"> 0.0526175 </td><td style=\"text-align: right;\">0.178322 </td><td style=\"text-align: right;\">-0.11154   </td><td style=\"text-align: right;\">-0.175287 </td><td style=\"text-align: right;\"> 0.0800719 </td><td style=\"text-align: right;\"> 0.0381543</td><td style=\"text-align: right;\"> 0.0481738 </td><td style=\"text-align: right;\"> 0.0723973</td><td style=\"text-align: right;\"> 0.00992735</td><td style=\"text-align: right;\"> 0.12043   </td><td style=\"text-align: right;\">-0.0676577 </td><td style=\"text-align: right;\">-0.0976626 </td><td style=\"text-align: right;\"> 0.0324151 </td><td style=\"text-align: right;\">0.0888663 </td><td style=\"text-align: right;\"> 0.0629005</td><td style=\"text-align: right;\"> 0.0280419</td><td style=\"text-align: right;\">-0.0533805 </td><td style=\"text-align: right;\">-0.0671065</td><td style=\"text-align: right;\">-0.137512  </td><td style=\"text-align: right;\">-0.0436673 </td><td style=\"text-align: right;\"> 0.0972628  </td><td style=\"text-align: right;\">-0.0547482 </td><td style=\"text-align: right;\"> 0.0182456</td><td style=\"text-align: right;\"> 0.116664   </td><td style=\"text-align: right;\">-0.108079 </td><td style=\"text-align: right;\">-0.212961 </td><td style=\"text-align: right;\"> 0.0440586 </td><td style=\"text-align: right;\">-0.098442</td><td style=\"text-align: right;\"> 0.0381089 </td><td style=\"text-align: right;\">0.102497  </td><td style=\"text-align: right;\">-0.131187 </td><td style=\"text-align: right;\">0.195375 </td><td style=\"text-align: right;\"> 0.046057   </td><td style=\"text-align: right;\">-0.127018 </td><td style=\"text-align: right;\">-0.000842219</td><td style=\"text-align: right;\">-0.00480667</td><td style=\"text-align: right;\"> 0.0514512</td><td style=\"text-align: right;\">-0.11523  </td><td style=\"text-align: right;\"> 0.0183084</td><td style=\"text-align: right;\"> 0.0544952</td><td style=\"text-align: right;\"> 0.0147073</td><td style=\"text-align: right;\"> 0.0585335  </td><td style=\"text-align: right;\">-0.130779  </td><td style=\"text-align: right;\">-0.0567715  </td><td style=\"text-align: right;\"> 0.0158491 </td><td style=\"text-align: right;\"> 0.0765064</td><td style=\"text-align: right;\"> 0.0503837 </td><td style=\"text-align: right;\">-0.0479486  </td><td style=\"text-align: right;\"> 0.0125844 </td><td style=\"text-align: right;\"> 0.133741  </td><td style=\"text-align: right;\"> 0.00651583 </td><td style=\"text-align: right;\">-0.0336584</td><td style=\"text-align: right;\">-0.0779037 </td><td style=\"text-align: right;\">-0.0150825 </td><td style=\"text-align: right;\">-0.0592935</td><td style=\"text-align: right;\">-0.0848631</td><td style=\"text-align: right;\">-0.00519378</td><td style=\"text-align: right;\">-0.0227161 </td><td style=\"text-align: right;\"> 0.0762298</td><td style=\"text-align: right;\">0.0216118</td><td style=\"text-align: right;\">0.0693698</td><td style=\"text-align: right;\">-0.0395999 </td><td style=\"text-align: right;\">-0.187257  </td><td style=\"text-align: right;\"> 0.0521221 </td><td style=\"text-align: right;\"> 0.00326417</td><td style=\"text-align: right;\"> 0.193554 </td><td style=\"text-align: right;\">-0.0595725 </td><td style=\"text-align: right;\"> 0.0279399 </td><td style=\"text-align: right;\">-0.044564  </td><td style=\"text-align: right;\">-0.174724 </td><td style=\"text-align: right;\">-0.0851853 </td><td style=\"text-align: right;\"> 0.217813   </td><td style=\"text-align: right;\"> 0.0093347 </td><td style=\"text-align: right;\">-0.065259  </td><td style=\"text-align: right;\"> 0.162054 </td><td style=\"text-align: right;\"> 0.0751151  </td><td style=\"text-align: right;\"> 0.0404332 </td><td style=\"text-align: right;\"> 0.153009   </td><td style=\"text-align: right;\"> 0.0326122 </td><td style=\"text-align: right;\"> 0.0147171 </td><td style=\"text-align: right;\">-0.0278806 </td><td style=\"text-align: right;\">-0.0537986 </td><td style=\"text-align: right;\"> 0.0234797 </td><td style=\"text-align: right;\"> 0.0161622 </td><td style=\"text-align: right;\"> 0.0544299  </td><td style=\"text-align: right;\"> 0.104015  </td><td style=\"text-align: right;\"> 0.0543019</td><td style=\"text-align: right;\">0.154262 </td><td style=\"text-align: right;\">-0.0834396</td><td style=\"text-align: right;\"> 0.0978944</td><td style=\"text-align: right;\"> 0.0662221 </td><td style=\"text-align: right;\"> 0.282294 </td><td style=\"text-align: right;\">-0.178204 </td><td style=\"text-align: right;\"> 0.0132587 </td><td style=\"text-align: right;\">-0.0876272 </td><td style=\"text-align: right;\"> 0.109242 </td><td style=\"text-align: right;\"> 0.0119569</td><td style=\"text-align: right;\">-0.0318945 </td></tr>\n",
              "<tr><td style=\"text-align: right;\">      3</td><td>b&#x27;A fantastic way to cheaply try straight razor shaving.&#x27;                </td><td>b&quot;Always wanted to try straight razor shaving (as a DE safety razor user), and this was a cheap way for me to determine I was not into it.&lt;br /&gt;&lt;br /&gt;Because the blades are disposable and always sharp, I could put a new one in and reasonably rely upon that fact that cuts were probably due to my technique and not the blade.&lt;br /&gt;&lt;br /&gt;It&#x27;s very hard to do straight razor shaving on yourself because the ANGLE is difficult to control without switching hands. Being very right-handed, I really couldn&#x27;t do that. I bet I could shave someone else&#x27;s face with it though.&lt;br /&gt;&lt;br /&gt;An immediate upside? Using a DE safety razor (slant edged even) seems SUPER safe now! I&#x27;m increased my speed with the DE due to that confidence, and I&#x27;d been using it for years now.&quot;                                                                                                                                                                                                                                                                                                                                          </td><td style=\"text-align: right;\">       5</td><td style=\"text-align: right;\">       1</td><td style=\"text-align: right;\">-0.0187195</td><td style=\"text-align: right;\"> 0.0352197 </td><td style=\"text-align: right;\">-0.0355229 </td><td style=\"text-align: right;\">0.0623159</td><td style=\"text-align: right;\">-0.179573  </td><td style=\"text-align: right;\">-0.0993476</td><td style=\"text-align: right;\">-0.0397758 </td><td style=\"text-align: right;\">-0.0191002</td><td style=\"text-align: right;\"> 0.0201014 </td><td style=\"text-align: right;\">-0.100388 </td><td style=\"text-align: right;\"> 0.0337064 </td><td style=\"text-align: right;\">-0.0658662 </td><td style=\"text-align: right;\">-0.011768  </td><td style=\"text-align: right;\">-0.0715782 </td><td style=\"text-align: right;\"> 0.125187  </td><td style=\"text-align: right;\">0.0425325 </td><td style=\"text-align: right;\"> 0.0338431</td><td style=\"text-align: right;\"> 0.0897116</td><td style=\"text-align: right;\">-0.0354901 </td><td style=\"text-align: right;\">-0.0518855</td><td style=\"text-align: right;\">-0.0827701 </td><td style=\"text-align: right;\">-0.138089  </td><td style=\"text-align: right;\">-0.00570933 </td><td style=\"text-align: right;\"> 0.0106738 </td><td style=\"text-align: right;\">-0.0486332</td><td style=\"text-align: right;\">-0.0700158  </td><td style=\"text-align: right;\">-0.138428 </td><td style=\"text-align: right;\">-0.0418686</td><td style=\"text-align: right;\">-0.0765158 </td><td style=\"text-align: right;\">-0.133505</td><td style=\"text-align: right;\"> 0.0667318 </td><td style=\"text-align: right;\">0.211777  </td><td style=\"text-align: right;\">-0.0720769</td><td style=\"text-align: right;\">0.187371 </td><td style=\"text-align: right;\">-0.0405274  </td><td style=\"text-align: right;\">-0.103456 </td><td style=\"text-align: right;\">-0.0890427  </td><td style=\"text-align: right;\">-0.0504157 </td><td style=\"text-align: right;\"> 0.0189955</td><td style=\"text-align: right;\">-0.153807 </td><td style=\"text-align: right;\">-0.0667876</td><td style=\"text-align: right;\"> 0.0581946</td><td style=\"text-align: right;\">-0.0530559</td><td style=\"text-align: right;\"> 0.240953   </td><td style=\"text-align: right;\"> 0.00676678</td><td style=\"text-align: right;\"> 0.0396296  </td><td style=\"text-align: right;\"> 0.0456891 </td><td style=\"text-align: right;\">-0.143772 </td><td style=\"text-align: right;\">-0.0225959 </td><td style=\"text-align: right;\">-0.000872822</td><td style=\"text-align: right;\"> 0.063284  </td><td style=\"text-align: right;\"> 0.112362  </td><td style=\"text-align: right;\">-0.0357453  </td><td style=\"text-align: right;\">-0.146095 </td><td style=\"text-align: right;\">-0.109007  </td><td style=\"text-align: right;\"> 0.0753925 </td><td style=\"text-align: right;\">-0.0176045</td><td style=\"text-align: right;\">-0.0883622</td><td style=\"text-align: right;\">-0.103838  </td><td style=\"text-align: right;\">-0.0520978 </td><td style=\"text-align: right;\"> 0.0263676</td><td style=\"text-align: right;\">0.0497275</td><td style=\"text-align: right;\">0.204768 </td><td style=\"text-align: right;\"> 0.109935  </td><td style=\"text-align: right;\">-0.0924562 </td><td style=\"text-align: right;\"> 0.166922  </td><td style=\"text-align: right;\">-0.00116572</td><td style=\"text-align: right;\">-0.0694967</td><td style=\"text-align: right;\"> 0.049833  </td><td style=\"text-align: right;\">-0.0380158 </td><td style=\"text-align: right;\">-0.134551  </td><td style=\"text-align: right;\">-0.151007 </td><td style=\"text-align: right;\">-0.0863211 </td><td style=\"text-align: right;\"> 0.0326189  </td><td style=\"text-align: right;\">-0.0621264 </td><td style=\"text-align: right;\"> 0.0360766 </td><td style=\"text-align: right;\"> 0.190622 </td><td style=\"text-align: right;\">-0.0549009  </td><td style=\"text-align: right;\">-0.0590383 </td><td style=\"text-align: right;\"> 0.117101   </td><td style=\"text-align: right;\">-0.0207354 </td><td style=\"text-align: right;\"> 0.0369261 </td><td style=\"text-align: right;\"> 0.00689412</td><td style=\"text-align: right;\">-0.060246  </td><td style=\"text-align: right;\"> 0.0394409 </td><td style=\"text-align: right;\"> 0.0961615 </td><td style=\"text-align: right;\"> 0.134434   </td><td style=\"text-align: right;\"> 0.19744   </td><td style=\"text-align: right;\"> 0.0325088</td><td style=\"text-align: right;\">0.148208 </td><td style=\"text-align: right;\">-0.0706438</td><td style=\"text-align: right;\"> 0.128245 </td><td style=\"text-align: right;\"> 0.0708771 </td><td style=\"text-align: right;\"> 0.153812 </td><td style=\"text-align: right;\">-0.12552  </td><td style=\"text-align: right;\"> 0.0374693 </td><td style=\"text-align: right;\"> 0.0771231 </td><td style=\"text-align: right;\"> 0.1156   </td><td style=\"text-align: right;\"> 0.0767743</td><td style=\"text-align: right;\"> 0.0859195 </td></tr>\n",
              "<tr><td style=\"text-align: right;\">      0</td><td>b&#x27;Great for travel&#x27;                                                      </td><td>b&#x27;I usually either throw my toothbrush in a plastic bag with spare head so this product is very convenient for keeping all the parts apart, dry and undamaged, and i now keep it in my travel bag all the time ready to go.&#x27;                                                                                                                                                                                                                                                                                                                                                                                                                                                                                                                                                                                                                                                                                                                                                                                                                                                                                                      </td><td style=\"text-align: right;\">       4</td><td style=\"text-align: right;\">       1</td><td style=\"text-align: right;\">-0.0805178</td><td style=\"text-align: right;\">-0.0461625 </td><td style=\"text-align: right;\">-0.0551182 </td><td style=\"text-align: right;\">0.193859 </td><td style=\"text-align: right;\"> 0.0531889 </td><td style=\"text-align: right;\">-0.088668 </td><td style=\"text-align: right;\">-0.0828386 </td><td style=\"text-align: right;\">-0.124243 </td><td style=\"text-align: right;\"> 0.0986724 </td><td style=\"text-align: right;\">-0.0221658</td><td style=\"text-align: right;\"> 0.106922  </td><td style=\"text-align: right;\"> 0.0408941 </td><td style=\"text-align: right;\">-0.0566087 </td><td style=\"text-align: right;\"> 0.0304708 </td><td style=\"text-align: right;\">-0.0031672 </td><td style=\"text-align: right;\">0.127131  </td><td style=\"text-align: right;\">-0.074725 </td><td style=\"text-align: right;\"> 0.114979 </td><td style=\"text-align: right;\"> 0.00379095</td><td style=\"text-align: right;\">-0.121619 </td><td style=\"text-align: right;\">-0.0696944 </td><td style=\"text-align: right;\">-0.0832596 </td><td style=\"text-align: right;\"> 0.136304   </td><td style=\"text-align: right;\">-0.00575639</td><td style=\"text-align: right;\">-0.173951 </td><td style=\"text-align: right;\">-0.0135023  </td><td style=\"text-align: right;\">-0.0650375</td><td style=\"text-align: right;\">-0.0141243</td><td style=\"text-align: right;\">-0.013156  </td><td style=\"text-align: right;\">-0.108174</td><td style=\"text-align: right;\">-0.026809  </td><td style=\"text-align: right;\">0.175044  </td><td style=\"text-align: right;\">-0.159644 </td><td style=\"text-align: right;\">0.19449  </td><td style=\"text-align: right;\"> 0.0565797  </td><td style=\"text-align: right;\">-0.104741 </td><td style=\"text-align: right;\">-0.108002   </td><td style=\"text-align: right;\">-0.0886169 </td><td style=\"text-align: right;\">-0.0414625</td><td style=\"text-align: right;\">-0.127902 </td><td style=\"text-align: right;\">-0.0727704</td><td style=\"text-align: right;\">-0.0916973</td><td style=\"text-align: right;\"> 0.0848711</td><td style=\"text-align: right;\"> 0.185968   </td><td style=\"text-align: right;\">-0.104989  </td><td style=\"text-align: right;\">-0.0408809  </td><td style=\"text-align: right;\"> 0.0774902 </td><td style=\"text-align: right;\">-0.0999082</td><td style=\"text-align: right;\">-0.0169326 </td><td style=\"text-align: right;\">-0.120546   </td><td style=\"text-align: right;\"> 0.00680373</td><td style=\"text-align: right;\"> 0.091517  </td><td style=\"text-align: right;\"> 0.0567199  </td><td style=\"text-align: right;\">-0.161939 </td><td style=\"text-align: right;\">-0.0781712 </td><td style=\"text-align: right;\">-0.138734  </td><td style=\"text-align: right;\">-0.128357 </td><td style=\"text-align: right;\">-0.117936 </td><td style=\"text-align: right;\"> 0.164488  </td><td style=\"text-align: right;\"> 0.00198572</td><td style=\"text-align: right;\">-0.0828716</td><td style=\"text-align: right;\">0.024407 </td><td style=\"text-align: right;\">0.104553 </td><td style=\"text-align: right;\"> 0.0664176 </td><td style=\"text-align: right;\">-0.1642    </td><td style=\"text-align: right;\"> 0.103785  </td><td style=\"text-align: right;\"> 0.0442425 </td><td style=\"text-align: right;\">-0.015685 </td><td style=\"text-align: right;\"> 0.0499764 </td><td style=\"text-align: right;\"> 0.0826374 </td><td style=\"text-align: right;\">-0.070064  </td><td style=\"text-align: right;\">-0.244971 </td><td style=\"text-align: right;\"> 0.127381  </td><td style=\"text-align: right;\"> 0.000274324</td><td style=\"text-align: right;\"> 0.0102157 </td><td style=\"text-align: right;\">-0.0704978 </td><td style=\"text-align: right;\"> 0.137245 </td><td style=\"text-align: right;\"> 0.159732   </td><td style=\"text-align: right;\">-0.0420978 </td><td style=\"text-align: right;\"> 0.0142218  </td><td style=\"text-align: right;\">-0.0420141 </td><td style=\"text-align: right;\"> 0.0275792 </td><td style=\"text-align: right;\"> 0.145963  </td><td style=\"text-align: right;\">-0.0218821 </td><td style=\"text-align: right;\">-0.0319721 </td><td style=\"text-align: right;\">-0.0677524 </td><td style=\"text-align: right;\">-0.0724556  </td><td style=\"text-align: right;\"> 0.0668491 </td><td style=\"text-align: right;\"> 0.0127155</td><td style=\"text-align: right;\">0.0955269</td><td style=\"text-align: right;\">-0.152379 </td><td style=\"text-align: right;\"> 0.154695 </td><td style=\"text-align: right;\">-0.131206  </td><td style=\"text-align: right;\"> 0.124961 </td><td style=\"text-align: right;\">-0.11558  </td><td style=\"text-align: right;\"> 0.00301823</td><td style=\"text-align: right;\"> 0.0866026 </td><td style=\"text-align: right;\">-0.0596966</td><td style=\"text-align: right;\"> 0.10218  </td><td style=\"text-align: right;\">-0.0237684 </td></tr>\n",
              "<tr><td style=\"text-align: right;\">      0</td><td>b&#x27;Five Stars&#x27;                                                            </td><td>b&#x27;Top quality.&#x27;                                                                                                                                                                                                                                                                                                                                                                                                                                                                                                                                                                                                                                                                                                                                                                                                                                                                                                                                                                                                                                                                                                                   </td><td style=\"text-align: right;\">       5</td><td style=\"text-align: right;\">       1</td><td style=\"text-align: right;\">-0.152333 </td><td style=\"text-align: right;\">-0.235975  </td><td style=\"text-align: right;\">-0.269967  </td><td style=\"text-align: right;\">0.164115 </td><td style=\"text-align: right;\"> 0.112795  </td><td style=\"text-align: right;\">-0.131884 </td><td style=\"text-align: right;\"> 0.0213575 </td><td style=\"text-align: right;\">-0.0956881</td><td style=\"text-align: right;\">-0.05024   </td><td style=\"text-align: right;\">-0.227668 </td><td style=\"text-align: right;\"> 0.0178577 </td><td style=\"text-align: right;\"> 0.0738407 </td><td style=\"text-align: right;\"> 0.0446852 </td><td style=\"text-align: right;\">-0.0673834 </td><td style=\"text-align: right;\"> 0.126685  </td><td style=\"text-align: right;\">0.129214  </td><td style=\"text-align: right;\"> 0.160516 </td><td style=\"text-align: right;\">-0.111481 </td><td style=\"text-align: right;\"> 0.0817604 </td><td style=\"text-align: right;\">-0.296926 </td><td style=\"text-align: right;\">-0.313859  </td><td style=\"text-align: right;\"> 0.0136364 </td><td style=\"text-align: right;\">-0.061928   </td><td style=\"text-align: right;\">-0.0505257 </td><td style=\"text-align: right;\">-0.160509 </td><td style=\"text-align: right;\"> 0.0603329  </td><td style=\"text-align: right;\">-0.146275 </td><td style=\"text-align: right;\"> 0.0655819</td><td style=\"text-align: right;\">-0.011587  </td><td style=\"text-align: right;\">-0.180369</td><td style=\"text-align: right;\"> 0.059202  </td><td style=\"text-align: right;\">0.00965455</td><td style=\"text-align: right;\">-0.0902189</td><td style=\"text-align: right;\">0.277393 </td><td style=\"text-align: right;\"> 0.160684   </td><td style=\"text-align: right;\"> 0.0713011</td><td style=\"text-align: right;\"> 0.0263919  </td><td style=\"text-align: right;\">-0.112365  </td><td style=\"text-align: right;\">-0.101889 </td><td style=\"text-align: right;\">-0.168828 </td><td style=\"text-align: right;\">-0.0021352</td><td style=\"text-align: right;\">-0.0479388</td><td style=\"text-align: right;\">-0.100211 </td><td style=\"text-align: right;\">-0.000184916</td><td style=\"text-align: right;\">-0.120549  </td><td style=\"text-align: right;\">-0.329645   </td><td style=\"text-align: right;\">-0.244482  </td><td style=\"text-align: right;\">-0.043013 </td><td style=\"text-align: right;\">-0.204188  </td><td style=\"text-align: right;\">-0.0290222  </td><td style=\"text-align: right;\">-0.0148388 </td><td style=\"text-align: right;\"> 0.0878991 </td><td style=\"text-align: right;\">-0.063816   </td><td style=\"text-align: right;\">-0.191431 </td><td style=\"text-align: right;\">-0.360277  </td><td style=\"text-align: right;\"> 0.201439  </td><td style=\"text-align: right;\"> 0.0353609</td><td style=\"text-align: right;\">-0.0132346</td><td style=\"text-align: right;\"> 0.0201811 </td><td style=\"text-align: right;\">-0.0387189 </td><td style=\"text-align: right;\">-0.137258 </td><td style=\"text-align: right;\">0.0337502</td><td style=\"text-align: right;\">0.115437 </td><td style=\"text-align: right;\"> 0.16089   </td><td style=\"text-align: right;\">-0.301448  </td><td style=\"text-align: right;\"> 0.12972   </td><td style=\"text-align: right;\"> 0.217082  </td><td style=\"text-align: right;\"> 0.263146 </td><td style=\"text-align: right;\">-0.0590992 </td><td style=\"text-align: right;\"> 0.0685065 </td><td style=\"text-align: right;\">-0.0815457 </td><td style=\"text-align: right;\">-0.160474 </td><td style=\"text-align: right;\"> 0.0675546 </td><td style=\"text-align: right;\"> 0.0425907  </td><td style=\"text-align: right;\">-0.107643  </td><td style=\"text-align: right;\">-0.080656  </td><td style=\"text-align: right;\"> 0.157795 </td><td style=\"text-align: right;\">-0.0597449  </td><td style=\"text-align: right;\"> 0.222768  </td><td style=\"text-align: right;\"> 0.215273   </td><td style=\"text-align: right;\">-0.100236  </td><td style=\"text-align: right;\"> 0.00957911</td><td style=\"text-align: right;\">-0.0896807 </td><td style=\"text-align: right;\"> 0.104389  </td><td style=\"text-align: right;\">-0.0342209 </td><td style=\"text-align: right;\">-0.026846  </td><td style=\"text-align: right;\"> 0.0327186  </td><td style=\"text-align: right;\">-0.0478216 </td><td style=\"text-align: right;\">-0.0336207</td><td style=\"text-align: right;\">0.161408 </td><td style=\"text-align: right;\">-0.148629 </td><td style=\"text-align: right;\">-0.0744755</td><td style=\"text-align: right;\">-0.0679349 </td><td style=\"text-align: right;\"> 0.292867 </td><td style=\"text-align: right;\">-0.299894 </td><td style=\"text-align: right;\"> 0.0682323 </td><td style=\"text-align: right;\"> 0.103455  </td><td style=\"text-align: right;\"> 0.041035 </td><td style=\"text-align: right;\"> 0.0788329</td><td style=\"text-align: right;\"> 0.00400096</td></tr>\n",
              "<tr><td style=\"text-align: right;\">      1</td><td>b&#x27;*Product sent not as shown&#x27;                                            </td><td>b&#x27;Today I received  1 Fl. Oz, Natures Balance AlkaMAX alkaline booster liquid unflavored (formally TriMedica) a glass brown bottle with eye dropper.&lt;br /&gt;Supplement Facts; Serving Size: 10 Drops (Approx. 0.5 mL). Servings per Container: Approx. 60&lt;br /&gt;Amount Per Serving % Daily Value&lt;br /&gt;Magnesium (as Magnesium Chloride) 40 mg 10%&lt;br /&gt;Chloride (as Magnesium Chloride) 64 mg 2%&lt;br /&gt;Other Ingredients: Deionized water and trace mineral complex.&lt;br /&gt;Directions: Add 10 drops to 8 oz. of water or other beverage daily as needed or as directed by your health care practitioner. Store in a cool, dry place.&lt;br /&gt;&lt;br /&gt;I have not used product as of yet with changed ingredients of original/as shown in AlkaMax alkaline support white squeeze bottle.&lt;br /&gt;but had to rate to post...heck this new may be better for all I know.&#x27;                                                                                                                                                                                                                                                                          </td><td style=\"text-align: right;\">       3</td><td style=\"text-align: right;\">       0</td><td style=\"text-align: right;\"> 0.129196 </td><td style=\"text-align: right;\">-0.00952481</td><td style=\"text-align: right;\"> 0.0076187 </td><td style=\"text-align: right;\">0.208031 </td><td style=\"text-align: right;\">-0.0513211 </td><td style=\"text-align: right;\">-0.178302 </td><td style=\"text-align: right;\">-0.00912883</td><td style=\"text-align: right;\">-0.0577918</td><td style=\"text-align: right;\">-0.00708027</td><td style=\"text-align: right;\">-0.0638663</td><td style=\"text-align: right;\">-0.0743484 </td><td style=\"text-align: right;\">-0.0713225 </td><td style=\"text-align: right;\">-0.0601585 </td><td style=\"text-align: right;\">-0.0900337 </td><td style=\"text-align: right;\">-0.00400337</td><td style=\"text-align: right;\">0.0407314 </td><td style=\"text-align: right;\"> 0.0376316</td><td style=\"text-align: right;\"> 0.094186 </td><td style=\"text-align: right;\"> 0.0023148 </td><td style=\"text-align: right;\"> 0.0229502</td><td style=\"text-align: right;\">-0.200972  </td><td style=\"text-align: right;\">-0.0975206 </td><td style=\"text-align: right;\">-0.0113653  </td><td style=\"text-align: right;\">-0.0197858 </td><td style=\"text-align: right;\">-0.153013 </td><td style=\"text-align: right;\"> 0.126039   </td><td style=\"text-align: right;\">-0.201931 </td><td style=\"text-align: right;\">-0.148843 </td><td style=\"text-align: right;\">-0.0107552 </td><td style=\"text-align: right;\">-0.101529</td><td style=\"text-align: right;\"> 0.138306  </td><td style=\"text-align: right;\">0.0891704 </td><td style=\"text-align: right;\">-0.193619 </td><td style=\"text-align: right;\">0.0986177</td><td style=\"text-align: right;\">-0.0445168  </td><td style=\"text-align: right;\">-0.101656 </td><td style=\"text-align: right;\">-0.0232338  </td><td style=\"text-align: right;\">-0.0943954 </td><td style=\"text-align: right;\">-0.106689 </td><td style=\"text-align: right;\">-0.165125 </td><td style=\"text-align: right;\">-0.129946 </td><td style=\"text-align: right;\"> 0.0445307</td><td style=\"text-align: right;\"> 0.082159 </td><td style=\"text-align: right;\"> 0.161711   </td><td style=\"text-align: right;\">-0.0927573 </td><td style=\"text-align: right;\">-0.035177   </td><td style=\"text-align: right;\">-0.144462  </td><td style=\"text-align: right;\"> 0.0985317</td><td style=\"text-align: right;\"> 0.0465448 </td><td style=\"text-align: right;\"> 0.00573186 </td><td style=\"text-align: right;\">-0.0733852 </td><td style=\"text-align: right;\">-0.00411738</td><td style=\"text-align: right;\"> 0.0202062  </td><td style=\"text-align: right;\">-0.1009   </td><td style=\"text-align: right;\">-0.00732506</td><td style=\"text-align: right;\">-0.0614034 </td><td style=\"text-align: right;\">-0.221189 </td><td style=\"text-align: right;\">-0.0693966</td><td style=\"text-align: right;\">-0.104101  </td><td style=\"text-align: right;\">-0.0679081 </td><td style=\"text-align: right;\">-0.119298 </td><td style=\"text-align: right;\">0.0842515</td><td style=\"text-align: right;\">0.0806068</td><td style=\"text-align: right;\">-0.0146275 </td><td style=\"text-align: right;\">-0.139661  </td><td style=\"text-align: right;\"> 0.00222596</td><td style=\"text-align: right;\"> 0.136124  </td><td style=\"text-align: right;\"> 0.0952241</td><td style=\"text-align: right;\"> 0.0668104 </td><td style=\"text-align: right;\">-0.0920006 </td><td style=\"text-align: right;\">-0.101281  </td><td style=\"text-align: right;\">-0.0677937</td><td style=\"text-align: right;\"> 0.0828641 </td><td style=\"text-align: right;\"> 0.115025   </td><td style=\"text-align: right;\">-0.0135644 </td><td style=\"text-align: right;\">-0.134145  </td><td style=\"text-align: right;\">-0.0942426</td><td style=\"text-align: right;\">-0.000951477</td><td style=\"text-align: right;\"> 0.0824163 </td><td style=\"text-align: right;\">-0.0915754  </td><td style=\"text-align: right;\"> 0.00787575</td><td style=\"text-align: right;\">-0.188478  </td><td style=\"text-align: right;\"> 0.0480129 </td><td style=\"text-align: right;\"> 0.110261  </td><td style=\"text-align: right;\">-0.219364  </td><td style=\"text-align: right;\"> 0.1132    </td><td style=\"text-align: right;\"> 0.000944576</td><td style=\"text-align: right;\"> 0.106642  </td><td style=\"text-align: right;\">-0.0400085</td><td style=\"text-align: right;\">0.228319 </td><td style=\"text-align: right;\">-0.176229 </td><td style=\"text-align: right;\"> 0.117059 </td><td style=\"text-align: right;\">-0.030102  </td><td style=\"text-align: right;\">-0.0361157</td><td style=\"text-align: right;\"> 0.122467 </td><td style=\"text-align: right;\">-0.119112  </td><td style=\"text-align: right;\">-0.0880958 </td><td style=\"text-align: right;\"> 0.133889 </td><td style=\"text-align: right;\"> 0.23428  </td><td style=\"text-align: right;\">-0.0879714 </td></tr>\n",
              "<tr><td style=\"text-align: right;\">      6</td><td>b&#x27;Seems to work well!&#x27;                                                   </td><td>b&#x27;I recently picked this unit up at Bed and Bath where it was $99.00. With a 20% coupon the price was $80 (so comparison shop!) It\\&#x27;s easy to use and seems to work well. I agree with other reviewers about the noise level (loud like a tea kettle boiling), but I use this unit in the living room area so sleeping is not an issue. Having the 2 separate water reservoirs to fill is much easier, weight-wise, as I previously had another humidifier which had one large water reservoir and it was very heavy when full. The unit comes apart quite easily for cleaning and since frequent cleaning is recommended (I usually do it 1x per week, not daily) this is a definite plus. Additionally, one only needs to use vinegar to clean the inside reservoir, which is a lot cheaper than having to buy some kind of \\\\\\\\&quot;special\\\\\\\\&quot; cleaning solution. My one complaint is that it doesn\\&#x27;t, but should, have an automatic shut off when both tanks are empty.I have to remember to turn the unit off when I leave the house. My previous humidifiers all had this auto turn off; seems like every humidifier should.&#x27;</td><td style=\"text-align: right;\">       4</td><td style=\"text-align: right;\">       1</td><td style=\"text-align: right;\"> 0.0205276</td><td style=\"text-align: right;\">-0.0446765 </td><td style=\"text-align: right;\"> 0.00838126</td><td style=\"text-align: right;\">0.1844   </td><td style=\"text-align: right;\">-0.0375246 </td><td style=\"text-align: right;\">-0.168202 </td><td style=\"text-align: right;\">-0.0036044 </td><td style=\"text-align: right;\">-0.148392 </td><td style=\"text-align: right;\"> 0.043135  </td><td style=\"text-align: right;\">-0.0328923</td><td style=\"text-align: right;\">-0.0382199 </td><td style=\"text-align: right;\">-0.017673  </td><td style=\"text-align: right;\">-0.0651974 </td><td style=\"text-align: right;\">-0.0437334 </td><td style=\"text-align: right;\"> 0.0127948 </td><td style=\"text-align: right;\">0.124761  </td><td style=\"text-align: right;\">-0.0312836</td><td style=\"text-align: right;\"> 0.025382 </td><td style=\"text-align: right;\"> 0.0512415 </td><td style=\"text-align: right;\">-0.0173628</td><td style=\"text-align: right;\">-0.0788175 </td><td style=\"text-align: right;\">-0.00644493</td><td style=\"text-align: right;\">-0.000723304</td><td style=\"text-align: right;\"> 0.0942707 </td><td style=\"text-align: right;\">-0.0737273</td><td style=\"text-align: right;\"> 0.0665194  </td><td style=\"text-align: right;\">-0.106013 </td><td style=\"text-align: right;\">-0.153163 </td><td style=\"text-align: right;\"> 0.0385465 </td><td style=\"text-align: right;\">-0.229496</td><td style=\"text-align: right;\"> 0.0572052 </td><td style=\"text-align: right;\">0.262255  </td><td style=\"text-align: right;\">-0.0678592</td><td style=\"text-align: right;\">0.12142  </td><td style=\"text-align: right;\"> 0.000502933</td><td style=\"text-align: right;\">-0.0945922</td><td style=\"text-align: right;\">-0.00153629 </td><td style=\"text-align: right;\">-0.175825  </td><td style=\"text-align: right;\">-0.0213139</td><td style=\"text-align: right;\">-0.203562 </td><td style=\"text-align: right;\">-0.0960697</td><td style=\"text-align: right;\">-0.030944 </td><td style=\"text-align: right;\"> 0.0103868</td><td style=\"text-align: right;\"> 0.140027   </td><td style=\"text-align: right;\">-0.1047    </td><td style=\"text-align: right;\">-0.0374464  </td><td style=\"text-align: right;\">-0.0636842 </td><td style=\"text-align: right;\"> 0.0511426</td><td style=\"text-align: right;\"> 0.00617986</td><td style=\"text-align: right;\">-0.051611   </td><td style=\"text-align: right;\"> 0.0466031 </td><td style=\"text-align: right;\"> 0.100656  </td><td style=\"text-align: right;\">-0.0152694  </td><td style=\"text-align: right;\">-0.155036 </td><td style=\"text-align: right;\">-0.0648589 </td><td style=\"text-align: right;\">-0.00891527</td><td style=\"text-align: right;\">-0.122927 </td><td style=\"text-align: right;\">-0.101874 </td><td style=\"text-align: right;\"> 0.0310385 </td><td style=\"text-align: right;\">-0.0734168 </td><td style=\"text-align: right;\">-0.0633887</td><td style=\"text-align: right;\">0.029904 </td><td style=\"text-align: right;\">0.1105   </td><td style=\"text-align: right;\"> 0.00806568</td><td style=\"text-align: right;\">-0.00574923</td><td style=\"text-align: right;\"> 0.094067  </td><td style=\"text-align: right;\"> 0.127557  </td><td style=\"text-align: right;\"> 0.036638 </td><td style=\"text-align: right;\">-0.0975874 </td><td style=\"text-align: right;\">-0.0106772 </td><td style=\"text-align: right;\">-0.0338592 </td><td style=\"text-align: right;\">-0.136627 </td><td style=\"text-align: right;\"> 0.0557826 </td><td style=\"text-align: right;\">-0.0548987  </td><td style=\"text-align: right;\">-0.00745545</td><td style=\"text-align: right;\">-0.0473195 </td><td style=\"text-align: right;\"> 0.0705341</td><td style=\"text-align: right;\"> 0.0315151  </td><td style=\"text-align: right;\">-0.0260988 </td><td style=\"text-align: right;\">-0.0552472  </td><td style=\"text-align: right;\">-0.0373146 </td><td style=\"text-align: right;\">-0.00205254</td><td style=\"text-align: right;\"> 0.047219  </td><td style=\"text-align: right;\">-0.0149    </td><td style=\"text-align: right;\">-0.078999  </td><td style=\"text-align: right;\">-0.00533595</td><td style=\"text-align: right;\"> 0.0180917  </td><td style=\"text-align: right;\"> 0.00115412</td><td style=\"text-align: right;\">-0.0738458</td><td style=\"text-align: right;\">0.191403 </td><td style=\"text-align: right;\">-0.0942675</td><td style=\"text-align: right;\"> 0.123969 </td><td style=\"text-align: right;\">-0.0208995 </td><td style=\"text-align: right;\"> 0.072885 </td><td style=\"text-align: right;\">-0.0600795</td><td style=\"text-align: right;\"> 0.0435297 </td><td style=\"text-align: right;\">-0.0321935 </td><td style=\"text-align: right;\">-0.0174363</td><td style=\"text-align: right;\"> 0.0669026</td><td style=\"text-align: right;\">-0.00781672</td></tr>\n",
              "<tr><td style=\"text-align: right;\">      8</td><td>b&#x27;deep heat?????&#x27;                                                        </td><td>b&#x27;Not sure what previous reviewer was talking about. The product uses ULTRASOUND waves for pain relief NOT heat.  After repeated use, the pain in my knee and shoulder was feeling great. I think you should re-read the description and reconsider your opinion. Great product sold by a great company.&#x27;                                                                                                                                                                                                                                                                                                                                                                                                                                                                                                                                                                                                                                                                                                                                                                                                                         </td><td style=\"text-align: right;\">       5</td><td style=\"text-align: right;\">       1</td><td style=\"text-align: right;\"> 0.0798989</td><td style=\"text-align: right;\">-0.0154353 </td><td style=\"text-align: right;\">-0.0243234 </td><td style=\"text-align: right;\">0.160954 </td><td style=\"text-align: right;\">-0.0698448 </td><td style=\"text-align: right;\">-0.133547 </td><td style=\"text-align: right;\"> 0.0384307 </td><td style=\"text-align: right;\">-0.017189 </td><td style=\"text-align: right;\"> 0.026925  </td><td style=\"text-align: right;\">-0.0647557</td><td style=\"text-align: right;\">-0.0467902 </td><td style=\"text-align: right;\">-0.0382815 </td><td style=\"text-align: right;\"> 0.00549938</td><td style=\"text-align: right;\">-0.0590319 </td><td style=\"text-align: right;\">-0.0466329 </td><td style=\"text-align: right;\">0.00542086</td><td style=\"text-align: right;\"> 0.0301802</td><td style=\"text-align: right;\"> 0.0251393</td><td style=\"text-align: right;\">-0.0569171 </td><td style=\"text-align: right;\">-0.0677072</td><td style=\"text-align: right;\">-0.00853481</td><td style=\"text-align: right;\">-0.0438261 </td><td style=\"text-align: right;\"> 0.126949   </td><td style=\"text-align: right;\">-0.0280609 </td><td style=\"text-align: right;\">-0.029957 </td><td style=\"text-align: right;\"> 0.125694   </td><td style=\"text-align: right;\"> 0.0402719</td><td style=\"text-align: right;\">-0.214168 </td><td style=\"text-align: right;\">-0.123375  </td><td style=\"text-align: right;\">-0.207466</td><td style=\"text-align: right;\">-0.020572  </td><td style=\"text-align: right;\">0.128098  </td><td style=\"text-align: right;\">-0.120574 </td><td style=\"text-align: right;\">0.148726 </td><td style=\"text-align: right;\">-0.0197069  </td><td style=\"text-align: right;\">-0.174291 </td><td style=\"text-align: right;\">-0.0909454  </td><td style=\"text-align: right;\">-0.0660027 </td><td style=\"text-align: right;\"> 0.0672903</td><td style=\"text-align: right;\">-0.0908576</td><td style=\"text-align: right;\"> 0.0399171</td><td style=\"text-align: right;\"> 0.10946  </td><td style=\"text-align: right;\">-0.0507268</td><td style=\"text-align: right;\"> 0.132491   </td><td style=\"text-align: right;\">-0.0436748 </td><td style=\"text-align: right;\"> 0.0745094  </td><td style=\"text-align: right;\"> 0.0943953 </td><td style=\"text-align: right;\"> 0.0708357</td><td style=\"text-align: right;\">-0.0350392 </td><td style=\"text-align: right;\">-0.0795524  </td><td style=\"text-align: right;\"> 0.0368518 </td><td style=\"text-align: right;\"> 0.140134  </td><td style=\"text-align: right;\">-0.0646524  </td><td style=\"text-align: right;\">-0.0839903</td><td style=\"text-align: right;\">-0.0806752 </td><td style=\"text-align: right;\">-0.0115551 </td><td style=\"text-align: right;\">-0.130552 </td><td style=\"text-align: right;\">-0.0637918</td><td style=\"text-align: right;\"> 0.0710125 </td><td style=\"text-align: right;\">-0.126491  </td><td style=\"text-align: right;\"> 0.022924 </td><td style=\"text-align: right;\">0.0990745</td><td style=\"text-align: right;\">0.0249804</td><td style=\"text-align: right;\"> 0.0959317 </td><td style=\"text-align: right;\">-0.0637208 </td><td style=\"text-align: right;\">-0.00933123</td><td style=\"text-align: right;\"> 0.157076  </td><td style=\"text-align: right;\"> 0.0754258</td><td style=\"text-align: right;\">-0.134991  </td><td style=\"text-align: right;\"> 0.00578486</td><td style=\"text-align: right;\"> 0.024775  </td><td style=\"text-align: right;\">-0.0660004</td><td style=\"text-align: right;\">-0.0516487 </td><td style=\"text-align: right;\"> 0.0196241  </td><td style=\"text-align: right;\"> 0.0762138 </td><td style=\"text-align: right;\">-0.0837058 </td><td style=\"text-align: right;\"> 0.0946098</td><td style=\"text-align: right;\">-0.0571421  </td><td style=\"text-align: right;\"> 0.00332857</td><td style=\"text-align: right;\">-0.030366   </td><td style=\"text-align: right;\"> 0.0450402 </td><td style=\"text-align: right;\">-0.0328174 </td><td style=\"text-align: right;\">-0.0311871 </td><td style=\"text-align: right;\"> 0.00884503</td><td style=\"text-align: right;\"> 0.0217884 </td><td style=\"text-align: right;\"> 0.0419018 </td><td style=\"text-align: right;\"> 0.137214   </td><td style=\"text-align: right;\"> 0.0466684 </td><td style=\"text-align: right;\"> 0.0232188</td><td style=\"text-align: right;\">0.221823 </td><td style=\"text-align: right;\">-0.0192453</td><td style=\"text-align: right;\"> 0.12214  </td><td style=\"text-align: right;\">-0.063552  </td><td style=\"text-align: right;\"> 0.172792 </td><td style=\"text-align: right;\">-0.0055258</td><td style=\"text-align: right;\"> 0.0175541 </td><td style=\"text-align: right;\">-0.0134637 </td><td style=\"text-align: right;\"> 0.0935495</td><td style=\"text-align: right;\"> 0.0892241</td><td style=\"text-align: right;\"> 0.153251  </td></tr>\n",
              "<tr><td style=\"text-align: right;\">      2</td><td>b&#x27;Thermometer for a toddler&#x27;                                             </td><td>b&quot;The shippers were great....willing to consider speedier shipping options, but in the end the standard shipping arrived quickly enough. The thermometer is fun and easy to use, but with an inquisitive toddler, it would be nice to have the plastic cap attached to the body so that it doesn&#x27;t disappear.  Would buy it again from these sellers.&quot;                                                                                                                                                                                                                                                                                                                                                                                                                                                                                                                                                                                                                                                                                                                                                                            </td><td style=\"text-align: right;\">       4</td><td style=\"text-align: right;\">       1</td><td style=\"text-align: right;\">-0.0536861</td><td style=\"text-align: right;\">-0.023205  </td><td style=\"text-align: right;\">-0.0917833 </td><td style=\"text-align: right;\">0.159008 </td><td style=\"text-align: right;\">-0.0306218 </td><td style=\"text-align: right;\">-0.134772 </td><td style=\"text-align: right;\"> 0.0115571 </td><td style=\"text-align: right;\">-0.116787 </td><td style=\"text-align: right;\">-0.0172419 </td><td style=\"text-align: right;\"> 0.0282257</td><td style=\"text-align: right;\">-0.020905  </td><td style=\"text-align: right;\">-0.00376495</td><td style=\"text-align: right;\">-0.0654972 </td><td style=\"text-align: right;\"> 0.00986839</td><td style=\"text-align: right;\">-0.0428808 </td><td style=\"text-align: right;\">0.0499261 </td><td style=\"text-align: right;\"> 0.0362124</td><td style=\"text-align: right;\"> 0.0679369</td><td style=\"text-align: right;\">-0.0670272 </td><td style=\"text-align: right;\">-0.182678 </td><td style=\"text-align: right;\">-0.105807  </td><td style=\"text-align: right;\">-0.0160866 </td><td style=\"text-align: right;\"> 0.13879    </td><td style=\"text-align: right;\">-0.035902  </td><td style=\"text-align: right;\">-0.154139 </td><td style=\"text-align: right;\"> 0.000548067</td><td style=\"text-align: right;\">-0.0628622</td><td style=\"text-align: right;\">-0.173364 </td><td style=\"text-align: right;\"> 0.00964098</td><td style=\"text-align: right;\">-0.133136</td><td style=\"text-align: right;\">-0.00450081</td><td style=\"text-align: right;\">0.10583   </td><td style=\"text-align: right;\">-0.155322 </td><td style=\"text-align: right;\">0.204594 </td><td style=\"text-align: right;\"> 0.0260388  </td><td style=\"text-align: right;\">-0.0802891</td><td style=\"text-align: right;\">-0.0780537  </td><td style=\"text-align: right;\">-0.101342  </td><td style=\"text-align: right;\"> 0.026607 </td><td style=\"text-align: right;\">-0.0307187</td><td style=\"text-align: right;\">-0.0711964</td><td style=\"text-align: right;\">-0.0302233</td><td style=\"text-align: right;\"> 0.0445246</td><td style=\"text-align: right;\"> 0.104743   </td><td style=\"text-align: right;\">-0.116816  </td><td style=\"text-align: right;\"> 0.000752818</td><td style=\"text-align: right;\"> 0.071879  </td><td style=\"text-align: right;\"> 0.0165307</td><td style=\"text-align: right;\"> 0.0230483 </td><td style=\"text-align: right;\"> 0.013766   </td><td style=\"text-align: right;\"> 0.0445806 </td><td style=\"text-align: right;\"> 0.0810047 </td><td style=\"text-align: right;\">-0.0565876  </td><td style=\"text-align: right;\">-0.130797 </td><td style=\"text-align: right;\">-0.14775   </td><td style=\"text-align: right;\">-0.0461887 </td><td style=\"text-align: right;\">-0.0555724</td><td style=\"text-align: right;\">-0.0667059</td><td style=\"text-align: right;\"> 0.0473123 </td><td style=\"text-align: right;\">-0.0864956 </td><td style=\"text-align: right;\">-0.0222361</td><td style=\"text-align: right;\">0.0360238</td><td style=\"text-align: right;\">0.0288778</td><td style=\"text-align: right;\"> 0.113356  </td><td style=\"text-align: right;\">-0.0418576 </td><td style=\"text-align: right;\"> 0.0809188 </td><td style=\"text-align: right;\"> 0.0470947 </td><td style=\"text-align: right;\"> 0.129759 </td><td style=\"text-align: right;\">-0.064864  </td><td style=\"text-align: right;\">-0.00639109</td><td style=\"text-align: right;\">-0.00185792</td><td style=\"text-align: right;\">-0.0801087</td><td style=\"text-align: right;\">-0.00296943</td><td style=\"text-align: right;\"> 0.0549797  </td><td style=\"text-align: right;\">-0.0851302 </td><td style=\"text-align: right;\">-0.0252898 </td><td style=\"text-align: right;\"> 0.201952 </td><td style=\"text-align: right;\"> 0.0870358  </td><td style=\"text-align: right;\">-0.0220806 </td><td style=\"text-align: right;\">-0.0735863  </td><td style=\"text-align: right;\">-0.0469109 </td><td style=\"text-align: right;\">-0.0393429 </td><td style=\"text-align: right;\"> 0.0634794 </td><td style=\"text-align: right;\"> 0.0346973 </td><td style=\"text-align: right;\"> 0.0158171 </td><td style=\"text-align: right;\"> 0.141153  </td><td style=\"text-align: right;\">-0.0248412  </td><td style=\"text-align: right;\"> 0.0919092 </td><td style=\"text-align: right;\">-0.0433064</td><td style=\"text-align: right;\">0.122244 </td><td style=\"text-align: right;\">-0.0788253</td><td style=\"text-align: right;\"> 0.0831436</td><td style=\"text-align: right;\"> 0.00884997</td><td style=\"text-align: right;\"> 0.225355 </td><td style=\"text-align: right;\">-0.132322 </td><td style=\"text-align: right;\">-0.0466138 </td><td style=\"text-align: right;\"> 0.00675674</td><td style=\"text-align: right;\"> 0.09711  </td><td style=\"text-align: right;\"> 0.137682 </td><td style=\"text-align: right;\">-0.0345517 </td></tr>\n",
              "<tr><td style=\"text-align: right;\">      2</td><td>b&#x27;Wow!&#x27;                                                                  </td><td>b&quot;Man, for all you who know what I&#x27;m talking about, this is the best thing I&#x27;ve ever had on my back.  I suffer from back pain constantly and find myself waking up in the middle of the night pushing parts of my back and neck on the edges of walls on the corners of doors and sometimes lying down on tennis or racket balls to get pressure on those dang trigger points.  I opted for the body sticks package not knowing what they would do and it was a good thing.  They are like have racket balls on the ends of sticks to beat your muscle spasms and to lie down on them rolling around on your back. It is worth the money.  They use a device similar to this in physical therapy so if you get your doctor to write you a script for it, insurance may very well pay for it like mine did.  Even so, paid or not, buy this sucker.  Buy two, I thought, just in case it breaks and they for some reason stop manufacturing this thing.  Good stuff.&quot;                                                                                                                                                              </td><td style=\"text-align: right;\">       5</td><td style=\"text-align: right;\">       1</td><td style=\"text-align: right;\">-0.0104555</td><td style=\"text-align: right;\">-0.0650355 </td><td style=\"text-align: right;\">-0.0271681 </td><td style=\"text-align: right;\">0.0943721</td><td style=\"text-align: right;\">-0.00690393</td><td style=\"text-align: right;\">-0.0761177</td><td style=\"text-align: right;\"> 0.00136208</td><td style=\"text-align: right;\">-0.0499288</td><td style=\"text-align: right;\"> 0.0426951 </td><td style=\"text-align: right;\">-0.0989814</td><td style=\"text-align: right;\">-0.00849895</td><td style=\"text-align: right;\">-0.0874788 </td><td style=\"text-align: right;\"> 0.00738907</td><td style=\"text-align: right;\">-0.0546197 </td><td style=\"text-align: right;\">-0.0537471 </td><td style=\"text-align: right;\">0.0295532 </td><td style=\"text-align: right;\"> 0.0739076</td><td style=\"text-align: right;\"> 0.030429 </td><td style=\"text-align: right;\">-0.00295253</td><td style=\"text-align: right;\">-0.0403807</td><td style=\"text-align: right;\">-0.100654  </td><td style=\"text-align: right;\"> 0.0328898 </td><td style=\"text-align: right;\"> 0.147556   </td><td style=\"text-align: right;\">-0.0358579 </td><td style=\"text-align: right;\"> 0.0454313</td><td style=\"text-align: right;\"> 0.0232481  </td><td style=\"text-align: right;\">-0.0205637</td><td style=\"text-align: right;\">-0.177446 </td><td style=\"text-align: right;\">-0.0924564 </td><td style=\"text-align: right;\">-0.151869</td><td style=\"text-align: right;\"> 0.0102763 </td><td style=\"text-align: right;\">0.0952358 </td><td style=\"text-align: right;\">-0.109538 </td><td style=\"text-align: right;\">0.280211 </td><td style=\"text-align: right;\">-0.0346716  </td><td style=\"text-align: right;\">-0.11649  </td><td style=\"text-align: right;\">-0.11104    </td><td style=\"text-align: right;\">-0.0161047 </td><td style=\"text-align: right;\"> 0.0823938</td><td style=\"text-align: right;\">-0.116456 </td><td style=\"text-align: right;\">-0.0780562</td><td style=\"text-align: right;\"> 0.0347646</td><td style=\"text-align: right;\">-0.0412193</td><td style=\"text-align: right;\"> 0.144907   </td><td style=\"text-align: right;\">-0.100565  </td><td style=\"text-align: right;\"> 0.00353138 </td><td style=\"text-align: right;\"> 0.0333027 </td><td style=\"text-align: right;\">-0.0620678</td><td style=\"text-align: right;\">-0.00783388</td><td style=\"text-align: right;\">-0.149446   </td><td style=\"text-align: right;\"> 0.104317  </td><td style=\"text-align: right;\"> 0.0936942 </td><td style=\"text-align: right;\">-0.0284872  </td><td style=\"text-align: right;\">-0.118505 </td><td style=\"text-align: right;\">-0.052614  </td><td style=\"text-align: right;\">-0.0530326 </td><td style=\"text-align: right;\">-0.0980326</td><td style=\"text-align: right;\">-0.0393002</td><td style=\"text-align: right;\"> 0.0468432 </td><td style=\"text-align: right;\"> 0.0136401 </td><td style=\"text-align: right;\"> 0.0140628</td><td style=\"text-align: right;\">0.109156 </td><td style=\"text-align: right;\">0.118868 </td><td style=\"text-align: right;\"> 0.0989769 </td><td style=\"text-align: right;\">-0.0572224 </td><td style=\"text-align: right;\"> 0.101436  </td><td style=\"text-align: right;\"> 0.10293   </td><td style=\"text-align: right;\"> 0.105704 </td><td style=\"text-align: right;\">-0.0318639 </td><td style=\"text-align: right;\"> 0.12308   </td><td style=\"text-align: right;\"> 0.0196404 </td><td style=\"text-align: right;\"> 0.0325318</td><td style=\"text-align: right;\">-0.0852589 </td><td style=\"text-align: right;\">-0.0131972  </td><td style=\"text-align: right;\">-0.0108115 </td><td style=\"text-align: right;\">-0.00737495</td><td style=\"text-align: right;\"> 0.161867 </td><td style=\"text-align: right;\"> 0.0496744  </td><td style=\"text-align: right;\"> 0.0604232 </td><td style=\"text-align: right;\">-0.11858    </td><td style=\"text-align: right;\">-0.0644173 </td><td style=\"text-align: right;\">-0.00685963</td><td style=\"text-align: right;\"> 0.0680053 </td><td style=\"text-align: right;\">-0.0500246 </td><td style=\"text-align: right;\">-0.00786586</td><td style=\"text-align: right;\"> 0.0145573 </td><td style=\"text-align: right;\"> 0.0735585  </td><td style=\"text-align: right;\"> 0.0179232 </td><td style=\"text-align: right;\"> 0.0891209</td><td style=\"text-align: right;\">0.225186 </td><td style=\"text-align: right;\">-0.0545906</td><td style=\"text-align: right;\"> 0.106597 </td><td style=\"text-align: right;\">-0.0277948 </td><td style=\"text-align: right;\"> 0.154858 </td><td style=\"text-align: right;\">-0.0211693</td><td style=\"text-align: right;\"> 0.0230095 </td><td style=\"text-align: right;\"> 0.0340069 </td><td style=\"text-align: right;\"> 0.0616921</td><td style=\"text-align: right;\"> 0.0697093</td><td style=\"text-align: right;\">-0.0225268 </td></tr>\n",
              "<tr><td style=\"text-align: right;\">      1</td><td>b&#x27;Great cane for people with hand and wrist issues&#x27;                      </td><td>b&quot;I purchased this cane to assist me when I have to walk long distances.  I have rheumatoid arthritis that has particularly affected my low back and hips, and it sometimes makes walking difficult.  The problem with using a cane when you have RA is that RA doesn&#x27;t just affect your lower extremities.  My hands, wrists, and shoulders are also affected.  When I tried a normal cane, it was agonizingly painful for my hand and wrist in particular.  That made it not worth using, even though it did help my hip and back.  A friend with similar issues recommended this one, and the difference was amazing.  It is still a bit hard on my hand after awhile, but not to the point that would make it not worth using.  There really is no perfect solution for this circumstance short of a wheelchair, and I&#x27;m nowhere near ready for that yet!  The forearm rest makes it bearable to use this cane, and it does really help me to walk longer distances when I need to!  It is a great product, and I&#x27;m happy that I purchased it!&quot;                                                                               </td><td style=\"text-align: right;\">       4</td><td style=\"text-align: right;\">       1</td><td style=\"text-align: right;\"> 0.085436 </td><td style=\"text-align: right;\"> 0.0508958 </td><td style=\"text-align: right;\"> 0.0186185 </td><td style=\"text-align: right;\">0.0583147</td><td style=\"text-align: right;\">-0.0745284 </td><td style=\"text-align: right;\">-0.0761244</td><td style=\"text-align: right;\">-0.0174958 </td><td style=\"text-align: right;\">-0.0223464</td><td style=\"text-align: right;\"> 0.0267964 </td><td style=\"text-align: right;\">-0.0304098</td><td style=\"text-align: right;\">-0.0707764 </td><td style=\"text-align: right;\">-0.00228045</td><td style=\"text-align: right;\">-0.0476601 </td><td style=\"text-align: right;\">-0.0612581 </td><td style=\"text-align: right;\">-0.0581876 </td><td style=\"text-align: right;\">0.00124037</td><td style=\"text-align: right;\"> 0.0360902</td><td style=\"text-align: right;\"> 0.0853977</td><td style=\"text-align: right;\"> 0.0130485 </td><td style=\"text-align: right;\">-0.124572 </td><td style=\"text-align: right;\">-0.102072  </td><td style=\"text-align: right;\"> 0.01919   </td><td style=\"text-align: right;\"> 0.0960911  </td><td style=\"text-align: right;\"> 0.0334078 </td><td style=\"text-align: right;\">-0.0642531</td><td style=\"text-align: right;\"> 0.0155678  </td><td style=\"text-align: right;\"> 0.0196571</td><td style=\"text-align: right;\">-0.178992 </td><td style=\"text-align: right;\">-0.093847  </td><td style=\"text-align: right;\">-0.192452</td><td style=\"text-align: right;\"> 0.0674805 </td><td style=\"text-align: right;\">0.128777  </td><td style=\"text-align: right;\">-0.203268 </td><td style=\"text-align: right;\">0.169954 </td><td style=\"text-align: right;\"> 0.0345157  </td><td style=\"text-align: right;\">-0.173959 </td><td style=\"text-align: right;\">-0.186293   </td><td style=\"text-align: right;\">-0.0247576 </td><td style=\"text-align: right;\"> 0.0468401</td><td style=\"text-align: right;\">-0.136851 </td><td style=\"text-align: right;\">-0.024132 </td><td style=\"text-align: right;\"> 0.0688665</td><td style=\"text-align: right;\"> 0.0107246</td><td style=\"text-align: right;\"> 0.158996   </td><td style=\"text-align: right;\">-0.0690491 </td><td style=\"text-align: right;\"> 0.0800815  </td><td style=\"text-align: right;\"> 0.00216258</td><td style=\"text-align: right;\"> 0.0743538</td><td style=\"text-align: right;\">-0.00195585</td><td style=\"text-align: right;\">-0.137549   </td><td style=\"text-align: right;\"> 0.205385  </td><td style=\"text-align: right;\"> 0.13209   </td><td style=\"text-align: right;\"> 0.000921493</td><td style=\"text-align: right;\">-0.0627629</td><td style=\"text-align: right;\">-0.0782674 </td><td style=\"text-align: right;\">-0.0092924 </td><td style=\"text-align: right;\">-0.092422 </td><td style=\"text-align: right;\">-0.0828957</td><td style=\"text-align: right;\"> 0.0181861 </td><td style=\"text-align: right;\"> 0.0339348 </td><td style=\"text-align: right;\">-0.0523736</td><td style=\"text-align: right;\">0.0741674</td><td style=\"text-align: right;\">0.0237966</td><td style=\"text-align: right;\"> 0.0236778 </td><td style=\"text-align: right;\">-0.0815716 </td><td style=\"text-align: right;\"> 0.022091  </td><td style=\"text-align: right;\"> 0.133937  </td><td style=\"text-align: right;\"> 0.135247 </td><td style=\"text-align: right;\">-0.00434185</td><td style=\"text-align: right;\"> 0.0704425 </td><td style=\"text-align: right;\">-0.0355264 </td><td style=\"text-align: right;\">-0.0553635</td><td style=\"text-align: right;\">-0.120524  </td><td style=\"text-align: right;\">-0.0301111  </td><td style=\"text-align: right;\"> 0.0174175 </td><td style=\"text-align: right;\"> 0.0133081 </td><td style=\"text-align: right;\"> 0.111866 </td><td style=\"text-align: right;\"> 0.0135521  </td><td style=\"text-align: right;\"> 0.0362401 </td><td style=\"text-align: right;\"> 0.000399388</td><td style=\"text-align: right;\">-0.0721557 </td><td style=\"text-align: right;\"> 0.0505048 </td><td style=\"text-align: right;\"> 0.0479321 </td><td style=\"text-align: right;\">-0.126424  </td><td style=\"text-align: right;\"> 0.0989298 </td><td style=\"text-align: right;\"> 0.0546801 </td><td style=\"text-align: right;\"> 0.142276   </td><td style=\"text-align: right;\"> 0.00278382</td><td style=\"text-align: right;\"> 0.0808943</td><td style=\"text-align: right;\">0.158511 </td><td style=\"text-align: right;\">-0.0293933</td><td style=\"text-align: right;\"> 0.110676 </td><td style=\"text-align: right;\"> 0.0807834 </td><td style=\"text-align: right;\"> 0.161657 </td><td style=\"text-align: right;\"> 0.0403566</td><td style=\"text-align: right;\"> 0.0179972 </td><td style=\"text-align: right;\">-0.00842328</td><td style=\"text-align: right;\"> 0.0437053</td><td style=\"text-align: right;\">-0.0327088</td><td style=\"text-align: right;\"> 0.0797948 </td></tr>\n",
              "</tbody>\n",
              "</table>"
            ]
          },
          "metadata": {
            "tags": []
          }
        },
        {
          "output_type": "execute_result",
          "data": {
            "text/plain": [
              ""
            ]
          },
          "metadata": {
            "tags": []
          },
          "execution_count": 48
        }
      ]
    },
    {
      "cell_type": "code",
      "metadata": {
        "id": "JgOzXPT5WUeP"
      },
      "source": [
        "# splitting the data in to training and validation 80 :20\n",
        "\n",
        "h2o_train,h2o_valid = h2o_df_ext.split_frame(ratios=[.8])\n"
      ],
      "execution_count": 49,
      "outputs": []
    },
    {
      "cell_type": "code",
      "metadata": {
        "colab": {
          "base_uri": "https://localhost:8080/",
          "height": 82
        },
        "id": "MyZCPw1uWmRP",
        "outputId": "6c5ec283-a112-4beb-8045-73f17056969d"
      },
      "source": [
        "# to find how many data are there for positive and negative reviews\n",
        "h2o_valid['target'].table()"
      ],
      "execution_count": 50,
      "outputs": [
        {
          "output_type": "display_data",
          "data": {
            "text/html": [
              "<table>\n",
              "<thead>\n",
              "<tr><th style=\"text-align: right;\">  target</th><th style=\"text-align: right;\">  Count</th></tr>\n",
              "</thead>\n",
              "<tbody>\n",
              "<tr><td style=\"text-align: right;\">       0</td><td style=\"text-align: right;\">   4697</td></tr>\n",
              "<tr><td style=\"text-align: right;\">       1</td><td style=\"text-align: right;\">  12470</td></tr>\n",
              "</tbody>\n",
              "</table>"
            ]
          },
          "metadata": {
            "tags": []
          }
        },
        {
          "output_type": "execute_result",
          "data": {
            "text/plain": [
              ""
            ]
          },
          "metadata": {
            "tags": []
          },
          "execution_count": 50
        }
      ]
    },
    {
      "cell_type": "code",
      "metadata": {
        "colab": {
          "base_uri": "https://localhost:8080/",
          "height": 82
        },
        "id": "MHLYoXmMWtMT",
        "outputId": "07640b1b-4635-41cc-de32-87694427aa01"
      },
      "source": [
        "h2o_train['target'].table()"
      ],
      "execution_count": 51,
      "outputs": [
        {
          "output_type": "display_data",
          "data": {
            "text/html": [
              "<table>\n",
              "<thead>\n",
              "<tr><th style=\"text-align: right;\">  target</th><th style=\"text-align: right;\">  Count</th></tr>\n",
              "</thead>\n",
              "<tbody>\n",
              "<tr><td style=\"text-align: right;\">       0</td><td style=\"text-align: right;\">  18730</td></tr>\n",
              "<tr><td style=\"text-align: right;\">       1</td><td style=\"text-align: right;\">  50084</td></tr>\n",
              "</tbody>\n",
              "</table>"
            ]
          },
          "metadata": {
            "tags": []
          }
        },
        {
          "output_type": "execute_result",
          "data": {
            "text/plain": [
              ""
            ]
          },
          "metadata": {
            "tags": []
          },
          "execution_count": 51
        }
      ]
    },
    {
      "cell_type": "code",
      "metadata": {
        "id": "f0gkeYJQWzs3"
      },
      "source": [
        "# here stop the model when if the model is not learning anything\n",
        "gbm_baseline = H2OGradientBoostingEstimator(stopping_metric = \"AUC\", stopping_tolerance = 0.001,\n",
        "                                              stopping_rounds = 5, score_tree_interval = 10                                             \n",
        "                                             )"
      ],
      "execution_count": 52,
      "outputs": []
    },
    {
      "cell_type": "code",
      "metadata": {
        "colab": {
          "base_uri": "https://localhost:8080/"
        },
        "id": "O6bk1IlDXAV-",
        "outputId": "4a040f6d-da0e-44c8-ff1e-fc8be8da8996"
      },
      "source": [
        "gbm_baseline.train(x=review_vecs.names, y='target', training_frame = h2o_train, validation_frame=h2o_valid) # review_vec.names is nothing but c1 to c100 columns"
      ],
      "execution_count": 53,
      "outputs": [
        {
          "output_type": "stream",
          "text": [
            "gbm Model Build progress: |███████████████████████████████████████████████| 100%\n"
          ],
          "name": "stdout"
        }
      ]
    },
    {
      "cell_type": "code",
      "metadata": {
        "colab": {
          "base_uri": "https://localhost:8080/"
        },
        "id": "8s9RUarMXSuI",
        "outputId": "69fb8730-f0ac-4f11-8d94-c5fa757ee04f"
      },
      "source": [
        "\n",
        "print(\"Baseline AUC: \" + str(round(gbm_baseline.auc(valid = True), 3)))"
      ],
      "execution_count": 54,
      "outputs": [
        {
          "output_type": "stream",
          "text": [
            "Baseline AUC: 0.875\n"
          ],
          "name": "stdout"
        }
      ]
    },
    {
      "cell_type": "code",
      "metadata": {
        "colab": {
          "base_uri": "https://localhost:8080/",
          "height": 176
        },
        "id": "ZLeD-AHydFLy",
        "outputId": "886fb95b-e24a-4df1-b7b1-f365d9299ba3"
      },
      "source": [
        "gbm_baseline.confusion_matrix(valid=True)"
      ],
      "execution_count": 55,
      "outputs": [
        {
          "output_type": "stream",
          "text": [
            "\n",
            "Confusion Matrix (Act/Pred) for max f1 @ threshold = 0.5222887115100191: \n"
          ],
          "name": "stdout"
        },
        {
          "output_type": "display_data",
          "data": {
            "text/html": [
              "<div>\n",
              "<style scoped>\n",
              "    .dataframe tbody tr th:only-of-type {\n",
              "        vertical-align: middle;\n",
              "    }\n",
              "\n",
              "    .dataframe tbody tr th {\n",
              "        vertical-align: top;\n",
              "    }\n",
              "\n",
              "    .dataframe thead th {\n",
              "        text-align: right;\n",
              "    }\n",
              "</style>\n",
              "<table border=\"1\" class=\"dataframe\">\n",
              "  <thead>\n",
              "    <tr style=\"text-align: right;\">\n",
              "      <th></th>\n",
              "      <th></th>\n",
              "      <th>0</th>\n",
              "      <th>1</th>\n",
              "      <th>Error</th>\n",
              "      <th>Rate</th>\n",
              "    </tr>\n",
              "  </thead>\n",
              "  <tbody>\n",
              "    <tr>\n",
              "      <th>0</th>\n",
              "      <td>0</td>\n",
              "      <td>2512.0</td>\n",
              "      <td>2185.0</td>\n",
              "      <td>0.4652</td>\n",
              "      <td>(2185.0/4697.0)</td>\n",
              "    </tr>\n",
              "    <tr>\n",
              "      <th>1</th>\n",
              "      <td>1</td>\n",
              "      <td>713.0</td>\n",
              "      <td>11757.0</td>\n",
              "      <td>0.0572</td>\n",
              "      <td>(713.0/12470.0)</td>\n",
              "    </tr>\n",
              "    <tr>\n",
              "      <th>2</th>\n",
              "      <td>Total</td>\n",
              "      <td>3225.0</td>\n",
              "      <td>13942.0</td>\n",
              "      <td>0.1688</td>\n",
              "      <td>(2898.0/17167.0)</td>\n",
              "    </tr>\n",
              "  </tbody>\n",
              "</table>\n",
              "</div>"
            ],
            "text/plain": [
              "               0        1   Error               Rate\n",
              "0      0  2512.0   2185.0  0.4652    (2185.0/4697.0)\n",
              "1      1   713.0  11757.0  0.0572    (713.0/12470.0)\n",
              "2  Total  3225.0  13942.0  0.1688   (2898.0/17167.0)"
            ]
          },
          "metadata": {
            "tags": []
          }
        },
        {
          "output_type": "execute_result",
          "data": {
            "text/plain": [
              ""
            ]
          },
          "metadata": {
            "tags": []
          },
          "execution_count": 55
        }
      ]
    },
    {
      "cell_type": "code",
      "metadata": {
        "id": "aProlyNldISw"
      },
      "source": [
        "# adding balance class is true and checking the error however there is no further improvement\n",
        "gbm_balanced = H2OGradientBoostingEstimator(stopping_metric = \"AUC\", stopping_tolerance = 0.001,\n",
        "                                              stopping_rounds = 5, score_tree_interval = 10,\n",
        "                                              balance_classes= True\n",
        "                                             )"
      ],
      "execution_count": 56,
      "outputs": []
    },
    {
      "cell_type": "code",
      "metadata": {
        "colab": {
          "base_uri": "https://localhost:8080/"
        },
        "id": "fJQHNQwprIGK",
        "outputId": "3377f4cd-69e8-44b3-c52e-6eac5d2e4150"
      },
      "source": [
        "\n",
        "gbm_balanced.train(x=review_vecs.names, y='target', training_frame = h2o_train, validation_frame=h2o_valid)"
      ],
      "execution_count": 57,
      "outputs": [
        {
          "output_type": "stream",
          "text": [
            "gbm Model Build progress: |███████████████████████████████████████████████| 100%\n"
          ],
          "name": "stdout"
        }
      ]
    },
    {
      "cell_type": "code",
      "metadata": {
        "colab": {
          "base_uri": "https://localhost:8080/"
        },
        "id": "_vSjFHinrLSB",
        "outputId": "3bdfae26-91a1-4862-aadc-0d8ff870752c"
      },
      "source": [
        "print(\" Balanced AUC: \" + str(round(gbm_balanced.auc(valid = True), 3)))"
      ],
      "execution_count": 58,
      "outputs": [
        {
          "output_type": "stream",
          "text": [
            " Balanced AUC: 0.875\n"
          ],
          "name": "stdout"
        }
      ]
    },
    {
      "cell_type": "code",
      "metadata": {
        "colab": {
          "base_uri": "https://localhost:8080/",
          "height": 176
        },
        "id": "T7VtQ5iVrcGp",
        "outputId": "35582679-b3a4-4a16-f947-94e6856e7a2c"
      },
      "source": [
        "gbm_balanced.confusion_matrix(valid=True)"
      ],
      "execution_count": 59,
      "outputs": [
        {
          "output_type": "stream",
          "text": [
            "\n",
            "Confusion Matrix (Act/Pred) for max f1 @ threshold = 0.5405097189937541: \n"
          ],
          "name": "stdout"
        },
        {
          "output_type": "display_data",
          "data": {
            "text/html": [
              "<div>\n",
              "<style scoped>\n",
              "    .dataframe tbody tr th:only-of-type {\n",
              "        vertical-align: middle;\n",
              "    }\n",
              "\n",
              "    .dataframe tbody tr th {\n",
              "        vertical-align: top;\n",
              "    }\n",
              "\n",
              "    .dataframe thead th {\n",
              "        text-align: right;\n",
              "    }\n",
              "</style>\n",
              "<table border=\"1\" class=\"dataframe\">\n",
              "  <thead>\n",
              "    <tr style=\"text-align: right;\">\n",
              "      <th></th>\n",
              "      <th></th>\n",
              "      <th>0</th>\n",
              "      <th>1</th>\n",
              "      <th>Error</th>\n",
              "      <th>Rate</th>\n",
              "    </tr>\n",
              "  </thead>\n",
              "  <tbody>\n",
              "    <tr>\n",
              "      <th>0</th>\n",
              "      <td>0</td>\n",
              "      <td>2518.0</td>\n",
              "      <td>2179.0</td>\n",
              "      <td>0.4639</td>\n",
              "      <td>(2179.0/4697.0)</td>\n",
              "    </tr>\n",
              "    <tr>\n",
              "      <th>1</th>\n",
              "      <td>1</td>\n",
              "      <td>710.0</td>\n",
              "      <td>11760.0</td>\n",
              "      <td>0.0569</td>\n",
              "      <td>(710.0/12470.0)</td>\n",
              "    </tr>\n",
              "    <tr>\n",
              "      <th>2</th>\n",
              "      <td>Total</td>\n",
              "      <td>3228.0</td>\n",
              "      <td>13939.0</td>\n",
              "      <td>0.1683</td>\n",
              "      <td>(2889.0/17167.0)</td>\n",
              "    </tr>\n",
              "  </tbody>\n",
              "</table>\n",
              "</div>"
            ],
            "text/plain": [
              "               0        1   Error               Rate\n",
              "0      0  2518.0   2179.0  0.4639    (2179.0/4697.0)\n",
              "1      1   710.0  11760.0  0.0569    (710.0/12470.0)\n",
              "2  Total  3228.0  13939.0  0.1683   (2889.0/17167.0)"
            ]
          },
          "metadata": {
            "tags": []
          }
        },
        {
          "output_type": "execute_result",
          "data": {
            "text/plain": [
              ""
            ]
          },
          "metadata": {
            "tags": []
          },
          "execution_count": 59
        }
      ]
    },
    {
      "cell_type": "code",
      "metadata": {
        "id": "x9x-15k2rnIB"
      },
      "source": [
        "# adding colum which is votes below and checking the error\n",
        "\n",
        "gbm_add_cols = H2OGradientBoostingEstimator(stopping_metric = \"AUC\", stopping_tolerance = 0.001,\n",
        "                                              stopping_rounds = 5, score_tree_interval = 10\n",
        "                                             )"
      ],
      "execution_count": 60,
      "outputs": []
    },
    {
      "cell_type": "code",
      "metadata": {
        "colab": {
          "base_uri": "https://localhost:8080/"
        },
        "id": "8Y5UUqGxsDHJ",
        "outputId": "e14a3435-c4f9-48c8-8398-e08845318ae2"
      },
      "source": [
        "gbm_add_cols.train(x=['votes']+review_vecs.names, y='target', training_frame = h2o_train, validation_frame=h2o_valid)"
      ],
      "execution_count": 61,
      "outputs": [
        {
          "output_type": "stream",
          "text": [
            "gbm Model Build progress: |███████████████████████████████████████████████| 100%\n"
          ],
          "name": "stdout"
        }
      ]
    },
    {
      "cell_type": "code",
      "metadata": {
        "colab": {
          "base_uri": "https://localhost:8080/"
        },
        "id": "CM4cpj3ysRhH",
        "outputId": "8bda9448-5fd6-4aee-d588-76490637b0e3"
      },
      "source": [
        "print(\" Add Columns AUC: \" + str(round(gbm_add_cols.auc(valid = True), 3)))"
      ],
      "execution_count": 62,
      "outputs": [
        {
          "output_type": "stream",
          "text": [
            " Add Columns AUC: 0.875\n"
          ],
          "name": "stdout"
        }
      ]
    },
    {
      "cell_type": "code",
      "metadata": {
        "colab": {
          "base_uri": "https://localhost:8080/",
          "height": 176
        },
        "id": "jHAGPBw5scwm",
        "outputId": "d1f33ee1-2ed3-4f9c-b95e-9ca8c1cb589f"
      },
      "source": [
        "\n",
        "gbm_add_cols.confusion_matrix(valid=True)"
      ],
      "execution_count": 63,
      "outputs": [
        {
          "output_type": "stream",
          "text": [
            "\n",
            "Confusion Matrix (Act/Pred) for max f1 @ threshold = 0.5432712637616482: \n"
          ],
          "name": "stdout"
        },
        {
          "output_type": "display_data",
          "data": {
            "text/html": [
              "<div>\n",
              "<style scoped>\n",
              "    .dataframe tbody tr th:only-of-type {\n",
              "        vertical-align: middle;\n",
              "    }\n",
              "\n",
              "    .dataframe tbody tr th {\n",
              "        vertical-align: top;\n",
              "    }\n",
              "\n",
              "    .dataframe thead th {\n",
              "        text-align: right;\n",
              "    }\n",
              "</style>\n",
              "<table border=\"1\" class=\"dataframe\">\n",
              "  <thead>\n",
              "    <tr style=\"text-align: right;\">\n",
              "      <th></th>\n",
              "      <th></th>\n",
              "      <th>0</th>\n",
              "      <th>1</th>\n",
              "      <th>Error</th>\n",
              "      <th>Rate</th>\n",
              "    </tr>\n",
              "  </thead>\n",
              "  <tbody>\n",
              "    <tr>\n",
              "      <th>0</th>\n",
              "      <td>0</td>\n",
              "      <td>2627.0</td>\n",
              "      <td>2070.0</td>\n",
              "      <td>0.4407</td>\n",
              "      <td>(2070.0/4697.0)</td>\n",
              "    </tr>\n",
              "    <tr>\n",
              "      <th>1</th>\n",
              "      <td>1</td>\n",
              "      <td>809.0</td>\n",
              "      <td>11661.0</td>\n",
              "      <td>0.0649</td>\n",
              "      <td>(809.0/12470.0)</td>\n",
              "    </tr>\n",
              "    <tr>\n",
              "      <th>2</th>\n",
              "      <td>Total</td>\n",
              "      <td>3436.0</td>\n",
              "      <td>13731.0</td>\n",
              "      <td>0.1677</td>\n",
              "      <td>(2879.0/17167.0)</td>\n",
              "    </tr>\n",
              "  </tbody>\n",
              "</table>\n",
              "</div>"
            ],
            "text/plain": [
              "               0        1   Error               Rate\n",
              "0      0  2627.0   2070.0  0.4407    (2070.0/4697.0)\n",
              "1      1   809.0  11661.0  0.0649    (809.0/12470.0)\n",
              "2  Total  3436.0  13731.0  0.1677   (2879.0/17167.0)"
            ]
          },
          "metadata": {
            "tags": []
          }
        },
        {
          "output_type": "execute_result",
          "data": {
            "text/plain": [
              ""
            ]
          },
          "metadata": {
            "tags": []
          },
          "execution_count": 63
        }
      ]
    },
    {
      "cell_type": "code",
      "metadata": {
        "id": "-45ID9fEshOu"
      },
      "source": [
        "# still there is not increase in accuracy of the model"
      ],
      "execution_count": 64,
      "outputs": []
    },
    {
      "cell_type": "code",
      "metadata": {
        "id": "SbzRLco8sncf"
      },
      "source": [
        "# Now we are adding headline column and checking the accuracy\n",
        "headline_vecs = vec_model.transform(words_headline, aggregate_method = \"AVERAGE\")\n",
        "headline_vecs.names = [\"headline_\" + s for s in headline_vecs.names]"
      ],
      "execution_count": 65,
      "outputs": []
    },
    {
      "cell_type": "code",
      "metadata": {
        "colab": {
          "base_uri": "https://localhost:8080/",
          "height": 270
        },
        "id": "_1LTPNWEsytm",
        "outputId": "911352a0-fa80-47dc-92b3-4aa6c2b331e4"
      },
      "source": [
        "headline_vecs.head()"
      ],
      "execution_count": 66,
      "outputs": [
        {
          "output_type": "display_data",
          "data": {
            "text/html": [
              "<table>\n",
              "<thead>\n",
              "<tr><th style=\"text-align: right;\">  headline_C1</th><th style=\"text-align: right;\">  headline_C2</th><th style=\"text-align: right;\">  headline_C3</th><th style=\"text-align: right;\">  headline_C4</th><th style=\"text-align: right;\">  headline_C5</th><th style=\"text-align: right;\">  headline_C6</th><th style=\"text-align: right;\">  headline_C7</th><th style=\"text-align: right;\">  headline_C8</th><th style=\"text-align: right;\">  headline_C9</th><th style=\"text-align: right;\">  headline_C10</th><th style=\"text-align: right;\">  headline_C11</th><th style=\"text-align: right;\">  headline_C12</th><th style=\"text-align: right;\">  headline_C13</th><th style=\"text-align: right;\">  headline_C14</th><th style=\"text-align: right;\">  headline_C15</th><th style=\"text-align: right;\">  headline_C16</th><th style=\"text-align: right;\">  headline_C17</th><th style=\"text-align: right;\">  headline_C18</th><th style=\"text-align: right;\">  headline_C19</th><th style=\"text-align: right;\">  headline_C20</th><th style=\"text-align: right;\">  headline_C21</th><th style=\"text-align: right;\">  headline_C22</th><th style=\"text-align: right;\">  headline_C23</th><th style=\"text-align: right;\">  headline_C24</th><th style=\"text-align: right;\">  headline_C25</th><th style=\"text-align: right;\">  headline_C26</th><th style=\"text-align: right;\">  headline_C27</th><th style=\"text-align: right;\">  headline_C28</th><th style=\"text-align: right;\">  headline_C29</th><th style=\"text-align: right;\">  headline_C30</th><th style=\"text-align: right;\">  headline_C31</th><th style=\"text-align: right;\">  headline_C32</th><th style=\"text-align: right;\">  headline_C33</th><th style=\"text-align: right;\">  headline_C34</th><th style=\"text-align: right;\">  headline_C35</th><th style=\"text-align: right;\">  headline_C36</th><th style=\"text-align: right;\">  headline_C37</th><th style=\"text-align: right;\">  headline_C38</th><th style=\"text-align: right;\">  headline_C39</th><th style=\"text-align: right;\">  headline_C40</th><th style=\"text-align: right;\">  headline_C41</th><th style=\"text-align: right;\">  headline_C42</th><th style=\"text-align: right;\">  headline_C43</th><th style=\"text-align: right;\">  headline_C44</th><th style=\"text-align: right;\">  headline_C45</th><th style=\"text-align: right;\">  headline_C46</th><th style=\"text-align: right;\">  headline_C47</th><th style=\"text-align: right;\">  headline_C48</th><th style=\"text-align: right;\">  headline_C49</th><th style=\"text-align: right;\">  headline_C50</th><th style=\"text-align: right;\">  headline_C51</th><th style=\"text-align: right;\">  headline_C52</th><th style=\"text-align: right;\">  headline_C53</th><th style=\"text-align: right;\">  headline_C54</th><th style=\"text-align: right;\">  headline_C55</th><th style=\"text-align: right;\">  headline_C56</th><th style=\"text-align: right;\">  headline_C57</th><th style=\"text-align: right;\">  headline_C58</th><th style=\"text-align: right;\">  headline_C59</th><th style=\"text-align: right;\">  headline_C60</th><th style=\"text-align: right;\">  headline_C61</th><th style=\"text-align: right;\">  headline_C62</th><th style=\"text-align: right;\">  headline_C63</th><th style=\"text-align: right;\">  headline_C64</th><th style=\"text-align: right;\">  headline_C65</th><th style=\"text-align: right;\">  headline_C66</th><th style=\"text-align: right;\">  headline_C67</th><th style=\"text-align: right;\">  headline_C68</th><th style=\"text-align: right;\">  headline_C69</th><th style=\"text-align: right;\">  headline_C70</th><th style=\"text-align: right;\">  headline_C71</th><th style=\"text-align: right;\">  headline_C72</th><th style=\"text-align: right;\">  headline_C73</th><th style=\"text-align: right;\">  headline_C74</th><th style=\"text-align: right;\">  headline_C75</th><th style=\"text-align: right;\">  headline_C76</th><th style=\"text-align: right;\">  headline_C77</th><th style=\"text-align: right;\">  headline_C78</th><th style=\"text-align: right;\">  headline_C79</th><th style=\"text-align: right;\">  headline_C80</th><th style=\"text-align: right;\">  headline_C81</th><th style=\"text-align: right;\">  headline_C82</th><th style=\"text-align: right;\">  headline_C83</th><th style=\"text-align: right;\">  headline_C84</th><th style=\"text-align: right;\">  headline_C85</th><th style=\"text-align: right;\">  headline_C86</th><th style=\"text-align: right;\">  headline_C87</th><th style=\"text-align: right;\">  headline_C88</th><th style=\"text-align: right;\">  headline_C89</th><th style=\"text-align: right;\">  headline_C90</th><th style=\"text-align: right;\">  headline_C91</th><th style=\"text-align: right;\">  headline_C92</th><th style=\"text-align: right;\">  headline_C93</th><th style=\"text-align: right;\">  headline_C94</th><th style=\"text-align: right;\">  headline_C95</th><th style=\"text-align: right;\">  headline_C96</th><th style=\"text-align: right;\">  headline_C97</th><th style=\"text-align: right;\">  headline_C98</th><th style=\"text-align: right;\">  headline_C99</th><th style=\"text-align: right;\">  headline_C100</th></tr>\n",
              "</thead>\n",
              "<tbody>\n",
              "<tr><td style=\"text-align: right;\">  0.0275628  </td><td style=\"text-align: right;\">  -0.176331  </td><td style=\"text-align: right;\">    0.0993222</td><td style=\"text-align: right;\">    0.197537 </td><td style=\"text-align: right;\">   0.0325969 </td><td style=\"text-align: right;\">  -0.206279  </td><td style=\"text-align: right;\">    0.123854 </td><td style=\"text-align: right;\">   0.00161491</td><td style=\"text-align: right;\">    0.0987352</td><td style=\"text-align: right;\">     0.043755 </td><td style=\"text-align: right;\">     0.0173569</td><td style=\"text-align: right;\">     0.0212078</td><td style=\"text-align: right;\">    -0.162861 </td><td style=\"text-align: right;\">     0.0390018</td><td style=\"text-align: right;\">    -0.0275297</td><td style=\"text-align: right;\">    0.045515  </td><td style=\"text-align: right;\">     0.189821 </td><td style=\"text-align: right;\">   -0.131914  </td><td style=\"text-align: right;\">   0.000552059</td><td style=\"text-align: right;\">    -0.159225 </td><td style=\"text-align: right;\">    -0.221795 </td><td style=\"text-align: right;\">    -0.153983 </td><td style=\"text-align: right;\">   -0.0218488 </td><td style=\"text-align: right;\">    -0.157394 </td><td style=\"text-align: right;\">    -0.0755734</td><td style=\"text-align: right;\">     0.1049   </td><td style=\"text-align: right;\">    0.0029633 </td><td style=\"text-align: right;\">   -0.130429  </td><td style=\"text-align: right;\">     0.117263 </td><td style=\"text-align: right;\">    0.00259079</td><td style=\"text-align: right;\">     0.0244566</td><td style=\"text-align: right;\">     0.116871 </td><td style=\"text-align: right;\">   -0.257034  </td><td style=\"text-align: right;\">     0.184044 </td><td style=\"text-align: right;\">     0.210789 </td><td style=\"text-align: right;\">    -0.111161 </td><td style=\"text-align: right;\">    0.0122122 </td><td style=\"text-align: right;\">    -0.0897414</td><td style=\"text-align: right;\">   -0.0717694 </td><td style=\"text-align: right;\">    -0.0379931</td><td style=\"text-align: right;\">    0.132992  </td><td style=\"text-align: right;\">    0.0743771 </td><td style=\"text-align: right;\">    0.090451  </td><td style=\"text-align: right;\">     0.0362759</td><td style=\"text-align: right;\">    -0.0676365</td><td style=\"text-align: right;\">   -0.0908211 </td><td style=\"text-align: right;\">    -0.0312142</td><td style=\"text-align: right;\">     0.0286497</td><td style=\"text-align: right;\">   -0.0406707 </td><td style=\"text-align: right;\">    -0.112079 </td><td style=\"text-align: right;\">    -0.0168304</td><td style=\"text-align: right;\">     0.0800625</td><td style=\"text-align: right;\">    -0.0150814</td><td style=\"text-align: right;\">    -0.080059 </td><td style=\"text-align: right;\">   -0.118964  </td><td style=\"text-align: right;\">   -0.0906441 </td><td style=\"text-align: right;\">   -0.0844279 </td><td style=\"text-align: right;\">   -0.00814016</td><td style=\"text-align: right;\">    -0.148172 </td><td style=\"text-align: right;\">     0.0865954</td><td style=\"text-align: right;\">    0.130566  </td><td style=\"text-align: right;\">     0.0209817</td><td style=\"text-align: right;\">     0.0880379</td><td style=\"text-align: right;\">    0.00860375</td><td style=\"text-align: right;\">   -0.352614  </td><td style=\"text-align: right;\">    0.0694347 </td><td style=\"text-align: right;\">    -0.0264085</td><td style=\"text-align: right;\">     0.290327 </td><td style=\"text-align: right;\">   -0.131077  </td><td style=\"text-align: right;\">    -0.0413046</td><td style=\"text-align: right;\">    -0.0956954</td><td style=\"text-align: right;\">    -0.254887 </td><td style=\"text-align: right;\">    -0.0410152</td><td style=\"text-align: right;\">     0.324841 </td><td style=\"text-align: right;\">    0.00660134</td><td style=\"text-align: right;\">    -0.202093 </td><td style=\"text-align: right;\">     0.156062 </td><td style=\"text-align: right;\">    0.101742  </td><td style=\"text-align: right;\">   0.0335706  </td><td style=\"text-align: right;\">     0.309607 </td><td style=\"text-align: right;\">     0.0215369</td><td style=\"text-align: right;\">    0.111889  </td><td style=\"text-align: right;\">     0.019545 </td><td style=\"text-align: right;\">    -0.149818 </td><td style=\"text-align: right;\">     0.10819  </td><td style=\"text-align: right;\">    0.0683292 </td><td style=\"text-align: right;\">     0.0859814</td><td style=\"text-align: right;\">    0.212425  </td><td style=\"text-align: right;\">  -0.019193   </td><td style=\"text-align: right;\">     0.125185 </td><td style=\"text-align: right;\">    -0.118326 </td><td style=\"text-align: right;\">   0.0824731  </td><td style=\"text-align: right;\">     0.0372536</td><td style=\"text-align: right;\">     0.393373 </td><td style=\"text-align: right;\">    -0.290987 </td><td style=\"text-align: right;\">    -0.102301 </td><td style=\"text-align: right;\">   -0.0513173 </td><td style=\"text-align: right;\">     0.0204151</td><td style=\"text-align: right;\">    -0.0461561</td><td style=\"text-align: right;\">     -0.152286 </td></tr>\n",
              "<tr><td style=\"text-align: right;\"> -0.0760256  </td><td style=\"text-align: right;\">  -0.0352776 </td><td style=\"text-align: right;\">   -0.0708371</td><td style=\"text-align: right;\">    0.18051  </td><td style=\"text-align: right;\">  -0.124567  </td><td style=\"text-align: right;\">  -0.0222398 </td><td style=\"text-align: right;\">   -0.187585 </td><td style=\"text-align: right;\">  -0.0642089 </td><td style=\"text-align: right;\">    0.0845403</td><td style=\"text-align: right;\">    -0.0658035</td><td style=\"text-align: right;\">     0.0612377</td><td style=\"text-align: right;\">    -0.134388 </td><td style=\"text-align: right;\">     0.0095175</td><td style=\"text-align: right;\">    -0.093165 </td><td style=\"text-align: right;\">     0.180563 </td><td style=\"text-align: right;\">    0.0915751 </td><td style=\"text-align: right;\">     0.0910276</td><td style=\"text-align: right;\">    0.0142994 </td><td style=\"text-align: right;\">  -0.151056   </td><td style=\"text-align: right;\">    -0.209249 </td><td style=\"text-align: right;\">    -0.0761877</td><td style=\"text-align: right;\">    -0.128147 </td><td style=\"text-align: right;\">   -0.00434059</td><td style=\"text-align: right;\">     0.0950652</td><td style=\"text-align: right;\">    -0.0452795</td><td style=\"text-align: right;\">    -0.0872122</td><td style=\"text-align: right;\">   -0.0221963 </td><td style=\"text-align: right;\">    0.0577099 </td><td style=\"text-align: right;\">    -0.215194 </td><td style=\"text-align: right;\">   -0.0539839 </td><td style=\"text-align: right;\">    -0.0223353</td><td style=\"text-align: right;\">     0.261762 </td><td style=\"text-align: right;\">   -0.0529793 </td><td style=\"text-align: right;\">     0.182936 </td><td style=\"text-align: right;\">    -0.0761971</td><td style=\"text-align: right;\">    -0.0121542</td><td style=\"text-align: right;\">   -0.00131368</td><td style=\"text-align: right;\">    -0.125777 </td><td style=\"text-align: right;\">    0.0675572 </td><td style=\"text-align: right;\">    -0.240639 </td><td style=\"text-align: right;\">   -0.0154859 </td><td style=\"text-align: right;\">    0.0676378 </td><td style=\"text-align: right;\">   -0.0639176 </td><td style=\"text-align: right;\">     0.263113 </td><td style=\"text-align: right;\">     0.0191937</td><td style=\"text-align: right;\">   -0.0175352 </td><td style=\"text-align: right;\">    -0.0084072</td><td style=\"text-align: right;\">    -0.270783 </td><td style=\"text-align: right;\">   -0.017342  </td><td style=\"text-align: right;\">    -0.019655 </td><td style=\"text-align: right;\">    -0.0130922</td><td style=\"text-align: right;\">     0.116578 </td><td style=\"text-align: right;\">    -0.015387 </td><td style=\"text-align: right;\">    -0.0596685</td><td style=\"text-align: right;\">   -0.18469   </td><td style=\"text-align: right;\">    0.00104496</td><td style=\"text-align: right;\">   -0.0467512 </td><td style=\"text-align: right;\">   -0.10897   </td><td style=\"text-align: right;\">    -0.0560438</td><td style=\"text-align: right;\">    -0.0174167</td><td style=\"text-align: right;\">    0.0458247 </td><td style=\"text-align: right;\">     0.0591266</td><td style=\"text-align: right;\">     0.131198 </td><td style=\"text-align: right;\">    0.176083  </td><td style=\"text-align: right;\">   -0.0909278 </td><td style=\"text-align: right;\">    0.246601  </td><td style=\"text-align: right;\">    -0.071031 </td><td style=\"text-align: right;\">    -0.109533 </td><td style=\"text-align: right;\">    0.0395753 </td><td style=\"text-align: right;\">    -0.0753567</td><td style=\"text-align: right;\">    -0.117876 </td><td style=\"text-align: right;\">    -0.131549 </td><td style=\"text-align: right;\">    -0.166389 </td><td style=\"text-align: right;\">     0.125594 </td><td style=\"text-align: right;\">   -0.0436575 </td><td style=\"text-align: right;\">     0.0526991</td><td style=\"text-align: right;\">     0.269454 </td><td style=\"text-align: right;\">   -0.00337589</td><td style=\"text-align: right;\">  -0.0405567  </td><td style=\"text-align: right;\">     0.215952 </td><td style=\"text-align: right;\">    -0.0103963</td><td style=\"text-align: right;\">    0.00125087</td><td style=\"text-align: right;\">     0.0156762</td><td style=\"text-align: right;\">     0.0264352</td><td style=\"text-align: right;\">    -0.0711774</td><td style=\"text-align: right;\">    0.00675418</td><td style=\"text-align: right;\">     0.147935 </td><td style=\"text-align: right;\">    0.312245  </td><td style=\"text-align: right;\">   0.0602059  </td><td style=\"text-align: right;\">     0.177758 </td><td style=\"text-align: right;\">    -0.161493 </td><td style=\"text-align: right;\">   0.0961395  </td><td style=\"text-align: right;\">     0.061583 </td><td style=\"text-align: right;\">     0.175338 </td><td style=\"text-align: right;\">    -0.115892 </td><td style=\"text-align: right;\">    -0.0201333</td><td style=\"text-align: right;\">    0.181333  </td><td style=\"text-align: right;\">     0.148993 </td><td style=\"text-align: right;\">     0.128373 </td><td style=\"text-align: right;\">      0.0676711</td></tr>\n",
              "<tr><td style=\"text-align: right;\">  0.000188574</td><td style=\"text-align: right;\">  -0.205882  </td><td style=\"text-align: right;\">   -0.107815 </td><td style=\"text-align: right;\">    0.389001 </td><td style=\"text-align: right;\">  -0.107999  </td><td style=\"text-align: right;\">  -0.0210308 </td><td style=\"text-align: right;\">    0.0685475</td><td style=\"text-align: right;\">  -0.0854052 </td><td style=\"text-align: right;\">    0.106278 </td><td style=\"text-align: right;\">     0.0553161</td><td style=\"text-align: right;\">     0.130234 </td><td style=\"text-align: right;\">    -0.143691 </td><td style=\"text-align: right;\">    -0.137311 </td><td style=\"text-align: right;\">     0.0418573</td><td style=\"text-align: right;\">    -0.158267 </td><td style=\"text-align: right;\">    0.0783279 </td><td style=\"text-align: right;\">    -0.126487 </td><td style=\"text-align: right;\">    0.00859156</td><td style=\"text-align: right;\">   0.0483576  </td><td style=\"text-align: right;\">    -0.0572492</td><td style=\"text-align: right;\">    -0.0439109</td><td style=\"text-align: right;\">    -0.16635  </td><td style=\"text-align: right;\">   -0.0450023 </td><td style=\"text-align: right;\">     0.0624434</td><td style=\"text-align: right;\">    -0.174495 </td><td style=\"text-align: right;\">     0.117486 </td><td style=\"text-align: right;\">    0.0516886 </td><td style=\"text-align: right;\">   -0.195437  </td><td style=\"text-align: right;\">     0.191867 </td><td style=\"text-align: right;\">   -0.237221  </td><td style=\"text-align: right;\">    -0.131354 </td><td style=\"text-align: right;\">     0.103002 </td><td style=\"text-align: right;\">   -0.244511  </td><td style=\"text-align: right;\">     0.144443 </td><td style=\"text-align: right;\">     0.275567 </td><td style=\"text-align: right;\">     0.0190936</td><td style=\"text-align: right;\">   -0.093839  </td><td style=\"text-align: right;\">    -0.35449  </td><td style=\"text-align: right;\">   -0.00729047</td><td style=\"text-align: right;\">    -0.116436 </td><td style=\"text-align: right;\">   -0.0904502 </td><td style=\"text-align: right;\">   -0.00803687</td><td style=\"text-align: right;\">    0.152143  </td><td style=\"text-align: right;\">     0.0321213</td><td style=\"text-align: right;\">    -0.228372 </td><td style=\"text-align: right;\">    0.00516496</td><td style=\"text-align: right;\">     0.250015 </td><td style=\"text-align: right;\">    -0.168625 </td><td style=\"text-align: right;\">    0.0113258 </td><td style=\"text-align: right;\">    -0.051841 </td><td style=\"text-align: right;\">     0.206338 </td><td style=\"text-align: right;\">    -0.140152 </td><td style=\"text-align: right;\">     0.113304 </td><td style=\"text-align: right;\">    -0.0288535</td><td style=\"text-align: right;\">   -0.1054    </td><td style=\"text-align: right;\">   -0.218352  </td><td style=\"text-align: right;\">   -0.242676  </td><td style=\"text-align: right;\">   -0.0351442 </td><td style=\"text-align: right;\">     0.101792 </td><td style=\"text-align: right;\">    -0.0961047</td><td style=\"text-align: right;\">    0.0498013 </td><td style=\"text-align: right;\">    -0.239584 </td><td style=\"text-align: right;\">     0.0572591</td><td style=\"text-align: right;\">    0.0413867 </td><td style=\"text-align: right;\">   -0.136863  </td><td style=\"text-align: right;\">    0.008835  </td><td style=\"text-align: right;\">     0.120931 </td><td style=\"text-align: right;\">     0.0553821</td><td style=\"text-align: right;\">   -0.00862167</td><td style=\"text-align: right;\">     0.0186711</td><td style=\"text-align: right;\">    -0.102338 </td><td style=\"text-align: right;\">    -0.426958 </td><td style=\"text-align: right;\">     0.109462 </td><td style=\"text-align: right;\">     0.141967 </td><td style=\"text-align: right;\">    0.263769  </td><td style=\"text-align: right;\">    -0.213133 </td><td style=\"text-align: right;\">     0.0852434</td><td style=\"text-align: right;\">    0.22052   </td><td style=\"text-align: right;\">   0.0517464  </td><td style=\"text-align: right;\">    -0.0176764</td><td style=\"text-align: right;\">    -0.0984134</td><td style=\"text-align: right;\">    0.0441797 </td><td style=\"text-align: right;\">     0.19006  </td><td style=\"text-align: right;\">    -0.0263038</td><td style=\"text-align: right;\">     0.045172 </td><td style=\"text-align: right;\">   -0.275824  </td><td style=\"text-align: right;\">     0.210377 </td><td style=\"text-align: right;\">    0.212954  </td><td style=\"text-align: right;\">   0.107182   </td><td style=\"text-align: right;\">    -0.0501139</td><td style=\"text-align: right;\">    -0.225743 </td><td style=\"text-align: right;\">   0.143215   </td><td style=\"text-align: right;\">    -0.0609133</td><td style=\"text-align: right;\">     0.141759 </td><td style=\"text-align: right;\">    -0.326369 </td><td style=\"text-align: right;\">    -0.103331 </td><td style=\"text-align: right;\">    0.118337  </td><td style=\"text-align: right;\">     0.0454994</td><td style=\"text-align: right;\">    -0.0282202</td><td style=\"text-align: right;\">      0.0552432</td></tr>\n",
              "<tr><td style=\"text-align: right;\"> -0.194263   </td><td style=\"text-align: right;\">   0.541785  </td><td style=\"text-align: right;\">    0.273879 </td><td style=\"text-align: right;\">    0.0453692</td><td style=\"text-align: right;\">   0.197591  </td><td style=\"text-align: right;\">  -0.48731   </td><td style=\"text-align: right;\">    0.126935 </td><td style=\"text-align: right;\">  -0.358977  </td><td style=\"text-align: right;\">   -0.112577 </td><td style=\"text-align: right;\">    -0.128454 </td><td style=\"text-align: right;\">     0.136036 </td><td style=\"text-align: right;\">    -0.125296 </td><td style=\"text-align: right;\">    -0.189637 </td><td style=\"text-align: right;\">    -0.219988 </td><td style=\"text-align: right;\">     0.0401717</td><td style=\"text-align: right;\">    0.241602  </td><td style=\"text-align: right;\">    -0.112795 </td><td style=\"text-align: right;\">   -0.337463  </td><td style=\"text-align: right;\">  -0.412904   </td><td style=\"text-align: right;\">    -0.284557 </td><td style=\"text-align: right;\">     0.120989 </td><td style=\"text-align: right;\">    -0.0274044</td><td style=\"text-align: right;\">    0.0271491 </td><td style=\"text-align: right;\">    -0.205962 </td><td style=\"text-align: right;\">     0.204142 </td><td style=\"text-align: right;\">     0.388559 </td><td style=\"text-align: right;\">   -0.133903  </td><td style=\"text-align: right;\">   -0.381699  </td><td style=\"text-align: right;\">    -0.165994 </td><td style=\"text-align: right;\">   -0.23354   </td><td style=\"text-align: right;\">     0.129536 </td><td style=\"text-align: right;\">    -0.0133111</td><td style=\"text-align: right;\">   -0.0140164 </td><td style=\"text-align: right;\">     0.4043   </td><td style=\"text-align: right;\">    -0.108202 </td><td style=\"text-align: right;\">    -0.3551   </td><td style=\"text-align: right;\">    0.255067  </td><td style=\"text-align: right;\">     0.294521 </td><td style=\"text-align: right;\">   -0.189548  </td><td style=\"text-align: right;\">     0.149081 </td><td style=\"text-align: right;\">    0.0477001 </td><td style=\"text-align: right;\">    0.0876614 </td><td style=\"text-align: right;\">    0.195209  </td><td style=\"text-align: right;\">     0.442649 </td><td style=\"text-align: right;\">    -0.438726 </td><td style=\"text-align: right;\">    0.0391411 </td><td style=\"text-align: right;\">    -0.120577 </td><td style=\"text-align: right;\">    -0.0488421</td><td style=\"text-align: right;\">   -0.205531  </td><td style=\"text-align: right;\">    -0.237133 </td><td style=\"text-align: right;\">    -0.169118 </td><td style=\"text-align: right;\">    -0.144887 </td><td style=\"text-align: right;\">    -0.114103 </td><td style=\"text-align: right;\">     0.121603 </td><td style=\"text-align: right;\">   -0.0730614 </td><td style=\"text-align: right;\">   -0.313906  </td><td style=\"text-align: right;\">   -0.0602234 </td><td style=\"text-align: right;\">    0.167052  </td><td style=\"text-align: right;\">    -0.331291 </td><td style=\"text-align: right;\">    -0.548287 </td><td style=\"text-align: right;\">   -0.0779352 </td><td style=\"text-align: right;\">     0.234021 </td><td style=\"text-align: right;\">    -0.136956 </td><td style=\"text-align: right;\">   -0.0314575 </td><td style=\"text-align: right;\">   -0.0980501 </td><td style=\"text-align: right;\">    0.0673159 </td><td style=\"text-align: right;\">     0.103724 </td><td style=\"text-align: right;\">    -0.21413  </td><td style=\"text-align: right;\">    0.132061  </td><td style=\"text-align: right;\">    -0.402848 </td><td style=\"text-align: right;\">    -0.106541 </td><td style=\"text-align: right;\">    -0.450526 </td><td style=\"text-align: right;\">    -0.0743903</td><td style=\"text-align: right;\">     0.155231 </td><td style=\"text-align: right;\">   -0.330521  </td><td style=\"text-align: right;\">    -0.174871 </td><td style=\"text-align: right;\">     0.469851 </td><td style=\"text-align: right;\">    0.113863  </td><td style=\"text-align: right;\">   0.0685854  </td><td style=\"text-align: right;\">    -0.0889224</td><td style=\"text-align: right;\">     0.179596 </td><td style=\"text-align: right;\">    0.364674  </td><td style=\"text-align: right;\">    -0.0510626</td><td style=\"text-align: right;\">     0.276483 </td><td style=\"text-align: right;\">    -0.0799242</td><td style=\"text-align: right;\">    0.114542  </td><td style=\"text-align: right;\">     0.442148 </td><td style=\"text-align: right;\">   -0.203033  </td><td style=\"text-align: right;\">  -0.0231199  </td><td style=\"text-align: right;\">     0.137528 </td><td style=\"text-align: right;\">    -0.471523 </td><td style=\"text-align: right;\">   0.000392788</td><td style=\"text-align: right;\">    -0.157314 </td><td style=\"text-align: right;\">    -0.213133 </td><td style=\"text-align: right;\">    -0.0302775</td><td style=\"text-align: right;\">    -0.203552 </td><td style=\"text-align: right;\">    0.239907  </td><td style=\"text-align: right;\">     0.162125 </td><td style=\"text-align: right;\">     0.0286479</td><td style=\"text-align: right;\">      0.0212767</td></tr>\n",
              "<tr><td style=\"text-align: right;\"> -0.0415459  </td><td style=\"text-align: right;\">   0.120858  </td><td style=\"text-align: right;\">    0.035    </td><td style=\"text-align: right;\">    0.268741 </td><td style=\"text-align: right;\">   0.121217  </td><td style=\"text-align: right;\">  -0.0648664 </td><td style=\"text-align: right;\">    0.28548  </td><td style=\"text-align: right;\">  -0.0920448 </td><td style=\"text-align: right;\">   -0.0278265</td><td style=\"text-align: right;\">     0.0577464</td><td style=\"text-align: right;\">    -0.102158 </td><td style=\"text-align: right;\">     0.100988 </td><td style=\"text-align: right;\">    -0.160352 </td><td style=\"text-align: right;\">    -0.0530288</td><td style=\"text-align: right;\">     0.0309905</td><td style=\"text-align: right;\">   -0.13084   </td><td style=\"text-align: right;\">     0.147875 </td><td style=\"text-align: right;\">    0.0748261 </td><td style=\"text-align: right;\">   0.0478026  </td><td style=\"text-align: right;\">    -0.207632 </td><td style=\"text-align: right;\">    -0.1647   </td><td style=\"text-align: right;\">     0.0327266</td><td style=\"text-align: right;\">    0.321514  </td><td style=\"text-align: right;\">    -0.187904 </td><td style=\"text-align: right;\">    -0.0513827</td><td style=\"text-align: right;\">     0.27297  </td><td style=\"text-align: right;\">    0.0665739 </td><td style=\"text-align: right;\">   -0.131175  </td><td style=\"text-align: right;\">    -0.0274118</td><td style=\"text-align: right;\">   -0.0567569 </td><td style=\"text-align: right;\">     0.0244927</td><td style=\"text-align: right;\">    -0.0981032</td><td style=\"text-align: right;\">   -0.315977  </td><td style=\"text-align: right;\">     0.0744229</td><td style=\"text-align: right;\">     0.0662701</td><td style=\"text-align: right;\">    -0.194559 </td><td style=\"text-align: right;\">    0.0698681 </td><td style=\"text-align: right;\">    -0.0601894</td><td style=\"text-align: right;\">    0.187895  </td><td style=\"text-align: right;\">    -0.051721 </td><td style=\"text-align: right;\">    0.203108  </td><td style=\"text-align: right;\">    0.0207311 </td><td style=\"text-align: right;\">    0.138533  </td><td style=\"text-align: right;\">     0.150195 </td><td style=\"text-align: right;\">     0.108857 </td><td style=\"text-align: right;\">    0.123049  </td><td style=\"text-align: right;\">    -0.104599 </td><td style=\"text-align: right;\">     0.0504668</td><td style=\"text-align: right;\">   -0.0449079 </td><td style=\"text-align: right;\">    -0.135764 </td><td style=\"text-align: right;\">    -0.143289 </td><td style=\"text-align: right;\">     0.158113 </td><td style=\"text-align: right;\">    -0.0392836</td><td style=\"text-align: right;\">    -0.129674 </td><td style=\"text-align: right;\">   -0.00722455</td><td style=\"text-align: right;\">   -0.120108  </td><td style=\"text-align: right;\">   -0.00309159</td><td style=\"text-align: right;\">    0.0843857 </td><td style=\"text-align: right;\">     0.131479 </td><td style=\"text-align: right;\">    -0.356571 </td><td style=\"text-align: right;\">   -0.185299  </td><td style=\"text-align: right;\">     0.0750917</td><td style=\"text-align: right;\">     0.0273453</td><td style=\"text-align: right;\">    0.165176  </td><td style=\"text-align: right;\">   -0.00374724</td><td style=\"text-align: right;\">    0.191403  </td><td style=\"text-align: right;\">     0.0307774</td><td style=\"text-align: right;\">     0.250866 </td><td style=\"text-align: right;\">    0.12991   </td><td style=\"text-align: right;\">    -0.10578  </td><td style=\"text-align: right;\">     0.0634282</td><td style=\"text-align: right;\">     0.0473431</td><td style=\"text-align: right;\">    -0.168293 </td><td style=\"text-align: right;\">    -0.0110232</td><td style=\"text-align: right;\">    0.0772107 </td><td style=\"text-align: right;\">     0.0581632</td><td style=\"text-align: right;\">     0.0771155</td><td style=\"text-align: right;\">   -0.00609039</td><td style=\"text-align: right;\">  -0.180796   </td><td style=\"text-align: right;\">     0.0205914</td><td style=\"text-align: right;\">     0.171462 </td><td style=\"text-align: right;\">   -0.209765  </td><td style=\"text-align: right;\">    -0.0235903</td><td style=\"text-align: right;\">     0.0903518</td><td style=\"text-align: right;\">    -0.105113 </td><td style=\"text-align: right;\">    0.144298  </td><td style=\"text-align: right;\">    -0.102772 </td><td style=\"text-align: right;\">   -0.00849593</td><td style=\"text-align: right;\">  -9.31975e-06</td><td style=\"text-align: right;\">     0.308475 </td><td style=\"text-align: right;\">    -0.225475 </td><td style=\"text-align: right;\">  -0.0707727  </td><td style=\"text-align: right;\">    -0.15923  </td><td style=\"text-align: right;\">     0.293325 </td><td style=\"text-align: right;\">    -0.292269 </td><td style=\"text-align: right;\">    -0.131789 </td><td style=\"text-align: right;\">   -0.0958517 </td><td style=\"text-align: right;\">     0.144756 </td><td style=\"text-align: right;\">     0.196817 </td><td style=\"text-align: right;\">      0.339956 </td></tr>\n",
              "<tr><td style=\"text-align: right;\"> -0.029531   </td><td style=\"text-align: right;\">  -0.0761626 </td><td style=\"text-align: right;\">   -0.037909 </td><td style=\"text-align: right;\">    0.453132 </td><td style=\"text-align: right;\">   0.105771  </td><td style=\"text-align: right;\">  -0.0967504 </td><td style=\"text-align: right;\">    0.0130385</td><td style=\"text-align: right;\">  -0.122775  </td><td style=\"text-align: right;\">    0.0334591</td><td style=\"text-align: right;\">    -0.0491362</td><td style=\"text-align: right;\">    -0.0674269</td><td style=\"text-align: right;\">    -0.120785 </td><td style=\"text-align: right;\">    -0.133666 </td><td style=\"text-align: right;\">    -0.0976171</td><td style=\"text-align: right;\">    -0.0654129</td><td style=\"text-align: right;\">    0.111024  </td><td style=\"text-align: right;\">     0.0501646</td><td style=\"text-align: right;\">   -0.068232  </td><td style=\"text-align: right;\">  -0.0893013  </td><td style=\"text-align: right;\">     0.0113621</td><td style=\"text-align: right;\">    -0.144551 </td><td style=\"text-align: right;\">    -0.140234 </td><td style=\"text-align: right;\">    0.0131885 </td><td style=\"text-align: right;\">     0.023717 </td><td style=\"text-align: right;\">    -0.0229126</td><td style=\"text-align: right;\">     0.120462 </td><td style=\"text-align: right;\">    0.00145362</td><td style=\"text-align: right;\">    0.00371324</td><td style=\"text-align: right;\">    -0.0443514</td><td style=\"text-align: right;\">    0.0791686 </td><td style=\"text-align: right;\">     0.0464328</td><td style=\"text-align: right;\">     0.126263 </td><td style=\"text-align: right;\">   -0.00852111</td><td style=\"text-align: right;\">     0.231659 </td><td style=\"text-align: right;\">     0.113127 </td><td style=\"text-align: right;\">    -0.0791923</td><td style=\"text-align: right;\">   -0.0687154 </td><td style=\"text-align: right;\">    -0.0741382</td><td style=\"text-align: right;\">    0.0307683 </td><td style=\"text-align: right;\">    -0.0614758</td><td style=\"text-align: right;\">   -0.00879383</td><td style=\"text-align: right;\">    0.188453  </td><td style=\"text-align: right;\">    0.00981812</td><td style=\"text-align: right;\">     0.0100394</td><td style=\"text-align: right;\">    -0.231231 </td><td style=\"text-align: right;\">    0.0163551 </td><td style=\"text-align: right;\">    -0.0800602</td><td style=\"text-align: right;\">     0.0167455</td><td style=\"text-align: right;\">    0.0502882 </td><td style=\"text-align: right;\">    -0.107261 </td><td style=\"text-align: right;\">     0.0430806</td><td style=\"text-align: right;\">     0.0656638</td><td style=\"text-align: right;\">     0.107172 </td><td style=\"text-align: right;\">    -0.0689343</td><td style=\"text-align: right;\">    0.0878559 </td><td style=\"text-align: right;\">    0.0772686 </td><td style=\"text-align: right;\">   -0.0510362 </td><td style=\"text-align: right;\">   -0.180482  </td><td style=\"text-align: right;\">     0.217579 </td><td style=\"text-align: right;\">     0.0344349</td><td style=\"text-align: right;\">    0.00533205</td><td style=\"text-align: right;\">     0.0732773</td><td style=\"text-align: right;\">     0.194606 </td><td style=\"text-align: right;\">   -0.0172533 </td><td style=\"text-align: right;\">   -0.0102795 </td><td style=\"text-align: right;\">    0.0397211 </td><td style=\"text-align: right;\">     0.142426 </td><td style=\"text-align: right;\">     0.13889  </td><td style=\"text-align: right;\">   -0.210701  </td><td style=\"text-align: right;\">    -0.061836 </td><td style=\"text-align: right;\">    -0.062271 </td><td style=\"text-align: right;\">    -0.0693182</td><td style=\"text-align: right;\">    -0.0906445</td><td style=\"text-align: right;\">     0.10513  </td><td style=\"text-align: right;\">    0.109296  </td><td style=\"text-align: right;\">    -0.0208267</td><td style=\"text-align: right;\">     0.109763 </td><td style=\"text-align: right;\">    0.035511  </td><td style=\"text-align: right;\">   0.116042   </td><td style=\"text-align: right;\">     0.051282 </td><td style=\"text-align: right;\">     0.0289474</td><td style=\"text-align: right;\">    0.126397  </td><td style=\"text-align: right;\">     0.0151475</td><td style=\"text-align: right;\">    -0.162874 </td><td style=\"text-align: right;\">    -0.0785977</td><td style=\"text-align: right;\">    0.123161  </td><td style=\"text-align: right;\">     0.173894 </td><td style=\"text-align: right;\">   -0.0435824 </td><td style=\"text-align: right;\">  -0.0167289  </td><td style=\"text-align: right;\">     0.144609 </td><td style=\"text-align: right;\">    -0.0710754</td><td style=\"text-align: right;\">   0.198347   </td><td style=\"text-align: right;\">     0.143541 </td><td style=\"text-align: right;\">     0.337826 </td><td style=\"text-align: right;\">    -0.18605  </td><td style=\"text-align: right;\">    -0.0659614</td><td style=\"text-align: right;\">    0.00972672</td><td style=\"text-align: right;\">     0.086868 </td><td style=\"text-align: right;\">     0.106704 </td><td style=\"text-align: right;\">      0.0708693</td></tr>\n",
              "<tr><td style=\"text-align: right;\">  0.11167    </td><td style=\"text-align: right;\">  -0.00835655</td><td style=\"text-align: right;\">   -0.129281 </td><td style=\"text-align: right;\">    0.0574417</td><td style=\"text-align: right;\">  -0.00662589</td><td style=\"text-align: right;\">  -0.142522  </td><td style=\"text-align: right;\">   -0.167356 </td><td style=\"text-align: right;\">   0.0463821 </td><td style=\"text-align: right;\">   -0.176686 </td><td style=\"text-align: right;\">     0.0370432</td><td style=\"text-align: right;\">    -0.211749 </td><td style=\"text-align: right;\">    -0.180405 </td><td style=\"text-align: right;\">     0.30959  </td><td style=\"text-align: right;\">     0.148681 </td><td style=\"text-align: right;\">    -0.282004 </td><td style=\"text-align: right;\">    0.00137684</td><td style=\"text-align: right;\">    -0.0364557</td><td style=\"text-align: right;\">   -0.0534643 </td><td style=\"text-align: right;\">   0.202051   </td><td style=\"text-align: right;\">     0.197825 </td><td style=\"text-align: right;\">    -0.0246642</td><td style=\"text-align: right;\">     0.0167486</td><td style=\"text-align: right;\">    0.284652  </td><td style=\"text-align: right;\">     0.048496 </td><td style=\"text-align: right;\">     0.245976 </td><td style=\"text-align: right;\">     0.106146 </td><td style=\"text-align: right;\">    0.183454  </td><td style=\"text-align: right;\">    0.073538  </td><td style=\"text-align: right;\">    -0.165457 </td><td style=\"text-align: right;\">   -0.172566  </td><td style=\"text-align: right;\">     0.206847 </td><td style=\"text-align: right;\">     0.0287519</td><td style=\"text-align: right;\">   -0.280376  </td><td style=\"text-align: right;\">     0.388369 </td><td style=\"text-align: right;\">    -0.254248 </td><td style=\"text-align: right;\">    -0.528089 </td><td style=\"text-align: right;\">    0.215854  </td><td style=\"text-align: right;\">    -0.395667 </td><td style=\"text-align: right;\">   -0.285485  </td><td style=\"text-align: right;\">    -0.163222 </td><td style=\"text-align: right;\">    0.131571  </td><td style=\"text-align: right;\">    0.0303904 </td><td style=\"text-align: right;\">   -0.315139  </td><td style=\"text-align: right;\">     0.134646 </td><td style=\"text-align: right;\">    -0.12104  </td><td style=\"text-align: right;\">   -0.144318  </td><td style=\"text-align: right;\">     0.0105745</td><td style=\"text-align: right;\">    -0.0644506</td><td style=\"text-align: right;\">   -0.07097   </td><td style=\"text-align: right;\">    -0.0370443</td><td style=\"text-align: right;\">     0.235784 </td><td style=\"text-align: right;\">     0.132228 </td><td style=\"text-align: right;\">    -0.0849519</td><td style=\"text-align: right;\">    -0.206007 </td><td style=\"text-align: right;\">   -0.279568  </td><td style=\"text-align: right;\">    0.0542729 </td><td style=\"text-align: right;\">   -0.335088  </td><td style=\"text-align: right;\">    0.0794668 </td><td style=\"text-align: right;\">     0.0925628</td><td style=\"text-align: right;\">    -0.0633383</td><td style=\"text-align: right;\">    0.153178  </td><td style=\"text-align: right;\">     0.396788 </td><td style=\"text-align: right;\">     0.0194848</td><td style=\"text-align: right;\">    0.144603  </td><td style=\"text-align: right;\">    0.109774  </td><td style=\"text-align: right;\">   -0.166461  </td><td style=\"text-align: right;\">     0.170369 </td><td style=\"text-align: right;\">    -0.274526 </td><td style=\"text-align: right;\">   -0.0888827 </td><td style=\"text-align: right;\">     0.336089 </td><td style=\"text-align: right;\">    -0.121106 </td><td style=\"text-align: right;\">    -0.173797 </td><td style=\"text-align: right;\">     0.401123 </td><td style=\"text-align: right;\">     0.159877 </td><td style=\"text-align: right;\">    0.0441438 </td><td style=\"text-align: right;\">    -0.127067 </td><td style=\"text-align: right;\">     0.215042 </td><td style=\"text-align: right;\">   -0.20255   </td><td style=\"text-align: right;\">   0.0377424  </td><td style=\"text-align: right;\">    -0.370584 </td><td style=\"text-align: right;\">     0.0118338</td><td style=\"text-align: right;\">    0.0043794 </td><td style=\"text-align: right;\">     0.0416817</td><td style=\"text-align: right;\">    -0.20669  </td><td style=\"text-align: right;\">     0.0736929</td><td style=\"text-align: right;\">   -0.0896486 </td><td style=\"text-align: right;\">     0.263954 </td><td style=\"text-align: right;\">   -0.289076  </td><td style=\"text-align: right;\">  -0.215249   </td><td style=\"text-align: right;\">     0.379559 </td><td style=\"text-align: right;\">    -0.0720283</td><td style=\"text-align: right;\">   0.161328   </td><td style=\"text-align: right;\">    -0.140665 </td><td style=\"text-align: right;\">     0.456778 </td><td style=\"text-align: right;\">     0.20214  </td><td style=\"text-align: right;\">    -0.212866 </td><td style=\"text-align: right;\">   -0.140217  </td><td style=\"text-align: right;\">     0.150588 </td><td style=\"text-align: right;\">    -0.117089 </td><td style=\"text-align: right;\">     -0.126504 </td></tr>\n",
              "<tr><td style=\"text-align: right;\"> -0.328431   </td><td style=\"text-align: right;\">   0.181612  </td><td style=\"text-align: right;\">   -0.217972 </td><td style=\"text-align: right;\">    0.196106 </td><td style=\"text-align: right;\">  -0.154482  </td><td style=\"text-align: right;\">   0.00120735</td><td style=\"text-align: right;\">    0.0723748</td><td style=\"text-align: right;\">  -0.0281228 </td><td style=\"text-align: right;\">    0.30779  </td><td style=\"text-align: right;\">     0.355154 </td><td style=\"text-align: right;\">     0.0515376</td><td style=\"text-align: right;\">     0.112361 </td><td style=\"text-align: right;\">    -0.0480441</td><td style=\"text-align: right;\">     0.190569 </td><td style=\"text-align: right;\">     0.107479 </td><td style=\"text-align: right;\">    0.141393  </td><td style=\"text-align: right;\">    -0.0978156</td><td style=\"text-align: right;\">    0.399021  </td><td style=\"text-align: right;\">  -0.61104    </td><td style=\"text-align: right;\">    -0.109958 </td><td style=\"text-align: right;\">     0.222137 </td><td style=\"text-align: right;\">    -0.107741 </td><td style=\"text-align: right;\">    0.17622   </td><td style=\"text-align: right;\">    -0.247753 </td><td style=\"text-align: right;\">    -0.481783 </td><td style=\"text-align: right;\">    -0.265179 </td><td style=\"text-align: right;\">   -0.342492  </td><td style=\"text-align: right;\">   -0.23147   </td><td style=\"text-align: right;\">    -0.0950542</td><td style=\"text-align: right;\">   -0.222793  </td><td style=\"text-align: right;\">     0.10989  </td><td style=\"text-align: right;\">     0.207818 </td><td style=\"text-align: right;\">   -0.358082  </td><td style=\"text-align: right;\">     0.157507 </td><td style=\"text-align: right;\">    -0.0927523</td><td style=\"text-align: right;\">    -0.0479077</td><td style=\"text-align: right;\">    0.0496756 </td><td style=\"text-align: right;\">    -0.160796 </td><td style=\"text-align: right;\">    0.307642  </td><td style=\"text-align: right;\">     0.39607  </td><td style=\"text-align: right;\">   -0.0632355 </td><td style=\"text-align: right;\">   -0.190232  </td><td style=\"text-align: right;\">    0.246866  </td><td style=\"text-align: right;\">     0.484718 </td><td style=\"text-align: right;\">    -0.252445 </td><td style=\"text-align: right;\">   -0.143426  </td><td style=\"text-align: right;\">     0.0567269</td><td style=\"text-align: right;\">     0.280007 </td><td style=\"text-align: right;\">    0.207293  </td><td style=\"text-align: right;\">     0.109046 </td><td style=\"text-align: right;\">     0.293045 </td><td style=\"text-align: right;\">     0.298492 </td><td style=\"text-align: right;\">    -0.147709 </td><td style=\"text-align: right;\">    -0.148369 </td><td style=\"text-align: right;\">   -0.0804425 </td><td style=\"text-align: right;\">    0.304281  </td><td style=\"text-align: right;\">   -0.165967  </td><td style=\"text-align: right;\">   -0.105873  </td><td style=\"text-align: right;\">    -0.10875  </td><td style=\"text-align: right;\">    -0.101293 </td><td style=\"text-align: right;\">    0.783563  </td><td style=\"text-align: right;\">     0.0415531</td><td style=\"text-align: right;\">     0.167526 </td><td style=\"text-align: right;\">    0.544562  </td><td style=\"text-align: right;\">   -0.0139361 </td><td style=\"text-align: right;\">   -0.308666  </td><td style=\"text-align: right;\">    -0.0617801</td><td style=\"text-align: right;\">     0.170086 </td><td style=\"text-align: right;\">   -0.477195  </td><td style=\"text-align: right;\">    -0.201893 </td><td style=\"text-align: right;\">     0.0700277</td><td style=\"text-align: right;\">     0.32368  </td><td style=\"text-align: right;\">     0.111025 </td><td style=\"text-align: right;\">    -0.309508 </td><td style=\"text-align: right;\">   -0.170707  </td><td style=\"text-align: right;\">    -0.113258 </td><td style=\"text-align: right;\">    -0.152282 </td><td style=\"text-align: right;\">    0.51634   </td><td style=\"text-align: right;\">  -0.525544   </td><td style=\"text-align: right;\">    -0.488596 </td><td style=\"text-align: right;\">    -0.365808 </td><td style=\"text-align: right;\">    0.161509  </td><td style=\"text-align: right;\">    -0.15736  </td><td style=\"text-align: right;\">    -0.31471  </td><td style=\"text-align: right;\">    -0.167439 </td><td style=\"text-align: right;\">    0.183     </td><td style=\"text-align: right;\">    -0.111201 </td><td style=\"text-align: right;\">    0.165603  </td><td style=\"text-align: right;\">  -0.148917   </td><td style=\"text-align: right;\">    -0.122226 </td><td style=\"text-align: right;\">    -0.599483 </td><td style=\"text-align: right;\">   0.175337   </td><td style=\"text-align: right;\">     0.0155001</td><td style=\"text-align: right;\">     0.177706 </td><td style=\"text-align: right;\">    -0.0288998</td><td style=\"text-align: right;\">    -0.0849082</td><td style=\"text-align: right;\">   -0.0289625 </td><td style=\"text-align: right;\">     0.369142 </td><td style=\"text-align: right;\">    -0.07358  </td><td style=\"text-align: right;\">     -0.377289 </td></tr>\n",
              "<tr><td style=\"text-align: right;\">  0.313213   </td><td style=\"text-align: right;\">  -0.21348   </td><td style=\"text-align: right;\">   -0.177413 </td><td style=\"text-align: right;\">   -0.23144  </td><td style=\"text-align: right;\">   0.0467013 </td><td style=\"text-align: right;\">  -0.14441   </td><td style=\"text-align: right;\">   -0.300236 </td><td style=\"text-align: right;\">  -0.281996  </td><td style=\"text-align: right;\">   -0.20141  </td><td style=\"text-align: right;\">    -0.303669 </td><td style=\"text-align: right;\">    -0.0909715</td><td style=\"text-align: right;\">     0.0483526</td><td style=\"text-align: right;\">    -0.0616208</td><td style=\"text-align: right;\">    -0.169474 </td><td style=\"text-align: right;\">    -0.215886 </td><td style=\"text-align: right;\">    0.0631507 </td><td style=\"text-align: right;\">     0.0439651</td><td style=\"text-align: right;\">   -0.142616  </td><td style=\"text-align: right;\">  -0.38209    </td><td style=\"text-align: right;\">    -0.255637 </td><td style=\"text-align: right;\">     0.0155582</td><td style=\"text-align: right;\">    -0.143078 </td><td style=\"text-align: right;\">   -0.0683723 </td><td style=\"text-align: right;\">    -0.166237 </td><td style=\"text-align: right;\">     0.332156 </td><td style=\"text-align: right;\">    -0.0452946</td><td style=\"text-align: right;\">   -0.0212179 </td><td style=\"text-align: right;\">   -0.112266  </td><td style=\"text-align: right;\">    -0.210063 </td><td style=\"text-align: right;\">    0.0519787 </td><td style=\"text-align: right;\">    -0.10566  </td><td style=\"text-align: right;\">    -0.0997913</td><td style=\"text-align: right;\">   -0.125269  </td><td style=\"text-align: right;\">     0.325943 </td><td style=\"text-align: right;\">    -0.181509 </td><td style=\"text-align: right;\">    -0.203336 </td><td style=\"text-align: right;\">   -0.117967  </td><td style=\"text-align: right;\">    -0.343073 </td><td style=\"text-align: right;\">    0.289549  </td><td style=\"text-align: right;\">    -0.0951278</td><td style=\"text-align: right;\">    0.0344704 </td><td style=\"text-align: right;\">   -0.135873  </td><td style=\"text-align: right;\">    0.0924429 </td><td style=\"text-align: right;\">     0.209286 </td><td style=\"text-align: right;\">    -0.0477324</td><td style=\"text-align: right;\">   -0.0277274 </td><td style=\"text-align: right;\">    -0.0338726</td><td style=\"text-align: right;\">    -0.0213207</td><td style=\"text-align: right;\">    0.232398  </td><td style=\"text-align: right;\">     0.0225186</td><td style=\"text-align: right;\">     0.177173 </td><td style=\"text-align: right;\">    -0.037332 </td><td style=\"text-align: right;\">    -0.0884299</td><td style=\"text-align: right;\">     0.083178 </td><td style=\"text-align: right;\">   -0.347286  </td><td style=\"text-align: right;\">    0.112216  </td><td style=\"text-align: right;\">    0.0743005 </td><td style=\"text-align: right;\">   -0.160497  </td><td style=\"text-align: right;\">    -0.0746199</td><td style=\"text-align: right;\">    -0.207795 </td><td style=\"text-align: right;\">   -0.133902  </td><td style=\"text-align: right;\">    -0.135555 </td><td style=\"text-align: right;\">     0.175525 </td><td style=\"text-align: right;\">    0.35884   </td><td style=\"text-align: right;\">    0.248305  </td><td style=\"text-align: right;\">   -0.197835  </td><td style=\"text-align: right;\">     0.0786377</td><td style=\"text-align: right;\">     0.134633 </td><td style=\"text-align: right;\">    0.0478329 </td><td style=\"text-align: right;\">     0.0846246</td><td style=\"text-align: right;\">    -0.183622 </td><td style=\"text-align: right;\">     0.152699 </td><td style=\"text-align: right;\">     0.0107845</td><td style=\"text-align: right;\">    -0.037498 </td><td style=\"text-align: right;\">    0.1107    </td><td style=\"text-align: right;\">    -0.11845  </td><td style=\"text-align: right;\">     0.300427 </td><td style=\"text-align: right;\">   -0.151379  </td><td style=\"text-align: right;\">  -0.000187371</td><td style=\"text-align: right;\">     0.211676 </td><td style=\"text-align: right;\">    -0.315465 </td><td style=\"text-align: right;\">   -0.422323  </td><td style=\"text-align: right;\">     0.0270978</td><td style=\"text-align: right;\">    -0.246066 </td><td style=\"text-align: right;\">    -0.175601 </td><td style=\"text-align: right;\">   -0.0249215 </td><td style=\"text-align: right;\">     0.177944 </td><td style=\"text-align: right;\">    0.327899  </td><td style=\"text-align: right;\">   0.0994411  </td><td style=\"text-align: right;\">     0.157621 </td><td style=\"text-align: right;\">    -0.167677 </td><td style=\"text-align: right;\">   0.0200618  </td><td style=\"text-align: right;\">     0.0252516</td><td style=\"text-align: right;\">     0.0921954</td><td style=\"text-align: right;\">     0.0610368</td><td style=\"text-align: right;\">     0.0876895</td><td style=\"text-align: right;\">   -0.135263  </td><td style=\"text-align: right;\">     0.245527 </td><td style=\"text-align: right;\">     0.462639 </td><td style=\"text-align: right;\">      0.224933 </td></tr>\n",
              "<tr><td style=\"text-align: right;\">  0.0510377  </td><td style=\"text-align: right;\">  -0.119845  </td><td style=\"text-align: right;\">    0.0291927</td><td style=\"text-align: right;\">    0.0570843</td><td style=\"text-align: right;\">  -0.256652  </td><td style=\"text-align: right;\">   0.0699352 </td><td style=\"text-align: right;\">    0.0127863</td><td style=\"text-align: right;\">   0.012984  </td><td style=\"text-align: right;\">    0.0947972</td><td style=\"text-align: right;\">    -0.0556156</td><td style=\"text-align: right;\">    -0.0943174</td><td style=\"text-align: right;\">    -0.0929756</td><td style=\"text-align: right;\">    -0.0689928</td><td style=\"text-align: right;\">    -0.0768378</td><td style=\"text-align: right;\">    -0.0824696</td><td style=\"text-align: right;\">   -0.0267193 </td><td style=\"text-align: right;\">    -0.0253253</td><td style=\"text-align: right;\">    0.0461454 </td><td style=\"text-align: right;\">   0.0143577  </td><td style=\"text-align: right;\">    -0.181194 </td><td style=\"text-align: right;\">    -0.0258957</td><td style=\"text-align: right;\">    -0.0271938</td><td style=\"text-align: right;\">    0.0291715 </td><td style=\"text-align: right;\">    -0.0500176</td><td style=\"text-align: right;\">    -0.128334 </td><td style=\"text-align: right;\">    -0.0836705</td><td style=\"text-align: right;\">    0.0495759 </td><td style=\"text-align: right;\">   -0.339292  </td><td style=\"text-align: right;\">    -0.160442 </td><td style=\"text-align: right;\">   -0.141359  </td><td style=\"text-align: right;\">    -0.0369321</td><td style=\"text-align: right;\">     0.105847 </td><td style=\"text-align: right;\">   -0.386596  </td><td style=\"text-align: right;\">     0.120775 </td><td style=\"text-align: right;\">     0.140116 </td><td style=\"text-align: right;\">    -0.227569 </td><td style=\"text-align: right;\">   -0.261149  </td><td style=\"text-align: right;\">     0.0289363</td><td style=\"text-align: right;\">    0.00712327</td><td style=\"text-align: right;\">    -0.0409354</td><td style=\"text-align: right;\">   -0.026729  </td><td style=\"text-align: right;\">   -0.0450415 </td><td style=\"text-align: right;\">    0.0652848 </td><td style=\"text-align: right;\">     0.159258 </td><td style=\"text-align: right;\">    -0.0244496</td><td style=\"text-align: right;\">    0.0415613 </td><td style=\"text-align: right;\">    -0.0254341</td><td style=\"text-align: right;\">     0.0787258</td><td style=\"text-align: right;\">    0.00204203</td><td style=\"text-align: right;\">    -0.239393 </td><td style=\"text-align: right;\">     0.0120684</td><td style=\"text-align: right;\">     0.179743 </td><td style=\"text-align: right;\">    -0.0342595</td><td style=\"text-align: right;\">    -0.0843162</td><td style=\"text-align: right;\">   -0.0960009 </td><td style=\"text-align: right;\">    0.0962021 </td><td style=\"text-align: right;\">   -0.0922081 </td><td style=\"text-align: right;\">   -0.0419098 </td><td style=\"text-align: right;\">    -0.0414044</td><td style=\"text-align: right;\">     0.0445602</td><td style=\"text-align: right;\">   -0.0861619 </td><td style=\"text-align: right;\">    -0.0173364</td><td style=\"text-align: right;\">    -0.0327451</td><td style=\"text-align: right;\">    0.0768954 </td><td style=\"text-align: right;\">   -0.124543  </td><td style=\"text-align: right;\">    0.00330194</td><td style=\"text-align: right;\">     0.223827 </td><td style=\"text-align: right;\">     0.142092 </td><td style=\"text-align: right;\">   -0.0508571 </td><td style=\"text-align: right;\">     0.0415816</td><td style=\"text-align: right;\">    -0.0227113</td><td style=\"text-align: right;\">     0.0189124</td><td style=\"text-align: right;\">    -0.149046 </td><td style=\"text-align: right;\">     0.0189566</td><td style=\"text-align: right;\">    0.00126621</td><td style=\"text-align: right;\">     0.0229646</td><td style=\"text-align: right;\">     0.205799 </td><td style=\"text-align: right;\">    0.0174924 </td><td style=\"text-align: right;\">   0.043534   </td><td style=\"text-align: right;\">    -0.0625501</td><td style=\"text-align: right;\">    -0.0789617</td><td style=\"text-align: right;\">    0.147443  </td><td style=\"text-align: right;\">     0.0443597</td><td style=\"text-align: right;\">    -0.211494 </td><td style=\"text-align: right;\">     0.07434  </td><td style=\"text-align: right;\">    0.0742316 </td><td style=\"text-align: right;\">     0.158858 </td><td style=\"text-align: right;\">    0.00519642</td><td style=\"text-align: right;\">  -0.0357335  </td><td style=\"text-align: right;\">     0.215755 </td><td style=\"text-align: right;\">    -0.0251679</td><td style=\"text-align: right;\">   0.0351662  </td><td style=\"text-align: right;\">     0.181607 </td><td style=\"text-align: right;\">     0.204433 </td><td style=\"text-align: right;\">    -0.0159365</td><td style=\"text-align: right;\">    -0.0355138</td><td style=\"text-align: right;\">    0.10167   </td><td style=\"text-align: right;\">     0.0196471</td><td style=\"text-align: right;\">    -0.178414 </td><td style=\"text-align: right;\">      0.141573 </td></tr>\n",
              "</tbody>\n",
              "</table>"
            ]
          },
          "metadata": {
            "tags": []
          }
        },
        {
          "output_type": "execute_result",
          "data": {
            "text/plain": [
              ""
            ]
          },
          "metadata": {
            "tags": []
          },
          "execution_count": 66
        }
      ]
    },
    {
      "cell_type": "code",
      "metadata": {
        "id": "nXdLGu1-s2MO"
      },
      "source": [
        "h2o_df_ext = h2o_df_ext.cbind(headline_vecs)"
      ],
      "execution_count": 67,
      "outputs": []
    },
    {
      "cell_type": "code",
      "metadata": {
        "id": "RZhE3bnbx4x7"
      },
      "source": [
        "h2o_train,h2o_valid = h2o_df_ext.split_frame(ratios=[.8])"
      ],
      "execution_count": 68,
      "outputs": []
    },
    {
      "cell_type": "code",
      "metadata": {
        "colab": {
          "base_uri": "https://localhost:8080/",
          "height": 1000
        },
        "id": "YwYb6wTrtMDO",
        "outputId": "1ad4857a-00e9-4220-86cc-1db7f38b1596"
      },
      "source": [
        "h2o_df_ext"
      ],
      "execution_count": 69,
      "outputs": [
        {
          "output_type": "display_data",
          "data": {
            "text/html": [
              "<table>\n",
              "<thead>\n",
              "<tr><th style=\"text-align: right;\">  votes</th><th>headline                                                                 </th><th>reviews                                                                                                                                                                                                                                                                                                                                                                                                                                                                                                                                                                                                                                                                                                                                                                                                                                                                                                                                                                                                                                                                                                                           </th><th style=\"text-align: right;\">  rating</th><th style=\"text-align: right;\">  target</th><th style=\"text-align: right;\">        C1</th><th style=\"text-align: right;\">         C2</th><th style=\"text-align: right;\">         C3</th><th style=\"text-align: right;\">       C4</th><th style=\"text-align: right;\">         C5</th><th style=\"text-align: right;\">        C6</th><th style=\"text-align: right;\">         C7</th><th style=\"text-align: right;\">        C8</th><th style=\"text-align: right;\">         C9</th><th style=\"text-align: right;\">       C10</th><th style=\"text-align: right;\">        C11</th><th style=\"text-align: right;\">        C12</th><th style=\"text-align: right;\">        C13</th><th style=\"text-align: right;\">        C14</th><th style=\"text-align: right;\">        C15</th><th style=\"text-align: right;\">       C16</th><th style=\"text-align: right;\">       C17</th><th style=\"text-align: right;\">       C18</th><th style=\"text-align: right;\">        C19</th><th style=\"text-align: right;\">       C20</th><th style=\"text-align: right;\">        C21</th><th style=\"text-align: right;\">        C22</th><th style=\"text-align: right;\">         C23</th><th style=\"text-align: right;\">        C24</th><th style=\"text-align: right;\">       C25</th><th style=\"text-align: right;\">         C26</th><th style=\"text-align: right;\">       C27</th><th style=\"text-align: right;\">       C28</th><th style=\"text-align: right;\">        C29</th><th style=\"text-align: right;\">      C30</th><th style=\"text-align: right;\">        C31</th><th style=\"text-align: right;\">       C32</th><th style=\"text-align: right;\">       C33</th><th style=\"text-align: right;\">      C34</th><th style=\"text-align: right;\">         C35</th><th style=\"text-align: right;\">       C36</th><th style=\"text-align: right;\">         C37</th><th style=\"text-align: right;\">        C38</th><th style=\"text-align: right;\">       C39</th><th style=\"text-align: right;\">       C40</th><th style=\"text-align: right;\">       C41</th><th style=\"text-align: right;\">       C42</th><th style=\"text-align: right;\">       C43</th><th style=\"text-align: right;\">         C44</th><th style=\"text-align: right;\">        C45</th><th style=\"text-align: right;\">         C46</th><th style=\"text-align: right;\">        C47</th><th style=\"text-align: right;\">       C48</th><th style=\"text-align: right;\">        C49</th><th style=\"text-align: right;\">         C50</th><th style=\"text-align: right;\">        C51</th><th style=\"text-align: right;\">        C52</th><th style=\"text-align: right;\">         C53</th><th style=\"text-align: right;\">       C54</th><th style=\"text-align: right;\">        C55</th><th style=\"text-align: right;\">        C56</th><th style=\"text-align: right;\">       C57</th><th style=\"text-align: right;\">       C58</th><th style=\"text-align: right;\">        C59</th><th style=\"text-align: right;\">        C60</th><th style=\"text-align: right;\">       C61</th><th style=\"text-align: right;\">      C62</th><th style=\"text-align: right;\">      C63</th><th style=\"text-align: right;\">        C64</th><th style=\"text-align: right;\">        C65</th><th style=\"text-align: right;\">        C66</th><th style=\"text-align: right;\">        C67</th><th style=\"text-align: right;\">       C68</th><th style=\"text-align: right;\">        C69</th><th style=\"text-align: right;\">        C70</th><th style=\"text-align: right;\">        C71</th><th style=\"text-align: right;\">       C72</th><th style=\"text-align: right;\">        C73</th><th style=\"text-align: right;\">         C74</th><th style=\"text-align: right;\">        C75</th><th style=\"text-align: right;\">        C76</th><th style=\"text-align: right;\">       C77</th><th style=\"text-align: right;\">         C78</th><th style=\"text-align: right;\">        C79</th><th style=\"text-align: right;\">         C80</th><th style=\"text-align: right;\">        C81</th><th style=\"text-align: right;\">        C82</th><th style=\"text-align: right;\">        C83</th><th style=\"text-align: right;\">        C84</th><th style=\"text-align: right;\">        C85</th><th style=\"text-align: right;\">        C86</th><th style=\"text-align: right;\">         C87</th><th style=\"text-align: right;\">        C88</th><th style=\"text-align: right;\">       C89</th><th style=\"text-align: right;\">      C90</th><th style=\"text-align: right;\">       C91</th><th style=\"text-align: right;\">       C92</th><th style=\"text-align: right;\">        C93</th><th style=\"text-align: right;\">       C94</th><th style=\"text-align: right;\">       C95</th><th style=\"text-align: right;\">        C96</th><th style=\"text-align: right;\">        C97</th><th style=\"text-align: right;\">       C98</th><th style=\"text-align: right;\">       C99</th><th style=\"text-align: right;\">       C100</th><th style=\"text-align: right;\">  headline_C1</th><th style=\"text-align: right;\">  headline_C2</th><th style=\"text-align: right;\">  headline_C3</th><th style=\"text-align: right;\">  headline_C4</th><th style=\"text-align: right;\">  headline_C5</th><th style=\"text-align: right;\">  headline_C6</th><th style=\"text-align: right;\">  headline_C7</th><th style=\"text-align: right;\">  headline_C8</th><th style=\"text-align: right;\">  headline_C9</th><th style=\"text-align: right;\">  headline_C10</th><th style=\"text-align: right;\">  headline_C11</th><th style=\"text-align: right;\">  headline_C12</th><th style=\"text-align: right;\">  headline_C13</th><th style=\"text-align: right;\">  headline_C14</th><th style=\"text-align: right;\">  headline_C15</th><th style=\"text-align: right;\">  headline_C16</th><th style=\"text-align: right;\">  headline_C17</th><th style=\"text-align: right;\">  headline_C18</th><th style=\"text-align: right;\">  headline_C19</th><th style=\"text-align: right;\">  headline_C20</th><th style=\"text-align: right;\">  headline_C21</th><th style=\"text-align: right;\">  headline_C22</th><th style=\"text-align: right;\">  headline_C23</th><th style=\"text-align: right;\">  headline_C24</th><th style=\"text-align: right;\">  headline_C25</th><th style=\"text-align: right;\">  headline_C26</th><th style=\"text-align: right;\">  headline_C27</th><th style=\"text-align: right;\">  headline_C28</th><th style=\"text-align: right;\">  headline_C29</th><th style=\"text-align: right;\">  headline_C30</th><th style=\"text-align: right;\">  headline_C31</th><th style=\"text-align: right;\">  headline_C32</th><th style=\"text-align: right;\">  headline_C33</th><th style=\"text-align: right;\">  headline_C34</th><th style=\"text-align: right;\">  headline_C35</th><th style=\"text-align: right;\">  headline_C36</th><th style=\"text-align: right;\">  headline_C37</th><th style=\"text-align: right;\">  headline_C38</th><th style=\"text-align: right;\">  headline_C39</th><th style=\"text-align: right;\">  headline_C40</th><th style=\"text-align: right;\">  headline_C41</th><th style=\"text-align: right;\">  headline_C42</th><th style=\"text-align: right;\">  headline_C43</th><th style=\"text-align: right;\">  headline_C44</th><th style=\"text-align: right;\">  headline_C45</th><th style=\"text-align: right;\">  headline_C46</th><th style=\"text-align: right;\">  headline_C47</th><th style=\"text-align: right;\">  headline_C48</th><th style=\"text-align: right;\">  headline_C49</th><th style=\"text-align: right;\">  headline_C50</th><th style=\"text-align: right;\">  headline_C51</th><th style=\"text-align: right;\">  headline_C52</th><th style=\"text-align: right;\">  headline_C53</th><th style=\"text-align: right;\">  headline_C54</th><th style=\"text-align: right;\">  headline_C55</th><th style=\"text-align: right;\">  headline_C56</th><th style=\"text-align: right;\">  headline_C57</th><th style=\"text-align: right;\">  headline_C58</th><th style=\"text-align: right;\">  headline_C59</th><th style=\"text-align: right;\">  headline_C60</th><th style=\"text-align: right;\">  headline_C61</th><th style=\"text-align: right;\">  headline_C62</th><th style=\"text-align: right;\">  headline_C63</th><th style=\"text-align: right;\">  headline_C64</th><th style=\"text-align: right;\">  headline_C65</th><th style=\"text-align: right;\">  headline_C66</th><th style=\"text-align: right;\">  headline_C67</th><th style=\"text-align: right;\">  headline_C68</th><th style=\"text-align: right;\">  headline_C69</th><th style=\"text-align: right;\">  headline_C70</th><th style=\"text-align: right;\">  headline_C71</th><th style=\"text-align: right;\">  headline_C72</th><th style=\"text-align: right;\">  headline_C73</th><th style=\"text-align: right;\">  headline_C74</th><th style=\"text-align: right;\">  headline_C75</th><th style=\"text-align: right;\">  headline_C76</th><th style=\"text-align: right;\">  headline_C77</th><th style=\"text-align: right;\">  headline_C78</th><th style=\"text-align: right;\">  headline_C79</th><th style=\"text-align: right;\">  headline_C80</th><th style=\"text-align: right;\">  headline_C81</th><th style=\"text-align: right;\">  headline_C82</th><th style=\"text-align: right;\">  headline_C83</th><th style=\"text-align: right;\">  headline_C84</th><th style=\"text-align: right;\">  headline_C85</th><th style=\"text-align: right;\">  headline_C86</th><th style=\"text-align: right;\">  headline_C87</th><th style=\"text-align: right;\">  headline_C88</th><th style=\"text-align: right;\">  headline_C89</th><th style=\"text-align: right;\">  headline_C90</th><th style=\"text-align: right;\">  headline_C91</th><th style=\"text-align: right;\">  headline_C92</th><th style=\"text-align: right;\">  headline_C93</th><th style=\"text-align: right;\">  headline_C94</th><th style=\"text-align: right;\">  headline_C95</th><th style=\"text-align: right;\">  headline_C96</th><th style=\"text-align: right;\">  headline_C97</th><th style=\"text-align: right;\">  headline_C98</th><th style=\"text-align: right;\">  headline_C99</th><th style=\"text-align: right;\">  headline_C100</th></tr>\n",
              "</thead>\n",
              "<tbody>\n",
              "<tr><td style=\"text-align: right;\">      0</td><td>b&#x27;These glasses are an excellent value. The fit is good and they are ...&#x27;</td><td>b&quot;These glasses are an excellent value.  The fit is good and they are very comfortable.  Because of my legal blindness, there aren&#x27;t a lot of options to try to see better, but I believe these help with my other visual aids, and because they are reasonably priced I can have more than one pair available.&quot;                                                                                                                                                                                                                                                                                                                                                                                                                                                                                                                                                                                                                                                                                                                                                                                                                  </td><td style=\"text-align: right;\">       4</td><td style=\"text-align: right;\">       1</td><td style=\"text-align: right;\"> 0.0928554</td><td style=\"text-align: right;\">-0.0681869 </td><td style=\"text-align: right;\"> 0.0526175 </td><td style=\"text-align: right;\">0.178322 </td><td style=\"text-align: right;\">-0.11154   </td><td style=\"text-align: right;\">-0.175287 </td><td style=\"text-align: right;\"> 0.0800719 </td><td style=\"text-align: right;\"> 0.0381543</td><td style=\"text-align: right;\"> 0.0481738 </td><td style=\"text-align: right;\"> 0.0723973</td><td style=\"text-align: right;\"> 0.00992735</td><td style=\"text-align: right;\"> 0.12043   </td><td style=\"text-align: right;\">-0.0676577 </td><td style=\"text-align: right;\">-0.0976626 </td><td style=\"text-align: right;\"> 0.0324151 </td><td style=\"text-align: right;\">0.0888663 </td><td style=\"text-align: right;\"> 0.0629005</td><td style=\"text-align: right;\"> 0.0280419</td><td style=\"text-align: right;\">-0.0533805 </td><td style=\"text-align: right;\">-0.0671065</td><td style=\"text-align: right;\">-0.137512  </td><td style=\"text-align: right;\">-0.0436673 </td><td style=\"text-align: right;\"> 0.0972628  </td><td style=\"text-align: right;\">-0.0547482 </td><td style=\"text-align: right;\"> 0.0182456</td><td style=\"text-align: right;\"> 0.116664   </td><td style=\"text-align: right;\">-0.108079 </td><td style=\"text-align: right;\">-0.212961 </td><td style=\"text-align: right;\"> 0.0440586 </td><td style=\"text-align: right;\">-0.098442</td><td style=\"text-align: right;\"> 0.0381089 </td><td style=\"text-align: right;\">0.102497  </td><td style=\"text-align: right;\">-0.131187 </td><td style=\"text-align: right;\">0.195375 </td><td style=\"text-align: right;\"> 0.046057   </td><td style=\"text-align: right;\">-0.127018 </td><td style=\"text-align: right;\">-0.000842219</td><td style=\"text-align: right;\">-0.00480667</td><td style=\"text-align: right;\"> 0.0514512</td><td style=\"text-align: right;\">-0.11523  </td><td style=\"text-align: right;\"> 0.0183084</td><td style=\"text-align: right;\"> 0.0544952</td><td style=\"text-align: right;\"> 0.0147073</td><td style=\"text-align: right;\"> 0.0585335  </td><td style=\"text-align: right;\">-0.130779  </td><td style=\"text-align: right;\">-0.0567715  </td><td style=\"text-align: right;\"> 0.0158491 </td><td style=\"text-align: right;\"> 0.0765064</td><td style=\"text-align: right;\"> 0.0503837 </td><td style=\"text-align: right;\">-0.0479486  </td><td style=\"text-align: right;\"> 0.0125844 </td><td style=\"text-align: right;\"> 0.133741  </td><td style=\"text-align: right;\"> 0.00651583 </td><td style=\"text-align: right;\">-0.0336584</td><td style=\"text-align: right;\">-0.0779037 </td><td style=\"text-align: right;\">-0.0150825 </td><td style=\"text-align: right;\">-0.0592935</td><td style=\"text-align: right;\">-0.0848631</td><td style=\"text-align: right;\">-0.00519378</td><td style=\"text-align: right;\">-0.0227161 </td><td style=\"text-align: right;\"> 0.0762298</td><td style=\"text-align: right;\">0.0216118</td><td style=\"text-align: right;\">0.0693698</td><td style=\"text-align: right;\">-0.0395999 </td><td style=\"text-align: right;\">-0.187257  </td><td style=\"text-align: right;\"> 0.0521221 </td><td style=\"text-align: right;\"> 0.00326417</td><td style=\"text-align: right;\"> 0.193554 </td><td style=\"text-align: right;\">-0.0595725 </td><td style=\"text-align: right;\"> 0.0279399 </td><td style=\"text-align: right;\">-0.044564  </td><td style=\"text-align: right;\">-0.174724 </td><td style=\"text-align: right;\">-0.0851853 </td><td style=\"text-align: right;\"> 0.217813   </td><td style=\"text-align: right;\"> 0.0093347 </td><td style=\"text-align: right;\">-0.065259  </td><td style=\"text-align: right;\"> 0.162054 </td><td style=\"text-align: right;\"> 0.0751151  </td><td style=\"text-align: right;\"> 0.0404332 </td><td style=\"text-align: right;\"> 0.153009   </td><td style=\"text-align: right;\"> 0.0326122 </td><td style=\"text-align: right;\"> 0.0147171 </td><td style=\"text-align: right;\">-0.0278806 </td><td style=\"text-align: right;\">-0.0537986 </td><td style=\"text-align: right;\"> 0.0234797 </td><td style=\"text-align: right;\"> 0.0161622 </td><td style=\"text-align: right;\"> 0.0544299  </td><td style=\"text-align: right;\"> 0.104015  </td><td style=\"text-align: right;\"> 0.0543019</td><td style=\"text-align: right;\">0.154262 </td><td style=\"text-align: right;\">-0.0834396</td><td style=\"text-align: right;\"> 0.0978944</td><td style=\"text-align: right;\"> 0.0662221 </td><td style=\"text-align: right;\"> 0.282294 </td><td style=\"text-align: right;\">-0.178204 </td><td style=\"text-align: right;\"> 0.0132587 </td><td style=\"text-align: right;\">-0.0876272 </td><td style=\"text-align: right;\"> 0.109242 </td><td style=\"text-align: right;\"> 0.0119569</td><td style=\"text-align: right;\">-0.0318945 </td><td style=\"text-align: right;\">  0.0275628  </td><td style=\"text-align: right;\">  -0.176331  </td><td style=\"text-align: right;\">    0.0993222</td><td style=\"text-align: right;\">    0.197537 </td><td style=\"text-align: right;\">   0.0325969 </td><td style=\"text-align: right;\">  -0.206279  </td><td style=\"text-align: right;\">    0.123854 </td><td style=\"text-align: right;\">   0.00161491</td><td style=\"text-align: right;\">    0.0987352</td><td style=\"text-align: right;\">     0.043755 </td><td style=\"text-align: right;\">     0.0173569</td><td style=\"text-align: right;\">     0.0212078</td><td style=\"text-align: right;\">    -0.162861 </td><td style=\"text-align: right;\">     0.0390018</td><td style=\"text-align: right;\">    -0.0275297</td><td style=\"text-align: right;\">    0.045515  </td><td style=\"text-align: right;\">     0.189821 </td><td style=\"text-align: right;\">   -0.131914  </td><td style=\"text-align: right;\">   0.000552059</td><td style=\"text-align: right;\">    -0.159225 </td><td style=\"text-align: right;\">    -0.221795 </td><td style=\"text-align: right;\">    -0.153983 </td><td style=\"text-align: right;\">   -0.0218488 </td><td style=\"text-align: right;\">    -0.157394 </td><td style=\"text-align: right;\">    -0.0755734</td><td style=\"text-align: right;\">     0.1049   </td><td style=\"text-align: right;\">    0.0029633 </td><td style=\"text-align: right;\">   -0.130429  </td><td style=\"text-align: right;\">     0.117263 </td><td style=\"text-align: right;\">    0.00259079</td><td style=\"text-align: right;\">     0.0244566</td><td style=\"text-align: right;\">     0.116871 </td><td style=\"text-align: right;\">   -0.257034  </td><td style=\"text-align: right;\">     0.184044 </td><td style=\"text-align: right;\">     0.210789 </td><td style=\"text-align: right;\">    -0.111161 </td><td style=\"text-align: right;\">    0.0122122 </td><td style=\"text-align: right;\">    -0.0897414</td><td style=\"text-align: right;\">   -0.0717694 </td><td style=\"text-align: right;\">    -0.0379931</td><td style=\"text-align: right;\">    0.132992  </td><td style=\"text-align: right;\">    0.0743771 </td><td style=\"text-align: right;\">    0.090451  </td><td style=\"text-align: right;\">     0.0362759</td><td style=\"text-align: right;\">    -0.0676365</td><td style=\"text-align: right;\">   -0.0908211 </td><td style=\"text-align: right;\">    -0.0312142</td><td style=\"text-align: right;\">     0.0286497</td><td style=\"text-align: right;\">   -0.0406707 </td><td style=\"text-align: right;\">    -0.112079 </td><td style=\"text-align: right;\">    -0.0168304</td><td style=\"text-align: right;\">     0.0800625</td><td style=\"text-align: right;\">    -0.0150814</td><td style=\"text-align: right;\">    -0.080059 </td><td style=\"text-align: right;\">   -0.118964  </td><td style=\"text-align: right;\">   -0.0906441 </td><td style=\"text-align: right;\">   -0.0844279 </td><td style=\"text-align: right;\">   -0.00814016</td><td style=\"text-align: right;\">    -0.148172 </td><td style=\"text-align: right;\">     0.0865954</td><td style=\"text-align: right;\">    0.130566  </td><td style=\"text-align: right;\">     0.0209817</td><td style=\"text-align: right;\">     0.0880379</td><td style=\"text-align: right;\">    0.00860375</td><td style=\"text-align: right;\">   -0.352614  </td><td style=\"text-align: right;\">    0.0694347 </td><td style=\"text-align: right;\">    -0.0264085</td><td style=\"text-align: right;\">     0.290327 </td><td style=\"text-align: right;\">   -0.131077  </td><td style=\"text-align: right;\">    -0.0413046</td><td style=\"text-align: right;\">    -0.0956954</td><td style=\"text-align: right;\">    -0.254887 </td><td style=\"text-align: right;\">    -0.0410152</td><td style=\"text-align: right;\">     0.324841 </td><td style=\"text-align: right;\">    0.00660134</td><td style=\"text-align: right;\">    -0.202093 </td><td style=\"text-align: right;\">     0.156062 </td><td style=\"text-align: right;\">    0.101742  </td><td style=\"text-align: right;\">   0.0335706  </td><td style=\"text-align: right;\">     0.309607 </td><td style=\"text-align: right;\">     0.0215369</td><td style=\"text-align: right;\">    0.111889  </td><td style=\"text-align: right;\">     0.019545 </td><td style=\"text-align: right;\">    -0.149818 </td><td style=\"text-align: right;\">     0.10819  </td><td style=\"text-align: right;\">    0.0683292 </td><td style=\"text-align: right;\">     0.0859814</td><td style=\"text-align: right;\">    0.212425  </td><td style=\"text-align: right;\">  -0.019193   </td><td style=\"text-align: right;\">     0.125185 </td><td style=\"text-align: right;\">    -0.118326 </td><td style=\"text-align: right;\">   0.0824731  </td><td style=\"text-align: right;\">     0.0372536</td><td style=\"text-align: right;\">     0.393373 </td><td style=\"text-align: right;\">    -0.290987 </td><td style=\"text-align: right;\">    -0.102301 </td><td style=\"text-align: right;\">   -0.0513173 </td><td style=\"text-align: right;\">     0.0204151</td><td style=\"text-align: right;\">    -0.0461561</td><td style=\"text-align: right;\">     -0.152286 </td></tr>\n",
              "<tr><td style=\"text-align: right;\">      3</td><td>b&#x27;A fantastic way to cheaply try straight razor shaving.&#x27;                </td><td>b&quot;Always wanted to try straight razor shaving (as a DE safety razor user), and this was a cheap way for me to determine I was not into it.&lt;br /&gt;&lt;br /&gt;Because the blades are disposable and always sharp, I could put a new one in and reasonably rely upon that fact that cuts were probably due to my technique and not the blade.&lt;br /&gt;&lt;br /&gt;It&#x27;s very hard to do straight razor shaving on yourself because the ANGLE is difficult to control without switching hands. Being very right-handed, I really couldn&#x27;t do that. I bet I could shave someone else&#x27;s face with it though.&lt;br /&gt;&lt;br /&gt;An immediate upside? Using a DE safety razor (slant edged even) seems SUPER safe now! I&#x27;m increased my speed with the DE due to that confidence, and I&#x27;d been using it for years now.&quot;                                                                                                                                                                                                                                                                                                                                          </td><td style=\"text-align: right;\">       5</td><td style=\"text-align: right;\">       1</td><td style=\"text-align: right;\">-0.0187195</td><td style=\"text-align: right;\"> 0.0352197 </td><td style=\"text-align: right;\">-0.0355229 </td><td style=\"text-align: right;\">0.0623159</td><td style=\"text-align: right;\">-0.179573  </td><td style=\"text-align: right;\">-0.0993476</td><td style=\"text-align: right;\">-0.0397758 </td><td style=\"text-align: right;\">-0.0191002</td><td style=\"text-align: right;\"> 0.0201014 </td><td style=\"text-align: right;\">-0.100388 </td><td style=\"text-align: right;\"> 0.0337064 </td><td style=\"text-align: right;\">-0.0658662 </td><td style=\"text-align: right;\">-0.011768  </td><td style=\"text-align: right;\">-0.0715782 </td><td style=\"text-align: right;\"> 0.125187  </td><td style=\"text-align: right;\">0.0425325 </td><td style=\"text-align: right;\"> 0.0338431</td><td style=\"text-align: right;\"> 0.0897116</td><td style=\"text-align: right;\">-0.0354901 </td><td style=\"text-align: right;\">-0.0518855</td><td style=\"text-align: right;\">-0.0827701 </td><td style=\"text-align: right;\">-0.138089  </td><td style=\"text-align: right;\">-0.00570933 </td><td style=\"text-align: right;\"> 0.0106738 </td><td style=\"text-align: right;\">-0.0486332</td><td style=\"text-align: right;\">-0.0700158  </td><td style=\"text-align: right;\">-0.138428 </td><td style=\"text-align: right;\">-0.0418686</td><td style=\"text-align: right;\">-0.0765158 </td><td style=\"text-align: right;\">-0.133505</td><td style=\"text-align: right;\"> 0.0667318 </td><td style=\"text-align: right;\">0.211777  </td><td style=\"text-align: right;\">-0.0720769</td><td style=\"text-align: right;\">0.187371 </td><td style=\"text-align: right;\">-0.0405274  </td><td style=\"text-align: right;\">-0.103456 </td><td style=\"text-align: right;\">-0.0890427  </td><td style=\"text-align: right;\">-0.0504157 </td><td style=\"text-align: right;\"> 0.0189955</td><td style=\"text-align: right;\">-0.153807 </td><td style=\"text-align: right;\">-0.0667876</td><td style=\"text-align: right;\"> 0.0581946</td><td style=\"text-align: right;\">-0.0530559</td><td style=\"text-align: right;\"> 0.240953   </td><td style=\"text-align: right;\"> 0.00676678</td><td style=\"text-align: right;\"> 0.0396296  </td><td style=\"text-align: right;\"> 0.0456891 </td><td style=\"text-align: right;\">-0.143772 </td><td style=\"text-align: right;\">-0.0225959 </td><td style=\"text-align: right;\">-0.000872822</td><td style=\"text-align: right;\"> 0.063284  </td><td style=\"text-align: right;\"> 0.112362  </td><td style=\"text-align: right;\">-0.0357453  </td><td style=\"text-align: right;\">-0.146095 </td><td style=\"text-align: right;\">-0.109007  </td><td style=\"text-align: right;\"> 0.0753925 </td><td style=\"text-align: right;\">-0.0176045</td><td style=\"text-align: right;\">-0.0883622</td><td style=\"text-align: right;\">-0.103838  </td><td style=\"text-align: right;\">-0.0520978 </td><td style=\"text-align: right;\"> 0.0263676</td><td style=\"text-align: right;\">0.0497275</td><td style=\"text-align: right;\">0.204768 </td><td style=\"text-align: right;\"> 0.109935  </td><td style=\"text-align: right;\">-0.0924562 </td><td style=\"text-align: right;\"> 0.166922  </td><td style=\"text-align: right;\">-0.00116572</td><td style=\"text-align: right;\">-0.0694967</td><td style=\"text-align: right;\"> 0.049833  </td><td style=\"text-align: right;\">-0.0380158 </td><td style=\"text-align: right;\">-0.134551  </td><td style=\"text-align: right;\">-0.151007 </td><td style=\"text-align: right;\">-0.0863211 </td><td style=\"text-align: right;\"> 0.0326189  </td><td style=\"text-align: right;\">-0.0621264 </td><td style=\"text-align: right;\"> 0.0360766 </td><td style=\"text-align: right;\"> 0.190622 </td><td style=\"text-align: right;\">-0.0549009  </td><td style=\"text-align: right;\">-0.0590383 </td><td style=\"text-align: right;\"> 0.117101   </td><td style=\"text-align: right;\">-0.0207354 </td><td style=\"text-align: right;\"> 0.0369261 </td><td style=\"text-align: right;\"> 0.00689412</td><td style=\"text-align: right;\">-0.060246  </td><td style=\"text-align: right;\"> 0.0394409 </td><td style=\"text-align: right;\"> 0.0961615 </td><td style=\"text-align: right;\"> 0.134434   </td><td style=\"text-align: right;\"> 0.19744   </td><td style=\"text-align: right;\"> 0.0325088</td><td style=\"text-align: right;\">0.148208 </td><td style=\"text-align: right;\">-0.0706438</td><td style=\"text-align: right;\"> 0.128245 </td><td style=\"text-align: right;\"> 0.0708771 </td><td style=\"text-align: right;\"> 0.153812 </td><td style=\"text-align: right;\">-0.12552  </td><td style=\"text-align: right;\"> 0.0374693 </td><td style=\"text-align: right;\"> 0.0771231 </td><td style=\"text-align: right;\"> 0.1156   </td><td style=\"text-align: right;\"> 0.0767743</td><td style=\"text-align: right;\"> 0.0859195 </td><td style=\"text-align: right;\"> -0.0760256  </td><td style=\"text-align: right;\">  -0.0352776 </td><td style=\"text-align: right;\">   -0.0708371</td><td style=\"text-align: right;\">    0.18051  </td><td style=\"text-align: right;\">  -0.124567  </td><td style=\"text-align: right;\">  -0.0222398 </td><td style=\"text-align: right;\">   -0.187585 </td><td style=\"text-align: right;\">  -0.0642089 </td><td style=\"text-align: right;\">    0.0845403</td><td style=\"text-align: right;\">    -0.0658035</td><td style=\"text-align: right;\">     0.0612377</td><td style=\"text-align: right;\">    -0.134388 </td><td style=\"text-align: right;\">     0.0095175</td><td style=\"text-align: right;\">    -0.093165 </td><td style=\"text-align: right;\">     0.180563 </td><td style=\"text-align: right;\">    0.0915751 </td><td style=\"text-align: right;\">     0.0910276</td><td style=\"text-align: right;\">    0.0142994 </td><td style=\"text-align: right;\">  -0.151056   </td><td style=\"text-align: right;\">    -0.209249 </td><td style=\"text-align: right;\">    -0.0761877</td><td style=\"text-align: right;\">    -0.128147 </td><td style=\"text-align: right;\">   -0.00434059</td><td style=\"text-align: right;\">     0.0950652</td><td style=\"text-align: right;\">    -0.0452795</td><td style=\"text-align: right;\">    -0.0872122</td><td style=\"text-align: right;\">   -0.0221963 </td><td style=\"text-align: right;\">    0.0577099 </td><td style=\"text-align: right;\">    -0.215194 </td><td style=\"text-align: right;\">   -0.0539839 </td><td style=\"text-align: right;\">    -0.0223353</td><td style=\"text-align: right;\">     0.261762 </td><td style=\"text-align: right;\">   -0.0529793 </td><td style=\"text-align: right;\">     0.182936 </td><td style=\"text-align: right;\">    -0.0761971</td><td style=\"text-align: right;\">    -0.0121542</td><td style=\"text-align: right;\">   -0.00131368</td><td style=\"text-align: right;\">    -0.125777 </td><td style=\"text-align: right;\">    0.0675572 </td><td style=\"text-align: right;\">    -0.240639 </td><td style=\"text-align: right;\">   -0.0154859 </td><td style=\"text-align: right;\">    0.0676378 </td><td style=\"text-align: right;\">   -0.0639176 </td><td style=\"text-align: right;\">     0.263113 </td><td style=\"text-align: right;\">     0.0191937</td><td style=\"text-align: right;\">   -0.0175352 </td><td style=\"text-align: right;\">    -0.0084072</td><td style=\"text-align: right;\">    -0.270783 </td><td style=\"text-align: right;\">   -0.017342  </td><td style=\"text-align: right;\">    -0.019655 </td><td style=\"text-align: right;\">    -0.0130922</td><td style=\"text-align: right;\">     0.116578 </td><td style=\"text-align: right;\">    -0.015387 </td><td style=\"text-align: right;\">    -0.0596685</td><td style=\"text-align: right;\">   -0.18469   </td><td style=\"text-align: right;\">    0.00104496</td><td style=\"text-align: right;\">   -0.0467512 </td><td style=\"text-align: right;\">   -0.10897   </td><td style=\"text-align: right;\">    -0.0560438</td><td style=\"text-align: right;\">    -0.0174167</td><td style=\"text-align: right;\">    0.0458247 </td><td style=\"text-align: right;\">     0.0591266</td><td style=\"text-align: right;\">     0.131198 </td><td style=\"text-align: right;\">    0.176083  </td><td style=\"text-align: right;\">   -0.0909278 </td><td style=\"text-align: right;\">    0.246601  </td><td style=\"text-align: right;\">    -0.071031 </td><td style=\"text-align: right;\">    -0.109533 </td><td style=\"text-align: right;\">    0.0395753 </td><td style=\"text-align: right;\">    -0.0753567</td><td style=\"text-align: right;\">    -0.117876 </td><td style=\"text-align: right;\">    -0.131549 </td><td style=\"text-align: right;\">    -0.166389 </td><td style=\"text-align: right;\">     0.125594 </td><td style=\"text-align: right;\">   -0.0436575 </td><td style=\"text-align: right;\">     0.0526991</td><td style=\"text-align: right;\">     0.269454 </td><td style=\"text-align: right;\">   -0.00337589</td><td style=\"text-align: right;\">  -0.0405567  </td><td style=\"text-align: right;\">     0.215952 </td><td style=\"text-align: right;\">    -0.0103963</td><td style=\"text-align: right;\">    0.00125087</td><td style=\"text-align: right;\">     0.0156762</td><td style=\"text-align: right;\">     0.0264352</td><td style=\"text-align: right;\">    -0.0711774</td><td style=\"text-align: right;\">    0.00675418</td><td style=\"text-align: right;\">     0.147935 </td><td style=\"text-align: right;\">    0.312245  </td><td style=\"text-align: right;\">   0.0602059  </td><td style=\"text-align: right;\">     0.177758 </td><td style=\"text-align: right;\">    -0.161493 </td><td style=\"text-align: right;\">   0.0961395  </td><td style=\"text-align: right;\">     0.061583 </td><td style=\"text-align: right;\">     0.175338 </td><td style=\"text-align: right;\">    -0.115892 </td><td style=\"text-align: right;\">    -0.0201333</td><td style=\"text-align: right;\">    0.181333  </td><td style=\"text-align: right;\">     0.148993 </td><td style=\"text-align: right;\">     0.128373 </td><td style=\"text-align: right;\">      0.0676711</td></tr>\n",
              "<tr><td style=\"text-align: right;\">      0</td><td>b&#x27;Great for travel&#x27;                                                      </td><td>b&#x27;I usually either throw my toothbrush in a plastic bag with spare head so this product is very convenient for keeping all the parts apart, dry and undamaged, and i now keep it in my travel bag all the time ready to go.&#x27;                                                                                                                                                                                                                                                                                                                                                                                                                                                                                                                                                                                                                                                                                                                                                                                                                                                                                                      </td><td style=\"text-align: right;\">       4</td><td style=\"text-align: right;\">       1</td><td style=\"text-align: right;\">-0.0805178</td><td style=\"text-align: right;\">-0.0461625 </td><td style=\"text-align: right;\">-0.0551182 </td><td style=\"text-align: right;\">0.193859 </td><td style=\"text-align: right;\"> 0.0531889 </td><td style=\"text-align: right;\">-0.088668 </td><td style=\"text-align: right;\">-0.0828386 </td><td style=\"text-align: right;\">-0.124243 </td><td style=\"text-align: right;\"> 0.0986724 </td><td style=\"text-align: right;\">-0.0221658</td><td style=\"text-align: right;\"> 0.106922  </td><td style=\"text-align: right;\"> 0.0408941 </td><td style=\"text-align: right;\">-0.0566087 </td><td style=\"text-align: right;\"> 0.0304708 </td><td style=\"text-align: right;\">-0.0031672 </td><td style=\"text-align: right;\">0.127131  </td><td style=\"text-align: right;\">-0.074725 </td><td style=\"text-align: right;\"> 0.114979 </td><td style=\"text-align: right;\"> 0.00379095</td><td style=\"text-align: right;\">-0.121619 </td><td style=\"text-align: right;\">-0.0696944 </td><td style=\"text-align: right;\">-0.0832596 </td><td style=\"text-align: right;\"> 0.136304   </td><td style=\"text-align: right;\">-0.00575639</td><td style=\"text-align: right;\">-0.173951 </td><td style=\"text-align: right;\">-0.0135023  </td><td style=\"text-align: right;\">-0.0650375</td><td style=\"text-align: right;\">-0.0141243</td><td style=\"text-align: right;\">-0.013156  </td><td style=\"text-align: right;\">-0.108174</td><td style=\"text-align: right;\">-0.026809  </td><td style=\"text-align: right;\">0.175044  </td><td style=\"text-align: right;\">-0.159644 </td><td style=\"text-align: right;\">0.19449  </td><td style=\"text-align: right;\"> 0.0565797  </td><td style=\"text-align: right;\">-0.104741 </td><td style=\"text-align: right;\">-0.108002   </td><td style=\"text-align: right;\">-0.0886169 </td><td style=\"text-align: right;\">-0.0414625</td><td style=\"text-align: right;\">-0.127902 </td><td style=\"text-align: right;\">-0.0727704</td><td style=\"text-align: right;\">-0.0916973</td><td style=\"text-align: right;\"> 0.0848711</td><td style=\"text-align: right;\"> 0.185968   </td><td style=\"text-align: right;\">-0.104989  </td><td style=\"text-align: right;\">-0.0408809  </td><td style=\"text-align: right;\"> 0.0774902 </td><td style=\"text-align: right;\">-0.0999082</td><td style=\"text-align: right;\">-0.0169326 </td><td style=\"text-align: right;\">-0.120546   </td><td style=\"text-align: right;\"> 0.00680373</td><td style=\"text-align: right;\"> 0.091517  </td><td style=\"text-align: right;\"> 0.0567199  </td><td style=\"text-align: right;\">-0.161939 </td><td style=\"text-align: right;\">-0.0781712 </td><td style=\"text-align: right;\">-0.138734  </td><td style=\"text-align: right;\">-0.128357 </td><td style=\"text-align: right;\">-0.117936 </td><td style=\"text-align: right;\"> 0.164488  </td><td style=\"text-align: right;\"> 0.00198572</td><td style=\"text-align: right;\">-0.0828716</td><td style=\"text-align: right;\">0.024407 </td><td style=\"text-align: right;\">0.104553 </td><td style=\"text-align: right;\"> 0.0664176 </td><td style=\"text-align: right;\">-0.1642    </td><td style=\"text-align: right;\"> 0.103785  </td><td style=\"text-align: right;\"> 0.0442425 </td><td style=\"text-align: right;\">-0.015685 </td><td style=\"text-align: right;\"> 0.0499764 </td><td style=\"text-align: right;\"> 0.0826374 </td><td style=\"text-align: right;\">-0.070064  </td><td style=\"text-align: right;\">-0.244971 </td><td style=\"text-align: right;\"> 0.127381  </td><td style=\"text-align: right;\"> 0.000274324</td><td style=\"text-align: right;\"> 0.0102157 </td><td style=\"text-align: right;\">-0.0704978 </td><td style=\"text-align: right;\"> 0.137245 </td><td style=\"text-align: right;\"> 0.159732   </td><td style=\"text-align: right;\">-0.0420978 </td><td style=\"text-align: right;\"> 0.0142218  </td><td style=\"text-align: right;\">-0.0420141 </td><td style=\"text-align: right;\"> 0.0275792 </td><td style=\"text-align: right;\"> 0.145963  </td><td style=\"text-align: right;\">-0.0218821 </td><td style=\"text-align: right;\">-0.0319721 </td><td style=\"text-align: right;\">-0.0677524 </td><td style=\"text-align: right;\">-0.0724556  </td><td style=\"text-align: right;\"> 0.0668491 </td><td style=\"text-align: right;\"> 0.0127155</td><td style=\"text-align: right;\">0.0955269</td><td style=\"text-align: right;\">-0.152379 </td><td style=\"text-align: right;\"> 0.154695 </td><td style=\"text-align: right;\">-0.131206  </td><td style=\"text-align: right;\"> 0.124961 </td><td style=\"text-align: right;\">-0.11558  </td><td style=\"text-align: right;\"> 0.00301823</td><td style=\"text-align: right;\"> 0.0866026 </td><td style=\"text-align: right;\">-0.0596966</td><td style=\"text-align: right;\"> 0.10218  </td><td style=\"text-align: right;\">-0.0237684 </td><td style=\"text-align: right;\">  0.000188574</td><td style=\"text-align: right;\">  -0.205882  </td><td style=\"text-align: right;\">   -0.107815 </td><td style=\"text-align: right;\">    0.389001 </td><td style=\"text-align: right;\">  -0.107999  </td><td style=\"text-align: right;\">  -0.0210308 </td><td style=\"text-align: right;\">    0.0685475</td><td style=\"text-align: right;\">  -0.0854052 </td><td style=\"text-align: right;\">    0.106278 </td><td style=\"text-align: right;\">     0.0553161</td><td style=\"text-align: right;\">     0.130234 </td><td style=\"text-align: right;\">    -0.143691 </td><td style=\"text-align: right;\">    -0.137311 </td><td style=\"text-align: right;\">     0.0418573</td><td style=\"text-align: right;\">    -0.158267 </td><td style=\"text-align: right;\">    0.0783279 </td><td style=\"text-align: right;\">    -0.126487 </td><td style=\"text-align: right;\">    0.00859156</td><td style=\"text-align: right;\">   0.0483576  </td><td style=\"text-align: right;\">    -0.0572492</td><td style=\"text-align: right;\">    -0.0439109</td><td style=\"text-align: right;\">    -0.16635  </td><td style=\"text-align: right;\">   -0.0450023 </td><td style=\"text-align: right;\">     0.0624434</td><td style=\"text-align: right;\">    -0.174495 </td><td style=\"text-align: right;\">     0.117486 </td><td style=\"text-align: right;\">    0.0516886 </td><td style=\"text-align: right;\">   -0.195437  </td><td style=\"text-align: right;\">     0.191867 </td><td style=\"text-align: right;\">   -0.237221  </td><td style=\"text-align: right;\">    -0.131354 </td><td style=\"text-align: right;\">     0.103002 </td><td style=\"text-align: right;\">   -0.244511  </td><td style=\"text-align: right;\">     0.144443 </td><td style=\"text-align: right;\">     0.275567 </td><td style=\"text-align: right;\">     0.0190936</td><td style=\"text-align: right;\">   -0.093839  </td><td style=\"text-align: right;\">    -0.35449  </td><td style=\"text-align: right;\">   -0.00729047</td><td style=\"text-align: right;\">    -0.116436 </td><td style=\"text-align: right;\">   -0.0904502 </td><td style=\"text-align: right;\">   -0.00803687</td><td style=\"text-align: right;\">    0.152143  </td><td style=\"text-align: right;\">     0.0321213</td><td style=\"text-align: right;\">    -0.228372 </td><td style=\"text-align: right;\">    0.00516496</td><td style=\"text-align: right;\">     0.250015 </td><td style=\"text-align: right;\">    -0.168625 </td><td style=\"text-align: right;\">    0.0113258 </td><td style=\"text-align: right;\">    -0.051841 </td><td style=\"text-align: right;\">     0.206338 </td><td style=\"text-align: right;\">    -0.140152 </td><td style=\"text-align: right;\">     0.113304 </td><td style=\"text-align: right;\">    -0.0288535</td><td style=\"text-align: right;\">   -0.1054    </td><td style=\"text-align: right;\">   -0.218352  </td><td style=\"text-align: right;\">   -0.242676  </td><td style=\"text-align: right;\">   -0.0351442 </td><td style=\"text-align: right;\">     0.101792 </td><td style=\"text-align: right;\">    -0.0961047</td><td style=\"text-align: right;\">    0.0498013 </td><td style=\"text-align: right;\">    -0.239584 </td><td style=\"text-align: right;\">     0.0572591</td><td style=\"text-align: right;\">    0.0413867 </td><td style=\"text-align: right;\">   -0.136863  </td><td style=\"text-align: right;\">    0.008835  </td><td style=\"text-align: right;\">     0.120931 </td><td style=\"text-align: right;\">     0.0553821</td><td style=\"text-align: right;\">   -0.00862167</td><td style=\"text-align: right;\">     0.0186711</td><td style=\"text-align: right;\">    -0.102338 </td><td style=\"text-align: right;\">    -0.426958 </td><td style=\"text-align: right;\">     0.109462 </td><td style=\"text-align: right;\">     0.141967 </td><td style=\"text-align: right;\">    0.263769  </td><td style=\"text-align: right;\">    -0.213133 </td><td style=\"text-align: right;\">     0.0852434</td><td style=\"text-align: right;\">    0.22052   </td><td style=\"text-align: right;\">   0.0517464  </td><td style=\"text-align: right;\">    -0.0176764</td><td style=\"text-align: right;\">    -0.0984134</td><td style=\"text-align: right;\">    0.0441797 </td><td style=\"text-align: right;\">     0.19006  </td><td style=\"text-align: right;\">    -0.0263038</td><td style=\"text-align: right;\">     0.045172 </td><td style=\"text-align: right;\">   -0.275824  </td><td style=\"text-align: right;\">     0.210377 </td><td style=\"text-align: right;\">    0.212954  </td><td style=\"text-align: right;\">   0.107182   </td><td style=\"text-align: right;\">    -0.0501139</td><td style=\"text-align: right;\">    -0.225743 </td><td style=\"text-align: right;\">   0.143215   </td><td style=\"text-align: right;\">    -0.0609133</td><td style=\"text-align: right;\">     0.141759 </td><td style=\"text-align: right;\">    -0.326369 </td><td style=\"text-align: right;\">    -0.103331 </td><td style=\"text-align: right;\">    0.118337  </td><td style=\"text-align: right;\">     0.0454994</td><td style=\"text-align: right;\">    -0.0282202</td><td style=\"text-align: right;\">      0.0552432</td></tr>\n",
              "<tr><td style=\"text-align: right;\">      0</td><td>b&#x27;Five Stars&#x27;                                                            </td><td>b&#x27;Top quality.&#x27;                                                                                                                                                                                                                                                                                                                                                                                                                                                                                                                                                                                                                                                                                                                                                                                                                                                                                                                                                                                                                                                                                                                   </td><td style=\"text-align: right;\">       5</td><td style=\"text-align: right;\">       1</td><td style=\"text-align: right;\">-0.152333 </td><td style=\"text-align: right;\">-0.235975  </td><td style=\"text-align: right;\">-0.269967  </td><td style=\"text-align: right;\">0.164115 </td><td style=\"text-align: right;\"> 0.112795  </td><td style=\"text-align: right;\">-0.131884 </td><td style=\"text-align: right;\"> 0.0213575 </td><td style=\"text-align: right;\">-0.0956881</td><td style=\"text-align: right;\">-0.05024   </td><td style=\"text-align: right;\">-0.227668 </td><td style=\"text-align: right;\"> 0.0178577 </td><td style=\"text-align: right;\"> 0.0738407 </td><td style=\"text-align: right;\"> 0.0446852 </td><td style=\"text-align: right;\">-0.0673834 </td><td style=\"text-align: right;\"> 0.126685  </td><td style=\"text-align: right;\">0.129214  </td><td style=\"text-align: right;\"> 0.160516 </td><td style=\"text-align: right;\">-0.111481 </td><td style=\"text-align: right;\"> 0.0817604 </td><td style=\"text-align: right;\">-0.296926 </td><td style=\"text-align: right;\">-0.313859  </td><td style=\"text-align: right;\"> 0.0136364 </td><td style=\"text-align: right;\">-0.061928   </td><td style=\"text-align: right;\">-0.0505257 </td><td style=\"text-align: right;\">-0.160509 </td><td style=\"text-align: right;\"> 0.0603329  </td><td style=\"text-align: right;\">-0.146275 </td><td style=\"text-align: right;\"> 0.0655819</td><td style=\"text-align: right;\">-0.011587  </td><td style=\"text-align: right;\">-0.180369</td><td style=\"text-align: right;\"> 0.059202  </td><td style=\"text-align: right;\">0.00965455</td><td style=\"text-align: right;\">-0.0902189</td><td style=\"text-align: right;\">0.277393 </td><td style=\"text-align: right;\"> 0.160684   </td><td style=\"text-align: right;\"> 0.0713011</td><td style=\"text-align: right;\"> 0.0263919  </td><td style=\"text-align: right;\">-0.112365  </td><td style=\"text-align: right;\">-0.101889 </td><td style=\"text-align: right;\">-0.168828 </td><td style=\"text-align: right;\">-0.0021352</td><td style=\"text-align: right;\">-0.0479388</td><td style=\"text-align: right;\">-0.100211 </td><td style=\"text-align: right;\">-0.000184916</td><td style=\"text-align: right;\">-0.120549  </td><td style=\"text-align: right;\">-0.329645   </td><td style=\"text-align: right;\">-0.244482  </td><td style=\"text-align: right;\">-0.043013 </td><td style=\"text-align: right;\">-0.204188  </td><td style=\"text-align: right;\">-0.0290222  </td><td style=\"text-align: right;\">-0.0148388 </td><td style=\"text-align: right;\"> 0.0878991 </td><td style=\"text-align: right;\">-0.063816   </td><td style=\"text-align: right;\">-0.191431 </td><td style=\"text-align: right;\">-0.360277  </td><td style=\"text-align: right;\"> 0.201439  </td><td style=\"text-align: right;\"> 0.0353609</td><td style=\"text-align: right;\">-0.0132346</td><td style=\"text-align: right;\"> 0.0201811 </td><td style=\"text-align: right;\">-0.0387189 </td><td style=\"text-align: right;\">-0.137258 </td><td style=\"text-align: right;\">0.0337502</td><td style=\"text-align: right;\">0.115437 </td><td style=\"text-align: right;\"> 0.16089   </td><td style=\"text-align: right;\">-0.301448  </td><td style=\"text-align: right;\"> 0.12972   </td><td style=\"text-align: right;\"> 0.217082  </td><td style=\"text-align: right;\"> 0.263146 </td><td style=\"text-align: right;\">-0.0590992 </td><td style=\"text-align: right;\"> 0.0685065 </td><td style=\"text-align: right;\">-0.0815457 </td><td style=\"text-align: right;\">-0.160474 </td><td style=\"text-align: right;\"> 0.0675546 </td><td style=\"text-align: right;\"> 0.0425907  </td><td style=\"text-align: right;\">-0.107643  </td><td style=\"text-align: right;\">-0.080656  </td><td style=\"text-align: right;\"> 0.157795 </td><td style=\"text-align: right;\">-0.0597449  </td><td style=\"text-align: right;\"> 0.222768  </td><td style=\"text-align: right;\"> 0.215273   </td><td style=\"text-align: right;\">-0.100236  </td><td style=\"text-align: right;\"> 0.00957911</td><td style=\"text-align: right;\">-0.0896807 </td><td style=\"text-align: right;\"> 0.104389  </td><td style=\"text-align: right;\">-0.0342209 </td><td style=\"text-align: right;\">-0.026846  </td><td style=\"text-align: right;\"> 0.0327186  </td><td style=\"text-align: right;\">-0.0478216 </td><td style=\"text-align: right;\">-0.0336207</td><td style=\"text-align: right;\">0.161408 </td><td style=\"text-align: right;\">-0.148629 </td><td style=\"text-align: right;\">-0.0744755</td><td style=\"text-align: right;\">-0.0679349 </td><td style=\"text-align: right;\"> 0.292867 </td><td style=\"text-align: right;\">-0.299894 </td><td style=\"text-align: right;\"> 0.0682323 </td><td style=\"text-align: right;\"> 0.103455  </td><td style=\"text-align: right;\"> 0.041035 </td><td style=\"text-align: right;\"> 0.0788329</td><td style=\"text-align: right;\"> 0.00400096</td><td style=\"text-align: right;\"> -0.194263   </td><td style=\"text-align: right;\">   0.541785  </td><td style=\"text-align: right;\">    0.273879 </td><td style=\"text-align: right;\">    0.0453692</td><td style=\"text-align: right;\">   0.197591  </td><td style=\"text-align: right;\">  -0.48731   </td><td style=\"text-align: right;\">    0.126935 </td><td style=\"text-align: right;\">  -0.358977  </td><td style=\"text-align: right;\">   -0.112577 </td><td style=\"text-align: right;\">    -0.128454 </td><td style=\"text-align: right;\">     0.136036 </td><td style=\"text-align: right;\">    -0.125296 </td><td style=\"text-align: right;\">    -0.189637 </td><td style=\"text-align: right;\">    -0.219988 </td><td style=\"text-align: right;\">     0.0401717</td><td style=\"text-align: right;\">    0.241602  </td><td style=\"text-align: right;\">    -0.112795 </td><td style=\"text-align: right;\">   -0.337463  </td><td style=\"text-align: right;\">  -0.412904   </td><td style=\"text-align: right;\">    -0.284557 </td><td style=\"text-align: right;\">     0.120989 </td><td style=\"text-align: right;\">    -0.0274044</td><td style=\"text-align: right;\">    0.0271491 </td><td style=\"text-align: right;\">    -0.205962 </td><td style=\"text-align: right;\">     0.204142 </td><td style=\"text-align: right;\">     0.388559 </td><td style=\"text-align: right;\">   -0.133903  </td><td style=\"text-align: right;\">   -0.381699  </td><td style=\"text-align: right;\">    -0.165994 </td><td style=\"text-align: right;\">   -0.23354   </td><td style=\"text-align: right;\">     0.129536 </td><td style=\"text-align: right;\">    -0.0133111</td><td style=\"text-align: right;\">   -0.0140164 </td><td style=\"text-align: right;\">     0.4043   </td><td style=\"text-align: right;\">    -0.108202 </td><td style=\"text-align: right;\">    -0.3551   </td><td style=\"text-align: right;\">    0.255067  </td><td style=\"text-align: right;\">     0.294521 </td><td style=\"text-align: right;\">   -0.189548  </td><td style=\"text-align: right;\">     0.149081 </td><td style=\"text-align: right;\">    0.0477001 </td><td style=\"text-align: right;\">    0.0876614 </td><td style=\"text-align: right;\">    0.195209  </td><td style=\"text-align: right;\">     0.442649 </td><td style=\"text-align: right;\">    -0.438726 </td><td style=\"text-align: right;\">    0.0391411 </td><td style=\"text-align: right;\">    -0.120577 </td><td style=\"text-align: right;\">    -0.0488421</td><td style=\"text-align: right;\">   -0.205531  </td><td style=\"text-align: right;\">    -0.237133 </td><td style=\"text-align: right;\">    -0.169118 </td><td style=\"text-align: right;\">    -0.144887 </td><td style=\"text-align: right;\">    -0.114103 </td><td style=\"text-align: right;\">     0.121603 </td><td style=\"text-align: right;\">   -0.0730614 </td><td style=\"text-align: right;\">   -0.313906  </td><td style=\"text-align: right;\">   -0.0602234 </td><td style=\"text-align: right;\">    0.167052  </td><td style=\"text-align: right;\">    -0.331291 </td><td style=\"text-align: right;\">    -0.548287 </td><td style=\"text-align: right;\">   -0.0779352 </td><td style=\"text-align: right;\">     0.234021 </td><td style=\"text-align: right;\">    -0.136956 </td><td style=\"text-align: right;\">   -0.0314575 </td><td style=\"text-align: right;\">   -0.0980501 </td><td style=\"text-align: right;\">    0.0673159 </td><td style=\"text-align: right;\">     0.103724 </td><td style=\"text-align: right;\">    -0.21413  </td><td style=\"text-align: right;\">    0.132061  </td><td style=\"text-align: right;\">    -0.402848 </td><td style=\"text-align: right;\">    -0.106541 </td><td style=\"text-align: right;\">    -0.450526 </td><td style=\"text-align: right;\">    -0.0743903</td><td style=\"text-align: right;\">     0.155231 </td><td style=\"text-align: right;\">   -0.330521  </td><td style=\"text-align: right;\">    -0.174871 </td><td style=\"text-align: right;\">     0.469851 </td><td style=\"text-align: right;\">    0.113863  </td><td style=\"text-align: right;\">   0.0685854  </td><td style=\"text-align: right;\">    -0.0889224</td><td style=\"text-align: right;\">     0.179596 </td><td style=\"text-align: right;\">    0.364674  </td><td style=\"text-align: right;\">    -0.0510626</td><td style=\"text-align: right;\">     0.276483 </td><td style=\"text-align: right;\">    -0.0799242</td><td style=\"text-align: right;\">    0.114542  </td><td style=\"text-align: right;\">     0.442148 </td><td style=\"text-align: right;\">   -0.203033  </td><td style=\"text-align: right;\">  -0.0231199  </td><td style=\"text-align: right;\">     0.137528 </td><td style=\"text-align: right;\">    -0.471523 </td><td style=\"text-align: right;\">   0.000392788</td><td style=\"text-align: right;\">    -0.157314 </td><td style=\"text-align: right;\">    -0.213133 </td><td style=\"text-align: right;\">    -0.0302775</td><td style=\"text-align: right;\">    -0.203552 </td><td style=\"text-align: right;\">    0.239907  </td><td style=\"text-align: right;\">     0.162125 </td><td style=\"text-align: right;\">     0.0286479</td><td style=\"text-align: right;\">      0.0212767</td></tr>\n",
              "<tr><td style=\"text-align: right;\">      1</td><td>b&#x27;*Product sent not as shown&#x27;                                            </td><td>b&#x27;Today I received  1 Fl. Oz, Natures Balance AlkaMAX alkaline booster liquid unflavored (formally TriMedica) a glass brown bottle with eye dropper.&lt;br /&gt;Supplement Facts; Serving Size: 10 Drops (Approx. 0.5 mL). Servings per Container: Approx. 60&lt;br /&gt;Amount Per Serving % Daily Value&lt;br /&gt;Magnesium (as Magnesium Chloride) 40 mg 10%&lt;br /&gt;Chloride (as Magnesium Chloride) 64 mg 2%&lt;br /&gt;Other Ingredients: Deionized water and trace mineral complex.&lt;br /&gt;Directions: Add 10 drops to 8 oz. of water or other beverage daily as needed or as directed by your health care practitioner. Store in a cool, dry place.&lt;br /&gt;&lt;br /&gt;I have not used product as of yet with changed ingredients of original/as shown in AlkaMax alkaline support white squeeze bottle.&lt;br /&gt;but had to rate to post...heck this new may be better for all I know.&#x27;                                                                                                                                                                                                                                                                          </td><td style=\"text-align: right;\">       3</td><td style=\"text-align: right;\">       0</td><td style=\"text-align: right;\"> 0.129196 </td><td style=\"text-align: right;\">-0.00952481</td><td style=\"text-align: right;\"> 0.0076187 </td><td style=\"text-align: right;\">0.208031 </td><td style=\"text-align: right;\">-0.0513211 </td><td style=\"text-align: right;\">-0.178302 </td><td style=\"text-align: right;\">-0.00912883</td><td style=\"text-align: right;\">-0.0577918</td><td style=\"text-align: right;\">-0.00708027</td><td style=\"text-align: right;\">-0.0638663</td><td style=\"text-align: right;\">-0.0743484 </td><td style=\"text-align: right;\">-0.0713225 </td><td style=\"text-align: right;\">-0.0601585 </td><td style=\"text-align: right;\">-0.0900337 </td><td style=\"text-align: right;\">-0.00400337</td><td style=\"text-align: right;\">0.0407314 </td><td style=\"text-align: right;\"> 0.0376316</td><td style=\"text-align: right;\"> 0.094186 </td><td style=\"text-align: right;\"> 0.0023148 </td><td style=\"text-align: right;\"> 0.0229502</td><td style=\"text-align: right;\">-0.200972  </td><td style=\"text-align: right;\">-0.0975206 </td><td style=\"text-align: right;\">-0.0113653  </td><td style=\"text-align: right;\">-0.0197858 </td><td style=\"text-align: right;\">-0.153013 </td><td style=\"text-align: right;\"> 0.126039   </td><td style=\"text-align: right;\">-0.201931 </td><td style=\"text-align: right;\">-0.148843 </td><td style=\"text-align: right;\">-0.0107552 </td><td style=\"text-align: right;\">-0.101529</td><td style=\"text-align: right;\"> 0.138306  </td><td style=\"text-align: right;\">0.0891704 </td><td style=\"text-align: right;\">-0.193619 </td><td style=\"text-align: right;\">0.0986177</td><td style=\"text-align: right;\">-0.0445168  </td><td style=\"text-align: right;\">-0.101656 </td><td style=\"text-align: right;\">-0.0232338  </td><td style=\"text-align: right;\">-0.0943954 </td><td style=\"text-align: right;\">-0.106689 </td><td style=\"text-align: right;\">-0.165125 </td><td style=\"text-align: right;\">-0.129946 </td><td style=\"text-align: right;\"> 0.0445307</td><td style=\"text-align: right;\"> 0.082159 </td><td style=\"text-align: right;\"> 0.161711   </td><td style=\"text-align: right;\">-0.0927573 </td><td style=\"text-align: right;\">-0.035177   </td><td style=\"text-align: right;\">-0.144462  </td><td style=\"text-align: right;\"> 0.0985317</td><td style=\"text-align: right;\"> 0.0465448 </td><td style=\"text-align: right;\"> 0.00573186 </td><td style=\"text-align: right;\">-0.0733852 </td><td style=\"text-align: right;\">-0.00411738</td><td style=\"text-align: right;\"> 0.0202062  </td><td style=\"text-align: right;\">-0.1009   </td><td style=\"text-align: right;\">-0.00732506</td><td style=\"text-align: right;\">-0.0614034 </td><td style=\"text-align: right;\">-0.221189 </td><td style=\"text-align: right;\">-0.0693966</td><td style=\"text-align: right;\">-0.104101  </td><td style=\"text-align: right;\">-0.0679081 </td><td style=\"text-align: right;\">-0.119298 </td><td style=\"text-align: right;\">0.0842515</td><td style=\"text-align: right;\">0.0806068</td><td style=\"text-align: right;\">-0.0146275 </td><td style=\"text-align: right;\">-0.139661  </td><td style=\"text-align: right;\"> 0.00222596</td><td style=\"text-align: right;\"> 0.136124  </td><td style=\"text-align: right;\"> 0.0952241</td><td style=\"text-align: right;\"> 0.0668104 </td><td style=\"text-align: right;\">-0.0920006 </td><td style=\"text-align: right;\">-0.101281  </td><td style=\"text-align: right;\">-0.0677937</td><td style=\"text-align: right;\"> 0.0828641 </td><td style=\"text-align: right;\"> 0.115025   </td><td style=\"text-align: right;\">-0.0135644 </td><td style=\"text-align: right;\">-0.134145  </td><td style=\"text-align: right;\">-0.0942426</td><td style=\"text-align: right;\">-0.000951477</td><td style=\"text-align: right;\"> 0.0824163 </td><td style=\"text-align: right;\">-0.0915754  </td><td style=\"text-align: right;\"> 0.00787575</td><td style=\"text-align: right;\">-0.188478  </td><td style=\"text-align: right;\"> 0.0480129 </td><td style=\"text-align: right;\"> 0.110261  </td><td style=\"text-align: right;\">-0.219364  </td><td style=\"text-align: right;\"> 0.1132    </td><td style=\"text-align: right;\"> 0.000944576</td><td style=\"text-align: right;\"> 0.106642  </td><td style=\"text-align: right;\">-0.0400085</td><td style=\"text-align: right;\">0.228319 </td><td style=\"text-align: right;\">-0.176229 </td><td style=\"text-align: right;\"> 0.117059 </td><td style=\"text-align: right;\">-0.030102  </td><td style=\"text-align: right;\">-0.0361157</td><td style=\"text-align: right;\"> 0.122467 </td><td style=\"text-align: right;\">-0.119112  </td><td style=\"text-align: right;\">-0.0880958 </td><td style=\"text-align: right;\"> 0.133889 </td><td style=\"text-align: right;\"> 0.23428  </td><td style=\"text-align: right;\">-0.0879714 </td><td style=\"text-align: right;\"> -0.0415459  </td><td style=\"text-align: right;\">   0.120858  </td><td style=\"text-align: right;\">    0.035    </td><td style=\"text-align: right;\">    0.268741 </td><td style=\"text-align: right;\">   0.121217  </td><td style=\"text-align: right;\">  -0.0648664 </td><td style=\"text-align: right;\">    0.28548  </td><td style=\"text-align: right;\">  -0.0920448 </td><td style=\"text-align: right;\">   -0.0278265</td><td style=\"text-align: right;\">     0.0577464</td><td style=\"text-align: right;\">    -0.102158 </td><td style=\"text-align: right;\">     0.100988 </td><td style=\"text-align: right;\">    -0.160352 </td><td style=\"text-align: right;\">    -0.0530288</td><td style=\"text-align: right;\">     0.0309905</td><td style=\"text-align: right;\">   -0.13084   </td><td style=\"text-align: right;\">     0.147875 </td><td style=\"text-align: right;\">    0.0748261 </td><td style=\"text-align: right;\">   0.0478026  </td><td style=\"text-align: right;\">    -0.207632 </td><td style=\"text-align: right;\">    -0.1647   </td><td style=\"text-align: right;\">     0.0327266</td><td style=\"text-align: right;\">    0.321514  </td><td style=\"text-align: right;\">    -0.187904 </td><td style=\"text-align: right;\">    -0.0513827</td><td style=\"text-align: right;\">     0.27297  </td><td style=\"text-align: right;\">    0.0665739 </td><td style=\"text-align: right;\">   -0.131175  </td><td style=\"text-align: right;\">    -0.0274118</td><td style=\"text-align: right;\">   -0.0567569 </td><td style=\"text-align: right;\">     0.0244927</td><td style=\"text-align: right;\">    -0.0981032</td><td style=\"text-align: right;\">   -0.315977  </td><td style=\"text-align: right;\">     0.0744229</td><td style=\"text-align: right;\">     0.0662701</td><td style=\"text-align: right;\">    -0.194559 </td><td style=\"text-align: right;\">    0.0698681 </td><td style=\"text-align: right;\">    -0.0601894</td><td style=\"text-align: right;\">    0.187895  </td><td style=\"text-align: right;\">    -0.051721 </td><td style=\"text-align: right;\">    0.203108  </td><td style=\"text-align: right;\">    0.0207311 </td><td style=\"text-align: right;\">    0.138533  </td><td style=\"text-align: right;\">     0.150195 </td><td style=\"text-align: right;\">     0.108857 </td><td style=\"text-align: right;\">    0.123049  </td><td style=\"text-align: right;\">    -0.104599 </td><td style=\"text-align: right;\">     0.0504668</td><td style=\"text-align: right;\">   -0.0449079 </td><td style=\"text-align: right;\">    -0.135764 </td><td style=\"text-align: right;\">    -0.143289 </td><td style=\"text-align: right;\">     0.158113 </td><td style=\"text-align: right;\">    -0.0392836</td><td style=\"text-align: right;\">    -0.129674 </td><td style=\"text-align: right;\">   -0.00722455</td><td style=\"text-align: right;\">   -0.120108  </td><td style=\"text-align: right;\">   -0.00309159</td><td style=\"text-align: right;\">    0.0843857 </td><td style=\"text-align: right;\">     0.131479 </td><td style=\"text-align: right;\">    -0.356571 </td><td style=\"text-align: right;\">   -0.185299  </td><td style=\"text-align: right;\">     0.0750917</td><td style=\"text-align: right;\">     0.0273453</td><td style=\"text-align: right;\">    0.165176  </td><td style=\"text-align: right;\">   -0.00374724</td><td style=\"text-align: right;\">    0.191403  </td><td style=\"text-align: right;\">     0.0307774</td><td style=\"text-align: right;\">     0.250866 </td><td style=\"text-align: right;\">    0.12991   </td><td style=\"text-align: right;\">    -0.10578  </td><td style=\"text-align: right;\">     0.0634282</td><td style=\"text-align: right;\">     0.0473431</td><td style=\"text-align: right;\">    -0.168293 </td><td style=\"text-align: right;\">    -0.0110232</td><td style=\"text-align: right;\">    0.0772107 </td><td style=\"text-align: right;\">     0.0581632</td><td style=\"text-align: right;\">     0.0771155</td><td style=\"text-align: right;\">   -0.00609039</td><td style=\"text-align: right;\">  -0.180796   </td><td style=\"text-align: right;\">     0.0205914</td><td style=\"text-align: right;\">     0.171462 </td><td style=\"text-align: right;\">   -0.209765  </td><td style=\"text-align: right;\">    -0.0235903</td><td style=\"text-align: right;\">     0.0903518</td><td style=\"text-align: right;\">    -0.105113 </td><td style=\"text-align: right;\">    0.144298  </td><td style=\"text-align: right;\">    -0.102772 </td><td style=\"text-align: right;\">   -0.00849593</td><td style=\"text-align: right;\">  -9.31975e-06</td><td style=\"text-align: right;\">     0.308475 </td><td style=\"text-align: right;\">    -0.225475 </td><td style=\"text-align: right;\">  -0.0707727  </td><td style=\"text-align: right;\">    -0.15923  </td><td style=\"text-align: right;\">     0.293325 </td><td style=\"text-align: right;\">    -0.292269 </td><td style=\"text-align: right;\">    -0.131789 </td><td style=\"text-align: right;\">   -0.0958517 </td><td style=\"text-align: right;\">     0.144756 </td><td style=\"text-align: right;\">     0.196817 </td><td style=\"text-align: right;\">      0.339956 </td></tr>\n",
              "<tr><td style=\"text-align: right;\">      6</td><td>b&#x27;Seems to work well!&#x27;                                                   </td><td>b&#x27;I recently picked this unit up at Bed and Bath where it was $99.00. With a 20% coupon the price was $80 (so comparison shop!) It\\&#x27;s easy to use and seems to work well. I agree with other reviewers about the noise level (loud like a tea kettle boiling), but I use this unit in the living room area so sleeping is not an issue. Having the 2 separate water reservoirs to fill is much easier, weight-wise, as I previously had another humidifier which had one large water reservoir and it was very heavy when full. The unit comes apart quite easily for cleaning and since frequent cleaning is recommended (I usually do it 1x per week, not daily) this is a definite plus. Additionally, one only needs to use vinegar to clean the inside reservoir, which is a lot cheaper than having to buy some kind of \\\\\\\\&quot;special\\\\\\\\&quot; cleaning solution. My one complaint is that it doesn\\&#x27;t, but should, have an automatic shut off when both tanks are empty.I have to remember to turn the unit off when I leave the house. My previous humidifiers all had this auto turn off; seems like every humidifier should.&#x27;</td><td style=\"text-align: right;\">       4</td><td style=\"text-align: right;\">       1</td><td style=\"text-align: right;\"> 0.0205276</td><td style=\"text-align: right;\">-0.0446765 </td><td style=\"text-align: right;\"> 0.00838126</td><td style=\"text-align: right;\">0.1844   </td><td style=\"text-align: right;\">-0.0375246 </td><td style=\"text-align: right;\">-0.168202 </td><td style=\"text-align: right;\">-0.0036044 </td><td style=\"text-align: right;\">-0.148392 </td><td style=\"text-align: right;\"> 0.043135  </td><td style=\"text-align: right;\">-0.0328923</td><td style=\"text-align: right;\">-0.0382199 </td><td style=\"text-align: right;\">-0.017673  </td><td style=\"text-align: right;\">-0.0651974 </td><td style=\"text-align: right;\">-0.0437334 </td><td style=\"text-align: right;\"> 0.0127948 </td><td style=\"text-align: right;\">0.124761  </td><td style=\"text-align: right;\">-0.0312836</td><td style=\"text-align: right;\"> 0.025382 </td><td style=\"text-align: right;\"> 0.0512415 </td><td style=\"text-align: right;\">-0.0173628</td><td style=\"text-align: right;\">-0.0788175 </td><td style=\"text-align: right;\">-0.00644493</td><td style=\"text-align: right;\">-0.000723304</td><td style=\"text-align: right;\"> 0.0942707 </td><td style=\"text-align: right;\">-0.0737273</td><td style=\"text-align: right;\"> 0.0665194  </td><td style=\"text-align: right;\">-0.106013 </td><td style=\"text-align: right;\">-0.153163 </td><td style=\"text-align: right;\"> 0.0385465 </td><td style=\"text-align: right;\">-0.229496</td><td style=\"text-align: right;\"> 0.0572052 </td><td style=\"text-align: right;\">0.262255  </td><td style=\"text-align: right;\">-0.0678592</td><td style=\"text-align: right;\">0.12142  </td><td style=\"text-align: right;\"> 0.000502933</td><td style=\"text-align: right;\">-0.0945922</td><td style=\"text-align: right;\">-0.00153629 </td><td style=\"text-align: right;\">-0.175825  </td><td style=\"text-align: right;\">-0.0213139</td><td style=\"text-align: right;\">-0.203562 </td><td style=\"text-align: right;\">-0.0960697</td><td style=\"text-align: right;\">-0.030944 </td><td style=\"text-align: right;\"> 0.0103868</td><td style=\"text-align: right;\"> 0.140027   </td><td style=\"text-align: right;\">-0.1047    </td><td style=\"text-align: right;\">-0.0374464  </td><td style=\"text-align: right;\">-0.0636842 </td><td style=\"text-align: right;\"> 0.0511426</td><td style=\"text-align: right;\"> 0.00617986</td><td style=\"text-align: right;\">-0.051611   </td><td style=\"text-align: right;\"> 0.0466031 </td><td style=\"text-align: right;\"> 0.100656  </td><td style=\"text-align: right;\">-0.0152694  </td><td style=\"text-align: right;\">-0.155036 </td><td style=\"text-align: right;\">-0.0648589 </td><td style=\"text-align: right;\">-0.00891527</td><td style=\"text-align: right;\">-0.122927 </td><td style=\"text-align: right;\">-0.101874 </td><td style=\"text-align: right;\"> 0.0310385 </td><td style=\"text-align: right;\">-0.0734168 </td><td style=\"text-align: right;\">-0.0633887</td><td style=\"text-align: right;\">0.029904 </td><td style=\"text-align: right;\">0.1105   </td><td style=\"text-align: right;\"> 0.00806568</td><td style=\"text-align: right;\">-0.00574923</td><td style=\"text-align: right;\"> 0.094067  </td><td style=\"text-align: right;\"> 0.127557  </td><td style=\"text-align: right;\"> 0.036638 </td><td style=\"text-align: right;\">-0.0975874 </td><td style=\"text-align: right;\">-0.0106772 </td><td style=\"text-align: right;\">-0.0338592 </td><td style=\"text-align: right;\">-0.136627 </td><td style=\"text-align: right;\"> 0.0557826 </td><td style=\"text-align: right;\">-0.0548987  </td><td style=\"text-align: right;\">-0.00745545</td><td style=\"text-align: right;\">-0.0473195 </td><td style=\"text-align: right;\"> 0.0705341</td><td style=\"text-align: right;\"> 0.0315151  </td><td style=\"text-align: right;\">-0.0260988 </td><td style=\"text-align: right;\">-0.0552472  </td><td style=\"text-align: right;\">-0.0373146 </td><td style=\"text-align: right;\">-0.00205254</td><td style=\"text-align: right;\"> 0.047219  </td><td style=\"text-align: right;\">-0.0149    </td><td style=\"text-align: right;\">-0.078999  </td><td style=\"text-align: right;\">-0.00533595</td><td style=\"text-align: right;\"> 0.0180917  </td><td style=\"text-align: right;\"> 0.00115412</td><td style=\"text-align: right;\">-0.0738458</td><td style=\"text-align: right;\">0.191403 </td><td style=\"text-align: right;\">-0.0942675</td><td style=\"text-align: right;\"> 0.123969 </td><td style=\"text-align: right;\">-0.0208995 </td><td style=\"text-align: right;\"> 0.072885 </td><td style=\"text-align: right;\">-0.0600795</td><td style=\"text-align: right;\"> 0.0435297 </td><td style=\"text-align: right;\">-0.0321935 </td><td style=\"text-align: right;\">-0.0174363</td><td style=\"text-align: right;\"> 0.0669026</td><td style=\"text-align: right;\">-0.00781672</td><td style=\"text-align: right;\"> -0.029531   </td><td style=\"text-align: right;\">  -0.0761626 </td><td style=\"text-align: right;\">   -0.037909 </td><td style=\"text-align: right;\">    0.453132 </td><td style=\"text-align: right;\">   0.105771  </td><td style=\"text-align: right;\">  -0.0967504 </td><td style=\"text-align: right;\">    0.0130385</td><td style=\"text-align: right;\">  -0.122775  </td><td style=\"text-align: right;\">    0.0334591</td><td style=\"text-align: right;\">    -0.0491362</td><td style=\"text-align: right;\">    -0.0674269</td><td style=\"text-align: right;\">    -0.120785 </td><td style=\"text-align: right;\">    -0.133666 </td><td style=\"text-align: right;\">    -0.0976171</td><td style=\"text-align: right;\">    -0.0654129</td><td style=\"text-align: right;\">    0.111024  </td><td style=\"text-align: right;\">     0.0501646</td><td style=\"text-align: right;\">   -0.068232  </td><td style=\"text-align: right;\">  -0.0893013  </td><td style=\"text-align: right;\">     0.0113621</td><td style=\"text-align: right;\">    -0.144551 </td><td style=\"text-align: right;\">    -0.140234 </td><td style=\"text-align: right;\">    0.0131885 </td><td style=\"text-align: right;\">     0.023717 </td><td style=\"text-align: right;\">    -0.0229126</td><td style=\"text-align: right;\">     0.120462 </td><td style=\"text-align: right;\">    0.00145362</td><td style=\"text-align: right;\">    0.00371324</td><td style=\"text-align: right;\">    -0.0443514</td><td style=\"text-align: right;\">    0.0791686 </td><td style=\"text-align: right;\">     0.0464328</td><td style=\"text-align: right;\">     0.126263 </td><td style=\"text-align: right;\">   -0.00852111</td><td style=\"text-align: right;\">     0.231659 </td><td style=\"text-align: right;\">     0.113127 </td><td style=\"text-align: right;\">    -0.0791923</td><td style=\"text-align: right;\">   -0.0687154 </td><td style=\"text-align: right;\">    -0.0741382</td><td style=\"text-align: right;\">    0.0307683 </td><td style=\"text-align: right;\">    -0.0614758</td><td style=\"text-align: right;\">   -0.00879383</td><td style=\"text-align: right;\">    0.188453  </td><td style=\"text-align: right;\">    0.00981812</td><td style=\"text-align: right;\">     0.0100394</td><td style=\"text-align: right;\">    -0.231231 </td><td style=\"text-align: right;\">    0.0163551 </td><td style=\"text-align: right;\">    -0.0800602</td><td style=\"text-align: right;\">     0.0167455</td><td style=\"text-align: right;\">    0.0502882 </td><td style=\"text-align: right;\">    -0.107261 </td><td style=\"text-align: right;\">     0.0430806</td><td style=\"text-align: right;\">     0.0656638</td><td style=\"text-align: right;\">     0.107172 </td><td style=\"text-align: right;\">    -0.0689343</td><td style=\"text-align: right;\">    0.0878559 </td><td style=\"text-align: right;\">    0.0772686 </td><td style=\"text-align: right;\">   -0.0510362 </td><td style=\"text-align: right;\">   -0.180482  </td><td style=\"text-align: right;\">     0.217579 </td><td style=\"text-align: right;\">     0.0344349</td><td style=\"text-align: right;\">    0.00533205</td><td style=\"text-align: right;\">     0.0732773</td><td style=\"text-align: right;\">     0.194606 </td><td style=\"text-align: right;\">   -0.0172533 </td><td style=\"text-align: right;\">   -0.0102795 </td><td style=\"text-align: right;\">    0.0397211 </td><td style=\"text-align: right;\">     0.142426 </td><td style=\"text-align: right;\">     0.13889  </td><td style=\"text-align: right;\">   -0.210701  </td><td style=\"text-align: right;\">    -0.061836 </td><td style=\"text-align: right;\">    -0.062271 </td><td style=\"text-align: right;\">    -0.0693182</td><td style=\"text-align: right;\">    -0.0906445</td><td style=\"text-align: right;\">     0.10513  </td><td style=\"text-align: right;\">    0.109296  </td><td style=\"text-align: right;\">    -0.0208267</td><td style=\"text-align: right;\">     0.109763 </td><td style=\"text-align: right;\">    0.035511  </td><td style=\"text-align: right;\">   0.116042   </td><td style=\"text-align: right;\">     0.051282 </td><td style=\"text-align: right;\">     0.0289474</td><td style=\"text-align: right;\">    0.126397  </td><td style=\"text-align: right;\">     0.0151475</td><td style=\"text-align: right;\">    -0.162874 </td><td style=\"text-align: right;\">    -0.0785977</td><td style=\"text-align: right;\">    0.123161  </td><td style=\"text-align: right;\">     0.173894 </td><td style=\"text-align: right;\">   -0.0435824 </td><td style=\"text-align: right;\">  -0.0167289  </td><td style=\"text-align: right;\">     0.144609 </td><td style=\"text-align: right;\">    -0.0710754</td><td style=\"text-align: right;\">   0.198347   </td><td style=\"text-align: right;\">     0.143541 </td><td style=\"text-align: right;\">     0.337826 </td><td style=\"text-align: right;\">    -0.18605  </td><td style=\"text-align: right;\">    -0.0659614</td><td style=\"text-align: right;\">    0.00972672</td><td style=\"text-align: right;\">     0.086868 </td><td style=\"text-align: right;\">     0.106704 </td><td style=\"text-align: right;\">      0.0708693</td></tr>\n",
              "<tr><td style=\"text-align: right;\">      8</td><td>b&#x27;deep heat?????&#x27;                                                        </td><td>b&#x27;Not sure what previous reviewer was talking about. The product uses ULTRASOUND waves for pain relief NOT heat.  After repeated use, the pain in my knee and shoulder was feeling great. I think you should re-read the description and reconsider your opinion. Great product sold by a great company.&#x27;                                                                                                                                                                                                                                                                                                                                                                                                                                                                                                                                                                                                                                                                                                                                                                                                                         </td><td style=\"text-align: right;\">       5</td><td style=\"text-align: right;\">       1</td><td style=\"text-align: right;\"> 0.0798989</td><td style=\"text-align: right;\">-0.0154353 </td><td style=\"text-align: right;\">-0.0243234 </td><td style=\"text-align: right;\">0.160954 </td><td style=\"text-align: right;\">-0.0698448 </td><td style=\"text-align: right;\">-0.133547 </td><td style=\"text-align: right;\"> 0.0384307 </td><td style=\"text-align: right;\">-0.017189 </td><td style=\"text-align: right;\"> 0.026925  </td><td style=\"text-align: right;\">-0.0647557</td><td style=\"text-align: right;\">-0.0467902 </td><td style=\"text-align: right;\">-0.0382815 </td><td style=\"text-align: right;\"> 0.00549938</td><td style=\"text-align: right;\">-0.0590319 </td><td style=\"text-align: right;\">-0.0466329 </td><td style=\"text-align: right;\">0.00542086</td><td style=\"text-align: right;\"> 0.0301802</td><td style=\"text-align: right;\"> 0.0251393</td><td style=\"text-align: right;\">-0.0569171 </td><td style=\"text-align: right;\">-0.0677072</td><td style=\"text-align: right;\">-0.00853481</td><td style=\"text-align: right;\">-0.0438261 </td><td style=\"text-align: right;\"> 0.126949   </td><td style=\"text-align: right;\">-0.0280609 </td><td style=\"text-align: right;\">-0.029957 </td><td style=\"text-align: right;\"> 0.125694   </td><td style=\"text-align: right;\"> 0.0402719</td><td style=\"text-align: right;\">-0.214168 </td><td style=\"text-align: right;\">-0.123375  </td><td style=\"text-align: right;\">-0.207466</td><td style=\"text-align: right;\">-0.020572  </td><td style=\"text-align: right;\">0.128098  </td><td style=\"text-align: right;\">-0.120574 </td><td style=\"text-align: right;\">0.148726 </td><td style=\"text-align: right;\">-0.0197069  </td><td style=\"text-align: right;\">-0.174291 </td><td style=\"text-align: right;\">-0.0909454  </td><td style=\"text-align: right;\">-0.0660027 </td><td style=\"text-align: right;\"> 0.0672903</td><td style=\"text-align: right;\">-0.0908576</td><td style=\"text-align: right;\"> 0.0399171</td><td style=\"text-align: right;\"> 0.10946  </td><td style=\"text-align: right;\">-0.0507268</td><td style=\"text-align: right;\"> 0.132491   </td><td style=\"text-align: right;\">-0.0436748 </td><td style=\"text-align: right;\"> 0.0745094  </td><td style=\"text-align: right;\"> 0.0943953 </td><td style=\"text-align: right;\"> 0.0708357</td><td style=\"text-align: right;\">-0.0350392 </td><td style=\"text-align: right;\">-0.0795524  </td><td style=\"text-align: right;\"> 0.0368518 </td><td style=\"text-align: right;\"> 0.140134  </td><td style=\"text-align: right;\">-0.0646524  </td><td style=\"text-align: right;\">-0.0839903</td><td style=\"text-align: right;\">-0.0806752 </td><td style=\"text-align: right;\">-0.0115551 </td><td style=\"text-align: right;\">-0.130552 </td><td style=\"text-align: right;\">-0.0637918</td><td style=\"text-align: right;\"> 0.0710125 </td><td style=\"text-align: right;\">-0.126491  </td><td style=\"text-align: right;\"> 0.022924 </td><td style=\"text-align: right;\">0.0990745</td><td style=\"text-align: right;\">0.0249804</td><td style=\"text-align: right;\"> 0.0959317 </td><td style=\"text-align: right;\">-0.0637208 </td><td style=\"text-align: right;\">-0.00933123</td><td style=\"text-align: right;\"> 0.157076  </td><td style=\"text-align: right;\"> 0.0754258</td><td style=\"text-align: right;\">-0.134991  </td><td style=\"text-align: right;\"> 0.00578486</td><td style=\"text-align: right;\"> 0.024775  </td><td style=\"text-align: right;\">-0.0660004</td><td style=\"text-align: right;\">-0.0516487 </td><td style=\"text-align: right;\"> 0.0196241  </td><td style=\"text-align: right;\"> 0.0762138 </td><td style=\"text-align: right;\">-0.0837058 </td><td style=\"text-align: right;\"> 0.0946098</td><td style=\"text-align: right;\">-0.0571421  </td><td style=\"text-align: right;\"> 0.00332857</td><td style=\"text-align: right;\">-0.030366   </td><td style=\"text-align: right;\"> 0.0450402 </td><td style=\"text-align: right;\">-0.0328174 </td><td style=\"text-align: right;\">-0.0311871 </td><td style=\"text-align: right;\"> 0.00884503</td><td style=\"text-align: right;\"> 0.0217884 </td><td style=\"text-align: right;\"> 0.0419018 </td><td style=\"text-align: right;\"> 0.137214   </td><td style=\"text-align: right;\"> 0.0466684 </td><td style=\"text-align: right;\"> 0.0232188</td><td style=\"text-align: right;\">0.221823 </td><td style=\"text-align: right;\">-0.0192453</td><td style=\"text-align: right;\"> 0.12214  </td><td style=\"text-align: right;\">-0.063552  </td><td style=\"text-align: right;\"> 0.172792 </td><td style=\"text-align: right;\">-0.0055258</td><td style=\"text-align: right;\"> 0.0175541 </td><td style=\"text-align: right;\">-0.0134637 </td><td style=\"text-align: right;\"> 0.0935495</td><td style=\"text-align: right;\"> 0.0892241</td><td style=\"text-align: right;\"> 0.153251  </td><td style=\"text-align: right;\">  0.11167    </td><td style=\"text-align: right;\">  -0.00835655</td><td style=\"text-align: right;\">   -0.129281 </td><td style=\"text-align: right;\">    0.0574417</td><td style=\"text-align: right;\">  -0.00662589</td><td style=\"text-align: right;\">  -0.142522  </td><td style=\"text-align: right;\">   -0.167356 </td><td style=\"text-align: right;\">   0.0463821 </td><td style=\"text-align: right;\">   -0.176686 </td><td style=\"text-align: right;\">     0.0370432</td><td style=\"text-align: right;\">    -0.211749 </td><td style=\"text-align: right;\">    -0.180405 </td><td style=\"text-align: right;\">     0.30959  </td><td style=\"text-align: right;\">     0.148681 </td><td style=\"text-align: right;\">    -0.282004 </td><td style=\"text-align: right;\">    0.00137684</td><td style=\"text-align: right;\">    -0.0364557</td><td style=\"text-align: right;\">   -0.0534643 </td><td style=\"text-align: right;\">   0.202051   </td><td style=\"text-align: right;\">     0.197825 </td><td style=\"text-align: right;\">    -0.0246642</td><td style=\"text-align: right;\">     0.0167486</td><td style=\"text-align: right;\">    0.284652  </td><td style=\"text-align: right;\">     0.048496 </td><td style=\"text-align: right;\">     0.245976 </td><td style=\"text-align: right;\">     0.106146 </td><td style=\"text-align: right;\">    0.183454  </td><td style=\"text-align: right;\">    0.073538  </td><td style=\"text-align: right;\">    -0.165457 </td><td style=\"text-align: right;\">   -0.172566  </td><td style=\"text-align: right;\">     0.206847 </td><td style=\"text-align: right;\">     0.0287519</td><td style=\"text-align: right;\">   -0.280376  </td><td style=\"text-align: right;\">     0.388369 </td><td style=\"text-align: right;\">    -0.254248 </td><td style=\"text-align: right;\">    -0.528089 </td><td style=\"text-align: right;\">    0.215854  </td><td style=\"text-align: right;\">    -0.395667 </td><td style=\"text-align: right;\">   -0.285485  </td><td style=\"text-align: right;\">    -0.163222 </td><td style=\"text-align: right;\">    0.131571  </td><td style=\"text-align: right;\">    0.0303904 </td><td style=\"text-align: right;\">   -0.315139  </td><td style=\"text-align: right;\">     0.134646 </td><td style=\"text-align: right;\">    -0.12104  </td><td style=\"text-align: right;\">   -0.144318  </td><td style=\"text-align: right;\">     0.0105745</td><td style=\"text-align: right;\">    -0.0644506</td><td style=\"text-align: right;\">   -0.07097   </td><td style=\"text-align: right;\">    -0.0370443</td><td style=\"text-align: right;\">     0.235784 </td><td style=\"text-align: right;\">     0.132228 </td><td style=\"text-align: right;\">    -0.0849519</td><td style=\"text-align: right;\">    -0.206007 </td><td style=\"text-align: right;\">   -0.279568  </td><td style=\"text-align: right;\">    0.0542729 </td><td style=\"text-align: right;\">   -0.335088  </td><td style=\"text-align: right;\">    0.0794668 </td><td style=\"text-align: right;\">     0.0925628</td><td style=\"text-align: right;\">    -0.0633383</td><td style=\"text-align: right;\">    0.153178  </td><td style=\"text-align: right;\">     0.396788 </td><td style=\"text-align: right;\">     0.0194848</td><td style=\"text-align: right;\">    0.144603  </td><td style=\"text-align: right;\">    0.109774  </td><td style=\"text-align: right;\">   -0.166461  </td><td style=\"text-align: right;\">     0.170369 </td><td style=\"text-align: right;\">    -0.274526 </td><td style=\"text-align: right;\">   -0.0888827 </td><td style=\"text-align: right;\">     0.336089 </td><td style=\"text-align: right;\">    -0.121106 </td><td style=\"text-align: right;\">    -0.173797 </td><td style=\"text-align: right;\">     0.401123 </td><td style=\"text-align: right;\">     0.159877 </td><td style=\"text-align: right;\">    0.0441438 </td><td style=\"text-align: right;\">    -0.127067 </td><td style=\"text-align: right;\">     0.215042 </td><td style=\"text-align: right;\">   -0.20255   </td><td style=\"text-align: right;\">   0.0377424  </td><td style=\"text-align: right;\">    -0.370584 </td><td style=\"text-align: right;\">     0.0118338</td><td style=\"text-align: right;\">    0.0043794 </td><td style=\"text-align: right;\">     0.0416817</td><td style=\"text-align: right;\">    -0.20669  </td><td style=\"text-align: right;\">     0.0736929</td><td style=\"text-align: right;\">   -0.0896486 </td><td style=\"text-align: right;\">     0.263954 </td><td style=\"text-align: right;\">   -0.289076  </td><td style=\"text-align: right;\">  -0.215249   </td><td style=\"text-align: right;\">     0.379559 </td><td style=\"text-align: right;\">    -0.0720283</td><td style=\"text-align: right;\">   0.161328   </td><td style=\"text-align: right;\">    -0.140665 </td><td style=\"text-align: right;\">     0.456778 </td><td style=\"text-align: right;\">     0.20214  </td><td style=\"text-align: right;\">    -0.212866 </td><td style=\"text-align: right;\">   -0.140217  </td><td style=\"text-align: right;\">     0.150588 </td><td style=\"text-align: right;\">    -0.117089 </td><td style=\"text-align: right;\">     -0.126504 </td></tr>\n",
              "<tr><td style=\"text-align: right;\">      2</td><td>b&#x27;Thermometer for a toddler&#x27;                                             </td><td>b&quot;The shippers were great....willing to consider speedier shipping options, but in the end the standard shipping arrived quickly enough. The thermometer is fun and easy to use, but with an inquisitive toddler, it would be nice to have the plastic cap attached to the body so that it doesn&#x27;t disappear.  Would buy it again from these sellers.&quot;                                                                                                                                                                                                                                                                                                                                                                                                                                                                                                                                                                                                                                                                                                                                                                            </td><td style=\"text-align: right;\">       4</td><td style=\"text-align: right;\">       1</td><td style=\"text-align: right;\">-0.0536861</td><td style=\"text-align: right;\">-0.023205  </td><td style=\"text-align: right;\">-0.0917833 </td><td style=\"text-align: right;\">0.159008 </td><td style=\"text-align: right;\">-0.0306218 </td><td style=\"text-align: right;\">-0.134772 </td><td style=\"text-align: right;\"> 0.0115571 </td><td style=\"text-align: right;\">-0.116787 </td><td style=\"text-align: right;\">-0.0172419 </td><td style=\"text-align: right;\"> 0.0282257</td><td style=\"text-align: right;\">-0.020905  </td><td style=\"text-align: right;\">-0.00376495</td><td style=\"text-align: right;\">-0.0654972 </td><td style=\"text-align: right;\"> 0.00986839</td><td style=\"text-align: right;\">-0.0428808 </td><td style=\"text-align: right;\">0.0499261 </td><td style=\"text-align: right;\"> 0.0362124</td><td style=\"text-align: right;\"> 0.0679369</td><td style=\"text-align: right;\">-0.0670272 </td><td style=\"text-align: right;\">-0.182678 </td><td style=\"text-align: right;\">-0.105807  </td><td style=\"text-align: right;\">-0.0160866 </td><td style=\"text-align: right;\"> 0.13879    </td><td style=\"text-align: right;\">-0.035902  </td><td style=\"text-align: right;\">-0.154139 </td><td style=\"text-align: right;\"> 0.000548067</td><td style=\"text-align: right;\">-0.0628622</td><td style=\"text-align: right;\">-0.173364 </td><td style=\"text-align: right;\"> 0.00964098</td><td style=\"text-align: right;\">-0.133136</td><td style=\"text-align: right;\">-0.00450081</td><td style=\"text-align: right;\">0.10583   </td><td style=\"text-align: right;\">-0.155322 </td><td style=\"text-align: right;\">0.204594 </td><td style=\"text-align: right;\"> 0.0260388  </td><td style=\"text-align: right;\">-0.0802891</td><td style=\"text-align: right;\">-0.0780537  </td><td style=\"text-align: right;\">-0.101342  </td><td style=\"text-align: right;\"> 0.026607 </td><td style=\"text-align: right;\">-0.0307187</td><td style=\"text-align: right;\">-0.0711964</td><td style=\"text-align: right;\">-0.0302233</td><td style=\"text-align: right;\"> 0.0445246</td><td style=\"text-align: right;\"> 0.104743   </td><td style=\"text-align: right;\">-0.116816  </td><td style=\"text-align: right;\"> 0.000752818</td><td style=\"text-align: right;\"> 0.071879  </td><td style=\"text-align: right;\"> 0.0165307</td><td style=\"text-align: right;\"> 0.0230483 </td><td style=\"text-align: right;\"> 0.013766   </td><td style=\"text-align: right;\"> 0.0445806 </td><td style=\"text-align: right;\"> 0.0810047 </td><td style=\"text-align: right;\">-0.0565876  </td><td style=\"text-align: right;\">-0.130797 </td><td style=\"text-align: right;\">-0.14775   </td><td style=\"text-align: right;\">-0.0461887 </td><td style=\"text-align: right;\">-0.0555724</td><td style=\"text-align: right;\">-0.0667059</td><td style=\"text-align: right;\"> 0.0473123 </td><td style=\"text-align: right;\">-0.0864956 </td><td style=\"text-align: right;\">-0.0222361</td><td style=\"text-align: right;\">0.0360238</td><td style=\"text-align: right;\">0.0288778</td><td style=\"text-align: right;\"> 0.113356  </td><td style=\"text-align: right;\">-0.0418576 </td><td style=\"text-align: right;\"> 0.0809188 </td><td style=\"text-align: right;\"> 0.0470947 </td><td style=\"text-align: right;\"> 0.129759 </td><td style=\"text-align: right;\">-0.064864  </td><td style=\"text-align: right;\">-0.00639109</td><td style=\"text-align: right;\">-0.00185792</td><td style=\"text-align: right;\">-0.0801087</td><td style=\"text-align: right;\">-0.00296943</td><td style=\"text-align: right;\"> 0.0549797  </td><td style=\"text-align: right;\">-0.0851302 </td><td style=\"text-align: right;\">-0.0252898 </td><td style=\"text-align: right;\"> 0.201952 </td><td style=\"text-align: right;\"> 0.0870358  </td><td style=\"text-align: right;\">-0.0220806 </td><td style=\"text-align: right;\">-0.0735863  </td><td style=\"text-align: right;\">-0.0469109 </td><td style=\"text-align: right;\">-0.0393429 </td><td style=\"text-align: right;\"> 0.0634794 </td><td style=\"text-align: right;\"> 0.0346973 </td><td style=\"text-align: right;\"> 0.0158171 </td><td style=\"text-align: right;\"> 0.141153  </td><td style=\"text-align: right;\">-0.0248412  </td><td style=\"text-align: right;\"> 0.0919092 </td><td style=\"text-align: right;\">-0.0433064</td><td style=\"text-align: right;\">0.122244 </td><td style=\"text-align: right;\">-0.0788253</td><td style=\"text-align: right;\"> 0.0831436</td><td style=\"text-align: right;\"> 0.00884997</td><td style=\"text-align: right;\"> 0.225355 </td><td style=\"text-align: right;\">-0.132322 </td><td style=\"text-align: right;\">-0.0466138 </td><td style=\"text-align: right;\"> 0.00675674</td><td style=\"text-align: right;\"> 0.09711  </td><td style=\"text-align: right;\"> 0.137682 </td><td style=\"text-align: right;\">-0.0345517 </td><td style=\"text-align: right;\"> -0.328431   </td><td style=\"text-align: right;\">   0.181612  </td><td style=\"text-align: right;\">   -0.217972 </td><td style=\"text-align: right;\">    0.196106 </td><td style=\"text-align: right;\">  -0.154482  </td><td style=\"text-align: right;\">   0.00120735</td><td style=\"text-align: right;\">    0.0723748</td><td style=\"text-align: right;\">  -0.0281228 </td><td style=\"text-align: right;\">    0.30779  </td><td style=\"text-align: right;\">     0.355154 </td><td style=\"text-align: right;\">     0.0515376</td><td style=\"text-align: right;\">     0.112361 </td><td style=\"text-align: right;\">    -0.0480441</td><td style=\"text-align: right;\">     0.190569 </td><td style=\"text-align: right;\">     0.107479 </td><td style=\"text-align: right;\">    0.141393  </td><td style=\"text-align: right;\">    -0.0978156</td><td style=\"text-align: right;\">    0.399021  </td><td style=\"text-align: right;\">  -0.61104    </td><td style=\"text-align: right;\">    -0.109958 </td><td style=\"text-align: right;\">     0.222137 </td><td style=\"text-align: right;\">    -0.107741 </td><td style=\"text-align: right;\">    0.17622   </td><td style=\"text-align: right;\">    -0.247753 </td><td style=\"text-align: right;\">    -0.481783 </td><td style=\"text-align: right;\">    -0.265179 </td><td style=\"text-align: right;\">   -0.342492  </td><td style=\"text-align: right;\">   -0.23147   </td><td style=\"text-align: right;\">    -0.0950542</td><td style=\"text-align: right;\">   -0.222793  </td><td style=\"text-align: right;\">     0.10989  </td><td style=\"text-align: right;\">     0.207818 </td><td style=\"text-align: right;\">   -0.358082  </td><td style=\"text-align: right;\">     0.157507 </td><td style=\"text-align: right;\">    -0.0927523</td><td style=\"text-align: right;\">    -0.0479077</td><td style=\"text-align: right;\">    0.0496756 </td><td style=\"text-align: right;\">    -0.160796 </td><td style=\"text-align: right;\">    0.307642  </td><td style=\"text-align: right;\">     0.39607  </td><td style=\"text-align: right;\">   -0.0632355 </td><td style=\"text-align: right;\">   -0.190232  </td><td style=\"text-align: right;\">    0.246866  </td><td style=\"text-align: right;\">     0.484718 </td><td style=\"text-align: right;\">    -0.252445 </td><td style=\"text-align: right;\">   -0.143426  </td><td style=\"text-align: right;\">     0.0567269</td><td style=\"text-align: right;\">     0.280007 </td><td style=\"text-align: right;\">    0.207293  </td><td style=\"text-align: right;\">     0.109046 </td><td style=\"text-align: right;\">     0.293045 </td><td style=\"text-align: right;\">     0.298492 </td><td style=\"text-align: right;\">    -0.147709 </td><td style=\"text-align: right;\">    -0.148369 </td><td style=\"text-align: right;\">   -0.0804425 </td><td style=\"text-align: right;\">    0.304281  </td><td style=\"text-align: right;\">   -0.165967  </td><td style=\"text-align: right;\">   -0.105873  </td><td style=\"text-align: right;\">    -0.10875  </td><td style=\"text-align: right;\">    -0.101293 </td><td style=\"text-align: right;\">    0.783563  </td><td style=\"text-align: right;\">     0.0415531</td><td style=\"text-align: right;\">     0.167526 </td><td style=\"text-align: right;\">    0.544562  </td><td style=\"text-align: right;\">   -0.0139361 </td><td style=\"text-align: right;\">   -0.308666  </td><td style=\"text-align: right;\">    -0.0617801</td><td style=\"text-align: right;\">     0.170086 </td><td style=\"text-align: right;\">   -0.477195  </td><td style=\"text-align: right;\">    -0.201893 </td><td style=\"text-align: right;\">     0.0700277</td><td style=\"text-align: right;\">     0.32368  </td><td style=\"text-align: right;\">     0.111025 </td><td style=\"text-align: right;\">    -0.309508 </td><td style=\"text-align: right;\">   -0.170707  </td><td style=\"text-align: right;\">    -0.113258 </td><td style=\"text-align: right;\">    -0.152282 </td><td style=\"text-align: right;\">    0.51634   </td><td style=\"text-align: right;\">  -0.525544   </td><td style=\"text-align: right;\">    -0.488596 </td><td style=\"text-align: right;\">    -0.365808 </td><td style=\"text-align: right;\">    0.161509  </td><td style=\"text-align: right;\">    -0.15736  </td><td style=\"text-align: right;\">    -0.31471  </td><td style=\"text-align: right;\">    -0.167439 </td><td style=\"text-align: right;\">    0.183     </td><td style=\"text-align: right;\">    -0.111201 </td><td style=\"text-align: right;\">    0.165603  </td><td style=\"text-align: right;\">  -0.148917   </td><td style=\"text-align: right;\">    -0.122226 </td><td style=\"text-align: right;\">    -0.599483 </td><td style=\"text-align: right;\">   0.175337   </td><td style=\"text-align: right;\">     0.0155001</td><td style=\"text-align: right;\">     0.177706 </td><td style=\"text-align: right;\">    -0.0288998</td><td style=\"text-align: right;\">    -0.0849082</td><td style=\"text-align: right;\">   -0.0289625 </td><td style=\"text-align: right;\">     0.369142 </td><td style=\"text-align: right;\">    -0.07358  </td><td style=\"text-align: right;\">     -0.377289 </td></tr>\n",
              "<tr><td style=\"text-align: right;\">      2</td><td>b&#x27;Wow!&#x27;                                                                  </td><td>b&quot;Man, for all you who know what I&#x27;m talking about, this is the best thing I&#x27;ve ever had on my back.  I suffer from back pain constantly and find myself waking up in the middle of the night pushing parts of my back and neck on the edges of walls on the corners of doors and sometimes lying down on tennis or racket balls to get pressure on those dang trigger points.  I opted for the body sticks package not knowing what they would do and it was a good thing.  They are like have racket balls on the ends of sticks to beat your muscle spasms and to lie down on them rolling around on your back. It is worth the money.  They use a device similar to this in physical therapy so if you get your doctor to write you a script for it, insurance may very well pay for it like mine did.  Even so, paid or not, buy this sucker.  Buy two, I thought, just in case it breaks and they for some reason stop manufacturing this thing.  Good stuff.&quot;                                                                                                                                                              </td><td style=\"text-align: right;\">       5</td><td style=\"text-align: right;\">       1</td><td style=\"text-align: right;\">-0.0104555</td><td style=\"text-align: right;\">-0.0650355 </td><td style=\"text-align: right;\">-0.0271681 </td><td style=\"text-align: right;\">0.0943721</td><td style=\"text-align: right;\">-0.00690393</td><td style=\"text-align: right;\">-0.0761177</td><td style=\"text-align: right;\"> 0.00136208</td><td style=\"text-align: right;\">-0.0499288</td><td style=\"text-align: right;\"> 0.0426951 </td><td style=\"text-align: right;\">-0.0989814</td><td style=\"text-align: right;\">-0.00849895</td><td style=\"text-align: right;\">-0.0874788 </td><td style=\"text-align: right;\"> 0.00738907</td><td style=\"text-align: right;\">-0.0546197 </td><td style=\"text-align: right;\">-0.0537471 </td><td style=\"text-align: right;\">0.0295532 </td><td style=\"text-align: right;\"> 0.0739076</td><td style=\"text-align: right;\"> 0.030429 </td><td style=\"text-align: right;\">-0.00295253</td><td style=\"text-align: right;\">-0.0403807</td><td style=\"text-align: right;\">-0.100654  </td><td style=\"text-align: right;\"> 0.0328898 </td><td style=\"text-align: right;\"> 0.147556   </td><td style=\"text-align: right;\">-0.0358579 </td><td style=\"text-align: right;\"> 0.0454313</td><td style=\"text-align: right;\"> 0.0232481  </td><td style=\"text-align: right;\">-0.0205637</td><td style=\"text-align: right;\">-0.177446 </td><td style=\"text-align: right;\">-0.0924564 </td><td style=\"text-align: right;\">-0.151869</td><td style=\"text-align: right;\"> 0.0102763 </td><td style=\"text-align: right;\">0.0952358 </td><td style=\"text-align: right;\">-0.109538 </td><td style=\"text-align: right;\">0.280211 </td><td style=\"text-align: right;\">-0.0346716  </td><td style=\"text-align: right;\">-0.11649  </td><td style=\"text-align: right;\">-0.11104    </td><td style=\"text-align: right;\">-0.0161047 </td><td style=\"text-align: right;\"> 0.0823938</td><td style=\"text-align: right;\">-0.116456 </td><td style=\"text-align: right;\">-0.0780562</td><td style=\"text-align: right;\"> 0.0347646</td><td style=\"text-align: right;\">-0.0412193</td><td style=\"text-align: right;\"> 0.144907   </td><td style=\"text-align: right;\">-0.100565  </td><td style=\"text-align: right;\"> 0.00353138 </td><td style=\"text-align: right;\"> 0.0333027 </td><td style=\"text-align: right;\">-0.0620678</td><td style=\"text-align: right;\">-0.00783388</td><td style=\"text-align: right;\">-0.149446   </td><td style=\"text-align: right;\"> 0.104317  </td><td style=\"text-align: right;\"> 0.0936942 </td><td style=\"text-align: right;\">-0.0284872  </td><td style=\"text-align: right;\">-0.118505 </td><td style=\"text-align: right;\">-0.052614  </td><td style=\"text-align: right;\">-0.0530326 </td><td style=\"text-align: right;\">-0.0980326</td><td style=\"text-align: right;\">-0.0393002</td><td style=\"text-align: right;\"> 0.0468432 </td><td style=\"text-align: right;\"> 0.0136401 </td><td style=\"text-align: right;\"> 0.0140628</td><td style=\"text-align: right;\">0.109156 </td><td style=\"text-align: right;\">0.118868 </td><td style=\"text-align: right;\"> 0.0989769 </td><td style=\"text-align: right;\">-0.0572224 </td><td style=\"text-align: right;\"> 0.101436  </td><td style=\"text-align: right;\"> 0.10293   </td><td style=\"text-align: right;\"> 0.105704 </td><td style=\"text-align: right;\">-0.0318639 </td><td style=\"text-align: right;\"> 0.12308   </td><td style=\"text-align: right;\"> 0.0196404 </td><td style=\"text-align: right;\"> 0.0325318</td><td style=\"text-align: right;\">-0.0852589 </td><td style=\"text-align: right;\">-0.0131972  </td><td style=\"text-align: right;\">-0.0108115 </td><td style=\"text-align: right;\">-0.00737495</td><td style=\"text-align: right;\"> 0.161867 </td><td style=\"text-align: right;\"> 0.0496744  </td><td style=\"text-align: right;\"> 0.0604232 </td><td style=\"text-align: right;\">-0.11858    </td><td style=\"text-align: right;\">-0.0644173 </td><td style=\"text-align: right;\">-0.00685963</td><td style=\"text-align: right;\"> 0.0680053 </td><td style=\"text-align: right;\">-0.0500246 </td><td style=\"text-align: right;\">-0.00786586</td><td style=\"text-align: right;\"> 0.0145573 </td><td style=\"text-align: right;\"> 0.0735585  </td><td style=\"text-align: right;\"> 0.0179232 </td><td style=\"text-align: right;\"> 0.0891209</td><td style=\"text-align: right;\">0.225186 </td><td style=\"text-align: right;\">-0.0545906</td><td style=\"text-align: right;\"> 0.106597 </td><td style=\"text-align: right;\">-0.0277948 </td><td style=\"text-align: right;\"> 0.154858 </td><td style=\"text-align: right;\">-0.0211693</td><td style=\"text-align: right;\"> 0.0230095 </td><td style=\"text-align: right;\"> 0.0340069 </td><td style=\"text-align: right;\"> 0.0616921</td><td style=\"text-align: right;\"> 0.0697093</td><td style=\"text-align: right;\">-0.0225268 </td><td style=\"text-align: right;\">  0.313213   </td><td style=\"text-align: right;\">  -0.21348   </td><td style=\"text-align: right;\">   -0.177413 </td><td style=\"text-align: right;\">   -0.23144  </td><td style=\"text-align: right;\">   0.0467013 </td><td style=\"text-align: right;\">  -0.14441   </td><td style=\"text-align: right;\">   -0.300236 </td><td style=\"text-align: right;\">  -0.281996  </td><td style=\"text-align: right;\">   -0.20141  </td><td style=\"text-align: right;\">    -0.303669 </td><td style=\"text-align: right;\">    -0.0909715</td><td style=\"text-align: right;\">     0.0483526</td><td style=\"text-align: right;\">    -0.0616208</td><td style=\"text-align: right;\">    -0.169474 </td><td style=\"text-align: right;\">    -0.215886 </td><td style=\"text-align: right;\">    0.0631507 </td><td style=\"text-align: right;\">     0.0439651</td><td style=\"text-align: right;\">   -0.142616  </td><td style=\"text-align: right;\">  -0.38209    </td><td style=\"text-align: right;\">    -0.255637 </td><td style=\"text-align: right;\">     0.0155582</td><td style=\"text-align: right;\">    -0.143078 </td><td style=\"text-align: right;\">   -0.0683723 </td><td style=\"text-align: right;\">    -0.166237 </td><td style=\"text-align: right;\">     0.332156 </td><td style=\"text-align: right;\">    -0.0452946</td><td style=\"text-align: right;\">   -0.0212179 </td><td style=\"text-align: right;\">   -0.112266  </td><td style=\"text-align: right;\">    -0.210063 </td><td style=\"text-align: right;\">    0.0519787 </td><td style=\"text-align: right;\">    -0.10566  </td><td style=\"text-align: right;\">    -0.0997913</td><td style=\"text-align: right;\">   -0.125269  </td><td style=\"text-align: right;\">     0.325943 </td><td style=\"text-align: right;\">    -0.181509 </td><td style=\"text-align: right;\">    -0.203336 </td><td style=\"text-align: right;\">   -0.117967  </td><td style=\"text-align: right;\">    -0.343073 </td><td style=\"text-align: right;\">    0.289549  </td><td style=\"text-align: right;\">    -0.0951278</td><td style=\"text-align: right;\">    0.0344704 </td><td style=\"text-align: right;\">   -0.135873  </td><td style=\"text-align: right;\">    0.0924429 </td><td style=\"text-align: right;\">     0.209286 </td><td style=\"text-align: right;\">    -0.0477324</td><td style=\"text-align: right;\">   -0.0277274 </td><td style=\"text-align: right;\">    -0.0338726</td><td style=\"text-align: right;\">    -0.0213207</td><td style=\"text-align: right;\">    0.232398  </td><td style=\"text-align: right;\">     0.0225186</td><td style=\"text-align: right;\">     0.177173 </td><td style=\"text-align: right;\">    -0.037332 </td><td style=\"text-align: right;\">    -0.0884299</td><td style=\"text-align: right;\">     0.083178 </td><td style=\"text-align: right;\">   -0.347286  </td><td style=\"text-align: right;\">    0.112216  </td><td style=\"text-align: right;\">    0.0743005 </td><td style=\"text-align: right;\">   -0.160497  </td><td style=\"text-align: right;\">    -0.0746199</td><td style=\"text-align: right;\">    -0.207795 </td><td style=\"text-align: right;\">   -0.133902  </td><td style=\"text-align: right;\">    -0.135555 </td><td style=\"text-align: right;\">     0.175525 </td><td style=\"text-align: right;\">    0.35884   </td><td style=\"text-align: right;\">    0.248305  </td><td style=\"text-align: right;\">   -0.197835  </td><td style=\"text-align: right;\">     0.0786377</td><td style=\"text-align: right;\">     0.134633 </td><td style=\"text-align: right;\">    0.0478329 </td><td style=\"text-align: right;\">     0.0846246</td><td style=\"text-align: right;\">    -0.183622 </td><td style=\"text-align: right;\">     0.152699 </td><td style=\"text-align: right;\">     0.0107845</td><td style=\"text-align: right;\">    -0.037498 </td><td style=\"text-align: right;\">    0.1107    </td><td style=\"text-align: right;\">    -0.11845  </td><td style=\"text-align: right;\">     0.300427 </td><td style=\"text-align: right;\">   -0.151379  </td><td style=\"text-align: right;\">  -0.000187371</td><td style=\"text-align: right;\">     0.211676 </td><td style=\"text-align: right;\">    -0.315465 </td><td style=\"text-align: right;\">   -0.422323  </td><td style=\"text-align: right;\">     0.0270978</td><td style=\"text-align: right;\">    -0.246066 </td><td style=\"text-align: right;\">    -0.175601 </td><td style=\"text-align: right;\">   -0.0249215 </td><td style=\"text-align: right;\">     0.177944 </td><td style=\"text-align: right;\">    0.327899  </td><td style=\"text-align: right;\">   0.0994411  </td><td style=\"text-align: right;\">     0.157621 </td><td style=\"text-align: right;\">    -0.167677 </td><td style=\"text-align: right;\">   0.0200618  </td><td style=\"text-align: right;\">     0.0252516</td><td style=\"text-align: right;\">     0.0921954</td><td style=\"text-align: right;\">     0.0610368</td><td style=\"text-align: right;\">     0.0876895</td><td style=\"text-align: right;\">   -0.135263  </td><td style=\"text-align: right;\">     0.245527 </td><td style=\"text-align: right;\">     0.462639 </td><td style=\"text-align: right;\">      0.224933 </td></tr>\n",
              "<tr><td style=\"text-align: right;\">      1</td><td>b&#x27;Great cane for people with hand and wrist issues&#x27;                      </td><td>b&quot;I purchased this cane to assist me when I have to walk long distances.  I have rheumatoid arthritis that has particularly affected my low back and hips, and it sometimes makes walking difficult.  The problem with using a cane when you have RA is that RA doesn&#x27;t just affect your lower extremities.  My hands, wrists, and shoulders are also affected.  When I tried a normal cane, it was agonizingly painful for my hand and wrist in particular.  That made it not worth using, even though it did help my hip and back.  A friend with similar issues recommended this one, and the difference was amazing.  It is still a bit hard on my hand after awhile, but not to the point that would make it not worth using.  There really is no perfect solution for this circumstance short of a wheelchair, and I&#x27;m nowhere near ready for that yet!  The forearm rest makes it bearable to use this cane, and it does really help me to walk longer distances when I need to!  It is a great product, and I&#x27;m happy that I purchased it!&quot;                                                                               </td><td style=\"text-align: right;\">       4</td><td style=\"text-align: right;\">       1</td><td style=\"text-align: right;\"> 0.085436 </td><td style=\"text-align: right;\"> 0.0508958 </td><td style=\"text-align: right;\"> 0.0186185 </td><td style=\"text-align: right;\">0.0583147</td><td style=\"text-align: right;\">-0.0745284 </td><td style=\"text-align: right;\">-0.0761244</td><td style=\"text-align: right;\">-0.0174958 </td><td style=\"text-align: right;\">-0.0223464</td><td style=\"text-align: right;\"> 0.0267964 </td><td style=\"text-align: right;\">-0.0304098</td><td style=\"text-align: right;\">-0.0707764 </td><td style=\"text-align: right;\">-0.00228045</td><td style=\"text-align: right;\">-0.0476601 </td><td style=\"text-align: right;\">-0.0612581 </td><td style=\"text-align: right;\">-0.0581876 </td><td style=\"text-align: right;\">0.00124037</td><td style=\"text-align: right;\"> 0.0360902</td><td style=\"text-align: right;\"> 0.0853977</td><td style=\"text-align: right;\"> 0.0130485 </td><td style=\"text-align: right;\">-0.124572 </td><td style=\"text-align: right;\">-0.102072  </td><td style=\"text-align: right;\"> 0.01919   </td><td style=\"text-align: right;\"> 0.0960911  </td><td style=\"text-align: right;\"> 0.0334078 </td><td style=\"text-align: right;\">-0.0642531</td><td style=\"text-align: right;\"> 0.0155678  </td><td style=\"text-align: right;\"> 0.0196571</td><td style=\"text-align: right;\">-0.178992 </td><td style=\"text-align: right;\">-0.093847  </td><td style=\"text-align: right;\">-0.192452</td><td style=\"text-align: right;\"> 0.0674805 </td><td style=\"text-align: right;\">0.128777  </td><td style=\"text-align: right;\">-0.203268 </td><td style=\"text-align: right;\">0.169954 </td><td style=\"text-align: right;\"> 0.0345157  </td><td style=\"text-align: right;\">-0.173959 </td><td style=\"text-align: right;\">-0.186293   </td><td style=\"text-align: right;\">-0.0247576 </td><td style=\"text-align: right;\"> 0.0468401</td><td style=\"text-align: right;\">-0.136851 </td><td style=\"text-align: right;\">-0.024132 </td><td style=\"text-align: right;\"> 0.0688665</td><td style=\"text-align: right;\"> 0.0107246</td><td style=\"text-align: right;\"> 0.158996   </td><td style=\"text-align: right;\">-0.0690491 </td><td style=\"text-align: right;\"> 0.0800815  </td><td style=\"text-align: right;\"> 0.00216258</td><td style=\"text-align: right;\"> 0.0743538</td><td style=\"text-align: right;\">-0.00195585</td><td style=\"text-align: right;\">-0.137549   </td><td style=\"text-align: right;\"> 0.205385  </td><td style=\"text-align: right;\"> 0.13209   </td><td style=\"text-align: right;\"> 0.000921493</td><td style=\"text-align: right;\">-0.0627629</td><td style=\"text-align: right;\">-0.0782674 </td><td style=\"text-align: right;\">-0.0092924 </td><td style=\"text-align: right;\">-0.092422 </td><td style=\"text-align: right;\">-0.0828957</td><td style=\"text-align: right;\"> 0.0181861 </td><td style=\"text-align: right;\"> 0.0339348 </td><td style=\"text-align: right;\">-0.0523736</td><td style=\"text-align: right;\">0.0741674</td><td style=\"text-align: right;\">0.0237966</td><td style=\"text-align: right;\"> 0.0236778 </td><td style=\"text-align: right;\">-0.0815716 </td><td style=\"text-align: right;\"> 0.022091  </td><td style=\"text-align: right;\"> 0.133937  </td><td style=\"text-align: right;\"> 0.135247 </td><td style=\"text-align: right;\">-0.00434185</td><td style=\"text-align: right;\"> 0.0704425 </td><td style=\"text-align: right;\">-0.0355264 </td><td style=\"text-align: right;\">-0.0553635</td><td style=\"text-align: right;\">-0.120524  </td><td style=\"text-align: right;\">-0.0301111  </td><td style=\"text-align: right;\"> 0.0174175 </td><td style=\"text-align: right;\"> 0.0133081 </td><td style=\"text-align: right;\"> 0.111866 </td><td style=\"text-align: right;\"> 0.0135521  </td><td style=\"text-align: right;\"> 0.0362401 </td><td style=\"text-align: right;\"> 0.000399388</td><td style=\"text-align: right;\">-0.0721557 </td><td style=\"text-align: right;\"> 0.0505048 </td><td style=\"text-align: right;\"> 0.0479321 </td><td style=\"text-align: right;\">-0.126424  </td><td style=\"text-align: right;\"> 0.0989298 </td><td style=\"text-align: right;\"> 0.0546801 </td><td style=\"text-align: right;\"> 0.142276   </td><td style=\"text-align: right;\"> 0.00278382</td><td style=\"text-align: right;\"> 0.0808943</td><td style=\"text-align: right;\">0.158511 </td><td style=\"text-align: right;\">-0.0293933</td><td style=\"text-align: right;\"> 0.110676 </td><td style=\"text-align: right;\"> 0.0807834 </td><td style=\"text-align: right;\"> 0.161657 </td><td style=\"text-align: right;\"> 0.0403566</td><td style=\"text-align: right;\"> 0.0179972 </td><td style=\"text-align: right;\">-0.00842328</td><td style=\"text-align: right;\"> 0.0437053</td><td style=\"text-align: right;\">-0.0327088</td><td style=\"text-align: right;\"> 0.0797948 </td><td style=\"text-align: right;\">  0.0510377  </td><td style=\"text-align: right;\">  -0.119845  </td><td style=\"text-align: right;\">    0.0291927</td><td style=\"text-align: right;\">    0.0570843</td><td style=\"text-align: right;\">  -0.256652  </td><td style=\"text-align: right;\">   0.0699352 </td><td style=\"text-align: right;\">    0.0127863</td><td style=\"text-align: right;\">   0.012984  </td><td style=\"text-align: right;\">    0.0947972</td><td style=\"text-align: right;\">    -0.0556156</td><td style=\"text-align: right;\">    -0.0943174</td><td style=\"text-align: right;\">    -0.0929756</td><td style=\"text-align: right;\">    -0.0689928</td><td style=\"text-align: right;\">    -0.0768378</td><td style=\"text-align: right;\">    -0.0824696</td><td style=\"text-align: right;\">   -0.0267193 </td><td style=\"text-align: right;\">    -0.0253253</td><td style=\"text-align: right;\">    0.0461454 </td><td style=\"text-align: right;\">   0.0143577  </td><td style=\"text-align: right;\">    -0.181194 </td><td style=\"text-align: right;\">    -0.0258957</td><td style=\"text-align: right;\">    -0.0271938</td><td style=\"text-align: right;\">    0.0291715 </td><td style=\"text-align: right;\">    -0.0500176</td><td style=\"text-align: right;\">    -0.128334 </td><td style=\"text-align: right;\">    -0.0836705</td><td style=\"text-align: right;\">    0.0495759 </td><td style=\"text-align: right;\">   -0.339292  </td><td style=\"text-align: right;\">    -0.160442 </td><td style=\"text-align: right;\">   -0.141359  </td><td style=\"text-align: right;\">    -0.0369321</td><td style=\"text-align: right;\">     0.105847 </td><td style=\"text-align: right;\">   -0.386596  </td><td style=\"text-align: right;\">     0.120775 </td><td style=\"text-align: right;\">     0.140116 </td><td style=\"text-align: right;\">    -0.227569 </td><td style=\"text-align: right;\">   -0.261149  </td><td style=\"text-align: right;\">     0.0289363</td><td style=\"text-align: right;\">    0.00712327</td><td style=\"text-align: right;\">    -0.0409354</td><td style=\"text-align: right;\">   -0.026729  </td><td style=\"text-align: right;\">   -0.0450415 </td><td style=\"text-align: right;\">    0.0652848 </td><td style=\"text-align: right;\">     0.159258 </td><td style=\"text-align: right;\">    -0.0244496</td><td style=\"text-align: right;\">    0.0415613 </td><td style=\"text-align: right;\">    -0.0254341</td><td style=\"text-align: right;\">     0.0787258</td><td style=\"text-align: right;\">    0.00204203</td><td style=\"text-align: right;\">    -0.239393 </td><td style=\"text-align: right;\">     0.0120684</td><td style=\"text-align: right;\">     0.179743 </td><td style=\"text-align: right;\">    -0.0342595</td><td style=\"text-align: right;\">    -0.0843162</td><td style=\"text-align: right;\">   -0.0960009 </td><td style=\"text-align: right;\">    0.0962021 </td><td style=\"text-align: right;\">   -0.0922081 </td><td style=\"text-align: right;\">   -0.0419098 </td><td style=\"text-align: right;\">    -0.0414044</td><td style=\"text-align: right;\">     0.0445602</td><td style=\"text-align: right;\">   -0.0861619 </td><td style=\"text-align: right;\">    -0.0173364</td><td style=\"text-align: right;\">    -0.0327451</td><td style=\"text-align: right;\">    0.0768954 </td><td style=\"text-align: right;\">   -0.124543  </td><td style=\"text-align: right;\">    0.00330194</td><td style=\"text-align: right;\">     0.223827 </td><td style=\"text-align: right;\">     0.142092 </td><td style=\"text-align: right;\">   -0.0508571 </td><td style=\"text-align: right;\">     0.0415816</td><td style=\"text-align: right;\">    -0.0227113</td><td style=\"text-align: right;\">     0.0189124</td><td style=\"text-align: right;\">    -0.149046 </td><td style=\"text-align: right;\">     0.0189566</td><td style=\"text-align: right;\">    0.00126621</td><td style=\"text-align: right;\">     0.0229646</td><td style=\"text-align: right;\">     0.205799 </td><td style=\"text-align: right;\">    0.0174924 </td><td style=\"text-align: right;\">   0.043534   </td><td style=\"text-align: right;\">    -0.0625501</td><td style=\"text-align: right;\">    -0.0789617</td><td style=\"text-align: right;\">    0.147443  </td><td style=\"text-align: right;\">     0.0443597</td><td style=\"text-align: right;\">    -0.211494 </td><td style=\"text-align: right;\">     0.07434  </td><td style=\"text-align: right;\">    0.0742316 </td><td style=\"text-align: right;\">     0.158858 </td><td style=\"text-align: right;\">    0.00519642</td><td style=\"text-align: right;\">  -0.0357335  </td><td style=\"text-align: right;\">     0.215755 </td><td style=\"text-align: right;\">    -0.0251679</td><td style=\"text-align: right;\">   0.0351662  </td><td style=\"text-align: right;\">     0.181607 </td><td style=\"text-align: right;\">     0.204433 </td><td style=\"text-align: right;\">    -0.0159365</td><td style=\"text-align: right;\">    -0.0355138</td><td style=\"text-align: right;\">    0.10167   </td><td style=\"text-align: right;\">     0.0196471</td><td style=\"text-align: right;\">    -0.178414 </td><td style=\"text-align: right;\">      0.141573 </td></tr>\n",
              "</tbody>\n",
              "</table>"
            ]
          },
          "metadata": {
            "tags": []
          }
        },
        {
          "output_type": "execute_result",
          "data": {
            "text/plain": [
              ""
            ]
          },
          "metadata": {
            "tags": []
          },
          "execution_count": 69
        }
      ]
    },
    {
      "cell_type": "code",
      "metadata": {
        "id": "4PGPyITyxz8G"
      },
      "source": [
        ""
      ],
      "execution_count": 69,
      "outputs": []
    },
    {
      "cell_type": "code",
      "metadata": {
        "id": "IQwJ2zQItSDt"
      },
      "source": [
        "gbm_all_cols = H2OGradientBoostingEstimator(stopping_metric = \"AUC\", stopping_tolerance = 0.001,\n",
        "                                              stopping_rounds = 5, score_tree_interval = 10\n",
        "                                             )"
      ],
      "execution_count": 70,
      "outputs": []
    },
    {
      "cell_type": "code",
      "metadata": {
        "colab": {
          "base_uri": "https://localhost:8080/"
        },
        "id": "iMKewzgixiQs",
        "outputId": "cfde5b53-118d-4a90-cfa2-fb2741acfea1"
      },
      "source": [
        "gbm_all_cols.train(x=['votes']+headline_vecs.names+review_vecs.names, y='target', training_frame = h2o_train, validation_frame=h2o_valid)"
      ],
      "execution_count": 71,
      "outputs": [
        {
          "output_type": "stream",
          "text": [
            "gbm Model Build progress: |███████████████████████████████████████████████| 100%\n"
          ],
          "name": "stdout"
        }
      ]
    },
    {
      "cell_type": "code",
      "metadata": {
        "id": "u1ePUX3VxmaM"
      },
      "source": [
        "gbm_all_cols = H2OGradientBoostingEstimator(stopping_metric = \"AUC\", stopping_tolerance = 0.001,\n",
        "                                              stopping_rounds = 5, score_tree_interval = 10\n",
        "                                             )"
      ],
      "execution_count": 72,
      "outputs": []
    },
    {
      "cell_type": "code",
      "metadata": {
        "colab": {
          "base_uri": "https://localhost:8080/"
        },
        "id": "XsntzyXFyg65",
        "outputId": "24d3fd8a-9525-4f24-d852-302bd3493e53"
      },
      "source": [
        "gbm_all_cols.train(x=['votes']+headline_vecs.names+review_vecs.names, y='target', training_frame = h2o_train, validation_frame=h2o_valid)"
      ],
      "execution_count": 73,
      "outputs": [
        {
          "output_type": "stream",
          "text": [
            "gbm Model Build progress: |███████████████████████████████████████████████| 100%\n"
          ],
          "name": "stdout"
        }
      ]
    },
    {
      "cell_type": "code",
      "metadata": {
        "colab": {
          "base_uri": "https://localhost:8080/"
        },
        "id": "lFg_RK6Oyjjs",
        "outputId": "11732bc0-3a1b-4f31-fd49-c2d98d8af83d"
      },
      "source": [
        "print(\" All Columns AUC: \" + str(round(gbm_all_cols.auc(valid = True), 3)))"
      ],
      "execution_count": 74,
      "outputs": [
        {
          "output_type": "stream",
          "text": [
            " All Columns AUC: 0.925\n"
          ],
          "name": "stdout"
        }
      ]
    },
    {
      "cell_type": "code",
      "metadata": {
        "colab": {
          "base_uri": "https://localhost:8080/",
          "height": 176
        },
        "id": "LHuwyJS-zrkf",
        "outputId": "bcb15388-82b6-44de-c6c0-c496896d67e8"
      },
      "source": [
        "gbm_all_cols.confusion_matrix(valid=True)"
      ],
      "execution_count": 75,
      "outputs": [
        {
          "output_type": "stream",
          "text": [
            "\n",
            "Confusion Matrix (Act/Pred) for max f1 @ threshold = 0.5613193893909637: \n"
          ],
          "name": "stdout"
        },
        {
          "output_type": "display_data",
          "data": {
            "text/html": [
              "<div>\n",
              "<style scoped>\n",
              "    .dataframe tbody tr th:only-of-type {\n",
              "        vertical-align: middle;\n",
              "    }\n",
              "\n",
              "    .dataframe tbody tr th {\n",
              "        vertical-align: top;\n",
              "    }\n",
              "\n",
              "    .dataframe thead th {\n",
              "        text-align: right;\n",
              "    }\n",
              "</style>\n",
              "<table border=\"1\" class=\"dataframe\">\n",
              "  <thead>\n",
              "    <tr style=\"text-align: right;\">\n",
              "      <th></th>\n",
              "      <th></th>\n",
              "      <th>0</th>\n",
              "      <th>1</th>\n",
              "      <th>Error</th>\n",
              "      <th>Rate</th>\n",
              "    </tr>\n",
              "  </thead>\n",
              "  <tbody>\n",
              "    <tr>\n",
              "      <th>0</th>\n",
              "      <td>0</td>\n",
              "      <td>3227.0</td>\n",
              "      <td>1526.0</td>\n",
              "      <td>0.3211</td>\n",
              "      <td>(1526.0/4753.0)</td>\n",
              "    </tr>\n",
              "    <tr>\n",
              "      <th>1</th>\n",
              "      <td>1</td>\n",
              "      <td>672.0</td>\n",
              "      <td>11796.0</td>\n",
              "      <td>0.0539</td>\n",
              "      <td>(672.0/12468.0)</td>\n",
              "    </tr>\n",
              "    <tr>\n",
              "      <th>2</th>\n",
              "      <td>Total</td>\n",
              "      <td>3899.0</td>\n",
              "      <td>13322.0</td>\n",
              "      <td>0.1276</td>\n",
              "      <td>(2198.0/17221.0)</td>\n",
              "    </tr>\n",
              "  </tbody>\n",
              "</table>\n",
              "</div>"
            ],
            "text/plain": [
              "               0        1   Error               Rate\n",
              "0      0  3227.0   1526.0  0.3211    (1526.0/4753.0)\n",
              "1      1   672.0  11796.0  0.0539    (672.0/12468.0)\n",
              "2  Total  3899.0  13322.0  0.1276   (2198.0/17221.0)"
            ]
          },
          "metadata": {
            "tags": []
          }
        },
        {
          "output_type": "execute_result",
          "data": {
            "text/plain": [
              ""
            ]
          },
          "metadata": {
            "tags": []
          },
          "execution_count": 75
        }
      ]
    },
    {
      "cell_type": "code",
      "metadata": {
        "colab": {
          "base_uri": "https://localhost:8080/",
          "height": 459
        },
        "id": "WMr4o8WAzt2n",
        "outputId": "f1813619-6ef6-4c0a-9583-5ca9457ef548"
      },
      "source": [
        "gbm_all_cols.score_history()"
      ],
      "execution_count": 76,
      "outputs": [
        {
          "output_type": "execute_result",
          "data": {
            "text/html": [
              "<div>\n",
              "<style scoped>\n",
              "    .dataframe tbody tr th:only-of-type {\n",
              "        vertical-align: middle;\n",
              "    }\n",
              "\n",
              "    .dataframe tbody tr th {\n",
              "        vertical-align: top;\n",
              "    }\n",
              "\n",
              "    .dataframe thead th {\n",
              "        text-align: right;\n",
              "    }\n",
              "</style>\n",
              "<table border=\"1\" class=\"dataframe\">\n",
              "  <thead>\n",
              "    <tr style=\"text-align: right;\">\n",
              "      <th></th>\n",
              "      <th></th>\n",
              "      <th>timestamp</th>\n",
              "      <th>duration</th>\n",
              "      <th>number_of_trees</th>\n",
              "      <th>training_rmse</th>\n",
              "      <th>training_logloss</th>\n",
              "      <th>training_auc</th>\n",
              "      <th>training_pr_auc</th>\n",
              "      <th>training_lift</th>\n",
              "      <th>training_classification_error</th>\n",
              "      <th>validation_rmse</th>\n",
              "      <th>validation_logloss</th>\n",
              "      <th>validation_auc</th>\n",
              "      <th>validation_pr_auc</th>\n",
              "      <th>validation_lift</th>\n",
              "      <th>validation_classification_error</th>\n",
              "    </tr>\n",
              "  </thead>\n",
              "  <tbody>\n",
              "    <tr>\n",
              "      <th>0</th>\n",
              "      <td></td>\n",
              "      <td>2021-08-05 15:04:23</td>\n",
              "      <td>0.009 sec</td>\n",
              "      <td>0.0</td>\n",
              "      <td>0.444776</td>\n",
              "      <td>0.584826</td>\n",
              "      <td>0.500000</td>\n",
              "      <td>0.728418</td>\n",
              "      <td>1.000000</td>\n",
              "      <td>0.271582</td>\n",
              "      <td>0.447039</td>\n",
              "      <td>0.589185</td>\n",
              "      <td>0.500000</td>\n",
              "      <td>0.724000</td>\n",
              "      <td>1.000000</td>\n",
              "      <td>0.276000</td>\n",
              "    </tr>\n",
              "    <tr>\n",
              "      <th>1</th>\n",
              "      <td></td>\n",
              "      <td>2021-08-05 15:04:32</td>\n",
              "      <td>8.783 sec</td>\n",
              "      <td>10.0</td>\n",
              "      <td>0.365831</td>\n",
              "      <td>0.430313</td>\n",
              "      <td>0.892031</td>\n",
              "      <td>0.953840</td>\n",
              "      <td>1.372232</td>\n",
              "      <td>0.154610</td>\n",
              "      <td>0.368673</td>\n",
              "      <td>0.435361</td>\n",
              "      <td>0.884789</td>\n",
              "      <td>0.948600</td>\n",
              "      <td>1.376550</td>\n",
              "      <td>0.158237</td>\n",
              "    </tr>\n",
              "    <tr>\n",
              "      <th>2</th>\n",
              "      <td></td>\n",
              "      <td>2021-08-05 15:04:40</td>\n",
              "      <td>16.881 sec</td>\n",
              "      <td>20.0</td>\n",
              "      <td>0.335274</td>\n",
              "      <td>0.371488</td>\n",
              "      <td>0.913708</td>\n",
              "      <td>0.963738</td>\n",
              "      <td>1.372839</td>\n",
              "      <td>0.138002</td>\n",
              "      <td>0.339806</td>\n",
              "      <td>0.379080</td>\n",
              "      <td>0.905411</td>\n",
              "      <td>0.958075</td>\n",
              "      <td>1.374275</td>\n",
              "      <td>0.145694</td>\n",
              "    </tr>\n",
              "    <tr>\n",
              "      <th>3</th>\n",
              "      <td></td>\n",
              "      <td>2021-08-05 15:04:48</td>\n",
              "      <td>24.926 sec</td>\n",
              "      <td>30.0</td>\n",
              "      <td>0.318209</td>\n",
              "      <td>0.337460</td>\n",
              "      <td>0.924149</td>\n",
              "      <td>0.968201</td>\n",
              "      <td>1.372839</td>\n",
              "      <td>0.128941</td>\n",
              "      <td>0.324848</td>\n",
              "      <td>0.348193</td>\n",
              "      <td>0.914728</td>\n",
              "      <td>0.962419</td>\n",
              "      <td>1.373232</td>\n",
              "      <td>0.138378</td>\n",
              "    </tr>\n",
              "    <tr>\n",
              "      <th>4</th>\n",
              "      <td></td>\n",
              "      <td>2021-08-05 15:04:56</td>\n",
              "      <td>33.007 sec</td>\n",
              "      <td>40.0</td>\n",
              "      <td>0.306770</td>\n",
              "      <td>0.314668</td>\n",
              "      <td>0.931978</td>\n",
              "      <td>0.971708</td>\n",
              "      <td>1.372839</td>\n",
              "      <td>0.122935</td>\n",
              "      <td>0.315729</td>\n",
              "      <td>0.328678</td>\n",
              "      <td>0.921300</td>\n",
              "      <td>0.965868</td>\n",
              "      <td>1.381216</td>\n",
              "      <td>0.133616</td>\n",
              "    </tr>\n",
              "    <tr>\n",
              "      <th>5</th>\n",
              "      <td></td>\n",
              "      <td>2021-08-05 15:05:04</td>\n",
              "      <td>41.031 sec</td>\n",
              "      <td>50.0</td>\n",
              "      <td>0.298520</td>\n",
              "      <td>0.298545</td>\n",
              "      <td>0.937468</td>\n",
              "      <td>0.974058</td>\n",
              "      <td>1.372839</td>\n",
              "      <td>0.116987</td>\n",
              "      <td>0.309733</td>\n",
              "      <td>0.315978</td>\n",
              "      <td>0.925266</td>\n",
              "      <td>0.967592</td>\n",
              "      <td>1.381216</td>\n",
              "      <td>0.127635</td>\n",
              "    </tr>\n",
              "  </tbody>\n",
              "</table>\n",
              "</div>"
            ],
            "text/plain": [
              "               timestamp  ... validation_lift  validation_classification_error\n",
              "0    2021-08-05 15:04:23  ...        1.000000                         0.276000\n",
              "1    2021-08-05 15:04:32  ...        1.376550                         0.158237\n",
              "2    2021-08-05 15:04:40  ...        1.374275                         0.145694\n",
              "3    2021-08-05 15:04:48  ...        1.373232                         0.138378\n",
              "4    2021-08-05 15:04:56  ...        1.381216                         0.133616\n",
              "5    2021-08-05 15:05:04  ...        1.381216                         0.127635\n",
              "\n",
              "[6 rows x 16 columns]"
            ]
          },
          "metadata": {
            "tags": []
          },
          "execution_count": 76
        }
      ]
    },
    {
      "cell_type": "code",
      "metadata": {
        "colab": {
          "base_uri": "https://localhost:8080/",
          "height": 612
        },
        "id": "u_uY5-sdzwTQ",
        "outputId": "7e429fdc-ec35-4535-a93e-633172205578"
      },
      "source": [
        "gbm_all_cols.varimp_plot()"
      ],
      "execution_count": 77,
      "outputs": [
        {
          "output_type": "display_data",
          "data": {
            "image/png": "[encoded data removed]",
            "text/plain": [
              "<Figure size 1008x720 with 1 Axes>"
            ]
          },
          "metadata": {
            "tags": [],
            "needs_background": "light"
          }
        }
      ]
    },
    {
      "cell_type": "code",
      "metadata": {
        "id": "t1nFiAHAzyse"
      },
      "source": [
        "gbm_hyperparameters = H2OGradientBoostingEstimator(ntrees=100,\n",
        "                                              max_depth = 6,  learn_rate=0.1\n",
        "                                             )"
      ],
      "execution_count": 78,
      "outputs": []
    },
    {
      "cell_type": "code",
      "metadata": {
        "colab": {
          "base_uri": "https://localhost:8080/"
        },
        "id": "oGLdXHM0z1sn",
        "outputId": "57e9d9a4-4d41-4990-b853-ab2a5b0b12a6"
      },
      "source": [
        "gbm_hyperparameters.train(x=headline_vecs.names+review_vecs.names, y='target', training_frame = h2o_train, validation_frame=h2o_valid)"
      ],
      "execution_count": 79,
      "outputs": [
        {
          "output_type": "stream",
          "text": [
            "gbm Model Build progress: |███████████████████████████████████████████████| 100%\n"
          ],
          "name": "stdout"
        }
      ]
    },
    {
      "cell_type": "code",
      "metadata": {
        "id": "E9301Squz41F"
      },
      "source": [
        "# above we are removing votes column and checking the accuracy as votes dont contribute much"
      ],
      "execution_count": 80,
      "outputs": []
    },
    {
      "cell_type": "code",
      "metadata": {
        "colab": {
          "base_uri": "https://localhost:8080/"
        },
        "id": "v1LKPpDK0jxT",
        "outputId": "1e682d04-75b6-4cf4-c2de-a55d19818232"
      },
      "source": [
        "print(\" Hyperparameter AUC: \" + str(round(gbm_hyperparameters.auc(valid = True), 3)))\n"
      ],
      "execution_count": 81,
      "outputs": [
        {
          "output_type": "stream",
          "text": [
            " Hyperparameter AUC: 0.936\n"
          ],
          "name": "stdout"
        }
      ]
    },
    {
      "cell_type": "code",
      "metadata": {
        "id": "5LkaPshg0lNP"
      },
      "source": [
        "# above from 0.92 it has increased to .93 and there is an improvement in score and increasing the number of trees make increase in accuracy"
      ],
      "execution_count": 82,
      "outputs": []
    },
    {
      "cell_type": "code",
      "metadata": {
        "colab": {
          "base_uri": "https://localhost:8080/",
          "height": 176
        },
        "id": "sPH-i5bX0txt",
        "outputId": "36bdae0c-6d33-4321-a388-1a2719436e6c"
      },
      "source": [
        "gbm_hyperparameters.confusion_matrix(valid=True)"
      ],
      "execution_count": 83,
      "outputs": [
        {
          "output_type": "stream",
          "text": [
            "\n",
            "Confusion Matrix (Act/Pred) for max f1 @ threshold = 0.5510734099369972: \n"
          ],
          "name": "stdout"
        },
        {
          "output_type": "display_data",
          "data": {
            "text/html": [
              "<div>\n",
              "<style scoped>\n",
              "    .dataframe tbody tr th:only-of-type {\n",
              "        vertical-align: middle;\n",
              "    }\n",
              "\n",
              "    .dataframe tbody tr th {\n",
              "        vertical-align: top;\n",
              "    }\n",
              "\n",
              "    .dataframe thead th {\n",
              "        text-align: right;\n",
              "    }\n",
              "</style>\n",
              "<table border=\"1\" class=\"dataframe\">\n",
              "  <thead>\n",
              "    <tr style=\"text-align: right;\">\n",
              "      <th></th>\n",
              "      <th></th>\n",
              "      <th>0</th>\n",
              "      <th>1</th>\n",
              "      <th>Error</th>\n",
              "      <th>Rate</th>\n",
              "    </tr>\n",
              "  </thead>\n",
              "  <tbody>\n",
              "    <tr>\n",
              "      <th>0</th>\n",
              "      <td>0</td>\n",
              "      <td>3453.0</td>\n",
              "      <td>1300.0</td>\n",
              "      <td>0.2735</td>\n",
              "      <td>(1300.0/4753.0)</td>\n",
              "    </tr>\n",
              "    <tr>\n",
              "      <th>1</th>\n",
              "      <td>1</td>\n",
              "      <td>723.0</td>\n",
              "      <td>11745.0</td>\n",
              "      <td>0.058</td>\n",
              "      <td>(723.0/12468.0)</td>\n",
              "    </tr>\n",
              "    <tr>\n",
              "      <th>2</th>\n",
              "      <td>Total</td>\n",
              "      <td>4176.0</td>\n",
              "      <td>13045.0</td>\n",
              "      <td>0.1175</td>\n",
              "      <td>(2023.0/17221.0)</td>\n",
              "    </tr>\n",
              "  </tbody>\n",
              "</table>\n",
              "</div>"
            ],
            "text/plain": [
              "               0        1   Error               Rate\n",
              "0      0  3453.0   1300.0  0.2735    (1300.0/4753.0)\n",
              "1      1   723.0  11745.0   0.058    (723.0/12468.0)\n",
              "2  Total  4176.0  13045.0  0.1175   (2023.0/17221.0)"
            ]
          },
          "metadata": {
            "tags": []
          }
        },
        {
          "output_type": "execute_result",
          "data": {
            "text/plain": [
              ""
            ]
          },
          "metadata": {
            "tags": []
          },
          "execution_count": 83
        }
      ]
    },
    {
      "cell_type": "code",
      "metadata": {
        "colab": {
          "base_uri": "https://localhost:8080/",
          "height": 1000
        },
        "id": "Slu5JpwV05gc",
        "outputId": "dc1e253e-f900-4f39-a637-f14ed3cae982"
      },
      "source": [
        "gbm_hyperparameters.score_history()"
      ],
      "execution_count": 84,
      "outputs": [
        {
          "output_type": "execute_result",
          "data": {
            "text/html": [
              "<div>\n",
              "<style scoped>\n",
              "    .dataframe tbody tr th:only-of-type {\n",
              "        vertical-align: middle;\n",
              "    }\n",
              "\n",
              "    .dataframe tbody tr th {\n",
              "        vertical-align: top;\n",
              "    }\n",
              "\n",
              "    .dataframe thead th {\n",
              "        text-align: right;\n",
              "    }\n",
              "</style>\n",
              "<table border=\"1\" class=\"dataframe\">\n",
              "  <thead>\n",
              "    <tr style=\"text-align: right;\">\n",
              "      <th></th>\n",
              "      <th></th>\n",
              "      <th>timestamp</th>\n",
              "      <th>duration</th>\n",
              "      <th>number_of_trees</th>\n",
              "      <th>training_rmse</th>\n",
              "      <th>training_logloss</th>\n",
              "      <th>training_auc</th>\n",
              "      <th>training_pr_auc</th>\n",
              "      <th>training_lift</th>\n",
              "      <th>training_classification_error</th>\n",
              "      <th>validation_rmse</th>\n",
              "      <th>validation_logloss</th>\n",
              "      <th>validation_auc</th>\n",
              "      <th>validation_pr_auc</th>\n",
              "      <th>validation_lift</th>\n",
              "      <th>validation_classification_error</th>\n",
              "    </tr>\n",
              "  </thead>\n",
              "  <tbody>\n",
              "    <tr>\n",
              "      <th>0</th>\n",
              "      <td></td>\n",
              "      <td>2021-08-05 15:05:23</td>\n",
              "      <td>0.003 sec</td>\n",
              "      <td>0.0</td>\n",
              "      <td>0.444776</td>\n",
              "      <td>0.584826</td>\n",
              "      <td>0.500000</td>\n",
              "      <td>0.728418</td>\n",
              "      <td>1.000000</td>\n",
              "      <td>0.271582</td>\n",
              "      <td>0.447039</td>\n",
              "      <td>0.589185</td>\n",
              "      <td>0.500000</td>\n",
              "      <td>0.724000</td>\n",
              "      <td>1.000000</td>\n",
              "      <td>0.276000</td>\n",
              "    </tr>\n",
              "    <tr>\n",
              "      <th>1</th>\n",
              "      <td></td>\n",
              "      <td>2021-08-05 15:05:25</td>\n",
              "      <td>1.316 sec</td>\n",
              "      <td>1.0</td>\n",
              "      <td>0.430376</td>\n",
              "      <td>0.554041</td>\n",
              "      <td>0.834426</td>\n",
              "      <td>0.925579</td>\n",
              "      <td>1.363386</td>\n",
              "      <td>0.186475</td>\n",
              "      <td>0.432693</td>\n",
              "      <td>0.558380</td>\n",
              "      <td>0.828902</td>\n",
              "      <td>0.921465</td>\n",
              "      <td>1.368448</td>\n",
              "      <td>0.192556</td>\n",
              "    </tr>\n",
              "    <tr>\n",
              "      <th>2</th>\n",
              "      <td></td>\n",
              "      <td>2021-08-05 15:05:26</td>\n",
              "      <td>2.523 sec</td>\n",
              "      <td>2.0</td>\n",
              "      <td>0.417591</td>\n",
              "      <td>0.528391</td>\n",
              "      <td>0.860672</td>\n",
              "      <td>0.937385</td>\n",
              "      <td>1.366051</td>\n",
              "      <td>0.174316</td>\n",
              "      <td>0.420017</td>\n",
              "      <td>0.532864</td>\n",
              "      <td>0.853336</td>\n",
              "      <td>0.932881</td>\n",
              "      <td>1.371747</td>\n",
              "      <td>0.177806</td>\n",
              "    </tr>\n",
              "    <tr>\n",
              "      <th>3</th>\n",
              "      <td></td>\n",
              "      <td>2021-08-05 15:05:27</td>\n",
              "      <td>3.656 sec</td>\n",
              "      <td>3.0</td>\n",
              "      <td>0.406513</td>\n",
              "      <td>0.506972</td>\n",
              "      <td>0.872603</td>\n",
              "      <td>0.943675</td>\n",
              "      <td>1.368455</td>\n",
              "      <td>0.167219</td>\n",
              "      <td>0.409045</td>\n",
              "      <td>0.511596</td>\n",
              "      <td>0.864482</td>\n",
              "      <td>0.938755</td>\n",
              "      <td>1.374250</td>\n",
              "      <td>0.174670</td>\n",
              "    </tr>\n",
              "    <tr>\n",
              "      <th>4</th>\n",
              "      <td></td>\n",
              "      <td>2021-08-05 15:05:32</td>\n",
              "      <td>8.559 sec</td>\n",
              "      <td>8.0</td>\n",
              "      <td>0.368018</td>\n",
              "      <td>0.435050</td>\n",
              "      <td>0.896698</td>\n",
              "      <td>0.955760</td>\n",
              "      <td>1.372839</td>\n",
              "      <td>0.152341</td>\n",
              "      <td>0.372403</td>\n",
              "      <td>0.442712</td>\n",
              "      <td>0.884185</td>\n",
              "      <td>0.948612</td>\n",
              "      <td>1.375984</td>\n",
              "      <td>0.159863</td>\n",
              "    </tr>\n",
              "    <tr>\n",
              "      <th>5</th>\n",
              "      <td></td>\n",
              "      <td>2021-08-05 15:05:37</td>\n",
              "      <td>13.410 sec</td>\n",
              "      <td>13.0</td>\n",
              "      <td>0.344725</td>\n",
              "      <td>0.391459</td>\n",
              "      <td>0.912988</td>\n",
              "      <td>0.963193</td>\n",
              "      <td>1.372839</td>\n",
              "      <td>0.138613</td>\n",
              "      <td>0.351192</td>\n",
              "      <td>0.402193</td>\n",
              "      <td>0.899214</td>\n",
              "      <td>0.955777</td>\n",
              "      <td>1.381216</td>\n",
              "      <td>0.149411</td>\n",
              "    </tr>\n",
              "    <tr>\n",
              "      <th>6</th>\n",
              "      <td></td>\n",
              "      <td>2021-08-05 15:05:41</td>\n",
              "      <td>17.482 sec</td>\n",
              "      <td>17.0</td>\n",
              "      <td>0.331682</td>\n",
              "      <td>0.366315</td>\n",
              "      <td>0.920857</td>\n",
              "      <td>0.966777</td>\n",
              "      <td>1.372839</td>\n",
              "      <td>0.132039</td>\n",
              "      <td>0.340054</td>\n",
              "      <td>0.379862</td>\n",
              "      <td>0.905932</td>\n",
              "      <td>0.958836</td>\n",
              "      <td>1.381216</td>\n",
              "      <td>0.146159</td>\n",
              "    </tr>\n",
              "    <tr>\n",
              "      <th>7</th>\n",
              "      <td></td>\n",
              "      <td>2021-08-05 15:05:45</td>\n",
              "      <td>21.747 sec</td>\n",
              "      <td>21.0</td>\n",
              "      <td>0.321725</td>\n",
              "      <td>0.346910</td>\n",
              "      <td>0.926207</td>\n",
              "      <td>0.969073</td>\n",
              "      <td>1.370889</td>\n",
              "      <td>0.127865</td>\n",
              "      <td>0.331794</td>\n",
              "      <td>0.362928</td>\n",
              "      <td>0.910414</td>\n",
              "      <td>0.960714</td>\n",
              "      <td>1.373232</td>\n",
              "      <td>0.142849</td>\n",
              "    </tr>\n",
              "    <tr>\n",
              "      <th>8</th>\n",
              "      <td></td>\n",
              "      <td>2021-08-05 15:05:50</td>\n",
              "      <td>26.627 sec</td>\n",
              "      <td>26.0</td>\n",
              "      <td>0.311971</td>\n",
              "      <td>0.327908</td>\n",
              "      <td>0.932154</td>\n",
              "      <td>0.971728</td>\n",
              "      <td>1.371006</td>\n",
              "      <td>0.121611</td>\n",
              "      <td>0.324106</td>\n",
              "      <td>0.346962</td>\n",
              "      <td>0.915297</td>\n",
              "      <td>0.962912</td>\n",
              "      <td>1.374022</td>\n",
              "      <td>0.137507</td>\n",
              "    </tr>\n",
              "    <tr>\n",
              "      <th>9</th>\n",
              "      <td></td>\n",
              "      <td>2021-08-05 15:05:55</td>\n",
              "      <td>31.500 sec</td>\n",
              "      <td>31.0</td>\n",
              "      <td>0.304287</td>\n",
              "      <td>0.312778</td>\n",
              "      <td>0.936870</td>\n",
              "      <td>0.973820</td>\n",
              "      <td>1.370843</td>\n",
              "      <td>0.116885</td>\n",
              "      <td>0.318439</td>\n",
              "      <td>0.334766</td>\n",
              "      <td>0.918976</td>\n",
              "      <td>0.964748</td>\n",
              "      <td>1.373232</td>\n",
              "      <td>0.135184</td>\n",
              "    </tr>\n",
              "    <tr>\n",
              "      <th>10</th>\n",
              "      <td></td>\n",
              "      <td>2021-08-05 15:05:59</td>\n",
              "      <td>35.526 sec</td>\n",
              "      <td>35.0</td>\n",
              "      <td>0.298968</td>\n",
              "      <td>0.302711</td>\n",
              "      <td>0.940268</td>\n",
              "      <td>0.975302</td>\n",
              "      <td>1.370843</td>\n",
              "      <td>0.114209</td>\n",
              "      <td>0.314868</td>\n",
              "      <td>0.327244</td>\n",
              "      <td>0.921321</td>\n",
              "      <td>0.965712</td>\n",
              "      <td>1.373232</td>\n",
              "      <td>0.131351</td>\n",
              "    </tr>\n",
              "    <tr>\n",
              "      <th>11</th>\n",
              "      <td></td>\n",
              "      <td>2021-08-05 15:06:04</td>\n",
              "      <td>40.390 sec</td>\n",
              "      <td>40.0</td>\n",
              "      <td>0.293274</td>\n",
              "      <td>0.291982</td>\n",
              "      <td>0.943760</td>\n",
              "      <td>0.976766</td>\n",
              "      <td>1.370843</td>\n",
              "      <td>0.109177</td>\n",
              "      <td>0.311366</td>\n",
              "      <td>0.319826</td>\n",
              "      <td>0.923367</td>\n",
              "      <td>0.966781</td>\n",
              "      <td>1.381216</td>\n",
              "      <td>0.129435</td>\n",
              "    </tr>\n",
              "    <tr>\n",
              "      <th>12</th>\n",
              "      <td></td>\n",
              "      <td>2021-08-05 15:06:08</td>\n",
              "      <td>44.562 sec</td>\n",
              "      <td>44.0</td>\n",
              "      <td>0.288863</td>\n",
              "      <td>0.283741</td>\n",
              "      <td>0.946544</td>\n",
              "      <td>0.977979</td>\n",
              "      <td>1.370843</td>\n",
              "      <td>0.106763</td>\n",
              "      <td>0.308804</td>\n",
              "      <td>0.314215</td>\n",
              "      <td>0.925125</td>\n",
              "      <td>0.967591</td>\n",
              "      <td>1.381216</td>\n",
              "      <td>0.129609</td>\n",
              "    </tr>\n",
              "    <tr>\n",
              "      <th>13</th>\n",
              "      <td></td>\n",
              "      <td>2021-08-05 15:06:13</td>\n",
              "      <td>49.399 sec</td>\n",
              "      <td>49.0</td>\n",
              "      <td>0.284494</td>\n",
              "      <td>0.275584</td>\n",
              "      <td>0.949071</td>\n",
              "      <td>0.979076</td>\n",
              "      <td>1.372839</td>\n",
              "      <td>0.103607</td>\n",
              "      <td>0.306346</td>\n",
              "      <td>0.308728</td>\n",
              "      <td>0.926900</td>\n",
              "      <td>0.968455</td>\n",
              "      <td>1.381216</td>\n",
              "      <td>0.127925</td>\n",
              "    </tr>\n",
              "    <tr>\n",
              "      <th>14</th>\n",
              "      <td></td>\n",
              "      <td>2021-08-05 15:06:18</td>\n",
              "      <td>54.267 sec</td>\n",
              "      <td>54.0</td>\n",
              "      <td>0.280264</td>\n",
              "      <td>0.268027</td>\n",
              "      <td>0.951711</td>\n",
              "      <td>0.980205</td>\n",
              "      <td>1.372839</td>\n",
              "      <td>0.100509</td>\n",
              "      <td>0.304284</td>\n",
              "      <td>0.304283</td>\n",
              "      <td>0.928346</td>\n",
              "      <td>0.969021</td>\n",
              "      <td>1.373232</td>\n",
              "      <td>0.127635</td>\n",
              "    </tr>\n",
              "    <tr>\n",
              "      <th>15</th>\n",
              "      <td></td>\n",
              "      <td>2021-08-05 15:06:22</td>\n",
              "      <td>58.640 sec</td>\n",
              "      <td>58.0</td>\n",
              "      <td>0.277090</td>\n",
              "      <td>0.262332</td>\n",
              "      <td>0.953725</td>\n",
              "      <td>0.981076</td>\n",
              "      <td>1.372839</td>\n",
              "      <td>0.098342</td>\n",
              "      <td>0.302791</td>\n",
              "      <td>0.300988</td>\n",
              "      <td>0.929469</td>\n",
              "      <td>0.969601</td>\n",
              "      <td>1.373232</td>\n",
              "      <td>0.125544</td>\n",
              "    </tr>\n",
              "    <tr>\n",
              "      <th>16</th>\n",
              "      <td></td>\n",
              "      <td>2021-08-05 15:06:27</td>\n",
              "      <td>1 min  3.515 sec</td>\n",
              "      <td>63.0</td>\n",
              "      <td>0.273291</td>\n",
              "      <td>0.255793</td>\n",
              "      <td>0.956113</td>\n",
              "      <td>0.982086</td>\n",
              "      <td>1.372839</td>\n",
              "      <td>0.095928</td>\n",
              "      <td>0.301114</td>\n",
              "      <td>0.297556</td>\n",
              "      <td>0.930530</td>\n",
              "      <td>0.970078</td>\n",
              "      <td>1.381216</td>\n",
              "      <td>0.125138</td>\n",
              "    </tr>\n",
              "    <tr>\n",
              "      <th>17</th>\n",
              "      <td></td>\n",
              "      <td>2021-08-05 15:06:32</td>\n",
              "      <td>1 min  8.345 sec</td>\n",
              "      <td>68.0</td>\n",
              "      <td>0.270022</td>\n",
              "      <td>0.250180</td>\n",
              "      <td>0.958053</td>\n",
              "      <td>0.982925</td>\n",
              "      <td>1.372839</td>\n",
              "      <td>0.093557</td>\n",
              "      <td>0.299767</td>\n",
              "      <td>0.294653</td>\n",
              "      <td>0.931594</td>\n",
              "      <td>0.970543</td>\n",
              "      <td>1.381216</td>\n",
              "      <td>0.123106</td>\n",
              "    </tr>\n",
              "    <tr>\n",
              "      <th>18</th>\n",
              "      <td></td>\n",
              "      <td>2021-08-05 15:06:37</td>\n",
              "      <td>1 min 13.194 sec</td>\n",
              "      <td>73.0</td>\n",
              "      <td>0.266899</td>\n",
              "      <td>0.244968</td>\n",
              "      <td>0.959846</td>\n",
              "      <td>0.983674</td>\n",
              "      <td>1.372839</td>\n",
              "      <td>0.091274</td>\n",
              "      <td>0.298550</td>\n",
              "      <td>0.292097</td>\n",
              "      <td>0.932433</td>\n",
              "      <td>0.970931</td>\n",
              "      <td>1.381216</td>\n",
              "      <td>0.122176</td>\n",
              "    </tr>\n",
              "    <tr>\n",
              "      <th>19</th>\n",
              "      <td></td>\n",
              "      <td>2021-08-05 15:06:42</td>\n",
              "      <td>1 min 18.074 sec</td>\n",
              "      <td>78.0</td>\n",
              "      <td>0.263831</td>\n",
              "      <td>0.239868</td>\n",
              "      <td>0.961598</td>\n",
              "      <td>0.984407</td>\n",
              "      <td>1.372839</td>\n",
              "      <td>0.089180</td>\n",
              "      <td>0.297514</td>\n",
              "      <td>0.289724</td>\n",
              "      <td>0.933146</td>\n",
              "      <td>0.971184</td>\n",
              "      <td>1.381216</td>\n",
              "      <td>0.122815</td>\n",
              "    </tr>\n",
              "    <tr>\n",
              "      <th>20</th>\n",
              "      <td></td>\n",
              "      <td>2021-08-05 15:06:46</td>\n",
              "      <td>1 min 22.977 sec</td>\n",
              "      <td>83.0</td>\n",
              "      <td>0.261182</td>\n",
              "      <td>0.235328</td>\n",
              "      <td>0.963120</td>\n",
              "      <td>0.985061</td>\n",
              "      <td>1.372839</td>\n",
              "      <td>0.086547</td>\n",
              "      <td>0.296839</td>\n",
              "      <td>0.288050</td>\n",
              "      <td>0.933550</td>\n",
              "      <td>0.971395</td>\n",
              "      <td>1.381216</td>\n",
              "      <td>0.122351</td>\n",
              "    </tr>\n",
              "    <tr>\n",
              "      <th>21</th>\n",
              "      <td></td>\n",
              "      <td>2021-08-05 15:06:51</td>\n",
              "      <td>1 min 27.949 sec</td>\n",
              "      <td>88.0</td>\n",
              "      <td>0.258517</td>\n",
              "      <td>0.231053</td>\n",
              "      <td>0.964548</td>\n",
              "      <td>0.985653</td>\n",
              "      <td>1.372839</td>\n",
              "      <td>0.084729</td>\n",
              "      <td>0.296016</td>\n",
              "      <td>0.286351</td>\n",
              "      <td>0.934052</td>\n",
              "      <td>0.971695</td>\n",
              "      <td>1.381216</td>\n",
              "      <td>0.120028</td>\n",
              "    </tr>\n",
              "    <tr>\n",
              "      <th>22</th>\n",
              "      <td></td>\n",
              "      <td>2021-08-05 15:06:56</td>\n",
              "      <td>1 min 32.856 sec</td>\n",
              "      <td>93.0</td>\n",
              "      <td>0.255890</td>\n",
              "      <td>0.226930</td>\n",
              "      <td>0.965992</td>\n",
              "      <td>0.986262</td>\n",
              "      <td>1.372839</td>\n",
              "      <td>0.082970</td>\n",
              "      <td>0.295253</td>\n",
              "      <td>0.284808</td>\n",
              "      <td>0.934561</td>\n",
              "      <td>0.971892</td>\n",
              "      <td>1.381216</td>\n",
              "      <td>0.119912</td>\n",
              "    </tr>\n",
              "    <tr>\n",
              "      <th>23</th>\n",
              "      <td></td>\n",
              "      <td>2021-08-05 15:07:01</td>\n",
              "      <td>1 min 37.745 sec</td>\n",
              "      <td>98.0</td>\n",
              "      <td>0.253413</td>\n",
              "      <td>0.222925</td>\n",
              "      <td>0.967285</td>\n",
              "      <td>0.986806</td>\n",
              "      <td>1.372839</td>\n",
              "      <td>0.081704</td>\n",
              "      <td>0.294340</td>\n",
              "      <td>0.282926</td>\n",
              "      <td>0.935243</td>\n",
              "      <td>0.972218</td>\n",
              "      <td>1.381216</td>\n",
              "      <td>0.117995</td>\n",
              "    </tr>\n",
              "    <tr>\n",
              "      <th>24</th>\n",
              "      <td></td>\n",
              "      <td>2021-08-05 15:07:03</td>\n",
              "      <td>1 min 39.784 sec</td>\n",
              "      <td>100.0</td>\n",
              "      <td>0.252446</td>\n",
              "      <td>0.221415</td>\n",
              "      <td>0.967751</td>\n",
              "      <td>0.986990</td>\n",
              "      <td>1.372839</td>\n",
              "      <td>0.080963</td>\n",
              "      <td>0.293890</td>\n",
              "      <td>0.282110</td>\n",
              "      <td>0.935600</td>\n",
              "      <td>0.972356</td>\n",
              "      <td>1.381216</td>\n",
              "      <td>0.117473</td>\n",
              "    </tr>\n",
              "  </tbody>\n",
              "</table>\n",
              "</div>"
            ],
            "text/plain": [
              "                timestamp  ... validation_lift  validation_classification_error\n",
              "0     2021-08-05 15:05:23  ...        1.000000                         0.276000\n",
              "1     2021-08-05 15:05:25  ...        1.368448                         0.192556\n",
              "2     2021-08-05 15:05:26  ...        1.371747                         0.177806\n",
              "3     2021-08-05 15:05:27  ...        1.374250                         0.174670\n",
              "4     2021-08-05 15:05:32  ...        1.375984                         0.159863\n",
              "5     2021-08-05 15:05:37  ...        1.381216                         0.149411\n",
              "6     2021-08-05 15:05:41  ...        1.381216                         0.146159\n",
              "7     2021-08-05 15:05:45  ...        1.373232                         0.142849\n",
              "8     2021-08-05 15:05:50  ...        1.374022                         0.137507\n",
              "9     2021-08-05 15:05:55  ...        1.373232                         0.135184\n",
              "10    2021-08-05 15:05:59  ...        1.373232                         0.131351\n",
              "11    2021-08-05 15:06:04  ...        1.381216                         0.129435\n",
              "12    2021-08-05 15:06:08  ...        1.381216                         0.129609\n",
              "13    2021-08-05 15:06:13  ...        1.381216                         0.127925\n",
              "14    2021-08-05 15:06:18  ...        1.373232                         0.127635\n",
              "15    2021-08-05 15:06:22  ...        1.373232                         0.125544\n",
              "16    2021-08-05 15:06:27  ...        1.381216                         0.125138\n",
              "17    2021-08-05 15:06:32  ...        1.381216                         0.123106\n",
              "18    2021-08-05 15:06:37  ...        1.381216                         0.122176\n",
              "19    2021-08-05 15:06:42  ...        1.381216                         0.122815\n",
              "20    2021-08-05 15:06:46  ...        1.381216                         0.122351\n",
              "21    2021-08-05 15:06:51  ...        1.381216                         0.120028\n",
              "22    2021-08-05 15:06:56  ...        1.381216                         0.119912\n",
              "23    2021-08-05 15:07:01  ...        1.381216                         0.117995\n",
              "24    2021-08-05 15:07:03  ...        1.381216                         0.117473\n",
              "\n",
              "[25 rows x 16 columns]"
            ]
          },
          "metadata": {
            "tags": []
          },
          "execution_count": 84
        }
      ]
    },
    {
      "cell_type": "code",
      "metadata": {
        "id": "wvzoW6wg08bF"
      },
      "source": [
        "# we can use xg boost and try the accuracy\n",
        "xgb_all_feat = H2OXGBoostEstimator(ntrees = 100,learn_rate = 0.1, max_leaves = 6, tree_method=\"hist\",  grow_policy=\"lossguide\")"
      ],
      "execution_count": 85,
      "outputs": []
    },
    {
      "cell_type": "code",
      "metadata": {
        "colab": {
          "base_uri": "https://localhost:8080/"
        },
        "id": "Qgc7b27e1g3r",
        "outputId": "86cde5fb-aa70-4e9a-f085-938f0f568e82"
      },
      "source": [
        "xgb_all_feat.train(x=headline_vecs.names+review_vecs.names, y='target', training_frame = h2o_train, validation_frame=h2o_valid)"
      ],
      "execution_count": 86,
      "outputs": [
        {
          "output_type": "stream",
          "text": [
            "xgboost Model Build progress: |███████████████████████████████████████████| 100%\n"
          ],
          "name": "stdout"
        }
      ]
    },
    {
      "cell_type": "code",
      "metadata": {
        "colab": {
          "base_uri": "https://localhost:8080/"
        },
        "id": "0qH4AL-L1jMa",
        "outputId": "19615a8b-a91d-4fc1-d3a4-97d8feffa709"
      },
      "source": [
        "print(\" XGBoost AUC: \" + str(round(xgb_all_feat.auc(valid = True), 3)))"
      ],
      "execution_count": 87,
      "outputs": [
        {
          "output_type": "stream",
          "text": [
            " XGBoost AUC: 0.923\n"
          ],
          "name": "stdout"
        }
      ]
    },
    {
      "cell_type": "code",
      "metadata": {
        "colab": {
          "base_uri": "https://localhost:8080/",
          "height": 176
        },
        "id": "c5L5yuD610iC",
        "outputId": "8cd768a2-9ed7-4efe-92c9-479d3342a609"
      },
      "source": [
        "xgb_all_feat.confusion_matrix(valid=True)"
      ],
      "execution_count": 88,
      "outputs": [
        {
          "output_type": "stream",
          "text": [
            "\n",
            "Confusion Matrix (Act/Pred) for max f1 @ threshold = 0.5399396589824131: \n"
          ],
          "name": "stdout"
        },
        {
          "output_type": "display_data",
          "data": {
            "text/html": [
              "<div>\n",
              "<style scoped>\n",
              "    .dataframe tbody tr th:only-of-type {\n",
              "        vertical-align: middle;\n",
              "    }\n",
              "\n",
              "    .dataframe tbody tr th {\n",
              "        vertical-align: top;\n",
              "    }\n",
              "\n",
              "    .dataframe thead th {\n",
              "        text-align: right;\n",
              "    }\n",
              "</style>\n",
              "<table border=\"1\" class=\"dataframe\">\n",
              "  <thead>\n",
              "    <tr style=\"text-align: right;\">\n",
              "      <th></th>\n",
              "      <th></th>\n",
              "      <th>0</th>\n",
              "      <th>1</th>\n",
              "      <th>Error</th>\n",
              "      <th>Rate</th>\n",
              "    </tr>\n",
              "  </thead>\n",
              "  <tbody>\n",
              "    <tr>\n",
              "      <th>0</th>\n",
              "      <td>0</td>\n",
              "      <td>3141.0</td>\n",
              "      <td>1612.0</td>\n",
              "      <td>0.3392</td>\n",
              "      <td>(1612.0/4753.0)</td>\n",
              "    </tr>\n",
              "    <tr>\n",
              "      <th>1</th>\n",
              "      <td>1</td>\n",
              "      <td>613.0</td>\n",
              "      <td>11855.0</td>\n",
              "      <td>0.0492</td>\n",
              "      <td>(613.0/12468.0)</td>\n",
              "    </tr>\n",
              "    <tr>\n",
              "      <th>2</th>\n",
              "      <td>Total</td>\n",
              "      <td>3754.0</td>\n",
              "      <td>13467.0</td>\n",
              "      <td>0.1292</td>\n",
              "      <td>(2225.0/17221.0)</td>\n",
              "    </tr>\n",
              "  </tbody>\n",
              "</table>\n",
              "</div>"
            ],
            "text/plain": [
              "               0        1   Error               Rate\n",
              "0      0  3141.0   1612.0  0.3392    (1612.0/4753.0)\n",
              "1      1   613.0  11855.0  0.0492    (613.0/12468.0)\n",
              "2  Total  3754.0  13467.0  0.1292   (2225.0/17221.0)"
            ]
          },
          "metadata": {
            "tags": []
          }
        },
        {
          "output_type": "execute_result",
          "data": {
            "text/plain": [
              ""
            ]
          },
          "metadata": {
            "tags": []
          },
          "execution_count": 88
        }
      ]
    },
    {
      "cell_type": "code",
      "metadata": {
        "id": "U4V0nH1q12wa"
      },
      "source": [
        "# here also there is no much improvement in the accuracy"
      ],
      "execution_count": 89,
      "outputs": []
    },
    {
      "cell_type": "code",
      "metadata": {
        "id": "-6mjcxni19GC"
      },
      "source": [
        "# we will try and split the data in to 3 sets and cal the accuracy also add 200 trees\n",
        "h2o_train, h2o_valid, h2o_test = h2o_df_ext.split_frame(ratios=[.7,.15])\n"
      ],
      "execution_count": 90,
      "outputs": []
    },
    {
      "cell_type": "code",
      "metadata": {
        "id": "saL8ttvz2G1z"
      },
      "source": [
        "gbm_final = H2OGradientBoostingEstimator(ntrees=200,\n",
        "                                              max_depth = 6,  learn_rate=0.1\n",
        "                                             )"
      ],
      "execution_count": 91,
      "outputs": []
    },
    {
      "cell_type": "code",
      "metadata": {
        "colab": {
          "base_uri": "https://localhost:8080/"
        },
        "id": "lodIN7tP2JAg",
        "outputId": "a585f28a-3223-4f53-c26f-89100c2be20f"
      },
      "source": [
        "gbm_final.train(x=headline_vecs.names+review_vecs.names, y='target', training_frame = h2o_train, validation_frame=h2o_valid)"
      ],
      "execution_count": 92,
      "outputs": [
        {
          "output_type": "stream",
          "text": [
            "gbm Model Build progress: |███████████████████████████████████████████████| 100%\n"
          ],
          "name": "stdout"
        }
      ]
    },
    {
      "cell_type": "code",
      "metadata": {
        "colab": {
          "base_uri": "https://localhost:8080/"
        },
        "id": "jki-MxSz2L3A",
        "outputId": "1bc68db3-23a1-429b-8a2e-916425c74c81"
      },
      "source": [
        "print(\" GBM Final AUC: \" + str(round(gbm_final.auc(valid = True), 3)))"
      ],
      "execution_count": 93,
      "outputs": [
        {
          "output_type": "stream",
          "text": [
            " GBM Final AUC: 0.938\n"
          ],
          "name": "stdout"
        }
      ]
    },
    {
      "cell_type": "code",
      "metadata": {
        "colab": {
          "base_uri": "https://localhost:8080/",
          "height": 176
        },
        "id": "iuEE6jkt3ihf",
        "outputId": "deb9cec4-1440-451a-ea07-66354343d778"
      },
      "source": [
        "gbm_final.confusion_matrix(valid=True)"
      ],
      "execution_count": 94,
      "outputs": [
        {
          "output_type": "stream",
          "text": [
            "\n",
            "Confusion Matrix (Act/Pred) for max f1 @ threshold = 0.5079859384200694: \n"
          ],
          "name": "stdout"
        },
        {
          "output_type": "display_data",
          "data": {
            "text/html": [
              "<div>\n",
              "<style scoped>\n",
              "    .dataframe tbody tr th:only-of-type {\n",
              "        vertical-align: middle;\n",
              "    }\n",
              "\n",
              "    .dataframe tbody tr th {\n",
              "        vertical-align: top;\n",
              "    }\n",
              "\n",
              "    .dataframe thead th {\n",
              "        text-align: right;\n",
              "    }\n",
              "</style>\n",
              "<table border=\"1\" class=\"dataframe\">\n",
              "  <thead>\n",
              "    <tr style=\"text-align: right;\">\n",
              "      <th></th>\n",
              "      <th></th>\n",
              "      <th>0</th>\n",
              "      <th>1</th>\n",
              "      <th>Error</th>\n",
              "      <th>Rate</th>\n",
              "    </tr>\n",
              "  </thead>\n",
              "  <tbody>\n",
              "    <tr>\n",
              "      <th>0</th>\n",
              "      <td>0</td>\n",
              "      <td>2468.0</td>\n",
              "      <td>1020.0</td>\n",
              "      <td>0.2924</td>\n",
              "      <td>(1020.0/3488.0)</td>\n",
              "    </tr>\n",
              "    <tr>\n",
              "      <th>1</th>\n",
              "      <td>1</td>\n",
              "      <td>484.0</td>\n",
              "      <td>8858.0</td>\n",
              "      <td>0.0518</td>\n",
              "      <td>(484.0/9342.0)</td>\n",
              "    </tr>\n",
              "    <tr>\n",
              "      <th>2</th>\n",
              "      <td>Total</td>\n",
              "      <td>2952.0</td>\n",
              "      <td>9878.0</td>\n",
              "      <td>0.1172</td>\n",
              "      <td>(1504.0/12830.0)</td>\n",
              "    </tr>\n",
              "  </tbody>\n",
              "</table>\n",
              "</div>"
            ],
            "text/plain": [
              "               0       1   Error               Rate\n",
              "0      0  2468.0  1020.0  0.2924    (1020.0/3488.0)\n",
              "1      1   484.0  8858.0  0.0518     (484.0/9342.0)\n",
              "2  Total  2952.0  9878.0  0.1172   (1504.0/12830.0)"
            ]
          },
          "metadata": {
            "tags": []
          }
        },
        {
          "output_type": "execute_result",
          "data": {
            "text/plain": [
              ""
            ]
          },
          "metadata": {
            "tags": []
          },
          "execution_count": 94
        }
      ]
    },
    {
      "cell_type": "code",
      "metadata": {
        "colab": {
          "base_uri": "https://localhost:8080/",
          "height": 1000
        },
        "id": "w6ZFZVgp3mxt",
        "outputId": "d810240e-8185-4d73-f1cd-7b0a17639382"
      },
      "source": [
        "gbm_final.model_performance(h2o_test)"
      ],
      "execution_count": 95,
      "outputs": [
        {
          "output_type": "stream",
          "text": [
            "\n",
            "ModelMetricsBinomial: gbm\n",
            "** Reported on test data. **\n",
            "\n",
            "MSE: 0.08344421021027576\n",
            "RMSE: 0.2888671151416785\n",
            "LogLoss: 0.26912013010091823\n",
            "Mean Per-Class Error: 0.14026769351235735\n",
            "AUC: 0.9400312079483443\n",
            "AUCPR: 0.9755324722420703\n",
            "Gini: 0.8800624158966885\n",
            "\n",
            "Confusion Matrix (Act/Pred) for max f1 @ threshold = 0.493092710673753: \n"
          ],
          "name": "stdout"
        },
        {
          "output_type": "display_data",
          "data": {
            "text/html": [
              "<div>\n",
              "<style scoped>\n",
              "    .dataframe tbody tr th:only-of-type {\n",
              "        vertical-align: middle;\n",
              "    }\n",
              "\n",
              "    .dataframe tbody tr th {\n",
              "        vertical-align: top;\n",
              "    }\n",
              "\n",
              "    .dataframe thead th {\n",
              "        text-align: right;\n",
              "    }\n",
              "</style>\n",
              "<table border=\"1\" class=\"dataframe\">\n",
              "  <thead>\n",
              "    <tr style=\"text-align: right;\">\n",
              "      <th></th>\n",
              "      <th></th>\n",
              "      <th>0</th>\n",
              "      <th>1</th>\n",
              "      <th>Error</th>\n",
              "      <th>Rate</th>\n",
              "    </tr>\n",
              "  </thead>\n",
              "  <tbody>\n",
              "    <tr>\n",
              "      <th>0</th>\n",
              "      <td>0</td>\n",
              "      <td>2477.0</td>\n",
              "      <td>1030.0</td>\n",
              "      <td>0.2937</td>\n",
              "      <td>(1030.0/3507.0)</td>\n",
              "    </tr>\n",
              "    <tr>\n",
              "      <th>1</th>\n",
              "      <td>1</td>\n",
              "      <td>488.0</td>\n",
              "      <td>8921.0</td>\n",
              "      <td>0.0519</td>\n",
              "      <td>(488.0/9409.0)</td>\n",
              "    </tr>\n",
              "    <tr>\n",
              "      <th>2</th>\n",
              "      <td>Total</td>\n",
              "      <td>2965.0</td>\n",
              "      <td>9951.0</td>\n",
              "      <td>0.1175</td>\n",
              "      <td>(1518.0/12916.0)</td>\n",
              "    </tr>\n",
              "  </tbody>\n",
              "</table>\n",
              "</div>"
            ],
            "text/plain": [
              "               0       1   Error               Rate\n",
              "0      0  2477.0  1030.0  0.2937    (1030.0/3507.0)\n",
              "1      1   488.0  8921.0  0.0519     (488.0/9409.0)\n",
              "2  Total  2965.0  9951.0  0.1175   (1518.0/12916.0)"
            ]
          },
          "metadata": {
            "tags": []
          }
        },
        {
          "output_type": "stream",
          "text": [
            "\n",
            "Maximum Metrics: Maximum metrics at their respective thresholds\n"
          ],
          "name": "stdout"
        },
        {
          "output_type": "display_data",
          "data": {
            "text/html": [
              "<div>\n",
              "<style scoped>\n",
              "    .dataframe tbody tr th:only-of-type {\n",
              "        vertical-align: middle;\n",
              "    }\n",
              "\n",
              "    .dataframe tbody tr th {\n",
              "        vertical-align: top;\n",
              "    }\n",
              "\n",
              "    .dataframe thead th {\n",
              "        text-align: right;\n",
              "    }\n",
              "</style>\n",
              "<table border=\"1\" class=\"dataframe\">\n",
              "  <thead>\n",
              "    <tr style=\"text-align: right;\">\n",
              "      <th></th>\n",
              "      <th>metric</th>\n",
              "      <th>threshold</th>\n",
              "      <th>value</th>\n",
              "      <th>idx</th>\n",
              "    </tr>\n",
              "  </thead>\n",
              "  <tbody>\n",
              "    <tr>\n",
              "      <th>0</th>\n",
              "      <td>max f1</td>\n",
              "      <td>0.493093</td>\n",
              "      <td>0.921591</td>\n",
              "      <td>240.0</td>\n",
              "    </tr>\n",
              "    <tr>\n",
              "      <th>1</th>\n",
              "      <td>max f2</td>\n",
              "      <td>0.240859</td>\n",
              "      <td>0.956052</td>\n",
              "      <td>313.0</td>\n",
              "    </tr>\n",
              "    <tr>\n",
              "      <th>2</th>\n",
              "      <td>max f0point5</td>\n",
              "      <td>0.777804</td>\n",
              "      <td>0.925072</td>\n",
              "      <td>141.0</td>\n",
              "    </tr>\n",
              "    <tr>\n",
              "      <th>3</th>\n",
              "      <td>max accuracy</td>\n",
              "      <td>0.589381</td>\n",
              "      <td>0.883013</td>\n",
              "      <td>211.0</td>\n",
              "    </tr>\n",
              "    <tr>\n",
              "      <th>4</th>\n",
              "      <td>max precision</td>\n",
              "      <td>0.998558</td>\n",
              "      <td>1.000000</td>\n",
              "      <td>0.0</td>\n",
              "    </tr>\n",
              "    <tr>\n",
              "      <th>5</th>\n",
              "      <td>max recall</td>\n",
              "      <td>0.006422</td>\n",
              "      <td>1.000000</td>\n",
              "      <td>395.0</td>\n",
              "    </tr>\n",
              "    <tr>\n",
              "      <th>6</th>\n",
              "      <td>max specificity</td>\n",
              "      <td>0.998558</td>\n",
              "      <td>1.000000</td>\n",
              "      <td>0.0</td>\n",
              "    </tr>\n",
              "    <tr>\n",
              "      <th>7</th>\n",
              "      <td>max absolute_mcc</td>\n",
              "      <td>0.589381</td>\n",
              "      <td>0.700683</td>\n",
              "      <td>211.0</td>\n",
              "    </tr>\n",
              "    <tr>\n",
              "      <th>8</th>\n",
              "      <td>max min_per_class_accuracy</td>\n",
              "      <td>0.752222</td>\n",
              "      <td>0.858569</td>\n",
              "      <td>151.0</td>\n",
              "    </tr>\n",
              "    <tr>\n",
              "      <th>9</th>\n",
              "      <td>max mean_per_class_accuracy</td>\n",
              "      <td>0.745577</td>\n",
              "      <td>0.859732</td>\n",
              "      <td>154.0</td>\n",
              "    </tr>\n",
              "    <tr>\n",
              "      <th>10</th>\n",
              "      <td>max tns</td>\n",
              "      <td>0.998558</td>\n",
              "      <td>3507.000000</td>\n",
              "      <td>0.0</td>\n",
              "    </tr>\n",
              "    <tr>\n",
              "      <th>11</th>\n",
              "      <td>max fns</td>\n",
              "      <td>0.998558</td>\n",
              "      <td>9289.000000</td>\n",
              "      <td>0.0</td>\n",
              "    </tr>\n",
              "    <tr>\n",
              "      <th>12</th>\n",
              "      <td>max fps</td>\n",
              "      <td>0.001782</td>\n",
              "      <td>3507.000000</td>\n",
              "      <td>399.0</td>\n",
              "    </tr>\n",
              "    <tr>\n",
              "      <th>13</th>\n",
              "      <td>max tps</td>\n",
              "      <td>0.006422</td>\n",
              "      <td>9409.000000</td>\n",
              "      <td>395.0</td>\n",
              "    </tr>\n",
              "    <tr>\n",
              "      <th>14</th>\n",
              "      <td>max tnr</td>\n",
              "      <td>0.998558</td>\n",
              "      <td>1.000000</td>\n",
              "      <td>0.0</td>\n",
              "    </tr>\n",
              "    <tr>\n",
              "      <th>15</th>\n",
              "      <td>max fnr</td>\n",
              "      <td>0.998558</td>\n",
              "      <td>0.987246</td>\n",
              "      <td>0.0</td>\n",
              "    </tr>\n",
              "    <tr>\n",
              "      <th>16</th>\n",
              "      <td>max fpr</td>\n",
              "      <td>0.001782</td>\n",
              "      <td>1.000000</td>\n",
              "      <td>399.0</td>\n",
              "    </tr>\n",
              "    <tr>\n",
              "      <th>17</th>\n",
              "      <td>max tpr</td>\n",
              "      <td>0.006422</td>\n",
              "      <td>1.000000</td>\n",
              "      <td>395.0</td>\n",
              "    </tr>\n",
              "  </tbody>\n",
              "</table>\n",
              "</div>"
            ],
            "text/plain": [
              "                         metric  threshold        value    idx\n",
              "0                        max f1   0.493093     0.921591  240.0\n",
              "1                        max f2   0.240859     0.956052  313.0\n",
              "2                  max f0point5   0.777804     0.925072  141.0\n",
              "3                  max accuracy   0.589381     0.883013  211.0\n",
              "4                 max precision   0.998558     1.000000    0.0\n",
              "5                    max recall   0.006422     1.000000  395.0\n",
              "6               max specificity   0.998558     1.000000    0.0\n",
              "7              max absolute_mcc   0.589381     0.700683  211.0\n",
              "8    max min_per_class_accuracy   0.752222     0.858569  151.0\n",
              "9   max mean_per_class_accuracy   0.745577     0.859732  154.0\n",
              "10                      max tns   0.998558  3507.000000    0.0\n",
              "11                      max fns   0.998558  9289.000000    0.0\n",
              "12                      max fps   0.001782  3507.000000  399.0\n",
              "13                      max tps   0.006422  9409.000000  395.0\n",
              "14                      max tnr   0.998558     1.000000    0.0\n",
              "15                      max fnr   0.998558     0.987246    0.0\n",
              "16                      max fpr   0.001782     1.000000  399.0\n",
              "17                      max tpr   0.006422     1.000000  395.0"
            ]
          },
          "metadata": {
            "tags": []
          }
        },
        {
          "output_type": "stream",
          "text": [
            "\n",
            "Gains/Lift Table: Avg response rate: 72.85 %, avg score: 73.34 %\n"
          ],
          "name": "stdout"
        },
        {
          "output_type": "display_data",
          "data": {
            "text/html": [
              "<div>\n",
              "<style scoped>\n",
              "    .dataframe tbody tr th:only-of-type {\n",
              "        vertical-align: middle;\n",
              "    }\n",
              "\n",
              "    .dataframe tbody tr th {\n",
              "        vertical-align: top;\n",
              "    }\n",
              "\n",
              "    .dataframe thead th {\n",
              "        text-align: right;\n",
              "    }\n",
              "</style>\n",
              "<table border=\"1\" class=\"dataframe\">\n",
              "  <thead>\n",
              "    <tr style=\"text-align: right;\">\n",
              "      <th></th>\n",
              "      <th></th>\n",
              "      <th>group</th>\n",
              "      <th>cumulative_data_fraction</th>\n",
              "      <th>lower_threshold</th>\n",
              "      <th>lift</th>\n",
              "      <th>cumulative_lift</th>\n",
              "      <th>response_rate</th>\n",
              "      <th>score</th>\n",
              "      <th>cumulative_response_rate</th>\n",
              "      <th>cumulative_score</th>\n",
              "      <th>capture_rate</th>\n",
              "      <th>cumulative_capture_rate</th>\n",
              "      <th>gain</th>\n",
              "      <th>cumulative_gain</th>\n",
              "    </tr>\n",
              "  </thead>\n",
              "  <tbody>\n",
              "    <tr>\n",
              "      <th>0</th>\n",
              "      <td></td>\n",
              "      <td>1</td>\n",
              "      <td>0.010065</td>\n",
              "      <td>0.998233</td>\n",
              "      <td>1.372728</td>\n",
              "      <td>1.372728</td>\n",
              "      <td>1.000000</td>\n",
              "      <td>0.998550</td>\n",
              "      <td>1.000000</td>\n",
              "      <td>0.998550</td>\n",
              "      <td>0.013817</td>\n",
              "      <td>0.013817</td>\n",
              "      <td>37.272824</td>\n",
              "      <td>37.272824</td>\n",
              "    </tr>\n",
              "    <tr>\n",
              "      <th>1</th>\n",
              "      <td></td>\n",
              "      <td>2</td>\n",
              "      <td>0.020130</td>\n",
              "      <td>0.997905</td>\n",
              "      <td>1.372728</td>\n",
              "      <td>1.372728</td>\n",
              "      <td>1.000000</td>\n",
              "      <td>0.998038</td>\n",
              "      <td>1.000000</td>\n",
              "      <td>0.998294</td>\n",
              "      <td>0.013817</td>\n",
              "      <td>0.027633</td>\n",
              "      <td>37.272824</td>\n",
              "      <td>37.272824</td>\n",
              "    </tr>\n",
              "    <tr>\n",
              "      <th>2</th>\n",
              "      <td></td>\n",
              "      <td>3</td>\n",
              "      <td>0.030040</td>\n",
              "      <td>0.997509</td>\n",
              "      <td>1.372728</td>\n",
              "      <td>1.372728</td>\n",
              "      <td>1.000000</td>\n",
              "      <td>0.997705</td>\n",
              "      <td>1.000000</td>\n",
              "      <td>0.998100</td>\n",
              "      <td>0.013604</td>\n",
              "      <td>0.041237</td>\n",
              "      <td>37.272824</td>\n",
              "      <td>37.272824</td>\n",
              "    </tr>\n",
              "    <tr>\n",
              "      <th>3</th>\n",
              "      <td></td>\n",
              "      <td>4</td>\n",
              "      <td>0.040028</td>\n",
              "      <td>0.997117</td>\n",
              "      <td>1.372728</td>\n",
              "      <td>1.372728</td>\n",
              "      <td>1.000000</td>\n",
              "      <td>0.997307</td>\n",
              "      <td>1.000000</td>\n",
              "      <td>0.997902</td>\n",
              "      <td>0.013710</td>\n",
              "      <td>0.054947</td>\n",
              "      <td>37.272824</td>\n",
              "      <td>37.272824</td>\n",
              "    </tr>\n",
              "    <tr>\n",
              "      <th>4</th>\n",
              "      <td></td>\n",
              "      <td>5</td>\n",
              "      <td>0.050015</td>\n",
              "      <td>0.996812</td>\n",
              "      <td>1.372728</td>\n",
              "      <td>1.372728</td>\n",
              "      <td>1.000000</td>\n",
              "      <td>0.996981</td>\n",
              "      <td>1.000000</td>\n",
              "      <td>0.997718</td>\n",
              "      <td>0.013710</td>\n",
              "      <td>0.068658</td>\n",
              "      <td>37.272824</td>\n",
              "      <td>37.272824</td>\n",
              "    </tr>\n",
              "    <tr>\n",
              "      <th>5</th>\n",
              "      <td></td>\n",
              "      <td>6</td>\n",
              "      <td>0.100031</td>\n",
              "      <td>0.994286</td>\n",
              "      <td>1.368478</td>\n",
              "      <td>1.370603</td>\n",
              "      <td>0.996904</td>\n",
              "      <td>0.995643</td>\n",
              "      <td>0.998452</td>\n",
              "      <td>0.996681</td>\n",
              "      <td>0.068445</td>\n",
              "      <td>0.137103</td>\n",
              "      <td>36.847831</td>\n",
              "      <td>37.060327</td>\n",
              "    </tr>\n",
              "    <tr>\n",
              "      <th>6</th>\n",
              "      <td></td>\n",
              "      <td>7</td>\n",
              "      <td>0.150046</td>\n",
              "      <td>0.990618</td>\n",
              "      <td>1.368478</td>\n",
              "      <td>1.369895</td>\n",
              "      <td>0.996904</td>\n",
              "      <td>0.992440</td>\n",
              "      <td>0.997936</td>\n",
              "      <td>0.995267</td>\n",
              "      <td>0.068445</td>\n",
              "      <td>0.205548</td>\n",
              "      <td>36.847831</td>\n",
              "      <td>36.989495</td>\n",
              "    </tr>\n",
              "    <tr>\n",
              "      <th>7</th>\n",
              "      <td></td>\n",
              "      <td>8</td>\n",
              "      <td>0.200062</td>\n",
              "      <td>0.985972</td>\n",
              "      <td>1.366353</td>\n",
              "      <td>1.369010</td>\n",
              "      <td>0.995356</td>\n",
              "      <td>0.988338</td>\n",
              "      <td>0.997291</td>\n",
              "      <td>0.993535</td>\n",
              "      <td>0.068339</td>\n",
              "      <td>0.273887</td>\n",
              "      <td>36.635334</td>\n",
              "      <td>36.900955</td>\n",
              "    </tr>\n",
              "    <tr>\n",
              "      <th>8</th>\n",
              "      <td></td>\n",
              "      <td>9</td>\n",
              "      <td>0.300015</td>\n",
              "      <td>0.973186</td>\n",
              "      <td>1.358905</td>\n",
              "      <td>1.365643</td>\n",
              "      <td>0.989930</td>\n",
              "      <td>0.980157</td>\n",
              "      <td>0.994839</td>\n",
              "      <td>0.989078</td>\n",
              "      <td>0.135827</td>\n",
              "      <td>0.409714</td>\n",
              "      <td>35.890526</td>\n",
              "      <td>36.564319</td>\n",
              "    </tr>\n",
              "    <tr>\n",
              "      <th>9</th>\n",
              "      <td></td>\n",
              "      <td>10</td>\n",
              "      <td>0.400046</td>\n",
              "      <td>0.951723</td>\n",
              "      <td>1.331291</td>\n",
              "      <td>1.357054</td>\n",
              "      <td>0.969814</td>\n",
              "      <td>0.963283</td>\n",
              "      <td>0.988581</td>\n",
              "      <td>0.982628</td>\n",
              "      <td>0.133170</td>\n",
              "      <td>0.542884</td>\n",
              "      <td>33.129140</td>\n",
              "      <td>35.705358</td>\n",
              "    </tr>\n",
              "    <tr>\n",
              "      <th>10</th>\n",
              "      <td></td>\n",
              "      <td>11</td>\n",
              "      <td>0.500000</td>\n",
              "      <td>0.913428</td>\n",
              "      <td>1.283411</td>\n",
              "      <td>1.342332</td>\n",
              "      <td>0.934934</td>\n",
              "      <td>0.934340</td>\n",
              "      <td>0.977857</td>\n",
              "      <td>0.972975</td>\n",
              "      <td>0.128281</td>\n",
              "      <td>0.671166</td>\n",
              "      <td>28.341052</td>\n",
              "      <td>34.233181</td>\n",
              "    </tr>\n",
              "    <tr>\n",
              "      <th>11</th>\n",
              "      <td></td>\n",
              "      <td>12</td>\n",
              "      <td>0.600031</td>\n",
              "      <td>0.838120</td>\n",
              "      <td>1.202731</td>\n",
              "      <td>1.319059</td>\n",
              "      <td>0.876161</td>\n",
              "      <td>0.880643</td>\n",
              "      <td>0.960903</td>\n",
              "      <td>0.957582</td>\n",
              "      <td>0.120310</td>\n",
              "      <td>0.791476</td>\n",
              "      <td>20.273093</td>\n",
              "      <td>31.905899</td>\n",
              "    </tr>\n",
              "    <tr>\n",
              "      <th>12</th>\n",
              "      <td></td>\n",
              "      <td>13</td>\n",
              "      <td>0.699985</td>\n",
              "      <td>0.685362</td>\n",
              "      <td>1.016521</td>\n",
              "      <td>1.275858</td>\n",
              "      <td>0.740511</td>\n",
              "      <td>0.770042</td>\n",
              "      <td>0.929433</td>\n",
              "      <td>0.930803</td>\n",
              "      <td>0.101605</td>\n",
              "      <td>0.893081</td>\n",
              "      <td>1.652068</td>\n",
              "      <td>27.585836</td>\n",
              "    </tr>\n",
              "    <tr>\n",
              "      <th>13</th>\n",
              "      <td></td>\n",
              "      <td>14</td>\n",
              "      <td>0.800015</td>\n",
              "      <td>0.403627</td>\n",
              "      <td>0.724614</td>\n",
              "      <td>1.206933</td>\n",
              "      <td>0.527864</td>\n",
              "      <td>0.552919</td>\n",
              "      <td>0.879222</td>\n",
              "      <td>0.883553</td>\n",
              "      <td>0.072484</td>\n",
              "      <td>0.965565</td>\n",
              "      <td>-27.538649</td>\n",
              "      <td>20.693274</td>\n",
              "    </tr>\n",
              "    <tr>\n",
              "      <th>14</th>\n",
              "      <td></td>\n",
              "      <td>15</td>\n",
              "      <td>0.899969</td>\n",
              "      <td>0.087834</td>\n",
              "      <td>0.317929</td>\n",
              "      <td>1.108197</td>\n",
              "      <td>0.231603</td>\n",
              "      <td>0.234490</td>\n",
              "      <td>0.807295</td>\n",
              "      <td>0.811466</td>\n",
              "      <td>0.031778</td>\n",
              "      <td>0.997343</td>\n",
              "      <td>-68.207146</td>\n",
              "      <td>10.819699</td>\n",
              "    </tr>\n",
              "    <tr>\n",
              "      <th>15</th>\n",
              "      <td></td>\n",
              "      <td>16</td>\n",
              "      <td>1.000000</td>\n",
              "      <td>0.000366</td>\n",
              "      <td>0.026562</td>\n",
              "      <td>1.000000</td>\n",
              "      <td>0.019350</td>\n",
              "      <td>0.031526</td>\n",
              "      <td>0.728476</td>\n",
              "      <td>0.733448</td>\n",
              "      <td>0.002657</td>\n",
              "      <td>1.000000</td>\n",
              "      <td>-97.343792</td>\n",
              "      <td>0.000000</td>\n",
              "    </tr>\n",
              "  </tbody>\n",
              "</table>\n",
              "</div>"
            ],
            "text/plain": [
              "      group  ...       gain  cumulative_gain\n",
              "0         1  ...  37.272824        37.272824\n",
              "1         2  ...  37.272824        37.272824\n",
              "2         3  ...  37.272824        37.272824\n",
              "3         4  ...  37.272824        37.272824\n",
              "4         5  ...  37.272824        37.272824\n",
              "5         6  ...  36.847831        37.060327\n",
              "6         7  ...  36.847831        36.989495\n",
              "7         8  ...  36.635334        36.900955\n",
              "8         9  ...  35.890526        36.564319\n",
              "9        10  ...  33.129140        35.705358\n",
              "10       11  ...  28.341052        34.233181\n",
              "11       12  ...  20.273093        31.905899\n",
              "12       13  ...   1.652068        27.585836\n",
              "13       14  ... -27.538649        20.693274\n",
              "14       15  ... -68.207146        10.819699\n",
              "15       16  ... -97.343792         0.000000\n",
              "\n",
              "[16 rows x 14 columns]"
            ]
          },
          "metadata": {
            "tags": []
          }
        },
        {
          "output_type": "stream",
          "text": [
            "\n"
          ],
          "name": "stdout"
        },
        {
          "output_type": "execute_result",
          "data": {
            "text/plain": [
              ""
            ]
          },
          "metadata": {
            "tags": []
          },
          "execution_count": 95
        }
      ]
    },
    {
      "cell_type": "code",
      "metadata": {
        "colab": {
          "base_uri": "https://localhost:8080/",
          "height": 612
        },
        "id": "TXecVCh_3ok_",
        "outputId": "8b064a7c-9986-4013-f4dc-5c5d7bedfb21"
      },
      "source": [
        "\n",
        "gbm_final.varimp_plot()"
      ],
      "execution_count": 96,
      "outputs": [
        {
          "output_type": "display_data",
          "data": {
            "image/png": "[encoded data removed]",
            "text/plain": [
              "<Figure size 1008x720 with 1 Axes>"
            ]
          },
          "metadata": {
            "tags": [],
            "needs_background": "light"
          }
        }
      ]
    },
    {
      "cell_type": "code",
      "metadata": {
        "id": "Fp3XNmxF3q0W"
      },
      "source": [
        "# we will use grid search to find the best parameter\n",
        "ntrees_opt = [100, 200, 250, 300]\n",
        "max_depth_opt = [6, 7, 8]\n",
        "learn_rate_opt = [0.01, 0.1]"
      ],
      "execution_count": 97,
      "outputs": []
    },
    {
      "cell_type": "code",
      "metadata": {
        "id": "SvP4inp54fPO"
      },
      "source": [
        "\n",
        "hyper_parameters = {\"ntrees\": ntrees_opt,\"max_depth\":max_depth_opt, \"learn_rate\":learn_rate_opt}\n",
        "search_criteria = {\"strategy\":\"RandomDiscrete\",\"max_models\":4}"
      ],
      "execution_count": 98,
      "outputs": []
    },
    {
      "cell_type": "code",
      "metadata": {
        "id": "30i_kgCj4hIb"
      },
      "source": [
        "from h2o.grid.grid_search import H2OGridSearch\n",
        "gs = H2OGridSearch(H2OGradientBoostingEstimator,hyper_params=hyper_parameters, search_criteria=search_criteria)"
      ],
      "execution_count": 99,
      "outputs": []
    },
    {
      "cell_type": "code",
      "metadata": {
        "colab": {
          "base_uri": "https://localhost:8080/"
        },
        "id": "9IiQuvs04jkH",
        "outputId": "be773182-d16e-47d1-f6ab-7391ee9a4afc"
      },
      "source": [
        "gs.train(x=headline_vecs.names+review_vecs.names, y='target', training_frame = h2o_train, validation_frame=h2o_valid)"
      ],
      "execution_count": 100,
      "outputs": [
        {
          "output_type": "stream",
          "text": [
            "gbm Grid Build progress: |████████████████████████████████████████████████| 100%\n"
          ],
          "name": "stdout"
        }
      ]
    },
    {
      "cell_type": "code",
      "metadata": {
        "colab": {
          "base_uri": "https://localhost:8080/"
        },
        "id": "ufnXoK164mR8",
        "outputId": "3b5f686e-0f65-4aa0-b516-8df6312520cd"
      },
      "source": [
        "\n",
        "print(gs.get_grid(sort_by='auc', decreasing=True))"
      ],
      "execution_count": 101,
      "outputs": [
        {
          "output_type": "stream",
          "text": [
            "     ...                 auc\n",
            "0    ...  0.9401149538731074\n",
            "1    ...  0.9360097083016622\n",
            "2    ...  0.9205361588387454\n",
            "3    ...  0.9073532718962798\n",
            "\n",
            "[4 rows x 6 columns]\n",
            "\n"
          ],
          "name": "stdout"
        }
      ]
    },
    {
      "cell_type": "code",
      "metadata": {
        "colab": {
          "base_uri": "https://localhost:8080/",
          "height": 1000
        },
        "id": "I8B9uVTmt26i",
        "outputId": "1bedd9cd-c3b9-4fb7-f4d0-0afdca9f2497"
      },
      "source": [
        "gs.models[0]"
      ],
      "execution_count": 102,
      "outputs": [
        {
          "output_type": "stream",
          "text": [
            "Model Details\n",
            "=============\n",
            "H2OGradientBoostingEstimator :  Gradient Boosting Machine\n",
            "Model Key:  Grid_GBM_py_391_sid_b218_model_python_1628174277977_220_model_2\n",
            "\n",
            "\n",
            "Model Summary: \n"
          ],
          "name": "stdout"
        },
        {
          "output_type": "display_data",
          "data": {
            "text/html": [
              "<div>\n",
              "<style scoped>\n",
              "    .dataframe tbody tr th:only-of-type {\n",
              "        vertical-align: middle;\n",
              "    }\n",
              "\n",
              "    .dataframe tbody tr th {\n",
              "        vertical-align: top;\n",
              "    }\n",
              "\n",
              "    .dataframe thead th {\n",
              "        text-align: right;\n",
              "    }\n",
              "</style>\n",
              "<table border=\"1\" class=\"dataframe\">\n",
              "  <thead>\n",
              "    <tr style=\"text-align: right;\">\n",
              "      <th></th>\n",
              "      <th></th>\n",
              "      <th>number_of_trees</th>\n",
              "      <th>number_of_internal_trees</th>\n",
              "      <th>model_size_in_bytes</th>\n",
              "      <th>min_depth</th>\n",
              "      <th>max_depth</th>\n",
              "      <th>mean_depth</th>\n",
              "      <th>min_leaves</th>\n",
              "      <th>max_leaves</th>\n",
              "      <th>mean_leaves</th>\n",
              "    </tr>\n",
              "  </thead>\n",
              "  <tbody>\n",
              "    <tr>\n",
              "      <th>0</th>\n",
              "      <td></td>\n",
              "      <td>300.0</td>\n",
              "      <td>300.0</td>\n",
              "      <td>235019.0</td>\n",
              "      <td>6.0</td>\n",
              "      <td>6.0</td>\n",
              "      <td>6.0</td>\n",
              "      <td>34.0</td>\n",
              "      <td>64.0</td>\n",
              "      <td>57.663334</td>\n",
              "    </tr>\n",
              "  </tbody>\n",
              "</table>\n",
              "</div>"
            ],
            "text/plain": [
              "     number_of_trees  ...  max_leaves  mean_leaves\n",
              "0              300.0  ...        64.0    57.663334\n",
              "\n",
              "[1 rows x 10 columns]"
            ]
          },
          "metadata": {
            "tags": []
          }
        },
        {
          "output_type": "stream",
          "text": [
            "\n",
            "\n",
            "ModelMetricsBinomial: gbm\n",
            "** Reported on train data. **\n",
            "\n",
            "MSE: 0.029915931823630438\n",
            "RMSE: 0.17296222658034452\n",
            "LogLoss: 0.12194439744905626\n",
            "Mean Per-Class Error: 0.034488399903293665\n",
            "AUC: 0.9943680127627723\n",
            "AUCPR: 0.9977659447187822\n",
            "Gini: 0.9887360255255446\n",
            "\n",
            "Confusion Matrix (Act/Pred) for max f1 @ threshold = 0.5688334282936537: \n"
          ],
          "name": "stdout"
        },
        {
          "output_type": "display_data",
          "data": {
            "text/html": [
              "<div>\n",
              "<style scoped>\n",
              "    .dataframe tbody tr th:only-of-type {\n",
              "        vertical-align: middle;\n",
              "    }\n",
              "\n",
              "    .dataframe tbody tr th {\n",
              "        vertical-align: top;\n",
              "    }\n",
              "\n",
              "    .dataframe thead th {\n",
              "        text-align: right;\n",
              "    }\n",
              "</style>\n",
              "<table border=\"1\" class=\"dataframe\">\n",
              "  <thead>\n",
              "    <tr style=\"text-align: right;\">\n",
              "      <th></th>\n",
              "      <th></th>\n",
              "      <th>0</th>\n",
              "      <th>1</th>\n",
              "      <th>Error</th>\n",
              "      <th>Rate</th>\n",
              "    </tr>\n",
              "  </thead>\n",
              "  <tbody>\n",
              "    <tr>\n",
              "      <th>0</th>\n",
              "      <td>0</td>\n",
              "      <td>15397.0</td>\n",
              "      <td>1035.0</td>\n",
              "      <td>0.063</td>\n",
              "      <td>(1035.0/16432.0)</td>\n",
              "    </tr>\n",
              "    <tr>\n",
              "      <th>1</th>\n",
              "      <td>1</td>\n",
              "      <td>717.0</td>\n",
              "      <td>43086.0</td>\n",
              "      <td>0.0164</td>\n",
              "      <td>(717.0/43803.0)</td>\n",
              "    </tr>\n",
              "    <tr>\n",
              "      <th>2</th>\n",
              "      <td>Total</td>\n",
              "      <td>16114.0</td>\n",
              "      <td>44121.0</td>\n",
              "      <td>0.0291</td>\n",
              "      <td>(1752.0/60235.0)</td>\n",
              "    </tr>\n",
              "  </tbody>\n",
              "</table>\n",
              "</div>"
            ],
            "text/plain": [
              "                0        1   Error               Rate\n",
              "0      0  15397.0   1035.0   0.063   (1035.0/16432.0)\n",
              "1      1    717.0  43086.0  0.0164    (717.0/43803.0)\n",
              "2  Total  16114.0  44121.0  0.0291   (1752.0/60235.0)"
            ]
          },
          "metadata": {
            "tags": []
          }
        },
        {
          "output_type": "stream",
          "text": [
            "\n",
            "Maximum Metrics: Maximum metrics at their respective thresholds\n"
          ],
          "name": "stdout"
        },
        {
          "output_type": "display_data",
          "data": {
            "text/html": [
              "<div>\n",
              "<style scoped>\n",
              "    .dataframe tbody tr th:only-of-type {\n",
              "        vertical-align: middle;\n",
              "    }\n",
              "\n",
              "    .dataframe tbody tr th {\n",
              "        vertical-align: top;\n",
              "    }\n",
              "\n",
              "    .dataframe thead th {\n",
              "        text-align: right;\n",
              "    }\n",
              "</style>\n",
              "<table border=\"1\" class=\"dataframe\">\n",
              "  <thead>\n",
              "    <tr style=\"text-align: right;\">\n",
              "      <th></th>\n",
              "      <th>metric</th>\n",
              "      <th>threshold</th>\n",
              "      <th>value</th>\n",
              "      <th>idx</th>\n",
              "    </tr>\n",
              "  </thead>\n",
              "  <tbody>\n",
              "    <tr>\n",
              "      <th>0</th>\n",
              "      <td>max f1</td>\n",
              "      <td>0.568833</td>\n",
              "      <td>0.980074</td>\n",
              "      <td>203.0</td>\n",
              "    </tr>\n",
              "    <tr>\n",
              "      <th>1</th>\n",
              "      <td>max f2</td>\n",
              "      <td>0.456568</td>\n",
              "      <td>0.985899</td>\n",
              "      <td>232.0</td>\n",
              "    </tr>\n",
              "    <tr>\n",
              "      <th>2</th>\n",
              "      <td>max f0point5</td>\n",
              "      <td>0.700192</td>\n",
              "      <td>0.982616</td>\n",
              "      <td>165.0</td>\n",
              "    </tr>\n",
              "    <tr>\n",
              "      <th>3</th>\n",
              "      <td>max accuracy</td>\n",
              "      <td>0.568833</td>\n",
              "      <td>0.970914</td>\n",
              "      <td>203.0</td>\n",
              "    </tr>\n",
              "    <tr>\n",
              "      <th>4</th>\n",
              "      <td>max precision</td>\n",
              "      <td>0.999182</td>\n",
              "      <td>1.000000</td>\n",
              "      <td>0.0</td>\n",
              "    </tr>\n",
              "    <tr>\n",
              "      <th>5</th>\n",
              "      <td>max recall</td>\n",
              "      <td>0.029789</td>\n",
              "      <td>1.000000</td>\n",
              "      <td>380.0</td>\n",
              "    </tr>\n",
              "    <tr>\n",
              "      <th>6</th>\n",
              "      <td>max specificity</td>\n",
              "      <td>0.999182</td>\n",
              "      <td>1.000000</td>\n",
              "      <td>0.0</td>\n",
              "    </tr>\n",
              "    <tr>\n",
              "      <th>7</th>\n",
              "      <td>max absolute_mcc</td>\n",
              "      <td>0.568833</td>\n",
              "      <td>0.926328</td>\n",
              "      <td>203.0</td>\n",
              "    </tr>\n",
              "    <tr>\n",
              "      <th>8</th>\n",
              "      <td>max min_per_class_accuracy</td>\n",
              "      <td>0.681795</td>\n",
              "      <td>0.965372</td>\n",
              "      <td>171.0</td>\n",
              "    </tr>\n",
              "    <tr>\n",
              "      <th>9</th>\n",
              "      <td>max mean_per_class_accuracy</td>\n",
              "      <td>0.660432</td>\n",
              "      <td>0.965512</td>\n",
              "      <td>178.0</td>\n",
              "    </tr>\n",
              "    <tr>\n",
              "      <th>10</th>\n",
              "      <td>max tns</td>\n",
              "      <td>0.999182</td>\n",
              "      <td>16432.000000</td>\n",
              "      <td>0.0</td>\n",
              "    </tr>\n",
              "    <tr>\n",
              "      <th>11</th>\n",
              "      <td>max fns</td>\n",
              "      <td>0.999182</td>\n",
              "      <td>42708.000000</td>\n",
              "      <td>0.0</td>\n",
              "    </tr>\n",
              "    <tr>\n",
              "      <th>12</th>\n",
              "      <td>max fps</td>\n",
              "      <td>0.001023</td>\n",
              "      <td>16432.000000</td>\n",
              "      <td>399.0</td>\n",
              "    </tr>\n",
              "    <tr>\n",
              "      <th>13</th>\n",
              "      <td>max tps</td>\n",
              "      <td>0.029789</td>\n",
              "      <td>43803.000000</td>\n",
              "      <td>380.0</td>\n",
              "    </tr>\n",
              "    <tr>\n",
              "      <th>14</th>\n",
              "      <td>max tnr</td>\n",
              "      <td>0.999182</td>\n",
              "      <td>1.000000</td>\n",
              "      <td>0.0</td>\n",
              "    </tr>\n",
              "    <tr>\n",
              "      <th>15</th>\n",
              "      <td>max fnr</td>\n",
              "      <td>0.999182</td>\n",
              "      <td>0.975002</td>\n",
              "      <td>0.0</td>\n",
              "    </tr>\n",
              "    <tr>\n",
              "      <th>16</th>\n",
              "      <td>max fpr</td>\n",
              "      <td>0.001023</td>\n",
              "      <td>1.000000</td>\n",
              "      <td>399.0</td>\n",
              "    </tr>\n",
              "    <tr>\n",
              "      <th>17</th>\n",
              "      <td>max tpr</td>\n",
              "      <td>0.029789</td>\n",
              "      <td>1.000000</td>\n",
              "      <td>380.0</td>\n",
              "    </tr>\n",
              "  </tbody>\n",
              "</table>\n",
              "</div>"
            ],
            "text/plain": [
              "                         metric  threshold         value    idx\n",
              "0                        max f1   0.568833      0.980074  203.0\n",
              "1                        max f2   0.456568      0.985899  232.0\n",
              "2                  max f0point5   0.700192      0.982616  165.0\n",
              "3                  max accuracy   0.568833      0.970914  203.0\n",
              "4                 max precision   0.999182      1.000000    0.0\n",
              "5                    max recall   0.029789      1.000000  380.0\n",
              "6               max specificity   0.999182      1.000000    0.0\n",
              "7              max absolute_mcc   0.568833      0.926328  203.0\n",
              "8    max min_per_class_accuracy   0.681795      0.965372  171.0\n",
              "9   max mean_per_class_accuracy   0.660432      0.965512  178.0\n",
              "10                      max tns   0.999182  16432.000000    0.0\n",
              "11                      max fns   0.999182  42708.000000    0.0\n",
              "12                      max fps   0.001023  16432.000000  399.0\n",
              "13                      max tps   0.029789  43803.000000  380.0\n",
              "14                      max tnr   0.999182      1.000000    0.0\n",
              "15                      max fnr   0.999182      0.975002    0.0\n",
              "16                      max fpr   0.001023      1.000000  399.0\n",
              "17                      max tpr   0.029789      1.000000  380.0"
            ]
          },
          "metadata": {
            "tags": []
          }
        },
        {
          "output_type": "stream",
          "text": [
            "\n",
            "Gains/Lift Table: Avg response rate: 72.72 %, avg score: 72.72 %\n"
          ],
          "name": "stdout"
        },
        {
          "output_type": "display_data",
          "data": {
            "text/html": [
              "<div>\n",
              "<style scoped>\n",
              "    .dataframe tbody tr th:only-of-type {\n",
              "        vertical-align: middle;\n",
              "    }\n",
              "\n",
              "    .dataframe tbody tr th {\n",
              "        vertical-align: top;\n",
              "    }\n",
              "\n",
              "    .dataframe thead th {\n",
              "        text-align: right;\n",
              "    }\n",
              "</style>\n",
              "<table border=\"1\" class=\"dataframe\">\n",
              "  <thead>\n",
              "    <tr style=\"text-align: right;\">\n",
              "      <th></th>\n",
              "      <th></th>\n",
              "      <th>group</th>\n",
              "      <th>cumulative_data_fraction</th>\n",
              "      <th>lower_threshold</th>\n",
              "      <th>lift</th>\n",
              "      <th>cumulative_lift</th>\n",
              "      <th>response_rate</th>\n",
              "      <th>score</th>\n",
              "      <th>cumulative_response_rate</th>\n",
              "      <th>cumulative_score</th>\n",
              "      <th>capture_rate</th>\n",
              "      <th>cumulative_capture_rate</th>\n",
              "      <th>gain</th>\n",
              "      <th>cumulative_gain</th>\n",
              "    </tr>\n",
              "  </thead>\n",
              "  <tbody>\n",
              "    <tr>\n",
              "      <th>0</th>\n",
              "      <td></td>\n",
              "      <td>1</td>\n",
              "      <td>0.010011</td>\n",
              "      <td>0.999142</td>\n",
              "      <td>1.375134</td>\n",
              "      <td>1.375134</td>\n",
              "      <td>1.000000</td>\n",
              "      <td>0.999345</td>\n",
              "      <td>1.000000</td>\n",
              "      <td>0.999345</td>\n",
              "      <td>0.013766</td>\n",
              "      <td>0.013766</td>\n",
              "      <td>37.513412</td>\n",
              "      <td>37.513412</td>\n",
              "    </tr>\n",
              "    <tr>\n",
              "      <th>1</th>\n",
              "      <td></td>\n",
              "      <td>2</td>\n",
              "      <td>0.020005</td>\n",
              "      <td>0.998904</td>\n",
              "      <td>1.375134</td>\n",
              "      <td>1.375134</td>\n",
              "      <td>1.000000</td>\n",
              "      <td>0.999027</td>\n",
              "      <td>1.000000</td>\n",
              "      <td>0.999186</td>\n",
              "      <td>0.013743</td>\n",
              "      <td>0.027510</td>\n",
              "      <td>37.513412</td>\n",
              "      <td>37.513412</td>\n",
              "    </tr>\n",
              "    <tr>\n",
              "      <th>2</th>\n",
              "      <td></td>\n",
              "      <td>3</td>\n",
              "      <td>0.030016</td>\n",
              "      <td>0.998650</td>\n",
              "      <td>1.375134</td>\n",
              "      <td>1.375134</td>\n",
              "      <td>1.000000</td>\n",
              "      <td>0.998771</td>\n",
              "      <td>1.000000</td>\n",
              "      <td>0.999048</td>\n",
              "      <td>0.013766</td>\n",
              "      <td>0.041276</td>\n",
              "      <td>37.513412</td>\n",
              "      <td>37.513412</td>\n",
              "    </tr>\n",
              "    <tr>\n",
              "      <th>3</th>\n",
              "      <td></td>\n",
              "      <td>4</td>\n",
              "      <td>0.040010</td>\n",
              "      <td>0.998375</td>\n",
              "      <td>1.375134</td>\n",
              "      <td>1.375134</td>\n",
              "      <td>1.000000</td>\n",
              "      <td>0.998505</td>\n",
              "      <td>1.000000</td>\n",
              "      <td>0.998912</td>\n",
              "      <td>0.013743</td>\n",
              "      <td>0.055019</td>\n",
              "      <td>37.513412</td>\n",
              "      <td>37.513412</td>\n",
              "    </tr>\n",
              "    <tr>\n",
              "      <th>4</th>\n",
              "      <td></td>\n",
              "      <td>5</td>\n",
              "      <td>0.050004</td>\n",
              "      <td>0.998152</td>\n",
              "      <td>1.375134</td>\n",
              "      <td>1.375134</td>\n",
              "      <td>1.000000</td>\n",
              "      <td>0.998285</td>\n",
              "      <td>1.000000</td>\n",
              "      <td>0.998787</td>\n",
              "      <td>0.013743</td>\n",
              "      <td>0.068762</td>\n",
              "      <td>37.513412</td>\n",
              "      <td>37.513412</td>\n",
              "    </tr>\n",
              "    <tr>\n",
              "      <th>5</th>\n",
              "      <td></td>\n",
              "      <td>6</td>\n",
              "      <td>0.100008</td>\n",
              "      <td>0.996511</td>\n",
              "      <td>1.375134</td>\n",
              "      <td>1.375134</td>\n",
              "      <td>1.000000</td>\n",
              "      <td>0.997384</td>\n",
              "      <td>1.000000</td>\n",
              "      <td>0.998085</td>\n",
              "      <td>0.068762</td>\n",
              "      <td>0.137525</td>\n",
              "      <td>37.513412</td>\n",
              "      <td>37.513412</td>\n",
              "    </tr>\n",
              "    <tr>\n",
              "      <th>6</th>\n",
              "      <td></td>\n",
              "      <td>7</td>\n",
              "      <td>0.150012</td>\n",
              "      <td>0.994140</td>\n",
              "      <td>1.374678</td>\n",
              "      <td>1.374982</td>\n",
              "      <td>0.999668</td>\n",
              "      <td>0.995391</td>\n",
              "      <td>0.999889</td>\n",
              "      <td>0.997187</td>\n",
              "      <td>0.068740</td>\n",
              "      <td>0.206264</td>\n",
              "      <td>37.467757</td>\n",
              "      <td>37.498194</td>\n",
              "    </tr>\n",
              "    <tr>\n",
              "      <th>7</th>\n",
              "      <td></td>\n",
              "      <td>8</td>\n",
              "      <td>0.200000</td>\n",
              "      <td>0.991106</td>\n",
              "      <td>1.375134</td>\n",
              "      <td>1.375020</td>\n",
              "      <td>1.000000</td>\n",
              "      <td>0.992702</td>\n",
              "      <td>0.999917</td>\n",
              "      <td>0.996066</td>\n",
              "      <td>0.068740</td>\n",
              "      <td>0.275004</td>\n",
              "      <td>37.513412</td>\n",
              "      <td>37.501998</td>\n",
              "    </tr>\n",
              "    <tr>\n",
              "      <th>8</th>\n",
              "      <td></td>\n",
              "      <td>9</td>\n",
              "      <td>0.300008</td>\n",
              "      <td>0.982411</td>\n",
              "      <td>1.374678</td>\n",
              "      <td>1.374906</td>\n",
              "      <td>0.999668</td>\n",
              "      <td>0.987139</td>\n",
              "      <td>0.999834</td>\n",
              "      <td>0.993090</td>\n",
              "      <td>0.137479</td>\n",
              "      <td>0.412483</td>\n",
              "      <td>37.467757</td>\n",
              "      <td>37.490583</td>\n",
              "    </tr>\n",
              "    <tr>\n",
              "      <th>9</th>\n",
              "      <td></td>\n",
              "      <td>10</td>\n",
              "      <td>0.400000</td>\n",
              "      <td>0.967592</td>\n",
              "      <td>1.373764</td>\n",
              "      <td>1.374620</td>\n",
              "      <td>0.999004</td>\n",
              "      <td>0.975653</td>\n",
              "      <td>0.999626</td>\n",
              "      <td>0.988731</td>\n",
              "      <td>0.137365</td>\n",
              "      <td>0.549848</td>\n",
              "      <td>37.376424</td>\n",
              "      <td>37.462046</td>\n",
              "    </tr>\n",
              "    <tr>\n",
              "      <th>10</th>\n",
              "      <td></td>\n",
              "      <td>11</td>\n",
              "      <td>0.500008</td>\n",
              "      <td>0.941373</td>\n",
              "      <td>1.371025</td>\n",
              "      <td>1.373901</td>\n",
              "      <td>0.997012</td>\n",
              "      <td>0.955798</td>\n",
              "      <td>0.999104</td>\n",
              "      <td>0.982144</td>\n",
              "      <td>0.137114</td>\n",
              "      <td>0.686962</td>\n",
              "      <td>37.102516</td>\n",
              "      <td>37.390135</td>\n",
              "    </tr>\n",
              "    <tr>\n",
              "      <th>11</th>\n",
              "      <td></td>\n",
              "      <td>12</td>\n",
              "      <td>0.600000</td>\n",
              "      <td>0.887087</td>\n",
              "      <td>1.363490</td>\n",
              "      <td>1.372166</td>\n",
              "      <td>0.991532</td>\n",
              "      <td>0.917860</td>\n",
              "      <td>0.997842</td>\n",
              "      <td>0.971431</td>\n",
              "      <td>0.136338</td>\n",
              "      <td>0.823300</td>\n",
              "      <td>36.349012</td>\n",
              "      <td>37.216629</td>\n",
              "    </tr>\n",
              "    <tr>\n",
              "      <th>12</th>\n",
              "      <td></td>\n",
              "      <td>13</td>\n",
              "      <td>0.699992</td>\n",
              "      <td>0.722751</td>\n",
              "      <td>1.295909</td>\n",
              "      <td>1.361273</td>\n",
              "      <td>0.942388</td>\n",
              "      <td>0.823607</td>\n",
              "      <td>0.989920</td>\n",
              "      <td>0.950315</td>\n",
              "      <td>0.129580</td>\n",
              "      <td>0.952880</td>\n",
              "      <td>29.590923</td>\n",
              "      <td>36.127320</td>\n",
              "    </tr>\n",
              "    <tr>\n",
              "      <th>13</th>\n",
              "      <td></td>\n",
              "      <td>14</td>\n",
              "      <td>0.800000</td>\n",
              "      <td>0.241892</td>\n",
              "      <td>0.453584</td>\n",
              "      <td>1.247803</td>\n",
              "      <td>0.329847</td>\n",
              "      <td>0.470357</td>\n",
              "      <td>0.907404</td>\n",
              "      <td>0.890315</td>\n",
              "      <td>0.045362</td>\n",
              "      <td>0.998242</td>\n",
              "      <td>-54.641575</td>\n",
              "      <td>24.780266</td>\n",
              "    </tr>\n",
              "    <tr>\n",
              "      <th>14</th>\n",
              "      <td></td>\n",
              "      <td>15</td>\n",
              "      <td>0.899992</td>\n",
              "      <td>0.051433</td>\n",
              "      <td>0.017124</td>\n",
              "      <td>1.111071</td>\n",
              "      <td>0.012452</td>\n",
              "      <td>0.131010</td>\n",
              "      <td>0.807973</td>\n",
              "      <td>0.805954</td>\n",
              "      <td>0.001712</td>\n",
              "      <td>0.999954</td>\n",
              "      <td>-98.287646</td>\n",
              "      <td>11.107063</td>\n",
              "    </tr>\n",
              "    <tr>\n",
              "      <th>15</th>\n",
              "      <td></td>\n",
              "      <td>16</td>\n",
              "      <td>1.000000</td>\n",
              "      <td>0.000171</td>\n",
              "      <td>0.000457</td>\n",
              "      <td>1.000000</td>\n",
              "      <td>0.000332</td>\n",
              "      <td>0.018252</td>\n",
              "      <td>0.727202</td>\n",
              "      <td>0.727177</td>\n",
              "      <td>0.000046</td>\n",
              "      <td>1.000000</td>\n",
              "      <td>-99.954345</td>\n",
              "      <td>0.000000</td>\n",
              "    </tr>\n",
              "  </tbody>\n",
              "</table>\n",
              "</div>"
            ],
            "text/plain": [
              "      group  ...       gain  cumulative_gain\n",
              "0         1  ...  37.513412        37.513412\n",
              "1         2  ...  37.513412        37.513412\n",
              "2         3  ...  37.513412        37.513412\n",
              "3         4  ...  37.513412        37.513412\n",
              "4         5  ...  37.513412        37.513412\n",
              "5         6  ...  37.513412        37.513412\n",
              "6         7  ...  37.467757        37.498194\n",
              "7         8  ...  37.513412        37.501998\n",
              "8         9  ...  37.467757        37.490583\n",
              "9        10  ...  37.376424        37.462046\n",
              "10       11  ...  37.102516        37.390135\n",
              "11       12  ...  36.349012        37.216629\n",
              "12       13  ...  29.590923        36.127320\n",
              "13       14  ... -54.641575        24.780266\n",
              "14       15  ... -98.287646        11.107063\n",
              "15       16  ... -99.954345         0.000000\n",
              "\n",
              "[16 rows x 14 columns]"
            ]
          },
          "metadata": {
            "tags": []
          }
        },
        {
          "output_type": "stream",
          "text": [
            "\n",
            "\n",
            "ModelMetricsBinomial: gbm\n",
            "** Reported on validation data. **\n",
            "\n",
            "MSE: 0.08274535145425872\n",
            "RMSE: 0.2876549173128433\n",
            "LogLoss: 0.2699055498720257\n",
            "Mean Per-Class Error: 0.1327631980166517\n",
            "AUC: 0.9401149538731074\n",
            "AUCPR: 0.9749328155310352\n",
            "Gini: 0.8802299077462148\n",
            "\n",
            "Confusion Matrix (Act/Pred) for max f1 @ threshold = 0.4994280759711129: \n"
          ],
          "name": "stdout"
        },
        {
          "output_type": "display_data",
          "data": {
            "text/html": [
              "<div>\n",
              "<style scoped>\n",
              "    .dataframe tbody tr th:only-of-type {\n",
              "        vertical-align: middle;\n",
              "    }\n",
              "\n",
              "    .dataframe tbody tr th {\n",
              "        vertical-align: top;\n",
              "    }\n",
              "\n",
              "    .dataframe thead th {\n",
              "        text-align: right;\n",
              "    }\n",
              "</style>\n",
              "<table border=\"1\" class=\"dataframe\">\n",
              "  <thead>\n",
              "    <tr style=\"text-align: right;\">\n",
              "      <th></th>\n",
              "      <th></th>\n",
              "      <th>0</th>\n",
              "      <th>1</th>\n",
              "      <th>Error</th>\n",
              "      <th>Rate</th>\n",
              "    </tr>\n",
              "  </thead>\n",
              "  <tbody>\n",
              "    <tr>\n",
              "      <th>0</th>\n",
              "      <td>0</td>\n",
              "      <td>2487.0</td>\n",
              "      <td>1001.0</td>\n",
              "      <td>0.287</td>\n",
              "      <td>(1001.0/3488.0)</td>\n",
              "    </tr>\n",
              "    <tr>\n",
              "      <th>1</th>\n",
              "      <td>1</td>\n",
              "      <td>473.0</td>\n",
              "      <td>8869.0</td>\n",
              "      <td>0.0506</td>\n",
              "      <td>(473.0/9342.0)</td>\n",
              "    </tr>\n",
              "    <tr>\n",
              "      <th>2</th>\n",
              "      <td>Total</td>\n",
              "      <td>2960.0</td>\n",
              "      <td>9870.0</td>\n",
              "      <td>0.1149</td>\n",
              "      <td>(1474.0/12830.0)</td>\n",
              "    </tr>\n",
              "  </tbody>\n",
              "</table>\n",
              "</div>"
            ],
            "text/plain": [
              "               0       1   Error               Rate\n",
              "0      0  2487.0  1001.0   0.287    (1001.0/3488.0)\n",
              "1      1   473.0  8869.0  0.0506     (473.0/9342.0)\n",
              "2  Total  2960.0  9870.0  0.1149   (1474.0/12830.0)"
            ]
          },
          "metadata": {
            "tags": []
          }
        },
        {
          "output_type": "stream",
          "text": [
            "\n",
            "Maximum Metrics: Maximum metrics at their respective thresholds\n"
          ],
          "name": "stdout"
        },
        {
          "output_type": "display_data",
          "data": {
            "text/html": [
              "<div>\n",
              "<style scoped>\n",
              "    .dataframe tbody tr th:only-of-type {\n",
              "        vertical-align: middle;\n",
              "    }\n",
              "\n",
              "    .dataframe tbody tr th {\n",
              "        vertical-align: top;\n",
              "    }\n",
              "\n",
              "    .dataframe thead th {\n",
              "        text-align: right;\n",
              "    }\n",
              "</style>\n",
              "<table border=\"1\" class=\"dataframe\">\n",
              "  <thead>\n",
              "    <tr style=\"text-align: right;\">\n",
              "      <th></th>\n",
              "      <th>metric</th>\n",
              "      <th>threshold</th>\n",
              "      <th>value</th>\n",
              "      <th>idx</th>\n",
              "    </tr>\n",
              "  </thead>\n",
              "  <tbody>\n",
              "    <tr>\n",
              "      <th>0</th>\n",
              "      <td>max f1</td>\n",
              "      <td>0.499428</td>\n",
              "      <td>0.923277</td>\n",
              "      <td>232.0</td>\n",
              "    </tr>\n",
              "    <tr>\n",
              "      <th>1</th>\n",
              "      <td>max f2</td>\n",
              "      <td>0.217316</td>\n",
              "      <td>0.954312</td>\n",
              "      <td>312.0</td>\n",
              "    </tr>\n",
              "    <tr>\n",
              "      <th>2</th>\n",
              "      <td>max f0point5</td>\n",
              "      <td>0.730900</td>\n",
              "      <td>0.928635</td>\n",
              "      <td>156.0</td>\n",
              "    </tr>\n",
              "    <tr>\n",
              "      <th>3</th>\n",
              "      <td>max accuracy</td>\n",
              "      <td>0.578211</td>\n",
              "      <td>0.885659</td>\n",
              "      <td>207.0</td>\n",
              "    </tr>\n",
              "    <tr>\n",
              "      <th>4</th>\n",
              "      <td>max precision</td>\n",
              "      <td>0.999196</td>\n",
              "      <td>1.000000</td>\n",
              "      <td>0.0</td>\n",
              "    </tr>\n",
              "    <tr>\n",
              "      <th>5</th>\n",
              "      <td>max recall</td>\n",
              "      <td>0.006825</td>\n",
              "      <td>1.000000</td>\n",
              "      <td>394.0</td>\n",
              "    </tr>\n",
              "    <tr>\n",
              "      <th>6</th>\n",
              "      <td>max specificity</td>\n",
              "      <td>0.999196</td>\n",
              "      <td>1.000000</td>\n",
              "      <td>0.0</td>\n",
              "    </tr>\n",
              "    <tr>\n",
              "      <th>7</th>\n",
              "      <td>max absolute_mcc</td>\n",
              "      <td>0.661071</td>\n",
              "      <td>0.708249</td>\n",
              "      <td>182.0</td>\n",
              "    </tr>\n",
              "    <tr>\n",
              "      <th>8</th>\n",
              "      <td>max min_per_class_accuracy</td>\n",
              "      <td>0.770953</td>\n",
              "      <td>0.864106</td>\n",
              "      <td>141.0</td>\n",
              "    </tr>\n",
              "    <tr>\n",
              "      <th>9</th>\n",
              "      <td>max mean_per_class_accuracy</td>\n",
              "      <td>0.730900</td>\n",
              "      <td>0.867237</td>\n",
              "      <td>156.0</td>\n",
              "    </tr>\n",
              "    <tr>\n",
              "      <th>10</th>\n",
              "      <td>max tns</td>\n",
              "      <td>0.999196</td>\n",
              "      <td>3488.000000</td>\n",
              "      <td>0.0</td>\n",
              "    </tr>\n",
              "    <tr>\n",
              "      <th>11</th>\n",
              "      <td>max fns</td>\n",
              "      <td>0.999196</td>\n",
              "      <td>9153.000000</td>\n",
              "      <td>0.0</td>\n",
              "    </tr>\n",
              "    <tr>\n",
              "      <th>12</th>\n",
              "      <td>max fps</td>\n",
              "      <td>0.001188</td>\n",
              "      <td>3488.000000</td>\n",
              "      <td>399.0</td>\n",
              "    </tr>\n",
              "    <tr>\n",
              "      <th>13</th>\n",
              "      <td>max tps</td>\n",
              "      <td>0.006825</td>\n",
              "      <td>9342.000000</td>\n",
              "      <td>394.0</td>\n",
              "    </tr>\n",
              "    <tr>\n",
              "      <th>14</th>\n",
              "      <td>max tnr</td>\n",
              "      <td>0.999196</td>\n",
              "      <td>1.000000</td>\n",
              "      <td>0.0</td>\n",
              "    </tr>\n",
              "    <tr>\n",
              "      <th>15</th>\n",
              "      <td>max fnr</td>\n",
              "      <td>0.999196</td>\n",
              "      <td>0.979769</td>\n",
              "      <td>0.0</td>\n",
              "    </tr>\n",
              "    <tr>\n",
              "      <th>16</th>\n",
              "      <td>max fpr</td>\n",
              "      <td>0.001188</td>\n",
              "      <td>1.000000</td>\n",
              "      <td>399.0</td>\n",
              "    </tr>\n",
              "    <tr>\n",
              "      <th>17</th>\n",
              "      <td>max tpr</td>\n",
              "      <td>0.006825</td>\n",
              "      <td>1.000000</td>\n",
              "      <td>394.0</td>\n",
              "    </tr>\n",
              "  </tbody>\n",
              "</table>\n",
              "</div>"
            ],
            "text/plain": [
              "                         metric  threshold        value    idx\n",
              "0                        max f1   0.499428     0.923277  232.0\n",
              "1                        max f2   0.217316     0.954312  312.0\n",
              "2                  max f0point5   0.730900     0.928635  156.0\n",
              "3                  max accuracy   0.578211     0.885659  207.0\n",
              "4                 max precision   0.999196     1.000000    0.0\n",
              "5                    max recall   0.006825     1.000000  394.0\n",
              "6               max specificity   0.999196     1.000000    0.0\n",
              "7              max absolute_mcc   0.661071     0.708249  182.0\n",
              "8    max min_per_class_accuracy   0.770953     0.864106  141.0\n",
              "9   max mean_per_class_accuracy   0.730900     0.867237  156.0\n",
              "10                      max tns   0.999196  3488.000000    0.0\n",
              "11                      max fns   0.999196  9153.000000    0.0\n",
              "12                      max fps   0.001188  3488.000000  399.0\n",
              "13                      max tps   0.006825  9342.000000  394.0\n",
              "14                      max tnr   0.999196     1.000000    0.0\n",
              "15                      max fnr   0.999196     0.979769    0.0\n",
              "16                      max fpr   0.001188     1.000000  399.0\n",
              "17                      max tpr   0.006825     1.000000  394.0"
            ]
          },
          "metadata": {
            "tags": []
          }
        },
        {
          "output_type": "stream",
          "text": [
            "\n",
            "Gains/Lift Table: Avg response rate: 72.81 %, avg score: 73.77 %\n"
          ],
          "name": "stdout"
        },
        {
          "output_type": "display_data",
          "data": {
            "text/html": [
              "<div>\n",
              "<style scoped>\n",
              "    .dataframe tbody tr th:only-of-type {\n",
              "        vertical-align: middle;\n",
              "    }\n",
              "\n",
              "    .dataframe tbody tr th {\n",
              "        vertical-align: top;\n",
              "    }\n",
              "\n",
              "    .dataframe thead th {\n",
              "        text-align: right;\n",
              "    }\n",
              "</style>\n",
              "<table border=\"1\" class=\"dataframe\">\n",
              "  <thead>\n",
              "    <tr style=\"text-align: right;\">\n",
              "      <th></th>\n",
              "      <th></th>\n",
              "      <th>group</th>\n",
              "      <th>cumulative_data_fraction</th>\n",
              "      <th>lower_threshold</th>\n",
              "      <th>lift</th>\n",
              "      <th>cumulative_lift</th>\n",
              "      <th>response_rate</th>\n",
              "      <th>score</th>\n",
              "      <th>cumulative_response_rate</th>\n",
              "      <th>cumulative_score</th>\n",
              "      <th>capture_rate</th>\n",
              "      <th>cumulative_capture_rate</th>\n",
              "      <th>gain</th>\n",
              "      <th>cumulative_gain</th>\n",
              "    </tr>\n",
              "  </thead>\n",
              "  <tbody>\n",
              "    <tr>\n",
              "      <th>0</th>\n",
              "      <td></td>\n",
              "      <td>1</td>\n",
              "      <td>0.010600</td>\n",
              "      <td>0.999113</td>\n",
              "      <td>1.373368</td>\n",
              "      <td>1.373368</td>\n",
              "      <td>1.000000</td>\n",
              "      <td>0.999282</td>\n",
              "      <td>1.000000</td>\n",
              "      <td>0.999282</td>\n",
              "      <td>0.014558</td>\n",
              "      <td>0.014558</td>\n",
              "      <td>37.336759</td>\n",
              "      <td>37.336759</td>\n",
              "    </tr>\n",
              "    <tr>\n",
              "      <th>1</th>\n",
              "      <td></td>\n",
              "      <td>2</td>\n",
              "      <td>0.020031</td>\n",
              "      <td>0.998887</td>\n",
              "      <td>1.373368</td>\n",
              "      <td>1.373368</td>\n",
              "      <td>1.000000</td>\n",
              "      <td>0.998989</td>\n",
              "      <td>1.000000</td>\n",
              "      <td>0.999144</td>\n",
              "      <td>0.012952</td>\n",
              "      <td>0.027510</td>\n",
              "      <td>37.336759</td>\n",
              "      <td>37.336759</td>\n",
              "    </tr>\n",
              "    <tr>\n",
              "      <th>2</th>\n",
              "      <td></td>\n",
              "      <td>3</td>\n",
              "      <td>0.030008</td>\n",
              "      <td>0.998609</td>\n",
              "      <td>1.373368</td>\n",
              "      <td>1.373368</td>\n",
              "      <td>1.000000</td>\n",
              "      <td>0.998733</td>\n",
              "      <td>1.000000</td>\n",
              "      <td>0.999007</td>\n",
              "      <td>0.013702</td>\n",
              "      <td>0.041212</td>\n",
              "      <td>37.336759</td>\n",
              "      <td>37.336759</td>\n",
              "    </tr>\n",
              "    <tr>\n",
              "      <th>3</th>\n",
              "      <td></td>\n",
              "      <td>4</td>\n",
              "      <td>0.040062</td>\n",
              "      <td>0.998363</td>\n",
              "      <td>1.373368</td>\n",
              "      <td>1.373368</td>\n",
              "      <td>1.000000</td>\n",
              "      <td>0.998481</td>\n",
              "      <td>1.000000</td>\n",
              "      <td>0.998875</td>\n",
              "      <td>0.013809</td>\n",
              "      <td>0.055020</td>\n",
              "      <td>37.336759</td>\n",
              "      <td>37.336759</td>\n",
              "    </tr>\n",
              "    <tr>\n",
              "      <th>4</th>\n",
              "      <td></td>\n",
              "      <td>5</td>\n",
              "      <td>0.050039</td>\n",
              "      <td>0.998115</td>\n",
              "      <td>1.373368</td>\n",
              "      <td>1.373368</td>\n",
              "      <td>1.000000</td>\n",
              "      <td>0.998260</td>\n",
              "      <td>1.000000</td>\n",
              "      <td>0.998753</td>\n",
              "      <td>0.013702</td>\n",
              "      <td>0.068722</td>\n",
              "      <td>37.336759</td>\n",
              "      <td>37.336759</td>\n",
              "    </tr>\n",
              "    <tr>\n",
              "      <th>5</th>\n",
              "      <td></td>\n",
              "      <td>6</td>\n",
              "      <td>0.100000</td>\n",
              "      <td>0.996314</td>\n",
              "      <td>1.366940</td>\n",
              "      <td>1.370156</td>\n",
              "      <td>0.995320</td>\n",
              "      <td>0.997309</td>\n",
              "      <td>0.997662</td>\n",
              "      <td>0.998031</td>\n",
              "      <td>0.068294</td>\n",
              "      <td>0.137016</td>\n",
              "      <td>36.693997</td>\n",
              "      <td>37.015628</td>\n",
              "    </tr>\n",
              "    <tr>\n",
              "      <th>6</th>\n",
              "      <td></td>\n",
              "      <td>7</td>\n",
              "      <td>0.150039</td>\n",
              "      <td>0.993882</td>\n",
              "      <td>1.369089</td>\n",
              "      <td>1.369800</td>\n",
              "      <td>0.996885</td>\n",
              "      <td>0.995171</td>\n",
              "      <td>0.997403</td>\n",
              "      <td>0.997077</td>\n",
              "      <td>0.068508</td>\n",
              "      <td>0.205523</td>\n",
              "      <td>36.908918</td>\n",
              "      <td>36.980040</td>\n",
              "    </tr>\n",
              "    <tr>\n",
              "      <th>7</th>\n",
              "      <td></td>\n",
              "      <td>8</td>\n",
              "      <td>0.200000</td>\n",
              "      <td>0.990567</td>\n",
              "      <td>1.358370</td>\n",
              "      <td>1.366945</td>\n",
              "      <td>0.989080</td>\n",
              "      <td>0.992295</td>\n",
              "      <td>0.995323</td>\n",
              "      <td>0.995883</td>\n",
              "      <td>0.067866</td>\n",
              "      <td>0.273389</td>\n",
              "      <td>35.836981</td>\n",
              "      <td>36.694498</td>\n",
              "    </tr>\n",
              "    <tr>\n",
              "      <th>8</th>\n",
              "      <td></td>\n",
              "      <td>9</td>\n",
              "      <td>0.300000</td>\n",
              "      <td>0.980572</td>\n",
              "      <td>1.359452</td>\n",
              "      <td>1.364447</td>\n",
              "      <td>0.989867</td>\n",
              "      <td>0.985947</td>\n",
              "      <td>0.993505</td>\n",
              "      <td>0.992571</td>\n",
              "      <td>0.135945</td>\n",
              "      <td>0.409334</td>\n",
              "      <td>35.945194</td>\n",
              "      <td>36.444730</td>\n",
              "    </tr>\n",
              "    <tr>\n",
              "      <th>9</th>\n",
              "      <td></td>\n",
              "      <td>10</td>\n",
              "      <td>0.400000</td>\n",
              "      <td>0.963275</td>\n",
              "      <td>1.329480</td>\n",
              "      <td>1.355705</td>\n",
              "      <td>0.968044</td>\n",
              "      <td>0.972765</td>\n",
              "      <td>0.987140</td>\n",
              "      <td>0.987619</td>\n",
              "      <td>0.132948</td>\n",
              "      <td>0.542282</td>\n",
              "      <td>32.947977</td>\n",
              "      <td>35.570542</td>\n",
              "    </tr>\n",
              "    <tr>\n",
              "      <th>10</th>\n",
              "      <td></td>\n",
              "      <td>11</td>\n",
              "      <td>0.500000</td>\n",
              "      <td>0.930042</td>\n",
              "      <td>1.296296</td>\n",
              "      <td>1.343824</td>\n",
              "      <td>0.943882</td>\n",
              "      <td>0.948454</td>\n",
              "      <td>0.978488</td>\n",
              "      <td>0.979786</td>\n",
              "      <td>0.129630</td>\n",
              "      <td>0.671912</td>\n",
              "      <td>29.629630</td>\n",
              "      <td>34.382359</td>\n",
              "    </tr>\n",
              "    <tr>\n",
              "      <th>11</th>\n",
              "      <td></td>\n",
              "      <td>12</td>\n",
              "      <td>0.600000</td>\n",
              "      <td>0.857339</td>\n",
              "      <td>1.207450</td>\n",
              "      <td>1.321095</td>\n",
              "      <td>0.879189</td>\n",
              "      <td>0.897699</td>\n",
              "      <td>0.961938</td>\n",
              "      <td>0.966105</td>\n",
              "      <td>0.120745</td>\n",
              "      <td>0.792657</td>\n",
              "      <td>20.745022</td>\n",
              "      <td>32.109470</td>\n",
              "    </tr>\n",
              "    <tr>\n",
              "      <th>12</th>\n",
              "      <td></td>\n",
              "      <td>13</td>\n",
              "      <td>0.700000</td>\n",
              "      <td>0.698255</td>\n",
              "      <td>1.045815</td>\n",
              "      <td>1.281769</td>\n",
              "      <td>0.761496</td>\n",
              "      <td>0.790645</td>\n",
              "      <td>0.933304</td>\n",
              "      <td>0.941039</td>\n",
              "      <td>0.104581</td>\n",
              "      <td>0.897238</td>\n",
              "      <td>4.581460</td>\n",
              "      <td>28.176897</td>\n",
              "    </tr>\n",
              "    <tr>\n",
              "      <th>13</th>\n",
              "      <td></td>\n",
              "      <td>14</td>\n",
              "      <td>0.800000</td>\n",
              "      <td>0.378224</td>\n",
              "      <td>0.695782</td>\n",
              "      <td>1.208521</td>\n",
              "      <td>0.506625</td>\n",
              "      <td>0.554501</td>\n",
              "      <td>0.879969</td>\n",
              "      <td>0.892722</td>\n",
              "      <td>0.069578</td>\n",
              "      <td>0.966817</td>\n",
              "      <td>-30.421751</td>\n",
              "      <td>20.852066</td>\n",
              "    </tr>\n",
              "    <tr>\n",
              "      <th>14</th>\n",
              "      <td></td>\n",
              "      <td>15</td>\n",
              "      <td>0.900000</td>\n",
              "      <td>0.075841</td>\n",
              "      <td>0.294370</td>\n",
              "      <td>1.106948</td>\n",
              "      <td>0.214341</td>\n",
              "      <td>0.210855</td>\n",
              "      <td>0.806010</td>\n",
              "      <td>0.816959</td>\n",
              "      <td>0.029437</td>\n",
              "      <td>0.996253</td>\n",
              "      <td>-70.563049</td>\n",
              "      <td>10.694831</td>\n",
              "    </tr>\n",
              "    <tr>\n",
              "      <th>15</th>\n",
              "      <td></td>\n",
              "      <td>16</td>\n",
              "      <td>1.000000</td>\n",
              "      <td>0.000260</td>\n",
              "      <td>0.037465</td>\n",
              "      <td>1.000000</td>\n",
              "      <td>0.027280</td>\n",
              "      <td>0.024409</td>\n",
              "      <td>0.728137</td>\n",
              "      <td>0.737704</td>\n",
              "      <td>0.003747</td>\n",
              "      <td>1.000000</td>\n",
              "      <td>-96.253479</td>\n",
              "      <td>0.000000</td>\n",
              "    </tr>\n",
              "  </tbody>\n",
              "</table>\n",
              "</div>"
            ],
            "text/plain": [
              "      group  ...       gain  cumulative_gain\n",
              "0         1  ...  37.336759        37.336759\n",
              "1         2  ...  37.336759        37.336759\n",
              "2         3  ...  37.336759        37.336759\n",
              "3         4  ...  37.336759        37.336759\n",
              "4         5  ...  37.336759        37.336759\n",
              "5         6  ...  36.693997        37.015628\n",
              "6         7  ...  36.908918        36.980040\n",
              "7         8  ...  35.836981        36.694498\n",
              "8         9  ...  35.945194        36.444730\n",
              "9        10  ...  32.947977        35.570542\n",
              "10       11  ...  29.629630        34.382359\n",
              "11       12  ...  20.745022        32.109470\n",
              "12       13  ...   4.581460        28.176897\n",
              "13       14  ... -30.421751        20.852066\n",
              "14       15  ... -70.563049        10.694831\n",
              "15       16  ... -96.253479         0.000000\n",
              "\n",
              "[16 rows x 14 columns]"
            ]
          },
          "metadata": {
            "tags": []
          }
        },
        {
          "output_type": "stream",
          "text": [
            "\n",
            "\n",
            "Scoring History: \n"
          ],
          "name": "stdout"
        },
        {
          "output_type": "display_data",
          "data": {
            "text/html": [
              "<div>\n",
              "<style scoped>\n",
              "    .dataframe tbody tr th:only-of-type {\n",
              "        vertical-align: middle;\n",
              "    }\n",
              "\n",
              "    .dataframe tbody tr th {\n",
              "        vertical-align: top;\n",
              "    }\n",
              "\n",
              "    .dataframe thead th {\n",
              "        text-align: right;\n",
              "    }\n",
              "</style>\n",
              "<table border=\"1\" class=\"dataframe\">\n",
              "  <thead>\n",
              "    <tr style=\"text-align: right;\">\n",
              "      <th></th>\n",
              "      <th></th>\n",
              "      <th>timestamp</th>\n",
              "      <th>duration</th>\n",
              "      <th>number_of_trees</th>\n",
              "      <th>training_rmse</th>\n",
              "      <th>training_logloss</th>\n",
              "      <th>training_auc</th>\n",
              "      <th>training_pr_auc</th>\n",
              "      <th>training_lift</th>\n",
              "      <th>training_classification_error</th>\n",
              "      <th>validation_rmse</th>\n",
              "      <th>validation_logloss</th>\n",
              "      <th>validation_auc</th>\n",
              "      <th>validation_pr_auc</th>\n",
              "      <th>validation_lift</th>\n",
              "      <th>validation_classification_error</th>\n",
              "    </tr>\n",
              "  </thead>\n",
              "  <tbody>\n",
              "    <tr>\n",
              "      <th>0</th>\n",
              "      <td></td>\n",
              "      <td>2021-08-05 17:02:51</td>\n",
              "      <td>1 min 46.451 sec</td>\n",
              "      <td>0.0</td>\n",
              "      <td>0.445398</td>\n",
              "      <td>0.586022</td>\n",
              "      <td>0.500000</td>\n",
              "      <td>0.727202</td>\n",
              "      <td>1.000000</td>\n",
              "      <td>0.272798</td>\n",
              "      <td>0.444921</td>\n",
              "      <td>0.585105</td>\n",
              "      <td>0.500000</td>\n",
              "      <td>0.728137</td>\n",
              "      <td>1.000000</td>\n",
              "      <td>0.271863</td>\n",
              "    </tr>\n",
              "    <tr>\n",
              "      <th>1</th>\n",
              "      <td></td>\n",
              "      <td>2021-08-05 17:02:52</td>\n",
              "      <td>1 min 47.586 sec</td>\n",
              "      <td>1.0</td>\n",
              "      <td>0.430637</td>\n",
              "      <td>0.554486</td>\n",
              "      <td>0.839667</td>\n",
              "      <td>0.927510</td>\n",
              "      <td>1.368299</td>\n",
              "      <td>0.190902</td>\n",
              "      <td>0.430842</td>\n",
              "      <td>0.555026</td>\n",
              "      <td>0.829183</td>\n",
              "      <td>0.923249</td>\n",
              "      <td>1.367618</td>\n",
              "      <td>0.196181</td>\n",
              "    </tr>\n",
              "    <tr>\n",
              "      <th>2</th>\n",
              "      <td></td>\n",
              "      <td>2021-08-05 17:02:53</td>\n",
              "      <td>1 min 48.520 sec</td>\n",
              "      <td>2.0</td>\n",
              "      <td>0.417617</td>\n",
              "      <td>0.528379</td>\n",
              "      <td>0.865362</td>\n",
              "      <td>0.939740</td>\n",
              "      <td>1.368298</td>\n",
              "      <td>0.170748</td>\n",
              "      <td>0.418775</td>\n",
              "      <td>0.530744</td>\n",
              "      <td>0.852050</td>\n",
              "      <td>0.935166</td>\n",
              "      <td>1.367618</td>\n",
              "      <td>0.185113</td>\n",
              "    </tr>\n",
              "    <tr>\n",
              "      <th>3</th>\n",
              "      <td></td>\n",
              "      <td>2021-08-05 17:02:54</td>\n",
              "      <td>1 min 49.508 sec</td>\n",
              "      <td>3.0</td>\n",
              "      <td>0.406230</td>\n",
              "      <td>0.506477</td>\n",
              "      <td>0.875599</td>\n",
              "      <td>0.944581</td>\n",
              "      <td>1.369265</td>\n",
              "      <td>0.164888</td>\n",
              "      <td>0.408228</td>\n",
              "      <td>0.510316</td>\n",
              "      <td>0.860922</td>\n",
              "      <td>0.938960</td>\n",
              "      <td>1.368136</td>\n",
              "      <td>0.177942</td>\n",
              "    </tr>\n",
              "    <tr>\n",
              "      <th>4</th>\n",
              "      <td></td>\n",
              "      <td>2021-08-05 17:02:58</td>\n",
              "      <td>1 min 53.805 sec</td>\n",
              "      <td>8.0</td>\n",
              "      <td>0.366703</td>\n",
              "      <td>0.432816</td>\n",
              "      <td>0.900456</td>\n",
              "      <td>0.957131</td>\n",
              "      <td>1.375134</td>\n",
              "      <td>0.149099</td>\n",
              "      <td>0.372057</td>\n",
              "      <td>0.441772</td>\n",
              "      <td>0.885892</td>\n",
              "      <td>0.951117</td>\n",
              "      <td>1.370408</td>\n",
              "      <td>0.161574</td>\n",
              "    </tr>\n",
              "    <tr>\n",
              "      <th>5</th>\n",
              "      <td></td>\n",
              "      <td>2021-08-05 17:03:03</td>\n",
              "      <td>1 min 58.153 sec</td>\n",
              "      <td>13.0</td>\n",
              "      <td>0.343338</td>\n",
              "      <td>0.388948</td>\n",
              "      <td>0.914938</td>\n",
              "      <td>0.963680</td>\n",
              "      <td>1.375134</td>\n",
              "      <td>0.137196</td>\n",
              "      <td>0.351438</td>\n",
              "      <td>0.401902</td>\n",
              "      <td>0.899150</td>\n",
              "      <td>0.957125</td>\n",
              "      <td>1.373368</td>\n",
              "      <td>0.151286</td>\n",
              "    </tr>\n",
              "    <tr>\n",
              "      <th>6</th>\n",
              "      <td></td>\n",
              "      <td>2021-08-05 17:03:07</td>\n",
              "      <td>2 min  2.218 sec</td>\n",
              "      <td>16.0</td>\n",
              "      <td>0.333180</td>\n",
              "      <td>0.369689</td>\n",
              "      <td>0.921032</td>\n",
              "      <td>0.966371</td>\n",
              "      <td>1.375134</td>\n",
              "      <td>0.132083</td>\n",
              "      <td>0.343153</td>\n",
              "      <td>0.385536</td>\n",
              "      <td>0.903450</td>\n",
              "      <td>0.959042</td>\n",
              "      <td>1.373368</td>\n",
              "      <td>0.148636</td>\n",
              "    </tr>\n",
              "    <tr>\n",
              "      <th>7</th>\n",
              "      <td></td>\n",
              "      <td>2021-08-05 17:03:11</td>\n",
              "      <td>2 min  6.576 sec</td>\n",
              "      <td>21.0</td>\n",
              "      <td>0.320204</td>\n",
              "      <td>0.344677</td>\n",
              "      <td>0.928589</td>\n",
              "      <td>0.969757</td>\n",
              "      <td>1.375134</td>\n",
              "      <td>0.123616</td>\n",
              "      <td>0.332711</td>\n",
              "      <td>0.364223</td>\n",
              "      <td>0.909633</td>\n",
              "      <td>0.961699</td>\n",
              "      <td>1.373368</td>\n",
              "      <td>0.142323</td>\n",
              "    </tr>\n",
              "    <tr>\n",
              "      <th>8</th>\n",
              "      <td></td>\n",
              "      <td>2021-08-05 17:03:15</td>\n",
              "      <td>2 min 10.961 sec</td>\n",
              "      <td>26.0</td>\n",
              "      <td>0.310096</td>\n",
              "      <td>0.325199</td>\n",
              "      <td>0.934526</td>\n",
              "      <td>0.972364</td>\n",
              "      <td>1.372909</td>\n",
              "      <td>0.118386</td>\n",
              "      <td>0.325152</td>\n",
              "      <td>0.348398</td>\n",
              "      <td>0.914167</td>\n",
              "      <td>0.963806</td>\n",
              "      <td>1.373368</td>\n",
              "      <td>0.138426</td>\n",
              "    </tr>\n",
              "    <tr>\n",
              "      <th>9</th>\n",
              "      <td></td>\n",
              "      <td>2021-08-05 17:03:20</td>\n",
              "      <td>2 min 15.299 sec</td>\n",
              "      <td>31.0</td>\n",
              "      <td>0.302170</td>\n",
              "      <td>0.309953</td>\n",
              "      <td>0.939181</td>\n",
              "      <td>0.974421</td>\n",
              "      <td>1.372854</td>\n",
              "      <td>0.114236</td>\n",
              "      <td>0.319687</td>\n",
              "      <td>0.336661</td>\n",
              "      <td>0.917469</td>\n",
              "      <td>0.965234</td>\n",
              "      <td>1.373368</td>\n",
              "      <td>0.136243</td>\n",
              "    </tr>\n",
              "    <tr>\n",
              "      <th>10</th>\n",
              "      <td></td>\n",
              "      <td>2021-08-05 17:03:24</td>\n",
              "      <td>2 min 19.657 sec</td>\n",
              "      <td>36.0</td>\n",
              "      <td>0.295249</td>\n",
              "      <td>0.296807</td>\n",
              "      <td>0.943570</td>\n",
              "      <td>0.976416</td>\n",
              "      <td>1.375134</td>\n",
              "      <td>0.107911</td>\n",
              "      <td>0.315270</td>\n",
              "      <td>0.327068</td>\n",
              "      <td>0.920513</td>\n",
              "      <td>0.966641</td>\n",
              "      <td>1.373368</td>\n",
              "      <td>0.133048</td>\n",
              "    </tr>\n",
              "    <tr>\n",
              "      <th>11</th>\n",
              "      <td></td>\n",
              "      <td>2021-08-05 17:03:28</td>\n",
              "      <td>2 min 24.003 sec</td>\n",
              "      <td>41.0</td>\n",
              "      <td>0.289295</td>\n",
              "      <td>0.285862</td>\n",
              "      <td>0.947125</td>\n",
              "      <td>0.977930</td>\n",
              "      <td>1.375134</td>\n",
              "      <td>0.104740</td>\n",
              "      <td>0.311878</td>\n",
              "      <td>0.319834</td>\n",
              "      <td>0.922743</td>\n",
              "      <td>0.967568</td>\n",
              "      <td>1.373368</td>\n",
              "      <td>0.130475</td>\n",
              "    </tr>\n",
              "    <tr>\n",
              "      <th>12</th>\n",
              "      <td></td>\n",
              "      <td>2021-08-05 17:03:33</td>\n",
              "      <td>2 min 28.359 sec</td>\n",
              "      <td>46.0</td>\n",
              "      <td>0.284253</td>\n",
              "      <td>0.276577</td>\n",
              "      <td>0.950155</td>\n",
              "      <td>0.979243</td>\n",
              "      <td>1.375134</td>\n",
              "      <td>0.100805</td>\n",
              "      <td>0.309275</td>\n",
              "      <td>0.314169</td>\n",
              "      <td>0.924233</td>\n",
              "      <td>0.968117</td>\n",
              "      <td>1.373368</td>\n",
              "      <td>0.129228</td>\n",
              "    </tr>\n",
              "    <tr>\n",
              "      <th>13</th>\n",
              "      <td></td>\n",
              "      <td>2021-08-05 17:03:37</td>\n",
              "      <td>2 min 32.702 sec</td>\n",
              "      <td>51.0</td>\n",
              "      <td>0.279467</td>\n",
              "      <td>0.268190</td>\n",
              "      <td>0.953189</td>\n",
              "      <td>0.980590</td>\n",
              "      <td>1.375134</td>\n",
              "      <td>0.097302</td>\n",
              "      <td>0.306988</td>\n",
              "      <td>0.309292</td>\n",
              "      <td>0.925908</td>\n",
              "      <td>0.968849</td>\n",
              "      <td>1.373368</td>\n",
              "      <td>0.128917</td>\n",
              "    </tr>\n",
              "    <tr>\n",
              "      <th>14</th>\n",
              "      <td></td>\n",
              "      <td>2021-08-05 17:03:42</td>\n",
              "      <td>2 min 37.051 sec</td>\n",
              "      <td>56.0</td>\n",
              "      <td>0.275190</td>\n",
              "      <td>0.260498</td>\n",
              "      <td>0.955641</td>\n",
              "      <td>0.981648</td>\n",
              "      <td>1.375134</td>\n",
              "      <td>0.093932</td>\n",
              "      <td>0.305096</td>\n",
              "      <td>0.305097</td>\n",
              "      <td>0.927088</td>\n",
              "      <td>0.969369</td>\n",
              "      <td>1.373368</td>\n",
              "      <td>0.126890</td>\n",
              "    </tr>\n",
              "    <tr>\n",
              "      <th>15</th>\n",
              "      <td></td>\n",
              "      <td>2021-08-05 17:03:46</td>\n",
              "      <td>2 min 41.745 sec</td>\n",
              "      <td>61.0</td>\n",
              "      <td>0.271297</td>\n",
              "      <td>0.253768</td>\n",
              "      <td>0.957950</td>\n",
              "      <td>0.982658</td>\n",
              "      <td>1.375134</td>\n",
              "      <td>0.091658</td>\n",
              "      <td>0.303717</td>\n",
              "      <td>0.302044</td>\n",
              "      <td>0.927959</td>\n",
              "      <td>0.969727</td>\n",
              "      <td>1.373368</td>\n",
              "      <td>0.125019</td>\n",
              "    </tr>\n",
              "    <tr>\n",
              "      <th>16</th>\n",
              "      <td></td>\n",
              "      <td>2021-08-05 17:03:51</td>\n",
              "      <td>2 min 46.077 sec</td>\n",
              "      <td>66.0</td>\n",
              "      <td>0.267471</td>\n",
              "      <td>0.247266</td>\n",
              "      <td>0.960164</td>\n",
              "      <td>0.983611</td>\n",
              "      <td>1.375134</td>\n",
              "      <td>0.089599</td>\n",
              "      <td>0.302137</td>\n",
              "      <td>0.298673</td>\n",
              "      <td>0.929170</td>\n",
              "      <td>0.970303</td>\n",
              "      <td>1.373368</td>\n",
              "      <td>0.123305</td>\n",
              "    </tr>\n",
              "    <tr>\n",
              "      <th>17</th>\n",
              "      <td></td>\n",
              "      <td>2021-08-05 17:03:55</td>\n",
              "      <td>2 min 50.410 sec</td>\n",
              "      <td>71.0</td>\n",
              "      <td>0.263912</td>\n",
              "      <td>0.241164</td>\n",
              "      <td>0.962076</td>\n",
              "      <td>0.984417</td>\n",
              "      <td>1.375134</td>\n",
              "      <td>0.086910</td>\n",
              "      <td>0.300804</td>\n",
              "      <td>0.295741</td>\n",
              "      <td>0.930094</td>\n",
              "      <td>0.970742</td>\n",
              "      <td>1.373368</td>\n",
              "      <td>0.122759</td>\n",
              "    </tr>\n",
              "    <tr>\n",
              "      <th>18</th>\n",
              "      <td></td>\n",
              "      <td>2021-08-05 17:03:59</td>\n",
              "      <td>2 min 54.769 sec</td>\n",
              "      <td>76.0</td>\n",
              "      <td>0.260711</td>\n",
              "      <td>0.235926</td>\n",
              "      <td>0.963725</td>\n",
              "      <td>0.985113</td>\n",
              "      <td>1.375134</td>\n",
              "      <td>0.084934</td>\n",
              "      <td>0.299458</td>\n",
              "      <td>0.293047</td>\n",
              "      <td>0.931116</td>\n",
              "      <td>0.971173</td>\n",
              "      <td>1.373368</td>\n",
              "      <td>0.121434</td>\n",
              "    </tr>\n",
              "    <tr>\n",
              "      <th>19</th>\n",
              "      <td></td>\n",
              "      <td>2021-08-05 17:04:04</td>\n",
              "      <td>2 min 59.111 sec</td>\n",
              "      <td>81.0</td>\n",
              "      <td>0.257865</td>\n",
              "      <td>0.231415</td>\n",
              "      <td>0.965290</td>\n",
              "      <td>0.985776</td>\n",
              "      <td>1.375134</td>\n",
              "      <td>0.082776</td>\n",
              "      <td>0.298570</td>\n",
              "      <td>0.291205</td>\n",
              "      <td>0.931801</td>\n",
              "      <td>0.971484</td>\n",
              "      <td>1.373368</td>\n",
              "      <td>0.120577</td>\n",
              "    </tr>\n",
              "  </tbody>\n",
              "</table>\n",
              "</div>"
            ],
            "text/plain": [
              "                timestamp  ... validation_lift  validation_classification_error\n",
              "0     2021-08-05 17:02:51  ...        1.000000                         0.271863\n",
              "1     2021-08-05 17:02:52  ...        1.367618                         0.196181\n",
              "2     2021-08-05 17:02:53  ...        1.367618                         0.185113\n",
              "3     2021-08-05 17:02:54  ...        1.368136                         0.177942\n",
              "4     2021-08-05 17:02:58  ...        1.370408                         0.161574\n",
              "5     2021-08-05 17:03:03  ...        1.373368                         0.151286\n",
              "6     2021-08-05 17:03:07  ...        1.373368                         0.148636\n",
              "7     2021-08-05 17:03:11  ...        1.373368                         0.142323\n",
              "8     2021-08-05 17:03:15  ...        1.373368                         0.138426\n",
              "9     2021-08-05 17:03:20  ...        1.373368                         0.136243\n",
              "10    2021-08-05 17:03:24  ...        1.373368                         0.133048\n",
              "11    2021-08-05 17:03:28  ...        1.373368                         0.130475\n",
              "12    2021-08-05 17:03:33  ...        1.373368                         0.129228\n",
              "13    2021-08-05 17:03:37  ...        1.373368                         0.128917\n",
              "14    2021-08-05 17:03:42  ...        1.373368                         0.126890\n",
              "15    2021-08-05 17:03:46  ...        1.373368                         0.125019\n",
              "16    2021-08-05 17:03:51  ...        1.373368                         0.123305\n",
              "17    2021-08-05 17:03:55  ...        1.373368                         0.122759\n",
              "18    2021-08-05 17:03:59  ...        1.373368                         0.121434\n",
              "19    2021-08-05 17:04:04  ...        1.373368                         0.120577\n",
              "\n",
              "[20 rows x 16 columns]"
            ]
          },
          "metadata": {
            "tags": []
          }
        },
        {
          "output_type": "stream",
          "text": [
            "\n",
            "See the whole table with table.as_data_frame()\n",
            "\n",
            "Variable Importances: \n"
          ],
          "name": "stdout"
        },
        {
          "output_type": "display_data",
          "data": {
            "text/html": [
              "<div>\n",
              "<style scoped>\n",
              "    .dataframe tbody tr th:only-of-type {\n",
              "        vertical-align: middle;\n",
              "    }\n",
              "\n",
              "    .dataframe tbody tr th {\n",
              "        vertical-align: top;\n",
              "    }\n",
              "\n",
              "    .dataframe thead th {\n",
              "        text-align: right;\n",
              "    }\n",
              "</style>\n",
              "<table border=\"1\" class=\"dataframe\">\n",
              "  <thead>\n",
              "    <tr style=\"text-align: right;\">\n",
              "      <th></th>\n",
              "      <th>variable</th>\n",
              "      <th>relative_importance</th>\n",
              "      <th>scaled_importance</th>\n",
              "      <th>percentage</th>\n",
              "    </tr>\n",
              "  </thead>\n",
              "  <tbody>\n",
              "    <tr>\n",
              "      <th>0</th>\n",
              "      <td>headline_C22</td>\n",
              "      <td>4804.627441</td>\n",
              "      <td>1.000000</td>\n",
              "      <td>0.102706</td>\n",
              "    </tr>\n",
              "    <tr>\n",
              "      <th>1</th>\n",
              "      <td>C22</td>\n",
              "      <td>1942.803833</td>\n",
              "      <td>0.404361</td>\n",
              "      <td>0.041530</td>\n",
              "    </tr>\n",
              "    <tr>\n",
              "      <th>2</th>\n",
              "      <td>C99</td>\n",
              "      <td>1719.748291</td>\n",
              "      <td>0.357936</td>\n",
              "      <td>0.036762</td>\n",
              "    </tr>\n",
              "    <tr>\n",
              "      <th>3</th>\n",
              "      <td>C51</td>\n",
              "      <td>1585.374634</td>\n",
              "      <td>0.329968</td>\n",
              "      <td>0.033890</td>\n",
              "    </tr>\n",
              "    <tr>\n",
              "      <th>4</th>\n",
              "      <td>headline_C51</td>\n",
              "      <td>1550.889526</td>\n",
              "      <td>0.322791</td>\n",
              "      <td>0.033152</td>\n",
              "    </tr>\n",
              "    <tr>\n",
              "      <th>5</th>\n",
              "      <td>headline_C54</td>\n",
              "      <td>1510.606812</td>\n",
              "      <td>0.314407</td>\n",
              "      <td>0.032291</td>\n",
              "    </tr>\n",
              "    <tr>\n",
              "      <th>6</th>\n",
              "      <td>C93</td>\n",
              "      <td>1350.097290</td>\n",
              "      <td>0.280999</td>\n",
              "      <td>0.028860</td>\n",
              "    </tr>\n",
              "    <tr>\n",
              "      <th>7</th>\n",
              "      <td>headline_C5</td>\n",
              "      <td>1181.274902</td>\n",
              "      <td>0.245862</td>\n",
              "      <td>0.025251</td>\n",
              "    </tr>\n",
              "    <tr>\n",
              "      <th>8</th>\n",
              "      <td>headline_C32</td>\n",
              "      <td>1157.806396</td>\n",
              "      <td>0.240977</td>\n",
              "      <td>0.024750</td>\n",
              "    </tr>\n",
              "    <tr>\n",
              "      <th>9</th>\n",
              "      <td>C38</td>\n",
              "      <td>1125.144043</td>\n",
              "      <td>0.234179</td>\n",
              "      <td>0.024052</td>\n",
              "    </tr>\n",
              "    <tr>\n",
              "      <th>10</th>\n",
              "      <td>headline_C71</td>\n",
              "      <td>1083.050415</td>\n",
              "      <td>0.225418</td>\n",
              "      <td>0.023152</td>\n",
              "    </tr>\n",
              "    <tr>\n",
              "      <th>11</th>\n",
              "      <td>headline_C38</td>\n",
              "      <td>1005.179199</td>\n",
              "      <td>0.209211</td>\n",
              "      <td>0.021487</td>\n",
              "    </tr>\n",
              "    <tr>\n",
              "      <th>12</th>\n",
              "      <td>headline_C99</td>\n",
              "      <td>1000.051880</td>\n",
              "      <td>0.208143</td>\n",
              "      <td>0.021378</td>\n",
              "    </tr>\n",
              "    <tr>\n",
              "      <th>13</th>\n",
              "      <td>headline_C77</td>\n",
              "      <td>898.812805</td>\n",
              "      <td>0.187072</td>\n",
              "      <td>0.019213</td>\n",
              "    </tr>\n",
              "    <tr>\n",
              "      <th>14</th>\n",
              "      <td>headline_C30</td>\n",
              "      <td>896.415588</td>\n",
              "      <td>0.186573</td>\n",
              "      <td>0.019162</td>\n",
              "    </tr>\n",
              "    <tr>\n",
              "      <th>15</th>\n",
              "      <td>C54</td>\n",
              "      <td>889.724426</td>\n",
              "      <td>0.185181</td>\n",
              "      <td>0.019019</td>\n",
              "    </tr>\n",
              "    <tr>\n",
              "      <th>16</th>\n",
              "      <td>C71</td>\n",
              "      <td>713.828125</td>\n",
              "      <td>0.148571</td>\n",
              "      <td>0.015259</td>\n",
              "    </tr>\n",
              "    <tr>\n",
              "      <th>17</th>\n",
              "      <td>headline_C74</td>\n",
              "      <td>713.804382</td>\n",
              "      <td>0.148566</td>\n",
              "      <td>0.015259</td>\n",
              "    </tr>\n",
              "    <tr>\n",
              "      <th>18</th>\n",
              "      <td>C5</td>\n",
              "      <td>685.081543</td>\n",
              "      <td>0.142588</td>\n",
              "      <td>0.014645</td>\n",
              "    </tr>\n",
              "    <tr>\n",
              "      <th>19</th>\n",
              "      <td>C32</td>\n",
              "      <td>679.269653</td>\n",
              "      <td>0.141378</td>\n",
              "      <td>0.014520</td>\n",
              "    </tr>\n",
              "  </tbody>\n",
              "</table>\n",
              "</div>"
            ],
            "text/plain": [
              "        variable  relative_importance  scaled_importance  percentage\n",
              "0   headline_C22          4804.627441           1.000000    0.102706\n",
              "1            C22          1942.803833           0.404361    0.041530\n",
              "2            C99          1719.748291           0.357936    0.036762\n",
              "3            C51          1585.374634           0.329968    0.033890\n",
              "4   headline_C51          1550.889526           0.322791    0.033152\n",
              "5   headline_C54          1510.606812           0.314407    0.032291\n",
              "6            C93          1350.097290           0.280999    0.028860\n",
              "7    headline_C5          1181.274902           0.245862    0.025251\n",
              "8   headline_C32          1157.806396           0.240977    0.024750\n",
              "9            C38          1125.144043           0.234179    0.024052\n",
              "10  headline_C71          1083.050415           0.225418    0.023152\n",
              "11  headline_C38          1005.179199           0.209211    0.021487\n",
              "12  headline_C99          1000.051880           0.208143    0.021378\n",
              "13  headline_C77           898.812805           0.187072    0.019213\n",
              "14  headline_C30           896.415588           0.186573    0.019162\n",
              "15           C54           889.724426           0.185181    0.019019\n",
              "16           C71           713.828125           0.148571    0.015259\n",
              "17  headline_C74           713.804382           0.148566    0.015259\n",
              "18            C5           685.081543           0.142588    0.014645\n",
              "19           C32           679.269653           0.141378    0.014520"
            ]
          },
          "metadata": {
            "tags": []
          }
        },
        {
          "output_type": "stream",
          "text": [
            "\n",
            "See the whole table with table.as_data_frame()\n"
          ],
          "name": "stdout"
        },
        {
          "output_type": "execute_result",
          "data": {
            "text/plain": [
              ""
            ]
          },
          "metadata": {
            "tags": []
          },
          "execution_count": 102
        }
      ]
    },
    {
      "cell_type": "code",
      "metadata": {
        "id": "7OO5rL0sYdTY"
      },
      "source": [
        ""
      ],
      "execution_count": null,
      "outputs": []
    }
  ]
}